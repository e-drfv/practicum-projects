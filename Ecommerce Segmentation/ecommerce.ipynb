{
 "cells": [
  {
   "cell_type": "markdown",
   "id": "83066215",
   "metadata": {},
   "source": [
    "# E-commerce — Выявление профилей потребления"
   ]
  },
  {
   "cell_type": "markdown",
   "id": "7e8512c2",
   "metadata": {
    "toc": true
   },
   "source": [
    "<h1>Table of Contents<span class=\"tocSkip\"></span></h1>\n",
    "<div class=\"toc\"><ul class=\"toc-item\"><li><span><a href=\"#Подготовка-данных-к-анализу\" data-toc-modified-id=\"Подготовка-данных-к-анализу-1\"><span class=\"toc-item-num\">1&nbsp;&nbsp;</span>Подготовка данных к анализу</a></span><ul class=\"toc-item\"><li><span><a href=\"#Обзор-данных\" data-toc-modified-id=\"Обзор-данных-1.1\"><span class=\"toc-item-num\">1.1&nbsp;&nbsp;</span>Обзор данных</a></span></li><li><span><a href=\"#Неявные-дубликаты-товаров\" data-toc-modified-id=\"Неявные-дубликаты-товаров-1.2\"><span class=\"toc-item-num\">1.2&nbsp;&nbsp;</span>Неявные дубликаты товаров</a></span></li><li><span><a href=\"#Другие-неявные-дубликаты\" data-toc-modified-id=\"Другие-неявные-дубликаты-1.3\"><span class=\"toc-item-num\">1.3&nbsp;&nbsp;</span>Другие неявные дубликаты</a></span></li></ul></li><li><span><a href=\"#EDA\" data-toc-modified-id=\"EDA-2\"><span class=\"toc-item-num\">2&nbsp;&nbsp;</span>EDA</a></span><ul class=\"toc-item\"><li><span><a href=\"#Диапазон-данных\" data-toc-modified-id=\"Диапазон-данных-2.1\"><span class=\"toc-item-num\">2.1&nbsp;&nbsp;</span>Диапазон данных</a></span></li><li><span><a href=\"#Цены-товаров\" data-toc-modified-id=\"Цены-товаров-2.2\"><span class=\"toc-item-num\">2.2&nbsp;&nbsp;</span>Цены товаров</a></span></li><li><span><a href=\"#Среднее-количество-товаров\" data-toc-modified-id=\"Среднее-количество-товаров-2.3\"><span class=\"toc-item-num\">2.3&nbsp;&nbsp;</span>Среднее количество товаров</a></span></li><li><span><a href=\"#Корреляции\" data-toc-modified-id=\"Корреляции-2.4\"><span class=\"toc-item-num\">2.4&nbsp;&nbsp;</span>Корреляции</a></span></li></ul></li><li><span><a href=\"#Сегментация-покупателей-на-основе-данных-о-покупках\" data-toc-modified-id=\"Сегментация-покупателей-на-основе-данных-о-покупках-3\"><span class=\"toc-item-num\">3&nbsp;&nbsp;</span>Сегментация покупателей на основе данных о покупках</a></span><ul class=\"toc-item\"><li><span><a href=\"#Количество-заказов-на-одного-пользователя\" data-toc-modified-id=\"Количество-заказов-на-одного-пользователя-3.1\"><span class=\"toc-item-num\">3.1&nbsp;&nbsp;</span>Количество заказов на одного пользователя</a></span></li><li><span><a href=\"#Сегментация-по-заказам\" data-toc-modified-id=\"Сегментация-по-заказам-3.2\"><span class=\"toc-item-num\">3.2&nbsp;&nbsp;</span>Сегментация по заказам</a></span></li><li><span><a href=\"#Распределение-данных-по-времени\" data-toc-modified-id=\"Распределение-данных-по-времени-3.3\"><span class=\"toc-item-num\">3.3&nbsp;&nbsp;</span>Распределение данных по времени</a></span></li><li><span><a href=\"#Что-именно-заказывают\" data-toc-modified-id=\"Что-именно-заказывают-3.4\"><span class=\"toc-item-num\">3.4&nbsp;&nbsp;</span>Что именно заказывают</a></span><ul class=\"toc-item\"><li><span><a href=\"#В-разрезе-отдельных-товаров\" data-toc-modified-id=\"В-разрезе-отдельных-товаров-3.4.1\"><span class=\"toc-item-num\">3.4.1&nbsp;&nbsp;</span>В разрезе отдельных товаров</a></span></li><li><span><a href=\"#Кластеризация-продуктов-с-помощью-ML\" data-toc-modified-id=\"Кластеризация-продуктов-с-помощью-ML-3.4.2\"><span class=\"toc-item-num\">3.4.2&nbsp;&nbsp;</span>Кластеризация продуктов с помощью ML</a></span></li><li><span><a href=\"#Кластеризация-вручную\" data-toc-modified-id=\"Кластеризация-вручную-3.4.3\"><span class=\"toc-item-num\">3.4.3&nbsp;&nbsp;</span>Кластеризация вручную</a></span></li><li><span><a href=\"#Исследование-кластеров\" data-toc-modified-id=\"Исследование-кластеров-3.4.4\"><span class=\"toc-item-num\">3.4.4&nbsp;&nbsp;</span>Исследование кластеров</a></span></li><li><span><a href=\"#Средние-чеки-в-категориях\" data-toc-modified-id=\"Средние-чеки-в-категориях-3.4.5\"><span class=\"toc-item-num\">3.4.5&nbsp;&nbsp;</span>Средние чеки в категориях</a></span></li></ul></li></ul></li><li><span><a href=\"#Проверка-гипотез\" data-toc-modified-id=\"Проверка-гипотез-4\"><span class=\"toc-item-num\">4&nbsp;&nbsp;</span>Проверка гипотез</a></span><ul class=\"toc-item\"><li><span><a href=\"#Выручка-категорий-&quot;сумки-тележки&quot;-и-&quot;сушилки&quot;-отличаются\" data-toc-modified-id=\"Выручка-категорий-&quot;сумки-тележки&quot;-и-&quot;сушилки&quot;-отличаются-4.1\"><span class=\"toc-item-num\">4.1&nbsp;&nbsp;</span>Выручка категорий \"сумки-тележки\" и \"сушилки\" отличаются</a></span></li><li><span><a href=\"#Средний-чек-категорий-&quot;стремянки&quot;-и-&quot;сумки-тележки&quot;-отличаются\" data-toc-modified-id=\"Средний-чек-категорий-&quot;стремянки&quot;-и-&quot;сумки-тележки&quot;-отличаются-4.2\"><span class=\"toc-item-num\">4.2&nbsp;&nbsp;</span>Средний чек категорий \"стремянки\" и \"сумки-тележки\" отличаются</a></span></li></ul></li><li><span><a href=\"#Выводы\" data-toc-modified-id=\"Выводы-5\"><span class=\"toc-item-num\">5&nbsp;&nbsp;</span>Выводы</a></span></li></ul></div>"
   ]
  },
  {
   "cell_type": "markdown",
   "id": "0142ae81",
   "metadata": {},
   "source": [
    "**Задача:**\n",
    "\n",
    "Сегментировать покупателей по профилю потребления\n",
    "\n",
    "**Описание данных:**\n",
    "\n",
    "Датасет описывает транзакции интернет-магазина товаров для дома и быта «Пока все ещё тут».\n",
    "\n",
    "Колонки в  *ecommerce_dataset.csv* :\n",
    "\n",
    "- `date` — дата заказа;\n",
    "- `customer_id` — идентификатор покупателя;\n",
    "- `order_id` — идентификатор заказа;\n",
    "- `product` — наименование товара;\n",
    "- `quantity` — количество товара в заказе;\n",
    "- `price` — цена товара."
   ]
  },
  {
   "cell_type": "markdown",
   "id": "98d6001a",
   "metadata": {},
   "source": [
    "## Подготовка данных к анализу"
   ]
  },
  {
   "cell_type": "code",
   "execution_count": 1,
   "id": "b97b0c94",
   "metadata": {},
   "outputs": [],
   "source": [
    "import pandas as pd\n",
    "import warnings\n",
    "import numpy as np\n",
    "import scipy.stats as stats\n",
    "from scipy import stats as st\n",
    "import math as mth\n",
    "import matplotlib.pyplot as plt\n",
    "import seaborn as sns\n",
    "import re\n",
    "warnings.filterwarnings('ignore')\n",
    "%config InlineBackend.figure_format='retina'\n",
    "%matplotlib inline"
   ]
  },
  {
   "cell_type": "markdown",
   "id": "360aee28",
   "metadata": {},
   "source": [
    "### Обзор данных"
   ]
  },
  {
   "cell_type": "code",
   "execution_count": 2,
   "id": "c30f7321",
   "metadata": {
    "scrolled": true
   },
   "outputs": [
    {
     "data": {
      "text/html": [
       "<div>\n",
       "<style scoped>\n",
       "    .dataframe tbody tr th:only-of-type {\n",
       "        vertical-align: middle;\n",
       "    }\n",
       "\n",
       "    .dataframe tbody tr th {\n",
       "        vertical-align: top;\n",
       "    }\n",
       "\n",
       "    .dataframe thead th {\n",
       "        text-align: right;\n",
       "    }\n",
       "</style>\n",
       "<table border=\"1\" class=\"dataframe\">\n",
       "  <thead>\n",
       "    <tr style=\"text-align: right;\">\n",
       "      <th></th>\n",
       "      <th>date</th>\n",
       "      <th>customer_id</th>\n",
       "      <th>order_id</th>\n",
       "      <th>product</th>\n",
       "      <th>quantity</th>\n",
       "      <th>price</th>\n",
       "    </tr>\n",
       "  </thead>\n",
       "  <tbody>\n",
       "    <tr>\n",
       "      <th>0</th>\n",
       "      <td>2018100100</td>\n",
       "      <td>ee47d746-6d2f-4d3c-9622-c31412542920</td>\n",
       "      <td>68477</td>\n",
       "      <td>Комнатное растение в горшке Алое Вера, d12, h30</td>\n",
       "      <td>1</td>\n",
       "      <td>142.0</td>\n",
       "    </tr>\n",
       "    <tr>\n",
       "      <th>1</th>\n",
       "      <td>2018100100</td>\n",
       "      <td>ee47d746-6d2f-4d3c-9622-c31412542920</td>\n",
       "      <td>68477</td>\n",
       "      <td>Комнатное растение в горшке Кофе Арабика, d12,...</td>\n",
       "      <td>1</td>\n",
       "      <td>194.0</td>\n",
       "    </tr>\n",
       "    <tr>\n",
       "      <th>2</th>\n",
       "      <td>2018100100</td>\n",
       "      <td>ee47d746-6d2f-4d3c-9622-c31412542920</td>\n",
       "      <td>68477</td>\n",
       "      <td>Радермахера d-12 см h-20 см</td>\n",
       "      <td>1</td>\n",
       "      <td>112.0</td>\n",
       "    </tr>\n",
       "    <tr>\n",
       "      <th>3</th>\n",
       "      <td>2018100100</td>\n",
       "      <td>ee47d746-6d2f-4d3c-9622-c31412542920</td>\n",
       "      <td>68477</td>\n",
       "      <td>Хризолидокарпус Лутесценс d-9 см</td>\n",
       "      <td>1</td>\n",
       "      <td>179.0</td>\n",
       "    </tr>\n",
       "    <tr>\n",
       "      <th>4</th>\n",
       "      <td>2018100100</td>\n",
       "      <td>ee47d746-6d2f-4d3c-9622-c31412542920</td>\n",
       "      <td>68477</td>\n",
       "      <td>Циперус Зумула d-12 см h-25 см</td>\n",
       "      <td>1</td>\n",
       "      <td>112.0</td>\n",
       "    </tr>\n",
       "    <tr>\n",
       "      <th>5</th>\n",
       "      <td>2018100100</td>\n",
       "      <td>ee47d746-6d2f-4d3c-9622-c31412542920</td>\n",
       "      <td>68477</td>\n",
       "      <td>Шеффлера Лузеана d-9 см</td>\n",
       "      <td>1</td>\n",
       "      <td>164.0</td>\n",
       "    </tr>\n",
       "    <tr>\n",
       "      <th>6</th>\n",
       "      <td>2018100100</td>\n",
       "      <td>ee47d746-6d2f-4d3c-9622-c31412542920</td>\n",
       "      <td>68477</td>\n",
       "      <td>Юкка нитчатая d-12 см h-25-35 см</td>\n",
       "      <td>1</td>\n",
       "      <td>134.0</td>\n",
       "    </tr>\n",
       "    <tr>\n",
       "      <th>7</th>\n",
       "      <td>2018100108</td>\n",
       "      <td>375e0724-f033-4c76-b579-84969cf38ee2</td>\n",
       "      <td>68479</td>\n",
       "      <td>Настенная сушилка для белья Gimi Brio Super 100</td>\n",
       "      <td>1</td>\n",
       "      <td>824.0</td>\n",
       "    </tr>\n",
       "    <tr>\n",
       "      <th>8</th>\n",
       "      <td>2018100108</td>\n",
       "      <td>6644e5b4-9934-4863-9778-aaa125207701</td>\n",
       "      <td>68478</td>\n",
       "      <td>Таз пластмассовый 21,0 л круглый \"Водолей\" С61...</td>\n",
       "      <td>1</td>\n",
       "      <td>269.0</td>\n",
       "    </tr>\n",
       "    <tr>\n",
       "      <th>9</th>\n",
       "      <td>2018100109</td>\n",
       "      <td>c971fb21-d54c-4134-938f-16b62ee86d3b</td>\n",
       "      <td>68480</td>\n",
       "      <td>Чехол для гладильной доски Colombo Persia Beig...</td>\n",
       "      <td>1</td>\n",
       "      <td>674.0</td>\n",
       "    </tr>\n",
       "    <tr>\n",
       "      <th>10</th>\n",
       "      <td>2018100111</td>\n",
       "      <td>161e1b98-45ba-4b4e-8236-e6e3e70f6f7c</td>\n",
       "      <td>68483</td>\n",
       "      <td>Вешалка для брюк металлическая с резиновым пок...</td>\n",
       "      <td>10</td>\n",
       "      <td>82.0</td>\n",
       "    </tr>\n",
       "    <tr>\n",
       "      <th>11</th>\n",
       "      <td>2018100112</td>\n",
       "      <td>86432d8d-b706-463b-bd5d-6a9e170daee3</td>\n",
       "      <td>68484</td>\n",
       "      <td>Сушилка для белья потолочная Zalger Lift Basic...</td>\n",
       "      <td>1</td>\n",
       "      <td>614.0</td>\n",
       "    </tr>\n",
       "    <tr>\n",
       "      <th>12</th>\n",
       "      <td>2018100113</td>\n",
       "      <td>4d93d3f6-8b24-403b-a74b-f5173e40d7db</td>\n",
       "      <td>68485</td>\n",
       "      <td>Чехол Eurogold Clean Basic хлопок для досок 12...</td>\n",
       "      <td>1</td>\n",
       "      <td>187.0</td>\n",
       "    </tr>\n",
       "    <tr>\n",
       "      <th>13</th>\n",
       "      <td>2018100115</td>\n",
       "      <td>0948b0c2-990b-4a11-b835-69ac4714b21d</td>\n",
       "      <td>68486</td>\n",
       "      <td>Крючок одежный 2-х рожковый серый металлик с п...</td>\n",
       "      <td>96</td>\n",
       "      <td>38.0</td>\n",
       "    </tr>\n",
       "    <tr>\n",
       "      <th>14</th>\n",
       "      <td>2018100116</td>\n",
       "      <td>a576fa59-7b28-4a4c-a496-92f128754a94</td>\n",
       "      <td>68487</td>\n",
       "      <td>Корзина мягкая пластиковая 17 л, М-пластика, M...</td>\n",
       "      <td>1</td>\n",
       "      <td>188.0</td>\n",
       "    </tr>\n",
       "    <tr>\n",
       "      <th>15</th>\n",
       "      <td>2018100118</td>\n",
       "      <td>17213b88-1514-47a4-b8aa-ce51378ab34e</td>\n",
       "      <td>68476</td>\n",
       "      <td>Мини-сковорода Marmiton \"Сердце\" с антипригарн...</td>\n",
       "      <td>1</td>\n",
       "      <td>239.0</td>\n",
       "    </tr>\n",
       "    <tr>\n",
       "      <th>16</th>\n",
       "      <td>2018100118</td>\n",
       "      <td>17213b88-1514-47a4-b8aa-ce51378ab34e</td>\n",
       "      <td>68476</td>\n",
       "      <td>Сковорода алюминиевая с антипригарным покрытие...</td>\n",
       "      <td>1</td>\n",
       "      <td>824.0</td>\n",
       "    </tr>\n",
       "    <tr>\n",
       "      <th>17</th>\n",
       "      <td>2018100118</td>\n",
       "      <td>17213b88-1514-47a4-b8aa-ce51378ab34e</td>\n",
       "      <td>68476</td>\n",
       "      <td>Стеклянная крышка для сковороды ALPENKOK 26 см...</td>\n",
       "      <td>1</td>\n",
       "      <td>262.0</td>\n",
       "    </tr>\n",
       "    <tr>\n",
       "      <th>18</th>\n",
       "      <td>2018100118</td>\n",
       "      <td>17213b88-1514-47a4-b8aa-ce51378ab34e</td>\n",
       "      <td>68476</td>\n",
       "      <td>Сушилка для белья напольная Colombo Star 18, 3679</td>\n",
       "      <td>1</td>\n",
       "      <td>1049.0</td>\n",
       "    </tr>\n",
       "    <tr>\n",
       "      <th>19</th>\n",
       "      <td>2018100121</td>\n",
       "      <td>b731df05-98fa-4610-8496-716ec530a02c</td>\n",
       "      <td>68474</td>\n",
       "      <td>Доска гладильная Eurogold Professional 130х48 ...</td>\n",
       "      <td>1</td>\n",
       "      <td>3299.0</td>\n",
       "    </tr>\n",
       "  </tbody>\n",
       "</table>\n",
       "</div>"
      ],
      "text/plain": [
       "          date                           customer_id  order_id  \\\n",
       "0   2018100100  ee47d746-6d2f-4d3c-9622-c31412542920     68477   \n",
       "1   2018100100  ee47d746-6d2f-4d3c-9622-c31412542920     68477   \n",
       "2   2018100100  ee47d746-6d2f-4d3c-9622-c31412542920     68477   \n",
       "3   2018100100  ee47d746-6d2f-4d3c-9622-c31412542920     68477   \n",
       "4   2018100100  ee47d746-6d2f-4d3c-9622-c31412542920     68477   \n",
       "5   2018100100  ee47d746-6d2f-4d3c-9622-c31412542920     68477   \n",
       "6   2018100100  ee47d746-6d2f-4d3c-9622-c31412542920     68477   \n",
       "7   2018100108  375e0724-f033-4c76-b579-84969cf38ee2     68479   \n",
       "8   2018100108  6644e5b4-9934-4863-9778-aaa125207701     68478   \n",
       "9   2018100109  c971fb21-d54c-4134-938f-16b62ee86d3b     68480   \n",
       "10  2018100111  161e1b98-45ba-4b4e-8236-e6e3e70f6f7c     68483   \n",
       "11  2018100112  86432d8d-b706-463b-bd5d-6a9e170daee3     68484   \n",
       "12  2018100113  4d93d3f6-8b24-403b-a74b-f5173e40d7db     68485   \n",
       "13  2018100115  0948b0c2-990b-4a11-b835-69ac4714b21d     68486   \n",
       "14  2018100116  a576fa59-7b28-4a4c-a496-92f128754a94     68487   \n",
       "15  2018100118  17213b88-1514-47a4-b8aa-ce51378ab34e     68476   \n",
       "16  2018100118  17213b88-1514-47a4-b8aa-ce51378ab34e     68476   \n",
       "17  2018100118  17213b88-1514-47a4-b8aa-ce51378ab34e     68476   \n",
       "18  2018100118  17213b88-1514-47a4-b8aa-ce51378ab34e     68476   \n",
       "19  2018100121  b731df05-98fa-4610-8496-716ec530a02c     68474   \n",
       "\n",
       "                                              product  quantity   price  \n",
       "0     Комнатное растение в горшке Алое Вера, d12, h30         1   142.0  \n",
       "1   Комнатное растение в горшке Кофе Арабика, d12,...         1   194.0  \n",
       "2                         Радермахера d-12 см h-20 см         1   112.0  \n",
       "3                    Хризолидокарпус Лутесценс d-9 см         1   179.0  \n",
       "4                      Циперус Зумула d-12 см h-25 см         1   112.0  \n",
       "5                             Шеффлера Лузеана d-9 см         1   164.0  \n",
       "6                    Юкка нитчатая d-12 см h-25-35 см         1   134.0  \n",
       "7     Настенная сушилка для белья Gimi Brio Super 100         1   824.0  \n",
       "8   Таз пластмассовый 21,0 л круглый \"Водолей\" С61...         1   269.0  \n",
       "9   Чехол для гладильной доски Colombo Persia Beig...         1   674.0  \n",
       "10  Вешалка для брюк металлическая с резиновым пок...        10    82.0  \n",
       "11  Сушилка для белья потолочная Zalger Lift Basic...         1   614.0  \n",
       "12  Чехол Eurogold Clean Basic хлопок для досок 12...         1   187.0  \n",
       "13  Крючок одежный 2-х рожковый серый металлик с п...        96    38.0  \n",
       "14  Корзина мягкая пластиковая 17 л, М-пластика, M...         1   188.0  \n",
       "15  Мини-сковорода Marmiton \"Сердце\" с антипригарн...         1   239.0  \n",
       "16  Сковорода алюминиевая с антипригарным покрытие...         1   824.0  \n",
       "17  Стеклянная крышка для сковороды ALPENKOK 26 см...         1   262.0  \n",
       "18  Сушилка для белья напольная Colombo Star 18, 3679         1  1049.0  \n",
       "19  Доска гладильная Eurogold Professional 130х48 ...         1  3299.0  "
      ]
     },
     "execution_count": 2,
     "metadata": {},
     "output_type": "execute_result"
    }
   ],
   "source": [
    "path='ecommerce_dataset.csv'\n",
    "data = pd.read_csv(path)\n",
    "data.head(20)"
   ]
  },
  {
   "cell_type": "code",
   "execution_count": 3,
   "id": "617300f3",
   "metadata": {},
   "outputs": [
    {
     "name": "stdout",
     "output_type": "stream",
     "text": [
      "<class 'pandas.core.frame.DataFrame'>\n",
      "RangeIndex: 6737 entries, 0 to 6736\n",
      "Data columns (total 6 columns):\n",
      " #   Column       Non-Null Count  Dtype  \n",
      "---  ------       --------------  -----  \n",
      " 0   date         6737 non-null   int64  \n",
      " 1   customer_id  6737 non-null   object \n",
      " 2   order_id     6737 non-null   int64  \n",
      " 3   product      6737 non-null   object \n",
      " 4   quantity     6737 non-null   int64  \n",
      " 5   price        6737 non-null   float64\n",
      "dtypes: float64(1), int64(3), object(2)\n",
      "memory usage: 315.9+ KB\n"
     ]
    }
   ],
   "source": [
    "data.info()"
   ]
  },
  {
   "cell_type": "code",
   "execution_count": 4,
   "id": "9e4475ca",
   "metadata": {},
   "outputs": [
    {
     "data": {
      "text/plain": [
       "0"
      ]
     },
     "execution_count": 4,
     "metadata": {},
     "output_type": "execute_result"
    }
   ],
   "source": [
    "data.duplicated().sum()"
   ]
  },
  {
   "cell_type": "markdown",
   "id": "83cb712b",
   "metadata": {},
   "source": [
    "Оценка качества данных:\n",
    "- столбцы названы корректно,\n",
    "- дубликатов и пропусков нет,\n",
    "- тип данных столбца date не соответствует ожидаемому."
   ]
  },
  {
   "cell_type": "code",
   "execution_count": 5,
   "id": "dd93149d",
   "metadata": {},
   "outputs": [],
   "source": [
    "#приведем даты к формату datetime\n",
    "data['date']=pd.to_datetime(data['date'], format='%Y%m%d%H', errors='coerce')"
   ]
  },
  {
   "cell_type": "markdown",
   "id": "fb19afd7",
   "metadata": {},
   "source": [
    "### Неявные дубликаты товаров"
   ]
  },
  {
   "cell_type": "code",
   "execution_count": 6,
   "id": "c4cd47cc",
   "metadata": {
    "scrolled": true
   },
   "outputs": [
    {
     "data": {
      "text/plain": [
       "['Tepмокружка AVEX Freeflow 700 мл зеленый AVEX0759',\n",
       " 'Tepмокружка AVEX Freeflow 700 мл сталь AVEX0776',\n",
       " 'Tepмокружка AVEX Recharge 500 мл голубой AVEX0681',\n",
       " 'Ёрш бутылочный с металлической ручкой малый Y64 1807002',\n",
       " 'Ёрш для бутылки из натурального волокна и металла 23 см кремовый, Burstenmann, 0473/0003',\n",
       " 'Ёрш радиаторный без ручки 1807007',\n",
       " 'Ёрш унитазный пластмассовый, Ваир 1712002',\n",
       " 'Ёрш унитазный с деревянной ручкой , Ваир 1712012',\n",
       " 'Ёрш унитазный с подставкой WC \"Люкс\", Мультипласт, 1712007',\n",
       " 'Ёрш унитазный с подставкой WC \"Стандарт\", Мультипласт 1712010',\n",
       " 'Автоматическая щетка Leifheit для мытья окон с ручкой 43 см. 51114',\n",
       " 'Агератум рассада однолетних цветов в кассете по 10 шт',\n",
       " 'Адиантум Лиза d-12 см',\n",
       " 'Азалия Индика Биколор d-12 см h-20',\n",
       " 'Азалия Индика розовая d-12 см h-20',\n",
       " 'Азалия Индика фиолетовая d-10 см h-20',\n",
       " 'Азалия индика Биколор d-12 см',\n",
       " 'Аквилегия махровая Тауэр смесь окрасок объем 1 л',\n",
       " 'Аквилегия обыкновенная Барлоу микс объем 1 л',\n",
       " 'Алиссум (лобулярия) Снежные одежды 0,2 г 4650091480302']"
      ]
     },
     "execution_count": 6,
     "metadata": {},
     "output_type": "execute_result"
    }
   ],
   "source": [
    "# проверим названия товаров на неявные дубликаты\n",
    "sorted(data['product'].unique())[:20]"
   ]
  },
  {
   "cell_type": "code",
   "execution_count": 7,
   "id": "1509421f",
   "metadata": {},
   "outputs": [
    {
     "data": {
      "text/plain": [
       "2343"
      ]
     },
     "execution_count": 7,
     "metadata": {},
     "output_type": "execute_result"
    }
   ],
   "source": [
    "data['product'].nunique()"
   ]
  },
  {
   "cell_type": "markdown",
   "id": "94a9d8e7",
   "metadata": {},
   "source": [
    "Названия неструктурированы, содержат символы и разные регистры, а также кириллицу и латиницу одновременно."
   ]
  },
  {
   "cell_type": "code",
   "execution_count": 8,
   "id": "32b5ffb3",
   "metadata": {},
   "outputs": [
    {
     "data": {
      "text/plain": [
       "2341"
      ]
     },
     "execution_count": 8,
     "metadata": {},
     "output_type": "execute_result"
    }
   ],
   "source": [
    "#приведем названия продуктов к нижнему регистру\n",
    "data['product'] = data['product'].str.lower()\n",
    "data['product'].nunique()"
   ]
  },
  {
   "cell_type": "markdown",
   "id": "8a3fddf3",
   "metadata": {},
   "source": [
    "Количество товаров не сильно сократилось. Также переведем все в кириллицу."
   ]
  },
  {
   "cell_type": "code",
   "execution_count": 9,
   "id": "700baa87",
   "metadata": {},
   "outputs": [
    {
     "name": "stdout",
     "output_type": "stream",
     "text": [
      "Collecting transliterate\n",
      "  Downloading transliterate-1.10.2-py2.py3-none-any.whl (45 kB)\n",
      "     -------------------------------------- 45.8/45.8 kB 564.1 kB/s eta 0:00:00\n",
      "Requirement already satisfied: six>=1.1.0 in c:\\users\\komar\\anaconda3\\lib\\site-packages (from transliterate) (1.16.0)\n",
      "Installing collected packages: transliterate\n",
      "Successfully installed transliterate-1.10.2\n"
     ]
    }
   ],
   "source": [
    "!pip install -U transliterate\n",
    "from transliterate import translit"
   ]
  },
  {
   "cell_type": "code",
   "execution_count": 10,
   "id": "6f89f905",
   "metadata": {},
   "outputs": [
    {
     "data": {
      "text/plain": [
       "2341"
      ]
     },
     "execution_count": 10,
     "metadata": {},
     "output_type": "execute_result"
    }
   ],
   "source": [
    "data['product_translit'] = [translit(x, language_code='ru') for x in data['product']]\n",
    "data['product_translit'].nunique()"
   ]
  },
  {
   "cell_type": "code",
   "execution_count": 11,
   "id": "9698cc4c",
   "metadata": {},
   "outputs": [
    {
     "data": {
      "text/plain": [
       "2194"
      ]
     },
     "execution_count": 11,
     "metadata": {},
     "output_type": "execute_result"
    }
   ],
   "source": [
    "#убираем лишние символы\n",
    "patterns = \"[A-Za-z0-9!#$%&'()*+,./:;<=>?@[\\]^_`{|}~—\\\"\\-]+\"\n",
    "data['product_clean'] = [re.sub(patterns, ' ', x) for x in data['product_translit']]\n",
    "\n",
    "#убираем лишние пробелы после регулярки\n",
    "data['product_clean'] = [\" \".join(x.split()) for x in data['product_clean']]\n",
    "data['product_clean'].nunique()"
   ]
  },
  {
   "cell_type": "code",
   "execution_count": 12,
   "id": "fa4342e0",
   "metadata": {},
   "outputs": [
    {
     "data": {
      "text/plain": [
       "2170"
      ]
     },
     "execution_count": 12,
     "metadata": {},
     "output_type": "execute_result"
    }
   ],
   "source": [
    "# убираем слова меньше трех букв\n",
    "def two_words(x):\n",
    "    words=x.split()\n",
    "    product_final = \" \".join([\"\".join(i) for i in words if len(i)>2])\n",
    "    return product_final\n",
    "\n",
    "\n",
    "data['product_final']=data['product_clean'].apply(two_words)\n",
    "data['product_final'].nunique()"
   ]
  },
  {
   "cell_type": "markdown",
   "id": "8287798d",
   "metadata": {},
   "source": [
    "Убрали часть неявных дубликатов, сократили размерность с 2343 до 2170 товаров.  \n",
    "В ходе исследования не будем изучать отдельные товары, а распределим их по категориям и будем работать уже с ними."
   ]
  },
  {
   "cell_type": "markdown",
   "id": "b44e74b4",
   "metadata": {},
   "source": [
    "### Другие неявные дубликаты"
   ]
  },
  {
   "cell_type": "code",
   "execution_count": 13,
   "id": "6598d25a",
   "metadata": {},
   "outputs": [
    {
     "data": {
      "text/html": [
       "<div>\n",
       "<style scoped>\n",
       "    .dataframe tbody tr th:only-of-type {\n",
       "        vertical-align: middle;\n",
       "    }\n",
       "\n",
       "    .dataframe tbody tr th {\n",
       "        vertical-align: top;\n",
       "    }\n",
       "\n",
       "    .dataframe thead th {\n",
       "        text-align: right;\n",
       "    }\n",
       "</style>\n",
       "<table border=\"1\" class=\"dataframe\">\n",
       "  <thead>\n",
       "    <tr style=\"text-align: right;\">\n",
       "      <th></th>\n",
       "      <th>date</th>\n",
       "      <th>customer_id</th>\n",
       "    </tr>\n",
       "    <tr>\n",
       "      <th>order_id</th>\n",
       "      <th></th>\n",
       "      <th></th>\n",
       "    </tr>\n",
       "  </thead>\n",
       "  <tbody>\n",
       "    <tr>\n",
       "      <th>13547</th>\n",
       "      <td>7</td>\n",
       "      <td>1</td>\n",
       "    </tr>\n",
       "    <tr>\n",
       "      <th>14500</th>\n",
       "      <td>4</td>\n",
       "      <td>1</td>\n",
       "    </tr>\n",
       "    <tr>\n",
       "      <th>14504</th>\n",
       "      <td>2</td>\n",
       "      <td>1</td>\n",
       "    </tr>\n",
       "    <tr>\n",
       "      <th>14505</th>\n",
       "      <td>2</td>\n",
       "      <td>1</td>\n",
       "    </tr>\n",
       "    <tr>\n",
       "      <th>14521</th>\n",
       "      <td>6</td>\n",
       "      <td>1</td>\n",
       "    </tr>\n",
       "    <tr>\n",
       "      <th>...</th>\n",
       "      <td>...</td>\n",
       "      <td>...</td>\n",
       "    </tr>\n",
       "    <tr>\n",
       "      <th>73101</th>\n",
       "      <td>2</td>\n",
       "      <td>1</td>\n",
       "    </tr>\n",
       "    <tr>\n",
       "      <th>73104</th>\n",
       "      <td>3</td>\n",
       "      <td>1</td>\n",
       "    </tr>\n",
       "    <tr>\n",
       "      <th>73108</th>\n",
       "      <td>2</td>\n",
       "      <td>1</td>\n",
       "    </tr>\n",
       "    <tr>\n",
       "      <th>73136</th>\n",
       "      <td>3</td>\n",
       "      <td>1</td>\n",
       "    </tr>\n",
       "    <tr>\n",
       "      <th>73137</th>\n",
       "      <td>2</td>\n",
       "      <td>1</td>\n",
       "    </tr>\n",
       "  </tbody>\n",
       "</table>\n",
       "<p>284 rows × 2 columns</p>\n",
       "</div>"
      ],
      "text/plain": [
       "          date  customer_id\n",
       "order_id                   \n",
       "13547        7            1\n",
       "14500        4            1\n",
       "14504        2            1\n",
       "14505        2            1\n",
       "14521        6            1\n",
       "...        ...          ...\n",
       "73101        2            1\n",
       "73104        3            1\n",
       "73108        2            1\n",
       "73136        3            1\n",
       "73137        2            1\n",
       "\n",
       "[284 rows x 2 columns]"
      ]
     },
     "execution_count": 13,
     "metadata": {},
     "output_type": "execute_result"
    }
   ],
   "source": [
    "data.groupby('order_id')[['date', 'customer_id']].nunique().query('date>1')"
   ]
  },
  {
   "cell_type": "code",
   "execution_count": 14,
   "id": "b1653fed",
   "metadata": {
    "scrolled": true
   },
   "outputs": [
    {
     "data": {
      "text/html": [
       "<div>\n",
       "<style scoped>\n",
       "    .dataframe tbody tr th:only-of-type {\n",
       "        vertical-align: middle;\n",
       "    }\n",
       "\n",
       "    .dataframe tbody tr th {\n",
       "        vertical-align: top;\n",
       "    }\n",
       "\n",
       "    .dataframe thead th {\n",
       "        text-align: right;\n",
       "    }\n",
       "</style>\n",
       "<table border=\"1\" class=\"dataframe\">\n",
       "  <thead>\n",
       "    <tr style=\"text-align: right;\">\n",
       "      <th></th>\n",
       "      <th>date</th>\n",
       "      <th>customer_id</th>\n",
       "    </tr>\n",
       "    <tr>\n",
       "      <th>order_id</th>\n",
       "      <th></th>\n",
       "      <th></th>\n",
       "    </tr>\n",
       "  </thead>\n",
       "  <tbody>\n",
       "    <tr>\n",
       "      <th>14872</th>\n",
       "      <td>3</td>\n",
       "      <td>2</td>\n",
       "    </tr>\n",
       "    <tr>\n",
       "      <th>68785</th>\n",
       "      <td>2</td>\n",
       "      <td>2</td>\n",
       "    </tr>\n",
       "    <tr>\n",
       "      <th>69283</th>\n",
       "      <td>2</td>\n",
       "      <td>2</td>\n",
       "    </tr>\n",
       "    <tr>\n",
       "      <th>69310</th>\n",
       "      <td>4</td>\n",
       "      <td>2</td>\n",
       "    </tr>\n",
       "    <tr>\n",
       "      <th>69345</th>\n",
       "      <td>2</td>\n",
       "      <td>2</td>\n",
       "    </tr>\n",
       "    <tr>\n",
       "      <th>69410</th>\n",
       "      <td>2</td>\n",
       "      <td>2</td>\n",
       "    </tr>\n",
       "    <tr>\n",
       "      <th>69485</th>\n",
       "      <td>3</td>\n",
       "      <td>3</td>\n",
       "    </tr>\n",
       "    <tr>\n",
       "      <th>69531</th>\n",
       "      <td>12</td>\n",
       "      <td>2</td>\n",
       "    </tr>\n",
       "    <tr>\n",
       "      <th>69833</th>\n",
       "      <td>2</td>\n",
       "      <td>2</td>\n",
       "    </tr>\n",
       "    <tr>\n",
       "      <th>70114</th>\n",
       "      <td>2</td>\n",
       "      <td>2</td>\n",
       "    </tr>\n",
       "    <tr>\n",
       "      <th>70542</th>\n",
       "      <td>2</td>\n",
       "      <td>2</td>\n",
       "    </tr>\n",
       "    <tr>\n",
       "      <th>70631</th>\n",
       "      <td>2</td>\n",
       "      <td>2</td>\n",
       "    </tr>\n",
       "    <tr>\n",
       "      <th>70726</th>\n",
       "      <td>3</td>\n",
       "      <td>2</td>\n",
       "    </tr>\n",
       "    <tr>\n",
       "      <th>70808</th>\n",
       "      <td>2</td>\n",
       "      <td>2</td>\n",
       "    </tr>\n",
       "    <tr>\n",
       "      <th>70903</th>\n",
       "      <td>2</td>\n",
       "      <td>2</td>\n",
       "    </tr>\n",
       "    <tr>\n",
       "      <th>70946</th>\n",
       "      <td>2</td>\n",
       "      <td>2</td>\n",
       "    </tr>\n",
       "    <tr>\n",
       "      <th>71054</th>\n",
       "      <td>5</td>\n",
       "      <td>2</td>\n",
       "    </tr>\n",
       "    <tr>\n",
       "      <th>71226</th>\n",
       "      <td>2</td>\n",
       "      <td>2</td>\n",
       "    </tr>\n",
       "    <tr>\n",
       "      <th>71461</th>\n",
       "      <td>2</td>\n",
       "      <td>2</td>\n",
       "    </tr>\n",
       "    <tr>\n",
       "      <th>71480</th>\n",
       "      <td>3</td>\n",
       "      <td>3</td>\n",
       "    </tr>\n",
       "    <tr>\n",
       "      <th>71542</th>\n",
       "      <td>3</td>\n",
       "      <td>2</td>\n",
       "    </tr>\n",
       "    <tr>\n",
       "      <th>71571</th>\n",
       "      <td>1</td>\n",
       "      <td>2</td>\n",
       "    </tr>\n",
       "    <tr>\n",
       "      <th>71648</th>\n",
       "      <td>2</td>\n",
       "      <td>2</td>\n",
       "    </tr>\n",
       "    <tr>\n",
       "      <th>71663</th>\n",
       "      <td>4</td>\n",
       "      <td>2</td>\n",
       "    </tr>\n",
       "    <tr>\n",
       "      <th>72188</th>\n",
       "      <td>2</td>\n",
       "      <td>2</td>\n",
       "    </tr>\n",
       "    <tr>\n",
       "      <th>72778</th>\n",
       "      <td>2</td>\n",
       "      <td>2</td>\n",
       "    </tr>\n",
       "    <tr>\n",
       "      <th>72790</th>\n",
       "      <td>3</td>\n",
       "      <td>2</td>\n",
       "    </tr>\n",
       "    <tr>\n",
       "      <th>72845</th>\n",
       "      <td>4</td>\n",
       "      <td>4</td>\n",
       "    </tr>\n",
       "    <tr>\n",
       "      <th>72950</th>\n",
       "      <td>2</td>\n",
       "      <td>2</td>\n",
       "    </tr>\n",
       "  </tbody>\n",
       "</table>\n",
       "</div>"
      ],
      "text/plain": [
       "          date  customer_id\n",
       "order_id                   \n",
       "14872        3            2\n",
       "68785        2            2\n",
       "69283        2            2\n",
       "69310        4            2\n",
       "69345        2            2\n",
       "69410        2            2\n",
       "69485        3            3\n",
       "69531       12            2\n",
       "69833        2            2\n",
       "70114        2            2\n",
       "70542        2            2\n",
       "70631        2            2\n",
       "70726        3            2\n",
       "70808        2            2\n",
       "70903        2            2\n",
       "70946        2            2\n",
       "71054        5            2\n",
       "71226        2            2\n",
       "71461        2            2\n",
       "71480        3            3\n",
       "71542        3            2\n",
       "71571        1            2\n",
       "71648        2            2\n",
       "71663        4            2\n",
       "72188        2            2\n",
       "72778        2            2\n",
       "72790        3            2\n",
       "72845        4            4\n",
       "72950        2            2"
      ]
     },
     "execution_count": 14,
     "metadata": {},
     "output_type": "execute_result"
    }
   ],
   "source": [
    "data.groupby('order_id')[['date', 'customer_id']].nunique().query('customer_id>1')"
   ]
  },
  {
   "cell_type": "markdown",
   "id": "1835b317",
   "metadata": {},
   "source": [
    "Номера заказов действительно повторяются - есть 284 повторяющихся номера для разных дат и 29 для разных покупателей. Там, где повторяются покупатели - даты повторяются также, так что уникализируем номера заказов, добавив к ним дату. "
   ]
  },
  {
   "cell_type": "code",
   "execution_count": 15,
   "id": "fccba133",
   "metadata": {
    "scrolled": true
   },
   "outputs": [
    {
     "data": {
      "text/html": [
       "<div>\n",
       "<style scoped>\n",
       "    .dataframe tbody tr th:only-of-type {\n",
       "        vertical-align: middle;\n",
       "    }\n",
       "\n",
       "    .dataframe tbody tr th {\n",
       "        vertical-align: top;\n",
       "    }\n",
       "\n",
       "    .dataframe thead th {\n",
       "        text-align: right;\n",
       "    }\n",
       "</style>\n",
       "<table border=\"1\" class=\"dataframe\">\n",
       "  <thead>\n",
       "    <tr style=\"text-align: right;\">\n",
       "      <th></th>\n",
       "      <th>date</th>\n",
       "      <th>customer_id</th>\n",
       "      <th>order_id</th>\n",
       "      <th>product</th>\n",
       "      <th>quantity</th>\n",
       "      <th>price</th>\n",
       "      <th>product_translit</th>\n",
       "      <th>product_clean</th>\n",
       "      <th>product_final</th>\n",
       "    </tr>\n",
       "  </thead>\n",
       "  <tbody>\n",
       "    <tr>\n",
       "      <th>0</th>\n",
       "      <td>2018-10-01 00:00:00</td>\n",
       "      <td>ee47d746-6d2f-4d3c-9622-c31412542920</td>\n",
       "      <td>68477</td>\n",
       "      <td>комнатное растение в горшке алое вера, d12, h30</td>\n",
       "      <td>1</td>\n",
       "      <td>142.0</td>\n",
       "      <td>комнатное растение в горшке алое вера, д12, х30</td>\n",
       "      <td>комнатное растение в горшке алое вера д х</td>\n",
       "      <td>комнатное растение горшке алое вера</td>\n",
       "    </tr>\n",
       "    <tr>\n",
       "      <th>1</th>\n",
       "      <td>2018-10-01 00:00:00</td>\n",
       "      <td>ee47d746-6d2f-4d3c-9622-c31412542920</td>\n",
       "      <td>68477</td>\n",
       "      <td>комнатное растение в горшке кофе арабика, d12,...</td>\n",
       "      <td>1</td>\n",
       "      <td>194.0</td>\n",
       "      <td>комнатное растение в горшке кофе арабика, д12,...</td>\n",
       "      <td>комнатное растение в горшке кофе арабика д х</td>\n",
       "      <td>комнатное растение горшке кофе арабика</td>\n",
       "    </tr>\n",
       "    <tr>\n",
       "      <th>2</th>\n",
       "      <td>2018-10-01 00:00:00</td>\n",
       "      <td>ee47d746-6d2f-4d3c-9622-c31412542920</td>\n",
       "      <td>68477</td>\n",
       "      <td>радермахера d-12 см h-20 см</td>\n",
       "      <td>1</td>\n",
       "      <td>112.0</td>\n",
       "      <td>радермахера д-12 см х-20 см</td>\n",
       "      <td>радермахера д см х см</td>\n",
       "      <td>радермахера</td>\n",
       "    </tr>\n",
       "    <tr>\n",
       "      <th>3</th>\n",
       "      <td>2018-10-01 00:00:00</td>\n",
       "      <td>ee47d746-6d2f-4d3c-9622-c31412542920</td>\n",
       "      <td>68477</td>\n",
       "      <td>хризолидокарпус лутесценс d-9 см</td>\n",
       "      <td>1</td>\n",
       "      <td>179.0</td>\n",
       "      <td>хризолидокарпус лутесценс д-9 см</td>\n",
       "      <td>хризолидокарпус лутесценс д см</td>\n",
       "      <td>хризолидокарпус лутесценс</td>\n",
       "    </tr>\n",
       "    <tr>\n",
       "      <th>4</th>\n",
       "      <td>2018-10-01 00:00:00</td>\n",
       "      <td>ee47d746-6d2f-4d3c-9622-c31412542920</td>\n",
       "      <td>68477</td>\n",
       "      <td>циперус зумула d-12 см h-25 см</td>\n",
       "      <td>1</td>\n",
       "      <td>112.0</td>\n",
       "      <td>циперус зумула д-12 см х-25 см</td>\n",
       "      <td>циперус зумула д см х см</td>\n",
       "      <td>циперус зумула</td>\n",
       "    </tr>\n",
       "    <tr>\n",
       "      <th>...</th>\n",
       "      <td>...</td>\n",
       "      <td>...</td>\n",
       "      <td>...</td>\n",
       "      <td>...</td>\n",
       "      <td>...</td>\n",
       "      <td>...</td>\n",
       "      <td>...</td>\n",
       "      <td>...</td>\n",
       "      <td>...</td>\n",
       "    </tr>\n",
       "    <tr>\n",
       "      <th>6732</th>\n",
       "      <td>2019-10-31 11:00:00</td>\n",
       "      <td>73d1cd35-5e5f-4629-8cf2-3fda829d4e58</td>\n",
       "      <td>73156</td>\n",
       "      <td>таз пластмассовый 40,0 л пищевой овальный (иж)...</td>\n",
       "      <td>1</td>\n",
       "      <td>404.0</td>\n",
       "      <td>таз пластмассовый 40,0 л пищевой овальный (иж)...</td>\n",
       "      <td>таз пластмассовый л пищевой овальный иж</td>\n",
       "      <td>таз пластмассовый пищевой овальный</td>\n",
       "    </tr>\n",
       "    <tr>\n",
       "      <th>6733</th>\n",
       "      <td>2019-10-31 12:00:00</td>\n",
       "      <td>1f0a7f35-7459-4f23-b468-5e45bf481dd1</td>\n",
       "      <td>73158</td>\n",
       "      <td>сумка-тележка 2-х колесная gimi argo синяя</td>\n",
       "      <td>1</td>\n",
       "      <td>1087.0</td>\n",
       "      <td>сумка-тележка 2-х колесная гими арго синяя</td>\n",
       "      <td>сумка тележка х колесная гими арго синяя</td>\n",
       "      <td>сумка тележка колесная гими арго синяя</td>\n",
       "    </tr>\n",
       "    <tr>\n",
       "      <th>6734</th>\n",
       "      <td>2019-10-31 13:00:00</td>\n",
       "      <td>25df96a7-c453-4708-9cea-a3dfc7c342ea</td>\n",
       "      <td>73162</td>\n",
       "      <td>герань домашняя (пеларгония зональная) цветуща...</td>\n",
       "      <td>1</td>\n",
       "      <td>157.0</td>\n",
       "      <td>герань домашняя (пеларгония зональная) цветуща...</td>\n",
       "      <td>герань домашняя пеларгония зональная цветущая ...</td>\n",
       "      <td>герань домашняя пеларгония зональная цветущая ...</td>\n",
       "    </tr>\n",
       "    <tr>\n",
       "      <th>6735</th>\n",
       "      <td>2019-10-31 14:00:00</td>\n",
       "      <td>73d1cd35-5e5f-4629-8cf2-3fda829d4e58</td>\n",
       "      <td>73164</td>\n",
       "      <td>таз пластмассовый со стиральной доской (иж), 1...</td>\n",
       "      <td>1</td>\n",
       "      <td>397.0</td>\n",
       "      <td>таз пластмассовый со стиральной доской (иж), 1...</td>\n",
       "      <td>таз пластмассовый со стиральной доской иж</td>\n",
       "      <td>таз пластмассовый стиральной доской</td>\n",
       "    </tr>\n",
       "    <tr>\n",
       "      <th>6736</th>\n",
       "      <td>2019-10-31 16:00:00</td>\n",
       "      <td>344aa778-e436-419e-a9c6-9b8f37b7c1df</td>\n",
       "      <td>73137</td>\n",
       "      <td>сумка-тележка 2-х колесная gimi argo синяя</td>\n",
       "      <td>1</td>\n",
       "      <td>1087.0</td>\n",
       "      <td>сумка-тележка 2-х колесная гими арго синяя</td>\n",
       "      <td>сумка тележка х колесная гими арго синяя</td>\n",
       "      <td>сумка тележка колесная гими арго синяя</td>\n",
       "    </tr>\n",
       "  </tbody>\n",
       "</table>\n",
       "<p>6737 rows × 9 columns</p>\n",
       "</div>"
      ],
      "text/plain": [
       "                    date                           customer_id  order_id  \\\n",
       "0    2018-10-01 00:00:00  ee47d746-6d2f-4d3c-9622-c31412542920     68477   \n",
       "1    2018-10-01 00:00:00  ee47d746-6d2f-4d3c-9622-c31412542920     68477   \n",
       "2    2018-10-01 00:00:00  ee47d746-6d2f-4d3c-9622-c31412542920     68477   \n",
       "3    2018-10-01 00:00:00  ee47d746-6d2f-4d3c-9622-c31412542920     68477   \n",
       "4    2018-10-01 00:00:00  ee47d746-6d2f-4d3c-9622-c31412542920     68477   \n",
       "...                  ...                                   ...       ...   \n",
       "6732 2019-10-31 11:00:00  73d1cd35-5e5f-4629-8cf2-3fda829d4e58     73156   \n",
       "6733 2019-10-31 12:00:00  1f0a7f35-7459-4f23-b468-5e45bf481dd1     73158   \n",
       "6734 2019-10-31 13:00:00  25df96a7-c453-4708-9cea-a3dfc7c342ea     73162   \n",
       "6735 2019-10-31 14:00:00  73d1cd35-5e5f-4629-8cf2-3fda829d4e58     73164   \n",
       "6736 2019-10-31 16:00:00  344aa778-e436-419e-a9c6-9b8f37b7c1df     73137   \n",
       "\n",
       "                                                product  quantity   price  \\\n",
       "0       комнатное растение в горшке алое вера, d12, h30         1   142.0   \n",
       "1     комнатное растение в горшке кофе арабика, d12,...         1   194.0   \n",
       "2                           радермахера d-12 см h-20 см         1   112.0   \n",
       "3                      хризолидокарпус лутесценс d-9 см         1   179.0   \n",
       "4                        циперус зумула d-12 см h-25 см         1   112.0   \n",
       "...                                                 ...       ...     ...   \n",
       "6732  таз пластмассовый 40,0 л пищевой овальный (иж)...         1   404.0   \n",
       "6733         сумка-тележка 2-х колесная gimi argo синяя         1  1087.0   \n",
       "6734  герань домашняя (пеларгония зональная) цветуща...         1   157.0   \n",
       "6735  таз пластмассовый со стиральной доской (иж), 1...         1   397.0   \n",
       "6736         сумка-тележка 2-х колесная gimi argo синяя         1  1087.0   \n",
       "\n",
       "                                       product_translit  \\\n",
       "0       комнатное растение в горшке алое вера, д12, х30   \n",
       "1     комнатное растение в горшке кофе арабика, д12,...   \n",
       "2                           радермахера д-12 см х-20 см   \n",
       "3                      хризолидокарпус лутесценс д-9 см   \n",
       "4                        циперус зумула д-12 см х-25 см   \n",
       "...                                                 ...   \n",
       "6732  таз пластмассовый 40,0 л пищевой овальный (иж)...   \n",
       "6733         сумка-тележка 2-х колесная гими арго синяя   \n",
       "6734  герань домашняя (пеларгония зональная) цветуща...   \n",
       "6735  таз пластмассовый со стиральной доской (иж), 1...   \n",
       "6736         сумка-тележка 2-х колесная гими арго синяя   \n",
       "\n",
       "                                          product_clean  \\\n",
       "0             комнатное растение в горшке алое вера д х   \n",
       "1          комнатное растение в горшке кофе арабика д х   \n",
       "2                                 радермахера д см х см   \n",
       "3                        хризолидокарпус лутесценс д см   \n",
       "4                              циперус зумула д см х см   \n",
       "...                                                 ...   \n",
       "6732            таз пластмассовый л пищевой овальный иж   \n",
       "6733           сумка тележка х колесная гими арго синяя   \n",
       "6734  герань домашняя пеларгония зональная цветущая ...   \n",
       "6735          таз пластмассовый со стиральной доской иж   \n",
       "6736           сумка тележка х колесная гими арго синяя   \n",
       "\n",
       "                                          product_final  \n",
       "0                   комнатное растение горшке алое вера  \n",
       "1                комнатное растение горшке кофе арабика  \n",
       "2                                           радермахера  \n",
       "3                             хризолидокарпус лутесценс  \n",
       "4                                        циперус зумула  \n",
       "...                                                 ...  \n",
       "6732                 таз пластмассовый пищевой овальный  \n",
       "6733             сумка тележка колесная гими арго синяя  \n",
       "6734  герань домашняя пеларгония зональная цветущая ...  \n",
       "6735                таз пластмассовый стиральной доской  \n",
       "6736             сумка тележка колесная гими арго синяя  \n",
       "\n",
       "[6737 rows x 9 columns]"
      ]
     },
     "execution_count": 15,
     "metadata": {},
     "output_type": "execute_result"
    }
   ],
   "source": [
    "data"
   ]
  },
  {
   "cell_type": "code",
   "execution_count": 16,
   "id": "f1d300bb",
   "metadata": {},
   "outputs": [],
   "source": [
    "data['order_id'] = data['order_id'].astype(str)+data['date'].dt.strftime('%Y%m%d%H')"
   ]
  },
  {
   "cell_type": "code",
   "execution_count": 17,
   "id": "e4f9fe50",
   "metadata": {},
   "outputs": [
    {
     "data": {
      "text/html": [
       "<div>\n",
       "<style scoped>\n",
       "    .dataframe tbody tr th:only-of-type {\n",
       "        vertical-align: middle;\n",
       "    }\n",
       "\n",
       "    .dataframe tbody tr th {\n",
       "        vertical-align: top;\n",
       "    }\n",
       "\n",
       "    .dataframe thead th {\n",
       "        text-align: right;\n",
       "    }\n",
       "</style>\n",
       "<table border=\"1\" class=\"dataframe\">\n",
       "  <thead>\n",
       "    <tr style=\"text-align: right;\">\n",
       "      <th></th>\n",
       "      <th>date</th>\n",
       "      <th>customer_id</th>\n",
       "    </tr>\n",
       "    <tr>\n",
       "      <th>order_id</th>\n",
       "      <th></th>\n",
       "      <th></th>\n",
       "    </tr>\n",
       "  </thead>\n",
       "  <tbody>\n",
       "  </tbody>\n",
       "</table>\n",
       "</div>"
      ],
      "text/plain": [
       "Empty DataFrame\n",
       "Columns: [date, customer_id]\n",
       "Index: []"
      ]
     },
     "execution_count": 17,
     "metadata": {},
     "output_type": "execute_result"
    }
   ],
   "source": [
    "data.groupby('order_id')[['date', 'customer_id']].nunique().query('date>1')"
   ]
  },
  {
   "cell_type": "markdown",
   "id": "f3b472d3",
   "metadata": {},
   "source": [
    "Теперь номера заказов для каждой даты уникальны."
   ]
  },
  {
   "cell_type": "markdown",
   "id": "b050afb7",
   "metadata": {},
   "source": [
    "## EDA"
   ]
  },
  {
   "cell_type": "code",
   "execution_count": 18,
   "id": "e2311198",
   "metadata": {
    "scrolled": true
   },
   "outputs": [
    {
     "data": {
      "text/html": [
       "<div>\n",
       "<style scoped>\n",
       "    .dataframe tbody tr th:only-of-type {\n",
       "        vertical-align: middle;\n",
       "    }\n",
       "\n",
       "    .dataframe tbody tr th {\n",
       "        vertical-align: top;\n",
       "    }\n",
       "\n",
       "    .dataframe thead th {\n",
       "        text-align: right;\n",
       "    }\n",
       "</style>\n",
       "<table border=\"1\" class=\"dataframe\">\n",
       "  <thead>\n",
       "    <tr style=\"text-align: right;\">\n",
       "      <th></th>\n",
       "      <th>quantity</th>\n",
       "      <th>price</th>\n",
       "    </tr>\n",
       "  </thead>\n",
       "  <tbody>\n",
       "    <tr>\n",
       "      <th>count</th>\n",
       "      <td>6737.000000</td>\n",
       "      <td>6737.000000</td>\n",
       "    </tr>\n",
       "    <tr>\n",
       "      <th>mean</th>\n",
       "      <td>2.501559</td>\n",
       "      <td>462.028499</td>\n",
       "    </tr>\n",
       "    <tr>\n",
       "      <th>std</th>\n",
       "      <td>15.266478</td>\n",
       "      <td>871.296064</td>\n",
       "    </tr>\n",
       "    <tr>\n",
       "      <th>min</th>\n",
       "      <td>1.000000</td>\n",
       "      <td>9.000000</td>\n",
       "    </tr>\n",
       "    <tr>\n",
       "      <th>25%</th>\n",
       "      <td>1.000000</td>\n",
       "      <td>101.000000</td>\n",
       "    </tr>\n",
       "    <tr>\n",
       "      <th>50%</th>\n",
       "      <td>1.000000</td>\n",
       "      <td>135.000000</td>\n",
       "    </tr>\n",
       "    <tr>\n",
       "      <th>75%</th>\n",
       "      <td>1.000000</td>\n",
       "      <td>398.000000</td>\n",
       "    </tr>\n",
       "    <tr>\n",
       "      <th>max</th>\n",
       "      <td>1000.000000</td>\n",
       "      <td>14917.000000</td>\n",
       "    </tr>\n",
       "  </tbody>\n",
       "</table>\n",
       "</div>"
      ],
      "text/plain": [
       "          quantity         price\n",
       "count  6737.000000   6737.000000\n",
       "mean      2.501559    462.028499\n",
       "std      15.266478    871.296064\n",
       "min       1.000000      9.000000\n",
       "25%       1.000000    101.000000\n",
       "50%       1.000000    135.000000\n",
       "75%       1.000000    398.000000\n",
       "max    1000.000000  14917.000000"
      ]
     },
     "execution_count": 18,
     "metadata": {},
     "output_type": "execute_result"
    }
   ],
   "source": [
    "data[['quantity','price']].describe()"
   ]
  },
  {
   "cell_type": "markdown",
   "id": "363678dd",
   "metadata": {},
   "source": [
    "Сразу заметно, что в основном в 1 заказе мало товаров, а цены в магазине невысокие - средняя позиция чуть дешевле 500 рублей.\n",
    "Есть возможные выбросы - 1000 позиций в одном заказе, и товары за 14917 рублей."
   ]
  },
  {
   "cell_type": "markdown",
   "id": "992bf919",
   "metadata": {},
   "source": [
    "### Диапазон данных"
   ]
  },
  {
   "cell_type": "markdown",
   "id": "f041326f",
   "metadata": {},
   "source": [
    "Уточним период заказов:"
   ]
  },
  {
   "cell_type": "code",
   "execution_count": 19,
   "id": "052246e9",
   "metadata": {},
   "outputs": [
    {
     "name": "stdout",
     "output_type": "stream",
     "text": [
      "2018-10-01 00:00:00\n",
      "2019-10-31 16:00:00\n"
     ]
    }
   ],
   "source": [
    "print (data['date'].min())\n",
    "print (data['date'].max())"
   ]
  },
  {
   "cell_type": "markdown",
   "id": "10114e74",
   "metadata": {},
   "source": [
    "Данные у нас за период чуть больше года (13 месяцев)."
   ]
  },
  {
   "cell_type": "markdown",
   "id": "bb6681bb",
   "metadata": {},
   "source": [
    "### Цены товаров"
   ]
  },
  {
   "cell_type": "code",
   "execution_count": 20,
   "id": "1f0898ee",
   "metadata": {},
   "outputs": [
    {
     "data": {
      "image/png": "[encoded data removed]",
      "text/plain": [
       "<Figure size 1080x432 with 1 Axes>"
      ]
     },
     "metadata": {
      "image/png": {
       "height": 370,
       "width": 897
      },
      "needs_background": "light"
     },
     "output_type": "display_data"
    }
   ],
   "source": [
    "plt.figure(figsize=(15,6))\n",
    "sns.histplot(data['price'])\n",
    "plt.show()"
   ]
  },
  {
   "cell_type": "markdown",
   "id": "d1b4d16d",
   "metadata": {},
   "source": [
    "В основном пользователи заказывают недорогие товары - до 500 рублей, но есть и исключения."
   ]
  },
  {
   "cell_type": "code",
   "execution_count": 21,
   "id": "d0060763",
   "metadata": {},
   "outputs": [
    {
     "data": {
      "text/html": [
       "<div>\n",
       "<style scoped>\n",
       "    .dataframe tbody tr th:only-of-type {\n",
       "        vertical-align: middle;\n",
       "    }\n",
       "\n",
       "    .dataframe tbody tr th {\n",
       "        vertical-align: top;\n",
       "    }\n",
       "\n",
       "    .dataframe thead th {\n",
       "        text-align: right;\n",
       "    }\n",
       "</style>\n",
       "<table border=\"1\" class=\"dataframe\">\n",
       "  <thead>\n",
       "    <tr style=\"text-align: right;\">\n",
       "      <th></th>\n",
       "      <th>date</th>\n",
       "      <th>customer_id</th>\n",
       "      <th>order_id</th>\n",
       "      <th>product</th>\n",
       "      <th>quantity</th>\n",
       "      <th>price</th>\n",
       "      <th>product_translit</th>\n",
       "      <th>product_clean</th>\n",
       "      <th>product_final</th>\n",
       "    </tr>\n",
       "  </thead>\n",
       "  <tbody>\n",
       "    <tr>\n",
       "      <th>1981</th>\n",
       "      <td>2019-02-24 10:00:00</td>\n",
       "      <td>ac250053-a236-467a-97d2-ddbb9bf4a1ba</td>\n",
       "      <td>704232019022410</td>\n",
       "      <td>сумка-тележка хозяйственная andersen alu star ...</td>\n",
       "      <td>1</td>\n",
       "      <td>8437.0</td>\n",
       "      <td>сумка-тележка хозяйственная андерсен алу стар ...</td>\n",
       "      <td>сумка тележка хозяйственная андерсен алу стар ...</td>\n",
       "      <td>сумка тележка хозяйственная андерсен алу стар ...</td>\n",
       "    </tr>\n",
       "    <tr>\n",
       "      <th>2697</th>\n",
       "      <td>2019-04-05 19:00:00</td>\n",
       "      <td>c0c60544-3a99-49d0-8a8e-cf7f293c22cb</td>\n",
       "      <td>710352019040519</td>\n",
       "      <td>сумка-тележка хозяйственная andersen royal sho...</td>\n",
       "      <td>1</td>\n",
       "      <td>8737.0</td>\n",
       "      <td>сумка-тележка хозяйственная андерсен роыал шоп...</td>\n",
       "      <td>сумка тележка хозяйственная андерсен роыал шоп...</td>\n",
       "      <td>сумка тележка хозяйственная андерсен роыал шоп...</td>\n",
       "    </tr>\n",
       "    <tr>\n",
       "      <th>2997</th>\n",
       "      <td>2019-04-21 16:00:00</td>\n",
       "      <td>19d904d8-8d16-476d-8f66-b2a3b7a23660</td>\n",
       "      <td>712272019042116</td>\n",
       "      <td>сумка-тележка хозяйственная rolser mnb019 rojo...</td>\n",
       "      <td>1</td>\n",
       "      <td>8077.0</td>\n",
       "      <td>сумка-тележка хозяйственная ролсер мнб019 ройо...</td>\n",
       "      <td>сумка тележка хозяйственная ролсер мнб ройо ло...</td>\n",
       "      <td>сумка тележка хозяйственная ролсер мнб ройо ло...</td>\n",
       "    </tr>\n",
       "    <tr>\n",
       "      <th>5992</th>\n",
       "      <td>2019-07-29 17:00:00</td>\n",
       "      <td>0d87f4ae-465a-4fac-81e6-5d629761783e</td>\n",
       "      <td>721392019072917</td>\n",
       "      <td>сушилка уличная leifheit 85210 linomatic v 400...</td>\n",
       "      <td>1</td>\n",
       "      <td>14917.0</td>\n",
       "      <td>сушилка уличная леифхеит 85210 линоматиц в 400...</td>\n",
       "      <td>сушилка уличная леифхеит линоматиц в м х х см ...</td>\n",
       "      <td>сушилка уличная леифхеит линоматиц зеленая</td>\n",
       "    </tr>\n",
       "  </tbody>\n",
       "</table>\n",
       "</div>"
      ],
      "text/plain": [
       "                    date                           customer_id  \\\n",
       "1981 2019-02-24 10:00:00  ac250053-a236-467a-97d2-ddbb9bf4a1ba   \n",
       "2697 2019-04-05 19:00:00  c0c60544-3a99-49d0-8a8e-cf7f293c22cb   \n",
       "2997 2019-04-21 16:00:00  19d904d8-8d16-476d-8f66-b2a3b7a23660   \n",
       "5992 2019-07-29 17:00:00  0d87f4ae-465a-4fac-81e6-5d629761783e   \n",
       "\n",
       "             order_id                                            product  \\\n",
       "1981  704232019022410  сумка-тележка хозяйственная andersen alu star ...   \n",
       "2697  710352019040519  сумка-тележка хозяйственная andersen royal sho...   \n",
       "2997  712272019042116  сумка-тележка хозяйственная rolser mnb019 rojo...   \n",
       "5992  721392019072917  сушилка уличная leifheit 85210 linomatic v 400...   \n",
       "\n",
       "      quantity    price                                   product_translit  \\\n",
       "1981         1   8437.0  сумка-тележка хозяйственная андерсен алу стар ...   \n",
       "2697         1   8737.0  сумка-тележка хозяйственная андерсен роыал шоп...   \n",
       "2997         1   8077.0  сумка-тележка хозяйственная ролсер мнб019 ройо...   \n",
       "5992         1  14917.0  сушилка уличная леифхеит 85210 линоматиц в 400...   \n",
       "\n",
       "                                          product_clean  \\\n",
       "1981  сумка тележка хозяйственная андерсен алу стар ...   \n",
       "2697  сумка тележка хозяйственная андерсен роыал шоп...   \n",
       "2997  сумка тележка хозяйственная ролсер мнб ройо ло...   \n",
       "5992  сушилка уличная леифхеит линоматиц в м х х см ...   \n",
       "\n",
       "                                          product_final  \n",
       "1981  сумка тележка хозяйственная андерсен алу стар ...  \n",
       "2697  сумка тележка хозяйственная андерсен роыал шоп...  \n",
       "2997  сумка тележка хозяйственная ролсер мнб ройо ло...  \n",
       "5992         сушилка уличная леифхеит линоматиц зеленая  "
      ]
     },
     "execution_count": 21,
     "metadata": {},
     "output_type": "execute_result"
    }
   ],
   "source": [
    "data.query('price>8000')"
   ]
  },
  {
   "cell_type": "markdown",
   "id": "be77337a",
   "metadata": {},
   "source": [
    "Выше 8000 всего 4 товара. Кажется, это не ошибки в данных, а реальные товары, поэтому удалять не будем."
   ]
  },
  {
   "cell_type": "markdown",
   "id": "b294dc1c",
   "metadata": {},
   "source": [
    "###  Среднее количество товаров"
   ]
  },
  {
   "cell_type": "code",
   "execution_count": 22,
   "id": "602a5a46",
   "metadata": {
    "scrolled": true
   },
   "outputs": [
    {
     "data": {
      "image/png": "[encoded data removed]",
      "text/plain": [
       "<Figure size 1080x432 with 1 Axes>"
      ]
     },
     "metadata": {
      "image/png": {
       "height": 370,
       "width": 897
      },
      "needs_background": "light"
     },
     "output_type": "display_data"
    }
   ],
   "source": [
    "plt.figure(figsize=(15,6))\n",
    "sns.histplot(data['quantity'], bins=100)\n",
    "plt.show()"
   ]
  },
  {
   "cell_type": "code",
   "execution_count": 23,
   "id": "01978317",
   "metadata": {},
   "outputs": [
    {
     "data": {
      "text/plain": [
       "count    6737.000000\n",
       "mean        2.501559\n",
       "std        15.266478\n",
       "min         1.000000\n",
       "25%         1.000000\n",
       "50%         1.000000\n",
       "75%         1.000000\n",
       "max      1000.000000\n",
       "Name: quantity, dtype: float64"
      ]
     },
     "execution_count": 23,
     "metadata": {},
     "output_type": "execute_result"
    }
   ],
   "source": [
    "data['quantity'].describe()"
   ]
  },
  {
   "cell_type": "markdown",
   "id": "0270efa6",
   "metadata": {},
   "source": [
    "В среднем товары заказывают по одному. Но есть исключения, которые покупают оптом, посмотрим на них."
   ]
  },
  {
   "cell_type": "code",
   "execution_count": 24,
   "id": "30ef0619",
   "metadata": {
    "scrolled": true
   },
   "outputs": [
    {
     "data": {
      "text/html": [
       "<div>\n",
       "<style scoped>\n",
       "    .dataframe tbody tr th:only-of-type {\n",
       "        vertical-align: middle;\n",
       "    }\n",
       "\n",
       "    .dataframe tbody tr th {\n",
       "        vertical-align: top;\n",
       "    }\n",
       "\n",
       "    .dataframe thead th {\n",
       "        text-align: right;\n",
       "    }\n",
       "</style>\n",
       "<table border=\"1\" class=\"dataframe\">\n",
       "  <thead>\n",
       "    <tr style=\"text-align: right;\">\n",
       "      <th></th>\n",
       "      <th>product</th>\n",
       "      <th>quantity</th>\n",
       "    </tr>\n",
       "  </thead>\n",
       "  <tbody>\n",
       "    <tr>\n",
       "      <th>211</th>\n",
       "      <td>крепеж для пружины дверной, 1107055</td>\n",
       "      <td>150</td>\n",
       "    </tr>\n",
       "    <tr>\n",
       "      <th>212</th>\n",
       "      <td>пружина дверная 240 мм оцинкованная (д-19 мм) ...</td>\n",
       "      <td>150</td>\n",
       "    </tr>\n",
       "    <tr>\n",
       "      <th>266</th>\n",
       "      <td>крепеж для пружины дверной, 1107055</td>\n",
       "      <td>150</td>\n",
       "    </tr>\n",
       "    <tr>\n",
       "      <th>267</th>\n",
       "      <td>пружина дверная 240 мм оцинкованная (д-19 мм) ...</td>\n",
       "      <td>150</td>\n",
       "    </tr>\n",
       "    <tr>\n",
       "      <th>568</th>\n",
       "      <td>муляж яблоко 9 см красное</td>\n",
       "      <td>170</td>\n",
       "    </tr>\n",
       "    <tr>\n",
       "      <th>586</th>\n",
       "      <td>муляж яблоко 9 см красное</td>\n",
       "      <td>140</td>\n",
       "    </tr>\n",
       "    <tr>\n",
       "      <th>1158</th>\n",
       "      <td>ручка-скоба рс-100 белая *трибатрон*, 1108035</td>\n",
       "      <td>200</td>\n",
       "    </tr>\n",
       "    <tr>\n",
       "      <th>2431</th>\n",
       "      <td>плечики пластмассовые размер 52 - 54 тула 1205158</td>\n",
       "      <td>150</td>\n",
       "    </tr>\n",
       "    <tr>\n",
       "      <th>3961</th>\n",
       "      <td>муляж яблоко 9 см красное</td>\n",
       "      <td>300</td>\n",
       "    </tr>\n",
       "    <tr>\n",
       "      <th>5071</th>\n",
       "      <td>вешалки мягкие для деликатных вещей 3 шт шоколад</td>\n",
       "      <td>334</td>\n",
       "    </tr>\n",
       "    <tr>\n",
       "      <th>5456</th>\n",
       "      <td>вантуз с деревянной ручкой d14 см красный, bur...</td>\n",
       "      <td>1000</td>\n",
       "    </tr>\n",
       "  </tbody>\n",
       "</table>\n",
       "</div>"
      ],
      "text/plain": [
       "                                                product  quantity\n",
       "211                 крепеж для пружины дверной, 1107055       150\n",
       "212   пружина дверная 240 мм оцинкованная (д-19 мм) ...       150\n",
       "266                 крепеж для пружины дверной, 1107055       150\n",
       "267   пружина дверная 240 мм оцинкованная (д-19 мм) ...       150\n",
       "568                           муляж яблоко 9 см красное       170\n",
       "586                           муляж яблоко 9 см красное       140\n",
       "1158      ручка-скоба рс-100 белая *трибатрон*, 1108035       200\n",
       "2431  плечики пластмассовые размер 52 - 54 тула 1205158       150\n",
       "3961                          муляж яблоко 9 см красное       300\n",
       "5071   вешалки мягкие для деликатных вещей 3 шт шоколад       334\n",
       "5456  вантуз с деревянной ручкой d14 см красный, bur...      1000"
      ]
     },
     "execution_count": 24,
     "metadata": {},
     "output_type": "execute_result"
    }
   ],
   "source": [
    "#товары, которые заказывают чаще всего\n",
    "data.query('quantity>100')[['product','quantity']]"
   ]
  },
  {
   "cell_type": "markdown",
   "id": "57d61024",
   "metadata": {},
   "source": [
    "Здесь сложно однозначно сделать вывод, выбросы это, или кто-то закупается оптом. \n",
    "Сочтем заказы с количеством больше 100 оптовыми и не будем рассматривать в этом исследовании."
   ]
  },
  {
   "cell_type": "code",
   "execution_count": 25,
   "id": "3bf3406a",
   "metadata": {},
   "outputs": [],
   "source": [
    "data = data.query('quantity<100')"
   ]
  },
  {
   "cell_type": "code",
   "execution_count": 26,
   "id": "cb77d69b",
   "metadata": {},
   "outputs": [
    {
     "data": {
      "image/png": "[encoded data removed]",
      "text/plain": [
       "<Figure size 1080x432 with 1 Axes>"
      ]
     },
     "metadata": {
      "image/png": {
       "height": 370,
       "width": 900
      },
      "needs_background": "light"
     },
     "output_type": "display_data"
    }
   ],
   "source": [
    "#новое распределение\n",
    "plt.figure(figsize=(15,6))\n",
    "sns.histplot(data['quantity'], bins=100)\n",
    "plt.show()"
   ]
  },
  {
   "cell_type": "markdown",
   "id": "558c9d99",
   "metadata": {},
   "source": [
    "### Корреляции"
   ]
  },
  {
   "cell_type": "code",
   "execution_count": 27,
   "id": "0b6fcdd4",
   "metadata": {
    "scrolled": true
   },
   "outputs": [
    {
     "data": {
      "text/html": [
       "<div>\n",
       "<style scoped>\n",
       "    .dataframe tbody tr th:only-of-type {\n",
       "        vertical-align: middle;\n",
       "    }\n",
       "\n",
       "    .dataframe tbody tr th {\n",
       "        vertical-align: top;\n",
       "    }\n",
       "\n",
       "    .dataframe thead th {\n",
       "        text-align: right;\n",
       "    }\n",
       "</style>\n",
       "<table border=\"1\" class=\"dataframe\">\n",
       "  <thead>\n",
       "    <tr style=\"text-align: right;\">\n",
       "      <th></th>\n",
       "      <th>orders_count</th>\n",
       "      <th>items_sold</th>\n",
       "      <th>revenue_per_user</th>\n",
       "    </tr>\n",
       "  </thead>\n",
       "  <tbody>\n",
       "    <tr>\n",
       "      <th>orders_count</th>\n",
       "      <td>1.000000</td>\n",
       "      <td>0.673849</td>\n",
       "      <td>0.850745</td>\n",
       "    </tr>\n",
       "    <tr>\n",
       "      <th>items_sold</th>\n",
       "      <td>0.673849</td>\n",
       "      <td>1.000000</td>\n",
       "      <td>0.702703</td>\n",
       "    </tr>\n",
       "    <tr>\n",
       "      <th>revenue_per_user</th>\n",
       "      <td>0.850745</td>\n",
       "      <td>0.702703</td>\n",
       "      <td>1.000000</td>\n",
       "    </tr>\n",
       "  </tbody>\n",
       "</table>\n",
       "</div>"
      ],
      "text/plain": [
       "                  orders_count  items_sold  revenue_per_user\n",
       "orders_count          1.000000    0.673849          0.850745\n",
       "items_sold            0.673849    1.000000          0.702703\n",
       "revenue_per_user      0.850745    0.702703          1.000000"
      ]
     },
     "execution_count": 27,
     "metadata": {},
     "output_type": "execute_result"
    }
   ],
   "source": [
    "#рассчитаем выручку с каждого заказа\n",
    "data['revenue']=data['quantity']*data['price']\n",
    "\n",
    "#сформируем профиль каждого покупателя - сколько заказов сделал, сколько товаров и на какую общую сумму заказал\n",
    "profile = (data\n",
    "     .groupby('customer_id')\n",
    "     .agg({'order_id': pd.Series.nunique, 'quantity':np.sum, 'revenue': np.sum})\n",
    "     .rename(columns={'order_id':'orders_count','quantity' : 'items_sold', 'revenue':'revenue_per_user'}) )\n",
    "\n",
    "profile.corr()"
   ]
  },
  {
   "cell_type": "markdown",
   "id": "3d6622ec",
   "metadata": {},
   "source": [
    "Есть сильная положительная связь \n",
    "- между выручкой на пользователя и количеством проданных товаров.  \n",
    "- между количеством заказов одного пользователя и количеством проданных товаров.  \n",
    "- между количеством заказов и выручкой на пользователя. "
   ]
  },
  {
   "cell_type": "markdown",
   "id": "2ab96e4e",
   "metadata": {},
   "source": [
    "## Сегментация покупателей на основе данных о покупках"
   ]
  },
  {
   "cell_type": "markdown",
   "id": "98d07ca7",
   "metadata": {},
   "source": [
    "### Количество заказов на одного пользователя"
   ]
  },
  {
   "cell_type": "code",
   "execution_count": 28,
   "id": "d945fb59",
   "metadata": {
    "scrolled": true
   },
   "outputs": [
    {
     "data": {
      "text/plain": [
       "1      2046\n",
       "2       266\n",
       "3        70\n",
       "4        24\n",
       "5        10\n",
       "7         6\n",
       "6         4\n",
       "8         3\n",
       "9         2\n",
       "23        1\n",
       "60        1\n",
       "74        1\n",
       "36        1\n",
       "18        1\n",
       "16        1\n",
       "10        1\n",
       "127       1\n",
       "Name: orders_count, dtype: int64"
      ]
     },
     "execution_count": 28,
     "metadata": {},
     "output_type": "execute_result"
    }
   ],
   "source": [
    "profile['orders_count'].value_counts()"
   ]
  },
  {
   "cell_type": "code",
   "execution_count": 29,
   "id": "2b2a8c83",
   "metadata": {
    "scrolled": true
   },
   "outputs": [
    {
     "data": {
      "image/png": "[encoded data removed]",
      "text/plain": [
       "<Figure size 1080x432 with 1 Axes>"
      ]
     },
     "metadata": {
      "image/png": {
       "height": 371,
       "width": 897
      },
      "needs_background": "light"
     },
     "output_type": "display_data"
    }
   ],
   "source": [
    "plt.figure(figsize=(15,6))\n",
    "sns.histplot(profile['orders_count'], bins=100)\n",
    "plt.show()"
   ]
  },
  {
   "cell_type": "markdown",
   "id": "60df81f7",
   "metadata": {},
   "source": [
    "В основном каждый пользователь сделал один заказ за весь период, но есть и исключения - пользователь со 127 заказами."
   ]
  },
  {
   "cell_type": "markdown",
   "id": "e88982e5",
   "metadata": {},
   "source": [
    "Проверим, что он заказал."
   ]
  },
  {
   "cell_type": "code",
   "execution_count": 30,
   "id": "b238f212",
   "metadata": {
    "scrolled": true
   },
   "outputs": [
    {
     "data": {
      "text/html": [
       "<div>\n",
       "<style scoped>\n",
       "    .dataframe tbody tr th:only-of-type {\n",
       "        vertical-align: middle;\n",
       "    }\n",
       "\n",
       "    .dataframe tbody tr th {\n",
       "        vertical-align: top;\n",
       "    }\n",
       "\n",
       "    .dataframe thead th {\n",
       "        text-align: right;\n",
       "    }\n",
       "</style>\n",
       "<table border=\"1\" class=\"dataframe\">\n",
       "  <thead>\n",
       "    <tr style=\"text-align: right;\">\n",
       "      <th></th>\n",
       "      <th>date</th>\n",
       "      <th>customer_id</th>\n",
       "      <th>order_id</th>\n",
       "      <th>product</th>\n",
       "      <th>quantity</th>\n",
       "      <th>price</th>\n",
       "      <th>product_translit</th>\n",
       "      <th>product_clean</th>\n",
       "      <th>product_final</th>\n",
       "      <th>revenue</th>\n",
       "    </tr>\n",
       "  </thead>\n",
       "  <tbody>\n",
       "    <tr>\n",
       "      <th>9</th>\n",
       "      <td>2018-10-01 09:00:00</td>\n",
       "      <td>c971fb21-d54c-4134-938f-16b62ee86d3b</td>\n",
       "      <td>684802018100109</td>\n",
       "      <td>чехол для гладильной доски colombo persia beig...</td>\n",
       "      <td>1</td>\n",
       "      <td>674.0</td>\n",
       "      <td>чехол для гладильной доски цоломбо персиа беиг...</td>\n",
       "      <td>чехол для гладильной доски цоломбо персиа беиг...</td>\n",
       "      <td>чехол для гладильной доски цоломбо персиа беиг...</td>\n",
       "      <td>674.0</td>\n",
       "    </tr>\n",
       "    <tr>\n",
       "      <th>20</th>\n",
       "      <td>2018-10-02 08:00:00</td>\n",
       "      <td>c971fb21-d54c-4134-938f-16b62ee86d3b</td>\n",
       "      <td>684902018100208</td>\n",
       "      <td>чехол для гладильной доски festival 137x60 см ...</td>\n",
       "      <td>1</td>\n",
       "      <td>1162.0</td>\n",
       "      <td>чехол для гладильной доски фестивал 137x60 см ...</td>\n",
       "      <td>чехол для гладильной доски фестивал см из хлопка</td>\n",
       "      <td>чехол для гладильной доски фестивал хлопка</td>\n",
       "      <td>1162.0</td>\n",
       "    </tr>\n",
       "    <tr>\n",
       "      <th>64</th>\n",
       "      <td>2018-10-03 08:00:00</td>\n",
       "      <td>c971fb21-d54c-4134-938f-16b62ee86d3b</td>\n",
       "      <td>685112018100308</td>\n",
       "      <td>набор прищепок большие пластиковые rozenbal пи...</td>\n",
       "      <td>10</td>\n",
       "      <td>86.0</td>\n",
       "      <td>набор прищепок большие пластиковые розенбал пи...</td>\n",
       "      <td>набор прищепок большие пластиковые розенбал пи...</td>\n",
       "      <td>набор прищепок большие пластиковые розенбал пи...</td>\n",
       "      <td>860.0</td>\n",
       "    </tr>\n",
       "    <tr>\n",
       "      <th>65</th>\n",
       "      <td>2018-10-03 10:00:00</td>\n",
       "      <td>c971fb21-d54c-4134-938f-16b62ee86d3b</td>\n",
       "      <td>685142018100310</td>\n",
       "      <td>сушилка для белья attribute прима 11 м синяя н...</td>\n",
       "      <td>1</td>\n",
       "      <td>749.0</td>\n",
       "      <td>сушилка для белья аттрибуте прима 11 м синяя н...</td>\n",
       "      <td>сушилка для белья аттрибуте прима м синяя напо...</td>\n",
       "      <td>сушилка для белья аттрибуте прима синяя наполь...</td>\n",
       "      <td>749.0</td>\n",
       "    </tr>\n",
       "    <tr>\n",
       "      <th>130</th>\n",
       "      <td>2018-10-08 07:00:00</td>\n",
       "      <td>c971fb21-d54c-4134-938f-16b62ee86d3b</td>\n",
       "      <td>685612018100807</td>\n",
       "      <td>тележка багажная delta тбр-20 коричневый с ора...</td>\n",
       "      <td>1</td>\n",
       "      <td>742.0</td>\n",
       "      <td>тележка багажная делта тбр-20 коричневый с ора...</td>\n",
       "      <td>тележка багажная делта тбр коричневый с оранже...</td>\n",
       "      <td>тележка багажная делта тбр коричневый оранжевы...</td>\n",
       "      <td>742.0</td>\n",
       "    </tr>\n",
       "    <tr>\n",
       "      <th>...</th>\n",
       "      <td>...</td>\n",
       "      <td>...</td>\n",
       "      <td>...</td>\n",
       "      <td>...</td>\n",
       "      <td>...</td>\n",
       "      <td>...</td>\n",
       "      <td>...</td>\n",
       "      <td>...</td>\n",
       "      <td>...</td>\n",
       "      <td>...</td>\n",
       "    </tr>\n",
       "    <tr>\n",
       "      <th>2171</th>\n",
       "      <td>2019-03-04 15:00:00</td>\n",
       "      <td>c971fb21-d54c-4134-938f-16b62ee86d3b</td>\n",
       "      <td>705822019030415</td>\n",
       "      <td>нефролепис бостон d-12 см</td>\n",
       "      <td>1</td>\n",
       "      <td>292.0</td>\n",
       "      <td>нефролепис бостон д-12 см</td>\n",
       "      <td>нефролепис бостон д см</td>\n",
       "      <td>нефролепис бостон</td>\n",
       "      <td>292.0</td>\n",
       "    </tr>\n",
       "    <tr>\n",
       "      <th>2173</th>\n",
       "      <td>2019-03-04 16:00:00</td>\n",
       "      <td>c971fb21-d54c-4134-938f-16b62ee86d3b</td>\n",
       "      <td>705892019030416</td>\n",
       "      <td>калла крупноцветковая желтая</td>\n",
       "      <td>1</td>\n",
       "      <td>374.0</td>\n",
       "      <td>калла крупноцветковая желтая</td>\n",
       "      <td>калла крупноцветковая желтая</td>\n",
       "      <td>калла крупноцветковая желтая</td>\n",
       "      <td>374.0</td>\n",
       "    </tr>\n",
       "    <tr>\n",
       "      <th>2191</th>\n",
       "      <td>2019-03-05 13:00:00</td>\n",
       "      <td>c971fb21-d54c-4134-938f-16b62ee86d3b</td>\n",
       "      <td>706062019030513</td>\n",
       "      <td>пеларгония розебудная red pandora укорененный ...</td>\n",
       "      <td>1</td>\n",
       "      <td>134.0</td>\n",
       "      <td>пеларгония розебудная ред пандора укорененный ...</td>\n",
       "      <td>пеларгония розебудная ред пандора укорененный ...</td>\n",
       "      <td>пеларгония розебудная ред пандора укорененный ...</td>\n",
       "      <td>134.0</td>\n",
       "    </tr>\n",
       "    <tr>\n",
       "      <th>2195</th>\n",
       "      <td>2019-03-05 15:00:00</td>\n",
       "      <td>c971fb21-d54c-4134-938f-16b62ee86d3b</td>\n",
       "      <td>706142019030515</td>\n",
       "      <td>гладильная доска ника lora fashion hlf 123х46 см</td>\n",
       "      <td>1</td>\n",
       "      <td>1949.0</td>\n",
       "      <td>гладильная доска ника лора фашион хлф 123х46 см</td>\n",
       "      <td>гладильная доска ника лора фашион хлф х см</td>\n",
       "      <td>гладильная доска ника лора фашион хлф</td>\n",
       "      <td>1949.0</td>\n",
       "    </tr>\n",
       "    <tr>\n",
       "      <th>2209</th>\n",
       "      <td>2019-03-06 12:00:00</td>\n",
       "      <td>c971fb21-d54c-4134-938f-16b62ee86d3b</td>\n",
       "      <td>706292019030612</td>\n",
       "      <td>сумка-тележка хозяйственная andersen scala sho...</td>\n",
       "      <td>1</td>\n",
       "      <td>3787.0</td>\n",
       "      <td>сумка-тележка хозяйственная андерсен сцала шоп...</td>\n",
       "      <td>сумка тележка хозяйственная андерсен сцала шоп...</td>\n",
       "      <td>сумка тележка хозяйственная андерсен сцала шоп...</td>\n",
       "      <td>3787.0</td>\n",
       "    </tr>\n",
       "  </tbody>\n",
       "</table>\n",
       "<p>144 rows × 10 columns</p>\n",
       "</div>"
      ],
      "text/plain": [
       "                    date                           customer_id  \\\n",
       "9    2018-10-01 09:00:00  c971fb21-d54c-4134-938f-16b62ee86d3b   \n",
       "20   2018-10-02 08:00:00  c971fb21-d54c-4134-938f-16b62ee86d3b   \n",
       "64   2018-10-03 08:00:00  c971fb21-d54c-4134-938f-16b62ee86d3b   \n",
       "65   2018-10-03 10:00:00  c971fb21-d54c-4134-938f-16b62ee86d3b   \n",
       "130  2018-10-08 07:00:00  c971fb21-d54c-4134-938f-16b62ee86d3b   \n",
       "...                  ...                                   ...   \n",
       "2171 2019-03-04 15:00:00  c971fb21-d54c-4134-938f-16b62ee86d3b   \n",
       "2173 2019-03-04 16:00:00  c971fb21-d54c-4134-938f-16b62ee86d3b   \n",
       "2191 2019-03-05 13:00:00  c971fb21-d54c-4134-938f-16b62ee86d3b   \n",
       "2195 2019-03-05 15:00:00  c971fb21-d54c-4134-938f-16b62ee86d3b   \n",
       "2209 2019-03-06 12:00:00  c971fb21-d54c-4134-938f-16b62ee86d3b   \n",
       "\n",
       "             order_id                                            product  \\\n",
       "9     684802018100109  чехол для гладильной доски colombo persia beig...   \n",
       "20    684902018100208  чехол для гладильной доски festival 137x60 см ...   \n",
       "64    685112018100308  набор прищепок большие пластиковые rozenbal пи...   \n",
       "65    685142018100310  сушилка для белья attribute прима 11 м синяя н...   \n",
       "130   685612018100807  тележка багажная delta тбр-20 коричневый с ора...   \n",
       "...               ...                                                ...   \n",
       "2171  705822019030415                          нефролепис бостон d-12 см   \n",
       "2173  705892019030416                       калла крупноцветковая желтая   \n",
       "2191  706062019030513  пеларгония розебудная red pandora укорененный ...   \n",
       "2195  706142019030515   гладильная доска ника lora fashion hlf 123х46 см   \n",
       "2209  706292019030612  сумка-тележка хозяйственная andersen scala sho...   \n",
       "\n",
       "      quantity   price                                   product_translit  \\\n",
       "9            1   674.0  чехол для гладильной доски цоломбо персиа беиг...   \n",
       "20           1  1162.0  чехол для гладильной доски фестивал 137x60 см ...   \n",
       "64          10    86.0  набор прищепок большие пластиковые розенбал пи...   \n",
       "65           1   749.0  сушилка для белья аттрибуте прима 11 м синяя н...   \n",
       "130          1   742.0  тележка багажная делта тбр-20 коричневый с ора...   \n",
       "...        ...     ...                                                ...   \n",
       "2171         1   292.0                          нефролепис бостон д-12 см   \n",
       "2173         1   374.0                       калла крупноцветковая желтая   \n",
       "2191         1   134.0  пеларгония розебудная ред пандора укорененный ...   \n",
       "2195         1  1949.0    гладильная доска ника лора фашион хлф 123х46 см   \n",
       "2209         1  3787.0  сумка-тележка хозяйственная андерсен сцала шоп...   \n",
       "\n",
       "                                          product_clean  \\\n",
       "9     чехол для гладильной доски цоломбо персиа беиг...   \n",
       "20     чехол для гладильной доски фестивал см из хлопка   \n",
       "64    набор прищепок большие пластиковые розенбал пи...   \n",
       "65    сушилка для белья аттрибуте прима м синяя напо...   \n",
       "130   тележка багажная делта тбр коричневый с оранже...   \n",
       "...                                                 ...   \n",
       "2171                             нефролепис бостон д см   \n",
       "2173                       калла крупноцветковая желтая   \n",
       "2191  пеларгония розебудная ред пандора укорененный ...   \n",
       "2195         гладильная доска ника лора фашион хлф х см   \n",
       "2209  сумка тележка хозяйственная андерсен сцала шоп...   \n",
       "\n",
       "                                          product_final  revenue  \n",
       "9     чехол для гладильной доски цоломбо персиа беиг...    674.0  \n",
       "20           чехол для гладильной доски фестивал хлопка   1162.0  \n",
       "64    набор прищепок большие пластиковые розенбал пи...    860.0  \n",
       "65    сушилка для белья аттрибуте прима синяя наполь...    749.0  \n",
       "130   тележка багажная делта тбр коричневый оранжевы...    742.0  \n",
       "...                                                 ...      ...  \n",
       "2171                                  нефролепис бостон    292.0  \n",
       "2173                       калла крупноцветковая желтая    374.0  \n",
       "2191  пеларгония розебудная ред пандора укорененный ...    134.0  \n",
       "2195              гладильная доска ника лора фашион хлф   1949.0  \n",
       "2209  сумка тележка хозяйственная андерсен сцала шоп...   3787.0  \n",
       "\n",
       "[144 rows x 10 columns]"
      ]
     },
     "execution_count": 30,
     "metadata": {},
     "output_type": "execute_result"
    }
   ],
   "source": [
    "too_much_orders = profile[profile['orders_count'] == 127]\n",
    "(\n",
    "    data\n",
    "    .query('customer_id in @too_much_orders.index')\n",
    ")"
   ]
  },
  {
   "cell_type": "markdown",
   "id": "a9a08dbb",
   "metadata": {},
   "source": [
    "Пользователь с 126 заказами выглядит нормальным, просто заказывал по несколько раз в день. Удалять данные не будем. "
   ]
  },
  {
   "cell_type": "markdown",
   "id": "c9c355e6",
   "metadata": {},
   "source": [
    "### Сегментация по заказам"
   ]
  },
  {
   "cell_type": "code",
   "execution_count": 31,
   "id": "3bd7a95a",
   "metadata": {},
   "outputs": [],
   "source": [
    "orders = (data\n",
    "     .groupby(['customer_id','order_id'])\n",
    "     .agg({'quantity':np.sum, 'revenue': np.sum})\n",
    "     .rename(columns={'quantity' : 'items_in_order', 'revenue':'revenue_per_order'}) )"
   ]
  },
  {
   "cell_type": "code",
   "execution_count": 32,
   "id": "e6fc106f",
   "metadata": {},
   "outputs": [
    {
     "data": {
      "text/html": [
       "<div>\n",
       "<style scoped>\n",
       "    .dataframe tbody tr th:only-of-type {\n",
       "        vertical-align: middle;\n",
       "    }\n",
       "\n",
       "    .dataframe tbody tr th {\n",
       "        vertical-align: top;\n",
       "    }\n",
       "\n",
       "    .dataframe thead th {\n",
       "        text-align: right;\n",
       "    }\n",
       "</style>\n",
       "<table border=\"1\" class=\"dataframe\">\n",
       "  <thead>\n",
       "    <tr style=\"text-align: right;\">\n",
       "      <th></th>\n",
       "      <th>items_in_order</th>\n",
       "      <th>revenue_per_order</th>\n",
       "    </tr>\n",
       "  </thead>\n",
       "  <tbody>\n",
       "    <tr>\n",
       "      <th>count</th>\n",
       "      <td>3406.000000</td>\n",
       "      <td>3406.000000</td>\n",
       "    </tr>\n",
       "    <tr>\n",
       "      <th>mean</th>\n",
       "      <td>3.980916</td>\n",
       "      <td>1190.962419</td>\n",
       "    </tr>\n",
       "    <tr>\n",
       "      <th>std</th>\n",
       "      <td>7.799314</td>\n",
       "      <td>1889.713979</td>\n",
       "    </tr>\n",
       "    <tr>\n",
       "      <th>min</th>\n",
       "      <td>1.000000</td>\n",
       "      <td>14.000000</td>\n",
       "    </tr>\n",
       "    <tr>\n",
       "      <th>25%</th>\n",
       "      <td>1.000000</td>\n",
       "      <td>292.000000</td>\n",
       "    </tr>\n",
       "    <tr>\n",
       "      <th>50%</th>\n",
       "      <td>1.000000</td>\n",
       "      <td>715.000000</td>\n",
       "    </tr>\n",
       "    <tr>\n",
       "      <th>75%</th>\n",
       "      <td>3.000000</td>\n",
       "      <td>1530.000000</td>\n",
       "    </tr>\n",
       "    <tr>\n",
       "      <th>max</th>\n",
       "      <td>101.000000</td>\n",
       "      <td>47385.000000</td>\n",
       "    </tr>\n",
       "  </tbody>\n",
       "</table>\n",
       "</div>"
      ],
      "text/plain": [
       "       items_in_order  revenue_per_order\n",
       "count     3406.000000        3406.000000\n",
       "mean         3.980916        1190.962419\n",
       "std          7.799314        1889.713979\n",
       "min          1.000000          14.000000\n",
       "25%          1.000000         292.000000\n",
       "50%          1.000000         715.000000\n",
       "75%          3.000000        1530.000000\n",
       "max        101.000000       47385.000000"
      ]
     },
     "execution_count": 32,
     "metadata": {},
     "output_type": "execute_result"
    }
   ],
   "source": [
    "orders.describe()"
   ]
  },
  {
   "cell_type": "code",
   "execution_count": 33,
   "id": "cf9c5c11",
   "metadata": {},
   "outputs": [
    {
     "data": {
      "image/png": "[encoded data removed]",
      "text/plain": [
       "<Figure size 1080x432 with 1 Axes>"
      ]
     },
     "metadata": {
      "image/png": {
       "height": 386,
       "width": 897
      },
      "needs_background": "light"
     },
     "output_type": "display_data"
    }
   ],
   "source": [
    "plt.figure(figsize=(15,6))\n",
    "sns.histplot(orders['items_in_order'], bins=100)\n",
    "plt.title('Товаров в заказе')\n",
    "plt.show()"
   ]
  },
  {
   "cell_type": "code",
   "execution_count": 34,
   "id": "f0998c9f",
   "metadata": {},
   "outputs": [
    {
     "data": {
      "image/png": "[encoded data removed]",
      "text/plain": [
       "<Figure size 1080x432 with 1 Axes>"
      ]
     },
     "metadata": {
      "image/png": {
       "height": 386,
       "width": 897
      },
      "needs_background": "light"
     },
     "output_type": "display_data"
    }
   ],
   "source": [
    "plt.figure(figsize=(15,6))\n",
    "sns.histplot(orders['revenue_per_order'], bins=100)\n",
    "plt.title('Средний чек заказа')\n",
    "plt.show()"
   ]
  },
  {
   "cell_type": "markdown",
   "id": "3e29b61f",
   "metadata": {},
   "source": [
    "Можно отметить, что:\n",
    "- Большинство пользователей заказывает 1 товар в заказе (оптовые мы удалили)\n",
    "- Средний чек заказа 1190 руб, медианный - 715 рублей"
   ]
  },
  {
   "cell_type": "markdown",
   "id": "03874788",
   "metadata": {},
   "source": [
    "### Распределение данных по времени"
   ]
  },
  {
   "cell_type": "code",
   "execution_count": 35,
   "id": "4b444667",
   "metadata": {},
   "outputs": [
    {
     "data": {
      "text/html": [
       "<div>\n",
       "<style scoped>\n",
       "    .dataframe tbody tr th:only-of-type {\n",
       "        vertical-align: middle;\n",
       "    }\n",
       "\n",
       "    .dataframe tbody tr th {\n",
       "        vertical-align: top;\n",
       "    }\n",
       "\n",
       "    .dataframe thead th {\n",
       "        text-align: right;\n",
       "    }\n",
       "</style>\n",
       "<table border=\"1\" class=\"dataframe\">\n",
       "  <thead>\n",
       "    <tr style=\"text-align: right;\">\n",
       "      <th></th>\n",
       "      <th>month</th>\n",
       "      <th>customer_id</th>\n",
       "      <th>quantity</th>\n",
       "      <th>revenue</th>\n",
       "    </tr>\n",
       "  </thead>\n",
       "  <tbody>\n",
       "    <tr>\n",
       "      <th>0</th>\n",
       "      <td>2018-10</td>\n",
       "      <td>180</td>\n",
       "      <td>1458</td>\n",
       "      <td>403654.0</td>\n",
       "    </tr>\n",
       "    <tr>\n",
       "      <th>1</th>\n",
       "      <td>2018-11</td>\n",
       "      <td>177</td>\n",
       "      <td>1043</td>\n",
       "      <td>354250.0</td>\n",
       "    </tr>\n",
       "    <tr>\n",
       "      <th>2</th>\n",
       "      <td>2018-12</td>\n",
       "      <td>238</td>\n",
       "      <td>874</td>\n",
       "      <td>394368.0</td>\n",
       "    </tr>\n",
       "    <tr>\n",
       "      <th>3</th>\n",
       "      <td>2019-01</td>\n",
       "      <td>156</td>\n",
       "      <td>592</td>\n",
       "      <td>281321.0</td>\n",
       "    </tr>\n",
       "    <tr>\n",
       "      <th>4</th>\n",
       "      <td>2019-02</td>\n",
       "      <td>249</td>\n",
       "      <td>1116</td>\n",
       "      <td>345454.0</td>\n",
       "    </tr>\n",
       "    <tr>\n",
       "      <th>5</th>\n",
       "      <td>2019-03</td>\n",
       "      <td>238</td>\n",
       "      <td>1100</td>\n",
       "      <td>317018.0</td>\n",
       "    </tr>\n",
       "    <tr>\n",
       "      <th>6</th>\n",
       "      <td>2019-04</td>\n",
       "      <td>241</td>\n",
       "      <td>1617</td>\n",
       "      <td>381915.0</td>\n",
       "    </tr>\n",
       "    <tr>\n",
       "      <th>7</th>\n",
       "      <td>2019-05</td>\n",
       "      <td>174</td>\n",
       "      <td>1440</td>\n",
       "      <td>291444.0</td>\n",
       "    </tr>\n",
       "    <tr>\n",
       "      <th>8</th>\n",
       "      <td>2019-06</td>\n",
       "      <td>157</td>\n",
       "      <td>1755</td>\n",
       "      <td>362249.0</td>\n",
       "    </tr>\n",
       "    <tr>\n",
       "      <th>9</th>\n",
       "      <td>2019-07</td>\n",
       "      <td>187</td>\n",
       "      <td>770</td>\n",
       "      <td>276547.0</td>\n",
       "    </tr>\n",
       "    <tr>\n",
       "      <th>10</th>\n",
       "      <td>2019-08</td>\n",
       "      <td>168</td>\n",
       "      <td>435</td>\n",
       "      <td>197833.0</td>\n",
       "    </tr>\n",
       "    <tr>\n",
       "      <th>11</th>\n",
       "      <td>2019-09</td>\n",
       "      <td>176</td>\n",
       "      <td>538</td>\n",
       "      <td>206022.0</td>\n",
       "    </tr>\n",
       "    <tr>\n",
       "      <th>12</th>\n",
       "      <td>2019-10</td>\n",
       "      <td>174</td>\n",
       "      <td>821</td>\n",
       "      <td>244343.0</td>\n",
       "    </tr>\n",
       "  </tbody>\n",
       "</table>\n",
       "</div>"
      ],
      "text/plain": [
       "      month  customer_id  quantity   revenue\n",
       "0   2018-10          180      1458  403654.0\n",
       "1   2018-11          177      1043  354250.0\n",
       "2   2018-12          238       874  394368.0\n",
       "3   2019-01          156       592  281321.0\n",
       "4   2019-02          249      1116  345454.0\n",
       "5   2019-03          238      1100  317018.0\n",
       "6   2019-04          241      1617  381915.0\n",
       "7   2019-05          174      1440  291444.0\n",
       "8   2019-06          157      1755  362249.0\n",
       "9   2019-07          187       770  276547.0\n",
       "10  2019-08          168       435  197833.0\n",
       "11  2019-09          176       538  206022.0\n",
       "12  2019-10          174       821  244343.0"
      ]
     },
     "execution_count": 35,
     "metadata": {},
     "output_type": "execute_result"
    }
   ],
   "source": [
    "#для графиков выделяем месяц+год\n",
    "data['month']=data['date'].dt.strftime('%Y-%m')\n",
    "#группируем датафрейм по дням\n",
    "orders_by_date = data.groupby('month').agg({'customer_id':pd.Series.nunique, 'quantity':np.sum, 'revenue':np.sum}).reset_index()\n",
    "orders_by_date"
   ]
  },
  {
   "cell_type": "code",
   "execution_count": 36,
   "id": "d9d4b277",
   "metadata": {
    "scrolled": true
   },
   "outputs": [
    {
     "data": {
      "image/png": "[encoded data removed]",
      "text/plain": [
       "<Figure size 864x360 with 1 Axes>"
      ]
     },
     "metadata": {
      "image/png": {
       "height": 331,
       "width": 742
      },
      "needs_background": "light"
     },
     "output_type": "display_data"
    }
   ],
   "source": [
    "plt.figure(figsize=(12,5))\n",
    "sns.barplot(data=orders_by_date, x='month', y='revenue', color='grey')\n",
    "plt.title('Выручка по месяцам')\n",
    "plt.show()"
   ]
  },
  {
   "cell_type": "code",
   "execution_count": 37,
   "id": "695b72dd",
   "metadata": {},
   "outputs": [
    {
     "data": {
      "image/png": "[encoded data removed]",
      "text/plain": [
       "<Figure size 864x360 with 1 Axes>"
      ]
     },
     "metadata": {
      "image/png": {
       "height": 331,
       "width": 724
      },
      "needs_background": "light"
     },
     "output_type": "display_data"
    }
   ],
   "source": [
    "plt.figure(figsize=(12,5))\n",
    "sns.barplot(data=orders_by_date, x='month', y='customer_id', color='grey')\n",
    "plt.title('Количество уникальных покупателей по месяцам')\n",
    "plt.show()"
   ]
  },
  {
   "cell_type": "code",
   "execution_count": 38,
   "id": "ec8ab2c9",
   "metadata": {
    "scrolled": true
   },
   "outputs": [
    {
     "data": {
      "image/png": "[encoded data removed]",
      "text/plain": [
       "<Figure size 864x360 with 1 Axes>"
      ]
     },
     "metadata": {
      "image/png": {
       "height": 331,
       "width": 729
      },
      "needs_background": "light"
     },
     "output_type": "display_data"
    }
   ],
   "source": [
    "plt.figure(figsize=(12,5))\n",
    "sns.barplot(data=orders_by_date, x='month', y='quantity', color='grey')\n",
    "plt.title('Количество проданных товаров по месяцам')\n",
    "plt.show()"
   ]
  },
  {
   "cell_type": "markdown",
   "id": "e6b53ff5",
   "metadata": {},
   "source": [
    "- Выручка снижается от месяца к месяцу.\n",
    "- Наибольшее количество покупателей в феврале, марте и апреле. \n",
    "- Наибольшее количество товаров было продано в июне, но после июня резко упало.\n",
    "- Общая выручка магазина падает в последние 4 месяца: хотя уникальных посетителей в среднем как обычно, они заказывают мало товаров.\n"
   ]
  },
  {
   "cell_type": "markdown",
   "id": "134e262b",
   "metadata": {},
   "source": [
    "### Что именно заказывают"
   ]
  },
  {
   "cell_type": "markdown",
   "id": "c9a7a453",
   "metadata": {},
   "source": [
    "#### В разрезе отдельных товаров"
   ]
  },
  {
   "cell_type": "code",
   "execution_count": 39,
   "id": "8d227cdd",
   "metadata": {
    "scrolled": true
   },
   "outputs": [
    {
     "data": {
      "text/html": [
       "<div>\n",
       "<style scoped>\n",
       "    .dataframe tbody tr th:only-of-type {\n",
       "        vertical-align: middle;\n",
       "    }\n",
       "\n",
       "    .dataframe tbody tr th {\n",
       "        vertical-align: top;\n",
       "    }\n",
       "\n",
       "    .dataframe thead th {\n",
       "        text-align: right;\n",
       "    }\n",
       "</style>\n",
       "<table border=\"1\" class=\"dataframe\">\n",
       "  <thead>\n",
       "    <tr style=\"text-align: right;\">\n",
       "      <th></th>\n",
       "      <th>quantity</th>\n",
       "      <th>revenue</th>\n",
       "    </tr>\n",
       "    <tr>\n",
       "      <th>product</th>\n",
       "      <th></th>\n",
       "      <th></th>\n",
       "    </tr>\n",
       "  </thead>\n",
       "  <tbody>\n",
       "    <tr>\n",
       "      <th>сумка-тележка 2-х колесная gimi argo красная</th>\n",
       "      <td>70</td>\n",
       "      <td>76090.0</td>\n",
       "    </tr>\n",
       "    <tr>\n",
       "      <th>сумка-тележка 2-х колесная gimi argo синяя</th>\n",
       "      <td>61</td>\n",
       "      <td>65281.0</td>\n",
       "    </tr>\n",
       "    <tr>\n",
       "      <th>простынь вафельная 200х180 см wellness rw180-01 100% хлопок</th>\n",
       "      <td>30</td>\n",
       "      <td>53232.0</td>\n",
       "    </tr>\n",
       "    <tr>\n",
       "      <th>сумка-тележка хозяйственная rolser bab010 rojo joy-1800 красная</th>\n",
       "      <td>12</td>\n",
       "      <td>49668.0</td>\n",
       "    </tr>\n",
       "    <tr>\n",
       "      <th>тележка багажная delta тбр-22 синий грузоподъемность 20 кг сумка и 50 кг каркас россия</th>\n",
       "      <td>59</td>\n",
       "      <td>33992.0</td>\n",
       "    </tr>\n",
       "    <tr>\n",
       "      <th>сумка-тележка хозяйственная andersen scala shopper plus, lini, синяя 133-108-90</th>\n",
       "      <td>6</td>\n",
       "      <td>33294.0</td>\n",
       "    </tr>\n",
       "    <tr>\n",
       "      <th>гладильная доска ника гранд 122х42 см нг</th>\n",
       "      <td>18</td>\n",
       "      <td>32382.0</td>\n",
       "    </tr>\n",
       "    <tr>\n",
       "      <th>набор ножей attribute chef 5 предметов akf522</th>\n",
       "      <td>64</td>\n",
       "      <td>29248.0</td>\n",
       "    </tr>\n",
       "    <tr>\n",
       "      <th>урна уличная \"гео\", hobbyka/хоббика, 59*37,5см, сталь</th>\n",
       "      <td>5</td>\n",
       "      <td>24370.0</td>\n",
       "    </tr>\n",
       "    <tr>\n",
       "      <th>стремянки colombo leonardo 2 ступени g300a02w серая 3646</th>\n",
       "      <td>8</td>\n",
       "      <td>23992.0</td>\n",
       "    </tr>\n",
       "  </tbody>\n",
       "</table>\n",
       "</div>"
      ],
      "text/plain": [
       "                                                    quantity  revenue\n",
       "product                                                              \n",
       "сумка-тележка 2-х колесная gimi argo красная              70  76090.0\n",
       "сумка-тележка 2-х колесная gimi argo синяя                61  65281.0\n",
       "простынь вафельная 200х180 см wellness rw180-01...        30  53232.0\n",
       "сумка-тележка хозяйственная rolser bab010 rojo ...        12  49668.0\n",
       "тележка багажная delta тбр-22 синий грузоподъем...        59  33992.0\n",
       "сумка-тележка хозяйственная andersen scala shop...         6  33294.0\n",
       "гладильная доска ника гранд 122х42 см нг                  18  32382.0\n",
       "набор ножей attribute chef 5 предметов akf522             64  29248.0\n",
       "урна уличная \"гео\", hobbyka/хоббика, 59*37,5см,...         5  24370.0\n",
       "стремянки colombo leonardo 2 ступени g300a02w с...         8  23992.0"
      ]
     },
     "execution_count": 39,
     "metadata": {},
     "output_type": "execute_result"
    }
   ],
   "source": [
    "#товары, которые приносят больше всего денег\n",
    "(\n",
    "    data\n",
    "    .groupby('product')\n",
    "    .agg({'quantity':np.sum, 'revenue':np.sum})\n",
    "    .sort_values(by='revenue', ascending=False)\n",
    "    .head(10)\n",
    ")"
   ]
  },
  {
   "cell_type": "markdown",
   "id": "b0ebfb9b",
   "metadata": {},
   "source": [
    "Больше всего денег приносят сумки-тележки."
   ]
  },
  {
   "cell_type": "markdown",
   "id": "143ca4f3",
   "metadata": {},
   "source": [
    "#### Кластеризация продуктов с помощью ML"
   ]
  },
  {
   "cell_type": "markdown",
   "id": "58a4c056",
   "metadata": {},
   "source": [
    "Попробуем кластеризовать продукты по категориям с помощью машинного обучения, чтобы понять, какие категории товаров приносят больше денег и чаще заказываются."
   ]
  },
  {
   "cell_type": "code",
   "execution_count": 40,
   "id": "749ea761",
   "metadata": {},
   "outputs": [
    {
     "name": "stderr",
     "output_type": "stream",
     "text": [
      "[nltk_data] Downloading package punkt to\n",
      "[nltk_data]     C:\\Users\\komar\\AppData\\Roaming\\nltk_data...\n",
      "[nltk_data]   Package punkt is already up-to-date!\n",
      "[nltk_data] Downloading package stopwords to\n",
      "[nltk_data]     C:\\Users\\komar\\AppData\\Roaming\\nltk_data...\n",
      "[nltk_data]   Package stopwords is already up-to-date!\n"
     ]
    }
   ],
   "source": [
    "# import required sklearn libs\n",
    "from sklearn.datasets import fetch_20newsgroups\n",
    "from sklearn.feature_extraction.text import TfidfVectorizer\n",
    "from sklearn.cluster import KMeans\n",
    "from sklearn.decomposition import PCA\n",
    "\n",
    "# string manipulation libs\n",
    "import re\n",
    "import string\n",
    "import nltk\n",
    "nltk.download('punkt')\n",
    "nltk.download('stopwords')\n",
    "from nltk.corpus import stopwords\n",
    "from pymorphy2 import MorphAnalyzer"
   ]
  },
  {
   "cell_type": "code",
   "execution_count": 41,
   "id": "56cc5c27",
   "metadata": {
    "scrolled": true
   },
   "outputs": [],
   "source": [
    "#лемматизируем названия, очищаем от знаков и стопслов\n",
    "\n",
    "stopwords_ru = stopwords.words(\"russian\")\n",
    "#исключаем цвета, т.к. они слишком сильно влияют на итоговый результат, алгоритм пытается группировать по ним\n",
    "stopwords_colors =['красный', 'оранжевый','жёлтый','зелёный','синий','сиреневый','розовый','белый','серый','чёрный', 'коричневый','салатовый','бирюзовый','фиолетовый','темнорозовый','коралловый','малиновый']\n",
    "morph = MorphAnalyzer()\n",
    "\n",
    "#убираем символы, лемматизируем\n",
    "def lemmatize(doc):\n",
    "    tokens = []\n",
    "    for token in doc.split():\n",
    "        if token not in stopwords_ru:\n",
    "            token = token.strip()\n",
    "            token = morph.normal_forms(token)[0]\n",
    "            if token not in stopwords_colors:\n",
    "                tokens.append(token)\n",
    "            \n",
    "    tokens = \" \".join(tokens) #список в строку\n",
    "    return tokens            \n",
    "\n",
    "#применяем лемматизацию к колонке товаров\n",
    "df = data['product_final'].to_frame() \n",
    "df['cleaned'] = df['product_final'].apply(lemmatize)"
   ]
  },
  {
   "cell_type": "code",
   "execution_count": 42,
   "id": "24c86dc3",
   "metadata": {},
   "outputs": [],
   "source": [
    "# initialize vectorizer\n",
    "vectorizer = TfidfVectorizer(sublinear_tf=True, min_df=5, max_df=0.95)\n",
    "# fit_transform applies TF-IDF to clean texts - we save the array of vectors in X\n",
    "X = vectorizer.fit_transform(df['cleaned'])\n",
    "\n",
    "# initialize kmeans with 3 centroids\n",
    "## количество кластеров выявлено опытным путем\n",
    "kmeans = KMeans(n_clusters=9, random_state=42)\n",
    "# fit the model\n",
    "kmeans.fit(X)\n",
    "# store cluster labels in a variable\n",
    "clusters = kmeans.labels_\n",
    "\n",
    "# initialize PCA with 2 components\n",
    "pca = PCA(n_components=2, random_state=42)\n",
    "# pass our X to the pca and store the reduced vectors into pca_vecs\n",
    "pca_vecs = pca.fit_transform(X.toarray())\n",
    "# save our two dimensions into x0 and x1\n",
    "x0 = pca_vecs[:, 0]\n",
    "x1 = pca_vecs[:, 1]\n",
    "\n",
    "df['cluster'] = clusters\n",
    "df['x0'] = x0\n",
    "df['x1'] = x1"
   ]
  },
  {
   "cell_type": "code",
   "execution_count": 43,
   "id": "b3303bf4",
   "metadata": {
    "scrolled": true
   },
   "outputs": [
    {
     "name": "stdout",
     "output_type": "stream",
     "text": [
      "\n",
      "Cluster 0\n",
      "потолочный,среднеспелый,диам,полиуретан,кассета,помидор,томат,сорт,зелень,кухня,муляж,рассада,сушилка,горшок,бельё\n",
      "\n",
      "Cluster 1\n",
      "фамоусый,алох,хит,микс,диам,крупный,мег,вербена,доубль,петуния,калибрахоа,бакоп,махровый,ампельный,объём\n",
      "\n",
      "Cluster 2\n",
      "коробка,король,корыто,косметь,костюм,кофе,кофр,корневой,раннеспелый,рассада,кассета,диск,сорт,нло,патиссон\n",
      "\n",
      "Cluster 3\n",
      "взрослый,микс,фуксия,рябой,ярко,лососёвый,простой,герань,цветущий,домашний,махровый,полумахровый,диам,пеларгония,зональный\n",
      "\n",
      "Cluster 4\n",
      "йет,йоы,ролсера,тбр,россия,каркас,делта,грузоподъёмность,багажный,хозяйственный,арго,колёсный,гий,сумка,тележка\n",
      "\n",
      "Cluster 5\n",
      "петуния,крупноцветковый,тагетис,сосновский,аэронавт,горный,белогор,золотинка,зебра,цвет,однолетний,сорт,рассада,кабачок,кассета\n",
      "\n",
      "Cluster 6\n",
      "ринго,тосцана,уейный,ингрид,ангелеыес,маргаретх,мары,николай,принс,пандора,ред,пеларгония,розебудный,черенок,укоренить\n",
      "\n",
      "Cluster 7\n",
      "пластмассовый,цоломбо,поролон,таз,аттрибут,дсп,еуроголд,стиральный,залгера,гранд,хлопок,чехол,ник,гладильный,доска\n",
      "\n",
      "Cluster 8\n",
      "комната,кофр,краснокачать,коробка,комнатный,нежинский,изящный,кассета,сорт,кристина,фараон,каролина,рассада,ячейка,огурец\n"
     ]
    }
   ],
   "source": [
    "#получаем топ слов по каждому кластеру\n",
    "\n",
    "def get_top_keywords(n_terms):\n",
    "    \"\"\"This function returns the keywords for each centroid of the KMeans\"\"\"\n",
    "    df = pd.DataFrame(X.todense()).groupby(clusters).mean() # groups the TF-IDF vector by cluster\n",
    "    terms = vectorizer.get_feature_names() # access tf-idf terms\n",
    "    for i,r in df.iterrows():\n",
    "        print('\\nCluster {}'.format(i))\n",
    "        print(','.join([terms[t] for t in np.argsort(r)[-n_terms:]])) # for each row of the dataframe, find the n terms that have the highest tf idf score\n",
    "            \n",
    "get_top_keywords(15)"
   ]
  },
  {
   "cell_type": "markdown",
   "id": "0f3ff50b",
   "metadata": {},
   "source": [
    "Вот тут сколько ни меняла количество кластеров, не получилось нормального разбиения, возможно это тот самый случай с GIGA - названия товаров на входе ужасные, как ни чисть.\n",
    "Дальше нужно было присводить кластером названия, нарисовать картинку, и по ним рассортировать. Увы :("
   ]
  },
  {
   "cell_type": "code",
   "execution_count": 44,
   "id": "26418c11",
   "metadata": {},
   "outputs": [],
   "source": [
    "#присваиваем метки кластерам\n",
    "#cluster_map = {0: \"Муляжи\", \n",
    "#               1: 'Сумки-тележки', \n",
    "#               2: 'Сушилки для белья', \n",
    "#               3: 'Корзины-коробки', \n",
    "#               4: 'Аксессуары', \n",
    "#               5: 'Рассада и горшки',\n",
    "#               6: 'Герань',\n",
    "#               7: 'Гладильная доска',\n",
    "#               8: 'Сумки-тележки'\n",
    "#        }\n",
    "#df['cluster'] = df['cluster'].map(cluster_map)"
   ]
  },
  {
   "cell_type": "code",
   "execution_count": 45,
   "id": "41ac80cf",
   "metadata": {},
   "outputs": [],
   "source": [
    "#визуализируем кластеры\n",
    "#plt.figure(figsize=(15, 6))\n",
    "\n",
    "#plt.title(\"TF-IDF + KMeans 20newsgroup clustering\")\n",
    "#plt.xlabel(\"X0\")\n",
    "#plt.ylabel(\"X1\")\n",
    "#sns.scatterplot(data=df, x='x0', y='x1', hue='cluster')\n",
    "#plt.show()"
   ]
  },
  {
   "cell_type": "markdown",
   "id": "f8e03f2f",
   "metadata": {},
   "source": [
    "#### Кластеризация вручную"
   ]
  },
  {
   "cell_type": "markdown",
   "id": "75d7be77",
   "metadata": {},
   "source": [
    "Почистим названия от лишних символов, приведем к одному регистру, извлечем первые 2 слова."
   ]
  },
  {
   "cell_type": "code",
   "execution_count": 46,
   "id": "2ee3d37f",
   "metadata": {
    "scrolled": true
   },
   "outputs": [],
   "source": [
    "#выбираем первые 2 слова\n",
    "data['category']= [re.findall(r'^\\w+\\s\\w+', x) for x in data['product_final']]\n",
    "#для двух слов \\s\\w+ (заметка для себя)\n",
    "#изменяем тип данных со списка на строку\n",
    "data['category'] = [\" \".join(x) for x in data['category']]\n",
    "#лемматизация\n",
    "data['category'] = [morph.normal_forms(x)[0] for x in data['category']]\n",
    "#изменяем тип данных со списка на строку\n",
    "data['category'] = [\" \".join(x.split()) for x in data['category']]"
   ]
  },
  {
   "cell_type": "code",
   "execution_count": 47,
   "id": "e7103adb",
   "metadata": {
    "scrolled": false
   },
   "outputs": [
    {
     "data": {
      "text/plain": [
       "рассада кабачка         462\n",
       "пеларгония зональный    422\n",
       "сумка тележка           337\n",
       "сушилка длить           305\n",
       "рассада зеленить        295\n",
       "                       ... \n",
       "чистящий крем             1\n",
       "скатерть беатриса         1\n",
       "ведро полимербыт          1\n",
       "эшшольция карминный       1\n",
       "стакан низкий             1\n",
       "Name: category, Length: 861, dtype: int64"
      ]
     },
     "execution_count": 47,
     "metadata": {},
     "output_type": "execute_result"
    }
   ],
   "source": [
    "data['category'].value_counts()"
   ]
  },
  {
   "cell_type": "markdown",
   "id": "fe018cdb",
   "metadata": {},
   "source": [
    "Уменьшили колчисетво элементов до 865. \n",
    "Создадим словарь, по которому присвоим товарам категории.\n",
    "В словаре - леммы длч количества повторов в списке выше 2+, остальная часть будет распределена в категорию 'другое'."
   ]
  },
  {
   "cell_type": "code",
   "execution_count": 48,
   "id": "b0d52a06",
   "metadata": {},
   "outputs": [],
   "source": [
    "cat_dict = {\n",
    "    'рассада':['рассада','томата','томат','помидор','петрушка','мята','тимьян','базилик','капуста','патиссон','арбуз','дыня',\n",
    "               'земляника','кабачок','клубника','огурец','сельдерей','баклажан','чабер','тыква','зверобой','салат','душица',\n",
    "              'укроп'], \n",
    "    \n",
    "    'сумки-тележки':'сумка тележка', \n",
    "    'сушилки':'сушилка', \n",
    "    'стремянки':['лестница','стремянка','стремянки'],\n",
    "    \n",
    "    'растения':['фуксия','азалия','хризантема','цинния','ясколка','эхеверия','нивянник','лаванда','диффенбахия',\n",
    "                'спатифиллум','фиалка','настурция','фаленопсис','дендробиум','декабрист','лавр','космея','аквилегия',\n",
    "                'кореопсис','пуансеттия','цикламен','камнеломка','календула','гвоздика', 'гортензия','антуриум','бегония',\n",
    "                'алиссум','колокольчик','барвинок','герань','калла','зев','примула','пеларгония','дерево','вербейник', \n",
    "                'бальзамин', 'бакопа','петуния','роза','тагетис','калибрахоа','растение','эвкалипт','циперус','флокс',\n",
    "                'лобелия','вербена','седум','мимоза','котовник','лен','мединилла','алоэ','лапчатка','папоротник',\n",
    "               'каланхое','табак','шеффлера','вигна','гипсофила','хлорофитум','целозия','эхинокактус','афеляндра',\n",
    "               'цинерария', 'бадан','осина', 'эхинацея','калатея', 'ранункулус','хоста','мускари','цветущее','вероника'],\n",
    "    \n",
    "    'гладильные доски и чехлы':['гладильная','чехол','подкладка','подрукавник','доска','рукав'],\n",
    "    \n",
    "    'текстиль':['штора','коврик','плед','скатерть','ковер','комплект','махровое','махровый','одеяло','наматрасник',\n",
    "                'наволочка','пододеяльник','подушка','покрывало','полотенце','полотенца','простынь','простыня',\n",
    "               'ковёр','ткань','подголовник'],\n",
    "    \n",
    "    'мебель и декор':['комод','полки','корзина','контейнер','коробка','кашпо','карниз','композиция','искусственный','искусственная',\n",
    "            'урна','ящик','стеллаж','короб','полка'],\n",
    "    \n",
    "    'аксессуары':['подставка','петля','крючок','муляж','ёрш','вантуз','подарочный','веник','стяжка','щетка','швабра','вешалка',\n",
    "                  'банка','банк','таз','тазы','плечики','ведро','перчатки','корыто','сиденье','штанга','кофр','салфетка',\n",
    "                  'окномойка','вешалки','этажерка','шнур','сварка','крепеж','лоток','дозатор','шило', 'пружина','прищепка',\n",
    "                 'завертка','шпагат','мешок','сетка','ерш','пробка','тряпкодержатель','просеиватель'],\n",
    "    \n",
    "    'посуда':['хлебница','салатник','тарелка','бокал','насадка','крышка','емкость','термос','стакан','термокружка',\n",
    "              'терка','вилка','мантоварка','ложка','кружка','рыбочистка','чайный','овсянница','блюдо','нож','сковорода',\n",
    "              'кувшин','фужер','кастрюля','блюдце','столов','скалка','овощеварка','ковш','тепмокружка','термостакан','шприц',\n",
    "             'кисточка','сахарница','тортница','форма','половник','бидон','миска'],\n",
    "    \n",
    "    'техника':['утюг','весы','чайник','сверло','термометр','измельчитель','миксер','пылесос','электроштопор','соль'],\n",
    "    'хозтовары':['средство','порошок','биопорошок','зубная','мыло','кондиционер','паста','антинакипин','бензин']\n",
    "}"
   ]
  },
  {
   "cell_type": "code",
   "execution_count": 49,
   "id": "6dab42aa",
   "metadata": {},
   "outputs": [],
   "source": [
    "def categorize(item):\n",
    "    for cat, syn in cat_dict.items():\n",
    "        for word in item.split():   #ищем значения словаря в каждом слове категории\n",
    "            if word in syn:\n",
    "                return cat\n",
    "    return 'другое'  #доп категория для некластеризованных элементов\n",
    "\n",
    "data['category2'] = data['category'].apply(categorize)"
   ]
  },
  {
   "cell_type": "code",
   "execution_count": 50,
   "id": "7257353f",
   "metadata": {
    "scrolled": true
   },
   "outputs": [
    {
     "data": {
      "text/plain": [
       "растения                    1976\n",
       "рассада                     1800\n",
       "аксессуары                   611\n",
       "сумки-тележки                455\n",
       "сушилки                      317\n",
       "текстиль                     306\n",
       "посуда                       292\n",
       "мебель и декор               286\n",
       "гладильные доски и чехлы     282\n",
       "другое                       232\n",
       "техника                       69\n",
       "стремянки                     67\n",
       "хозтовары                     29\n",
       "Name: category2, dtype: int64"
      ]
     },
     "execution_count": 50,
     "metadata": {},
     "output_type": "execute_result"
    }
   ],
   "source": [
    "(\n",
    "    data['category2']\n",
    "    .value_counts()\n",
    ")"
   ]
  },
  {
   "cell_type": "markdown",
   "id": "9b70015c",
   "metadata": {},
   "source": [
    "Получили список категорий, который можно анализировать."
   ]
  },
  {
   "cell_type": "markdown",
   "id": "288dfc88",
   "metadata": {},
   "source": [
    "#### Исследование кластеров"
   ]
  },
  {
   "cell_type": "code",
   "execution_count": 51,
   "id": "11f041f0",
   "metadata": {
    "scrolled": true
   },
   "outputs": [],
   "source": [
    "#сгруппируем по категориям \n",
    "categories = (\n",
    "    data.groupby('category2')\n",
    "    .agg({'customer_id': pd.Series.nunique, 'quantity':np.sum, 'price': np.sum})\n",
    "    .rename(columns={'customer_id':'customers','quantity' : 'items_sold', 'price':'revenue'})\n",
    ")\n",
    "categories['avg_item_price']=categories['revenue']/categories['items_sold']"
   ]
  },
  {
   "cell_type": "markdown",
   "id": "ed785253",
   "metadata": {},
   "source": [
    "Посмотрим на сводную таблицу"
   ]
  },
  {
   "cell_type": "code",
   "execution_count": 52,
   "id": "fe9b5bb0",
   "metadata": {},
   "outputs": [
    {
     "data": {
      "text/html": [
       "<div>\n",
       "<style scoped>\n",
       "    .dataframe tbody tr th:only-of-type {\n",
       "        vertical-align: middle;\n",
       "    }\n",
       "\n",
       "    .dataframe tbody tr th {\n",
       "        vertical-align: top;\n",
       "    }\n",
       "\n",
       "    .dataframe thead th {\n",
       "        text-align: right;\n",
       "    }\n",
       "</style>\n",
       "<table border=\"1\" class=\"dataframe\">\n",
       "  <thead>\n",
       "    <tr style=\"text-align: right;\">\n",
       "      <th></th>\n",
       "      <th>customers</th>\n",
       "      <th>items_sold</th>\n",
       "      <th>revenue</th>\n",
       "      <th>avg_item_price</th>\n",
       "    </tr>\n",
       "    <tr>\n",
       "      <th>category2</th>\n",
       "      <th></th>\n",
       "      <th></th>\n",
       "      <th></th>\n",
       "      <th></th>\n",
       "    </tr>\n",
       "  </thead>\n",
       "  <tbody>\n",
       "    <tr>\n",
       "      <th>аксессуары</th>\n",
       "      <td>350</td>\n",
       "      <td>3490</td>\n",
       "      <td>189782.0</td>\n",
       "      <td>54.378797</td>\n",
       "    </tr>\n",
       "    <tr>\n",
       "      <th>растения</th>\n",
       "      <td>509</td>\n",
       "      <td>2828</td>\n",
       "      <td>335438.0</td>\n",
       "      <td>118.613154</td>\n",
       "    </tr>\n",
       "    <tr>\n",
       "      <th>рассада</th>\n",
       "      <td>163</td>\n",
       "      <td>2281</td>\n",
       "      <td>190531.0</td>\n",
       "      <td>83.529592</td>\n",
       "    </tr>\n",
       "    <tr>\n",
       "      <th>посуда</th>\n",
       "      <td>198</td>\n",
       "      <td>1227</td>\n",
       "      <td>105214.0</td>\n",
       "      <td>85.748981</td>\n",
       "    </tr>\n",
       "    <tr>\n",
       "      <th>мебель и декор</th>\n",
       "      <td>196</td>\n",
       "      <td>1143</td>\n",
       "      <td>185831.0</td>\n",
       "      <td>162.581802</td>\n",
       "    </tr>\n",
       "    <tr>\n",
       "      <th>текстиль</th>\n",
       "      <td>227</td>\n",
       "      <td>677</td>\n",
       "      <td>298453.0</td>\n",
       "      <td>440.846381</td>\n",
       "    </tr>\n",
       "    <tr>\n",
       "      <th>сумки-тележки</th>\n",
       "      <td>303</td>\n",
       "      <td>516</td>\n",
       "      <td>842543.0</td>\n",
       "      <td>1632.835271</td>\n",
       "    </tr>\n",
       "    <tr>\n",
       "      <th>другое</th>\n",
       "      <td>185</td>\n",
       "      <td>462</td>\n",
       "      <td>85910.0</td>\n",
       "      <td>185.952381</td>\n",
       "    </tr>\n",
       "    <tr>\n",
       "      <th>гладильные доски и чехлы</th>\n",
       "      <td>203</td>\n",
       "      <td>359</td>\n",
       "      <td>331426.0</td>\n",
       "      <td>923.192201</td>\n",
       "    </tr>\n",
       "    <tr>\n",
       "      <th>сушилки</th>\n",
       "      <td>243</td>\n",
       "      <td>354</td>\n",
       "      <td>342003.0</td>\n",
       "      <td>966.110169</td>\n",
       "    </tr>\n",
       "    <tr>\n",
       "      <th>техника</th>\n",
       "      <td>37</td>\n",
       "      <td>97</td>\n",
       "      <td>38721.0</td>\n",
       "      <td>399.185567</td>\n",
       "    </tr>\n",
       "    <tr>\n",
       "      <th>стремянки</th>\n",
       "      <td>44</td>\n",
       "      <td>68</td>\n",
       "      <td>160173.0</td>\n",
       "      <td>2355.485294</td>\n",
       "    </tr>\n",
       "    <tr>\n",
       "      <th>хозтовары</th>\n",
       "      <td>23</td>\n",
       "      <td>57</td>\n",
       "      <td>5391.0</td>\n",
       "      <td>94.578947</td>\n",
       "    </tr>\n",
       "  </tbody>\n",
       "</table>\n",
       "</div>"
      ],
      "text/plain": [
       "                          customers  items_sold   revenue  avg_item_price\n",
       "category2                                                                \n",
       "аксессуары                      350        3490  189782.0       54.378797\n",
       "растения                        509        2828  335438.0      118.613154\n",
       "рассада                         163        2281  190531.0       83.529592\n",
       "посуда                          198        1227  105214.0       85.748981\n",
       "мебель и декор                  196        1143  185831.0      162.581802\n",
       "текстиль                        227         677  298453.0      440.846381\n",
       "сумки-тележки                   303         516  842543.0     1632.835271\n",
       "другое                          185         462   85910.0      185.952381\n",
       "гладильные доски и чехлы        203         359  331426.0      923.192201\n",
       "сушилки                         243         354  342003.0      966.110169\n",
       "техника                          37          97   38721.0      399.185567\n",
       "стремянки                        44          68  160173.0     2355.485294\n",
       "хозтовары                        23          57    5391.0       94.578947"
      ]
     },
     "execution_count": 52,
     "metadata": {},
     "output_type": "execute_result"
    }
   ],
   "source": [
    "categories.sort_values(by='items_sold', ascending=False)"
   ]
  },
  {
   "cell_type": "code",
   "execution_count": 53,
   "id": "3048fd85",
   "metadata": {
    "scrolled": true
   },
   "outputs": [
    {
     "data": {
      "image/png": "[encoded data removed]",
      "text/plain": [
       "<Figure size 1080x864 with 4 Axes>"
      ]
     },
     "metadata": {
      "image/png": {
       "height": 855,
       "width": 1069
      },
      "needs_background": "light"
     },
     "output_type": "display_data"
    }
   ],
   "source": [
    "i=1\n",
    "fig = plt.figure(figsize=(15,12))\n",
    "for column in categories.columns:\n",
    "\n",
    "    plt.subplot (2, 2, i)\n",
    "    plot_data=categories.sort_values(by=column,ascending=False)\n",
    "    sns.barplot(data=plot_data, y=column, x=plot_data.index, color='grey')\n",
    "    plt.title(column)\n",
    "    plt.xticks(rotation = 25)\n",
    "    i+=1\n",
    "    \n",
    "plt.tight_layout()                     \n",
    "plt.show()"
   ]
  },
  {
   "cell_type": "markdown",
   "id": "06a0adc3",
   "metadata": {},
   "source": [
    "Выводы по данным:\n",
    "- Больше всего уникальных покупателей - у растений\n",
    "- Больше всего было продано аксессуаров, а растения тут на втором месте. \n",
    "- Наибольший доход - с сумок-тележек\n",
    "- Самая дорогая средняя цена - у стремянок. \n"
   ]
  },
  {
   "cell_type": "markdown",
   "id": "15df7782",
   "metadata": {},
   "source": [
    "#### Средние чеки в категориях"
   ]
  },
  {
   "cell_type": "markdown",
   "id": "b94a4c90",
   "metadata": {},
   "source": [
    "Рассчитаем средний чек по заказам в каждой категории"
   ]
  },
  {
   "cell_type": "code",
   "execution_count": 54,
   "id": "912a52ff",
   "metadata": {
    "scrolled": true
   },
   "outputs": [],
   "source": [
    "#суммируем заказы в один чек\n",
    "avg_check = (\n",
    "    data.groupby(['order_id','category2'])\n",
    "    ['revenue'].sum()\n",
    "    .reset_index()\n",
    "    .rename(columns={'revenue':'order_check'}) \n",
    ")\n",
    "#находим среднее по заказам в категории\n",
    "avg_check_per_cat = avg_check.groupby('category2').mean().sort_values(by='order_check', ascending=False)"
   ]
  },
  {
   "cell_type": "code",
   "execution_count": 55,
   "id": "6608baff",
   "metadata": {},
   "outputs": [
    {
     "data": {
      "image/png": "[encoded data removed]",
      "text/plain": [
       "<Figure size 1080x360 with 1 Axes>"
      ]
     },
     "metadata": {
      "image/png": {
       "height": 376,
       "width": 897
      },
      "needs_background": "light"
     },
     "output_type": "display_data"
    }
   ],
   "source": [
    "fig = plt.figure(figsize=(15,5))\n",
    "sns.barplot(data=avg_check_per_cat,x=avg_check_per_cat.index, y=avg_check_per_cat['order_check'], color='grey')\n",
    "plt.xticks(rotation = 25)\n",
    "plt.show()"
   ]
  },
  {
   "cell_type": "markdown",
   "id": "6df6d1bd",
   "metadata": {},
   "source": [
    "Самый высокий средний чек - в категории стремянки и сумки-тележки. "
   ]
  },
  {
   "cell_type": "markdown",
   "id": "1f18c287",
   "metadata": {},
   "source": [
    "## Проверка гипотез"
   ]
  },
  {
   "cell_type": "markdown",
   "id": "5739dfc3",
   "metadata": {},
   "source": [
    "На категоризированных данных мы можем проверить следующие гипотезы:\n",
    "- выручка категорий \"сумки-тележки\" и \"сушилки\" отличаются\n",
    "- средний чек категорий \"стремянки\" и \"сумки-тележки\" отличаются"
   ]
  },
  {
   "cell_type": "markdown",
   "id": "70603ee7",
   "metadata": {},
   "source": [
    "### Выручка категорий \"сумки-тележки\" и \"сушилки\" отличаются"
   ]
  },
  {
   "cell_type": "markdown",
   "id": "95e62680",
   "metadata": {},
   "source": [
    "Проверим гипотезы:\n",
    "\n",
    "Н0: Выручка категорий \"сумки-тележки\" и \"сушилки\" одинаковое  \n",
    "Н1: Выручка категорий \"сумки-тележки\" и \"сушилки\" отличаются"
   ]
  },
  {
   "cell_type": "code",
   "execution_count": 56,
   "id": "27eb56e2",
   "metadata": {},
   "outputs": [],
   "source": [
    "sumki = data[data['category2'] == \"сумки-тележки\"]['revenue']\n",
    "sushilki = data[data['category2'] == \"сушилки\"]['revenue']"
   ]
  },
  {
   "cell_type": "code",
   "execution_count": 57,
   "id": "00b62cbf",
   "metadata": {},
   "outputs": [
    {
     "data": {
      "image/png": "[encoded data removed]",
      "text/plain": [
       "<Figure size 432x288 with 1 Axes>"
      ]
     },
     "metadata": {
      "image/png": {
       "height": 261,
       "width": 388
      },
      "needs_background": "light"
     },
     "output_type": "display_data"
    }
   ],
   "source": [
    "sns.histplot(sumki)\n",
    "plt.show()"
   ]
  },
  {
   "cell_type": "markdown",
   "id": "f2e51e84",
   "metadata": {},
   "source": [
    "Т.к. распределение у нас не нормальное, а данные количесвственные, для проверки гипотез будем использовать непараметрический критерий Манна-Уитни.  \n",
    "Статистическая значимость alpha = 5%."
   ]
  },
  {
   "cell_type": "code",
   "execution_count": 58,
   "id": "d287eee4",
   "metadata": {},
   "outputs": [
    {
     "name": "stdout",
     "output_type": "stream",
     "text": [
      "p-value = 7.07e-27\n"
     ]
    }
   ],
   "source": [
    "print('p-value =', \"{0:.3}\".format(stats.mannwhitneyu(sumki, sushilki)[1]))"
   ]
  },
  {
   "cell_type": "code",
   "execution_count": 59,
   "id": "09d5062d",
   "metadata": {},
   "outputs": [
    {
     "name": "stdout",
     "output_type": "stream",
     "text": [
      "Разница в значениях: 69.219690%\n"
     ]
    }
   ],
   "source": [
    "print('Разница в значениях:','{0:%}'.format(sumki.mean()/sushilki.mean()-1))"
   ]
  },
  {
   "cell_type": "markdown",
   "id": "359ca161",
   "metadata": {},
   "source": [
    "Мы получили статистически значимый результат (p-value значительно меньше 5%), что есть разница в выручке 69% между категориями \"сумки-тележки\" и \"сушилки\""
   ]
  },
  {
   "cell_type": "markdown",
   "id": "7426aa01",
   "metadata": {},
   "source": [
    "### Средний чек категорий \"стремянки\" и \"сумки-тележки\" отличаются"
   ]
  },
  {
   "cell_type": "markdown",
   "id": "b1fee9a2",
   "metadata": {},
   "source": [
    "Проверим гипотезы:\n",
    "\n",
    "Н0: Средний чек категорий \"стремянки\" и \"сумки-тележки\" одинаковый  \n",
    "Н1: Средний чек категорий \"стремянки\" и \"сумки-тележки\" отличаются"
   ]
  },
  {
   "cell_type": "code",
   "execution_count": 60,
   "id": "9536444c",
   "metadata": {},
   "outputs": [
    {
     "name": "stdout",
     "output_type": "stream",
     "text": [
      "p-value = 1.15e-06\n"
     ]
    }
   ],
   "source": [
    "print('p-value =', \"{0:.3}\"\n",
    "      .format(stats\n",
    "              .mannwhitneyu(avg_check[avg_check['category2'] == \"стремянки\"]['order_check'],\n",
    "                            avg_check[avg_check['category2'] == \"сумки-тележки\"]['order_check'])\n",
    "              [1]))"
   ]
  },
  {
   "cell_type": "code",
   "execution_count": 61,
   "id": "15e14908",
   "metadata": {},
   "outputs": [
    {
     "name": "stdout",
     "output_type": "stream",
     "text": [
      "Разница в значениях: 24.164082%\n"
     ]
    }
   ],
   "source": [
    "print('Разница в значениях:','{0:%}'\n",
    "      .format(avg_check[avg_check['category2'] == \"стремянки\"]['order_check'].mean()/avg_check[avg_check['category2'] == \"сумки-тележки\"]['order_check'].mean()-1))"
   ]
  },
  {
   "cell_type": "markdown",
   "id": "9325297d",
   "metadata": {},
   "source": [
    "Получили статзначимый результат, что средний чек в категории стремянки на 24% выше категории сумки-тележки."
   ]
  },
  {
   "cell_type": "markdown",
   "id": "59699272",
   "metadata": {},
   "source": [
    "## Выводы"
   ]
  },
  {
   "cell_type": "markdown",
   "id": "ac6c6f4b",
   "metadata": {},
   "source": [
    "<div class=\"alert alert-info\"> <b></b>\n",
    "    \n",
    "- [Ссылка на презентацию](https://drive.google.com/file/d/117QPu3MexTQ7BnkXi3sJ5M8an5JzkuaI/view?usp=sharing)\n",
    "- [Ссылка на дашборд Tableau](https://public.tableau.com/views/ecommerce_final/Dashboard1?:language=en-US&:display_count=n&:origin=viz_share_link)\n",
    "    </div>\n",
    "\n",
    "**В ходе исследования мы**\n",
    "- подготовили данные к анализу\n",
    "- провели EDA\n",
    "- сегментировали покупателей по количеству заказов, датам и товарам\n",
    "\n",
    "\n",
    "**Выводы**\n",
    "\n",
    "1. Что делает типичный пользователь?\n",
    "    - редко заказывает повторно, \n",
    "    - больше 80% совершает в магазине только 1 заказ,\n",
    "    - чаще всего в заказе 1 товар,\n",
    "    - средний чек заказа 1190 руб, медианный - 715 рублей.\n",
    "\n",
    "\n",
    "2. Что покупают пользователи:\n",
    "\n",
    "    - Больше всего уникальных покупателей - у растений.\n",
    "    - Больше всего было продано аксессуаров.\n",
    "    - Наибольший доход - с сумок-тележек (выше ближайшего конкурента сушилок на 69%) .\n",
    "    - Самая высокая средняя цена - у стремянок.\n",
    "    \n",
    "3. Что происходит с метриками во времени:\n",
    "    - Выручка магазина снижается от месяца к месяцу.\n",
    "    - Наибольшее количество покупателей в феврале, марте и апреле. \n",
    "    - Наибольшее количество товаров было продано в июне, но после июня резко упало.\n",
    "    - Общая выручка магазина падает в последние 4 месяца: хотя уникальных посетителей в среднем как обычно, они заказывают мало товаров.\n",
    "\n",
    "\n",
    "4. Проверили гипотезы:\n",
    "    - есть разница в выручке 69% между категориями \"сумки-тележки\" и \"сушилки\",\n",
    "    - средний чек в категории стремянки на 24% достоверно выше категории сумки-тележки\n",
    "\n",
    "\n",
    "5. При анализе были отброшены несколько оптовых заказов, т.к. основная масса - частные заказы, однако интересно, что они есть.\n",
    "\n",
    "**Рекомендации** \n",
    "1. Работать над LTV пользователей, а также увеличением количества товаров в заказе и среднего чека.\n",
    "2. Проработать проблему падения количества заказанных - собрать дополнительные данные о причинах.\n",
    "3. Сделать акценты в продвижении номенклатуры в зависимости от стратегии развития:\n",
    "    - растений  и аксессуаров (они очень популярны у пользователей магазина),\n",
    "    - сумок-тележек и стремянок (с них магазин получает больше всего выручки). \n",
    "4. Магазину можно рассмотреть возможность оптовой продажи товаров."
   ]
  }
 ],
 "metadata": {
  "ExecuteTimeLog": [
   {
    "duration": 47,
    "start_time": "2022-07-25T08:22:38.049Z"
   },
   {
    "duration": 1368,
    "start_time": "2022-07-25T08:22:45.317Z"
   },
   {
    "duration": 107,
    "start_time": "2022-07-25T08:22:46.686Z"
   },
   {
    "duration": 13,
    "start_time": "2022-07-25T08:22:58.134Z"
   },
   {
    "duration": 38,
    "start_time": "2022-07-25T08:26:16.560Z"
   },
   {
    "duration": 13,
    "start_time": "2022-07-25T08:26:19.851Z"
   },
   {
    "duration": 39,
    "start_time": "2022-07-25T08:27:39.702Z"
   },
   {
    "duration": 57,
    "start_time": "2022-07-25T08:28:12.833Z"
   },
   {
    "duration": 137,
    "start_time": "2022-07-25T08:28:33.673Z"
   },
   {
    "duration": 35,
    "start_time": "2022-07-25T08:28:52.167Z"
   },
   {
    "duration": 94,
    "start_time": "2022-07-25T08:29:02.693Z"
   },
   {
    "duration": 16,
    "start_time": "2022-07-25T08:31:10.032Z"
   },
   {
    "duration": 180,
    "start_time": "2022-07-25T08:33:54.631Z"
   },
   {
    "duration": 13,
    "start_time": "2022-07-25T08:34:10.942Z"
   },
   {
    "duration": 10,
    "start_time": "2022-07-25T08:34:14.436Z"
   },
   {
    "duration": 7,
    "start_time": "2022-07-25T08:34:37.759Z"
   },
   {
    "duration": 10,
    "start_time": "2022-07-25T08:36:07.593Z"
   },
   {
    "duration": 62,
    "start_time": "2022-07-25T08:38:34.361Z"
   },
   {
    "duration": 10,
    "start_time": "2022-07-25T08:38:56.966Z"
   },
   {
    "duration": 2726,
    "start_time": "2022-07-25T08:39:23.406Z"
   },
   {
    "duration": 2342,
    "start_time": "2022-07-25T08:39:29.480Z"
   },
   {
    "duration": 207,
    "start_time": "2022-07-25T08:39:33.332Z"
   },
   {
    "duration": 198,
    "start_time": "2022-07-25T08:40:17.971Z"
   },
   {
    "duration": 232,
    "start_time": "2022-07-25T08:40:31.416Z"
   },
   {
    "duration": 190,
    "start_time": "2022-07-25T08:40:39.045Z"
   },
   {
    "duration": 52,
    "start_time": "2022-07-25T08:41:09.492Z"
   },
   {
    "duration": 7,
    "start_time": "2022-07-25T08:41:16.376Z"
   },
   {
    "duration": 6,
    "start_time": "2022-07-25T08:43:38.964Z"
   },
   {
    "duration": 14,
    "start_time": "2022-07-25T08:44:43.105Z"
   },
   {
    "duration": 191,
    "start_time": "2022-07-25T08:44:49.182Z"
   },
   {
    "duration": 22,
    "start_time": "2022-07-25T08:47:38.901Z"
   },
   {
    "duration": 12,
    "start_time": "2022-07-25T08:48:01.633Z"
   },
   {
    "duration": 1105,
    "start_time": "2022-07-25T08:48:07.163Z"
   },
   {
    "duration": 17,
    "start_time": "2022-07-25T08:48:39.505Z"
   },
   {
    "duration": 1097,
    "start_time": "2022-07-25T08:48:53.181Z"
   },
   {
    "duration": 32,
    "start_time": "2022-07-25T08:49:10.781Z"
   },
   {
    "duration": 39,
    "start_time": "2022-07-25T08:49:20.239Z"
   },
   {
    "duration": 34,
    "start_time": "2022-07-25T08:52:04.045Z"
   },
   {
    "duration": 49,
    "start_time": "2022-07-25T08:57:43.354Z"
   },
   {
    "duration": 210,
    "start_time": "2022-07-25T08:57:47.221Z"
   },
   {
    "duration": 219,
    "start_time": "2022-07-25T08:58:17.110Z"
   },
   {
    "duration": 258,
    "start_time": "2022-07-25T08:59:59.084Z"
   },
   {
    "duration": 6,
    "start_time": "2022-07-25T09:00:14.056Z"
   },
   {
    "duration": 4,
    "start_time": "2022-07-25T09:01:56.640Z"
   },
   {
    "duration": 15,
    "start_time": "2022-07-25T09:02:08.487Z"
   },
   {
    "duration": 4,
    "start_time": "2022-07-25T09:02:39.947Z"
   },
   {
    "duration": 19,
    "start_time": "2022-07-25T09:03:07.971Z"
   },
   {
    "duration": 4,
    "start_time": "2022-07-25T09:05:36.156Z"
   },
   {
    "duration": 4,
    "start_time": "2022-07-25T09:05:57.970Z"
   },
   {
    "duration": 4,
    "start_time": "2022-07-25T09:07:12.139Z"
   },
   {
    "duration": 4,
    "start_time": "2022-07-25T09:07:31.882Z"
   },
   {
    "duration": 4,
    "start_time": "2022-07-25T09:07:36.009Z"
   },
   {
    "duration": 18,
    "start_time": "2022-07-25T09:08:29.249Z"
   },
   {
    "duration": 351,
    "start_time": "2022-07-25T09:10:01.881Z"
   },
   {
    "duration": 12,
    "start_time": "2022-07-25T09:10:17.918Z"
   },
   {
    "duration": 4,
    "start_time": "2022-07-25T09:10:59.892Z"
   },
   {
    "duration": 5,
    "start_time": "2022-07-25T09:11:26.952Z"
   },
   {
    "duration": 5,
    "start_time": "2022-07-25T09:11:38.975Z"
   },
   {
    "duration": 40,
    "start_time": "2022-07-25T09:11:52.739Z"
   },
   {
    "duration": 32,
    "start_time": "2022-07-25T09:12:35.312Z"
   },
   {
    "duration": 40,
    "start_time": "2022-07-25T09:12:43.711Z"
   },
   {
    "duration": 38,
    "start_time": "2022-07-25T09:12:54.785Z"
   },
   {
    "duration": 36,
    "start_time": "2022-07-25T09:13:33.993Z"
   },
   {
    "duration": 34,
    "start_time": "2022-07-25T09:13:38.447Z"
   },
   {
    "duration": 34,
    "start_time": "2022-07-25T09:13:48.122Z"
   },
   {
    "duration": 34,
    "start_time": "2022-07-25T09:13:54.014Z"
   },
   {
    "duration": 35,
    "start_time": "2022-07-25T09:14:21.226Z"
   },
   {
    "duration": 37,
    "start_time": "2022-07-25T09:14:39.946Z"
   },
   {
    "duration": 49,
    "start_time": "2022-07-25T09:15:06.283Z"
   },
   {
    "duration": 1733,
    "start_time": "2022-07-25T09:16:25.793Z"
   },
   {
    "duration": 6915,
    "start_time": "2022-07-25T09:16:37.706Z"
   },
   {
    "duration": 4829,
    "start_time": "2022-07-25T09:16:47.852Z"
   },
   {
    "duration": 64,
    "start_time": "2022-07-25T09:16:58.212Z"
   },
   {
    "duration": 4822,
    "start_time": "2022-07-25T09:18:13.686Z"
   },
   {
    "duration": 4784,
    "start_time": "2022-07-25T09:18:47.340Z"
   },
   {
    "duration": 4542,
    "start_time": "2022-07-25T09:19:00.545Z"
   },
   {
    "duration": 75,
    "start_time": "2022-07-25T09:19:06.933Z"
   },
   {
    "duration": 1489,
    "start_time": "2022-07-25T09:20:09.557Z"
   },
   {
    "duration": 128,
    "start_time": "2022-07-25T09:20:19.320Z"
   },
   {
    "duration": 4,
    "start_time": "2022-07-25T09:20:21.694Z"
   },
   {
    "duration": 13,
    "start_time": "2022-07-25T09:20:34.637Z"
   },
   {
    "duration": 14,
    "start_time": "2022-07-25T09:21:53.363Z"
   },
   {
    "duration": 5,
    "start_time": "2022-07-25T09:22:05.681Z"
   },
   {
    "duration": 8,
    "start_time": "2022-07-25T09:22:27.523Z"
   },
   {
    "duration": 7,
    "start_time": "2022-07-25T09:22:59.556Z"
   },
   {
    "duration": 249,
    "start_time": "2022-07-25T09:35:37.487Z"
   },
   {
    "duration": 3,
    "start_time": "2022-07-25T09:35:42.916Z"
   },
   {
    "duration": 10,
    "start_time": "2022-07-25T09:35:43.642Z"
   },
   {
    "duration": 7,
    "start_time": "2022-07-25T09:36:00.215Z"
   },
   {
    "duration": 7,
    "start_time": "2022-07-25T09:39:00.939Z"
   },
   {
    "duration": 7,
    "start_time": "2022-07-25T09:39:01.643Z"
   },
   {
    "duration": 3,
    "start_time": "2022-07-25T09:40:53.479Z"
   },
   {
    "duration": 4,
    "start_time": "2022-07-25T09:41:13.934Z"
   },
   {
    "duration": 3,
    "start_time": "2022-07-25T09:41:31.448Z"
   },
   {
    "duration": 4,
    "start_time": "2022-07-25T09:41:32.429Z"
   },
   {
    "duration": 3,
    "start_time": "2022-07-25T09:41:38.678Z"
   },
   {
    "duration": 4,
    "start_time": "2022-07-25T09:41:53.097Z"
   },
   {
    "duration": 4,
    "start_time": "2022-07-25T09:42:21.770Z"
   },
   {
    "duration": 4,
    "start_time": "2022-07-25T09:42:29.986Z"
   },
   {
    "duration": 4,
    "start_time": "2022-07-25T09:42:38.140Z"
   },
   {
    "duration": 4,
    "start_time": "2022-07-25T09:42:42.240Z"
   },
   {
    "duration": 4,
    "start_time": "2022-07-25T09:44:47.402Z"
   },
   {
    "duration": 63,
    "start_time": "2022-07-25T09:44:52.077Z"
   },
   {
    "duration": 4,
    "start_time": "2022-07-25T09:44:57.964Z"
   },
   {
    "duration": 202,
    "start_time": "2022-07-25T09:45:05.080Z"
   },
   {
    "duration": 18,
    "start_time": "2022-07-25T09:45:37.398Z"
   },
   {
    "duration": 8,
    "start_time": "2022-07-25T09:45:40.867Z"
   },
   {
    "duration": 11,
    "start_time": "2022-07-25T09:46:05.333Z"
   },
   {
    "duration": 4,
    "start_time": "2022-07-25T09:46:09.716Z"
   },
   {
    "duration": 15,
    "start_time": "2022-07-25T09:46:19.006Z"
   },
   {
    "duration": 15,
    "start_time": "2022-07-25T09:46:27.885Z"
   },
   {
    "duration": 4,
    "start_time": "2022-07-25T09:47:28.762Z"
   },
   {
    "duration": 14,
    "start_time": "2022-07-25T09:47:46.936Z"
   },
   {
    "duration": 6,
    "start_time": "2022-07-25T09:47:52.627Z"
   },
   {
    "duration": 3,
    "start_time": "2022-07-25T10:14:57.878Z"
   },
   {
    "duration": 4,
    "start_time": "2022-07-25T10:15:02.293Z"
   },
   {
    "duration": 4,
    "start_time": "2022-07-25T10:15:17.887Z"
   },
   {
    "duration": 3,
    "start_time": "2022-07-25T10:16:14.834Z"
   },
   {
    "duration": 2,
    "start_time": "2022-07-25T10:16:22.038Z"
   },
   {
    "duration": 5,
    "start_time": "2022-07-25T10:17:10.147Z"
   },
   {
    "duration": 4,
    "start_time": "2022-07-25T10:17:23.672Z"
   },
   {
    "duration": 49,
    "start_time": "2022-07-25T10:17:42.288Z"
   },
   {
    "duration": 6,
    "start_time": "2022-07-25T10:17:49.908Z"
   },
   {
    "duration": 3,
    "start_time": "2022-07-25T10:18:58.736Z"
   },
   {
    "duration": 4,
    "start_time": "2022-07-25T10:19:00.007Z"
   },
   {
    "duration": 5,
    "start_time": "2022-07-25T10:19:08.199Z"
   },
   {
    "duration": 6,
    "start_time": "2022-07-25T10:19:54.704Z"
   },
   {
    "duration": 22,
    "start_time": "2022-07-25T10:20:02.608Z"
   },
   {
    "duration": 7,
    "start_time": "2022-07-25T10:20:07.973Z"
   },
   {
    "duration": 3,
    "start_time": "2022-07-25T10:25:07.186Z"
   },
   {
    "duration": 17,
    "start_time": "2022-07-25T10:25:07.625Z"
   },
   {
    "duration": 7,
    "start_time": "2022-07-25T10:25:08.193Z"
   },
   {
    "duration": 107,
    "start_time": "2022-07-25T10:28:17.763Z"
   },
   {
    "duration": 26,
    "start_time": "2022-07-25T10:28:18.089Z"
   },
   {
    "duration": 8,
    "start_time": "2022-07-25T10:28:18.887Z"
   },
   {
    "duration": 4,
    "start_time": "2022-07-25T10:28:31.276Z"
   },
   {
    "duration": 19,
    "start_time": "2022-07-25T10:28:32.244Z"
   },
   {
    "duration": 10,
    "start_time": "2022-07-25T10:28:33.094Z"
   },
   {
    "duration": 5,
    "start_time": "2022-07-25T10:31:49.554Z"
   },
   {
    "duration": 19,
    "start_time": "2022-07-25T10:31:52.017Z"
   },
   {
    "duration": 9,
    "start_time": "2022-07-25T10:31:52.333Z"
   },
   {
    "duration": 7,
    "start_time": "2022-07-25T10:32:07.717Z"
   },
   {
    "duration": 58,
    "start_time": "2022-07-25T10:33:09.228Z"
   },
   {
    "duration": 8,
    "start_time": "2022-07-25T10:33:12.988Z"
   },
   {
    "duration": 4,
    "start_time": "2022-07-25T10:33:43.850Z"
   },
   {
    "duration": 19,
    "start_time": "2022-07-25T10:33:44.284Z"
   },
   {
    "duration": 8,
    "start_time": "2022-07-25T10:33:44.709Z"
   },
   {
    "duration": 6,
    "start_time": "2022-07-25T11:06:10.311Z"
   },
   {
    "duration": 20,
    "start_time": "2022-07-25T11:06:10.742Z"
   },
   {
    "duration": 7,
    "start_time": "2022-07-25T11:06:11.114Z"
   },
   {
    "duration": 5,
    "start_time": "2022-07-25T11:07:09.148Z"
   },
   {
    "duration": 20,
    "start_time": "2022-07-25T11:07:09.354Z"
   },
   {
    "duration": 8,
    "start_time": "2022-07-25T11:07:09.517Z"
   },
   {
    "duration": 22,
    "start_time": "2022-07-25T11:10:30.012Z"
   },
   {
    "duration": 7,
    "start_time": "2022-07-25T11:10:33.667Z"
   },
   {
    "duration": 38,
    "start_time": "2022-07-25T11:10:42.288Z"
   },
   {
    "duration": 32,
    "start_time": "2022-07-25T11:10:49.211Z"
   },
   {
    "duration": 9,
    "start_time": "2022-07-25T11:10:49.572Z"
   },
   {
    "duration": 11,
    "start_time": "2022-07-25T11:12:52.264Z"
   },
   {
    "duration": 13,
    "start_time": "2022-07-25T11:13:01.665Z"
   },
   {
    "duration": 7,
    "start_time": "2022-07-25T11:13:10.509Z"
   },
   {
    "duration": 9,
    "start_time": "2022-07-25T11:13:21.559Z"
   },
   {
    "duration": 12,
    "start_time": "2022-07-25T11:13:33.142Z"
   },
   {
    "duration": 13,
    "start_time": "2022-07-25T11:13:40.047Z"
   },
   {
    "duration": 8,
    "start_time": "2022-07-25T11:13:44.156Z"
   },
   {
    "duration": 15,
    "start_time": "2022-07-25T11:14:12.956Z"
   },
   {
    "duration": 14,
    "start_time": "2022-07-25T11:14:20.975Z"
   },
   {
    "duration": 13,
    "start_time": "2022-07-25T11:14:25.888Z"
   },
   {
    "duration": 5,
    "start_time": "2022-07-25T11:14:41.164Z"
   },
   {
    "duration": 19,
    "start_time": "2022-07-25T11:14:41.530Z"
   },
   {
    "duration": 14,
    "start_time": "2022-07-25T11:14:41.970Z"
   },
   {
    "duration": 4,
    "start_time": "2022-07-25T11:15:37.319Z"
   },
   {
    "duration": 7,
    "start_time": "2022-07-25T11:15:43.973Z"
   },
   {
    "duration": 6,
    "start_time": "2022-07-25T11:17:51.645Z"
   },
   {
    "duration": 21,
    "start_time": "2022-07-25T11:17:51.945Z"
   },
   {
    "duration": 7,
    "start_time": "2022-07-25T11:17:52.383Z"
   },
   {
    "duration": 8,
    "start_time": "2022-07-25T11:18:46.763Z"
   },
   {
    "duration": 28,
    "start_time": "2022-07-25T11:18:46.979Z"
   },
   {
    "duration": 7,
    "start_time": "2022-07-25T11:18:47.282Z"
   },
   {
    "duration": 7,
    "start_time": "2022-07-25T11:19:21.562Z"
   },
   {
    "duration": 20,
    "start_time": "2022-07-25T11:19:21.751Z"
   },
   {
    "duration": 7,
    "start_time": "2022-07-25T11:19:21.974Z"
   },
   {
    "duration": 6,
    "start_time": "2022-07-25T11:20:43.544Z"
   },
   {
    "duration": 20,
    "start_time": "2022-07-25T11:20:43.746Z"
   },
   {
    "duration": 6,
    "start_time": "2022-07-25T11:20:43.972Z"
   },
   {
    "duration": 5,
    "start_time": "2022-07-25T11:21:02.881Z"
   },
   {
    "duration": 31,
    "start_time": "2022-07-25T11:21:03.175Z"
   },
   {
    "duration": 8,
    "start_time": "2022-07-25T11:21:03.478Z"
   },
   {
    "duration": 5,
    "start_time": "2022-07-25T11:21:21.645Z"
   },
   {
    "duration": 21,
    "start_time": "2022-07-25T11:21:21.851Z"
   },
   {
    "duration": 7,
    "start_time": "2022-07-25T11:21:22.086Z"
   },
   {
    "duration": 16,
    "start_time": "2022-07-25T11:22:15.390Z"
   },
   {
    "duration": 12,
    "start_time": "2022-07-25T11:22:37.854Z"
   },
   {
    "duration": 14,
    "start_time": "2022-07-25T11:23:48.555Z"
   },
   {
    "duration": 12,
    "start_time": "2022-07-25T11:24:53.246Z"
   },
   {
    "duration": 14,
    "start_time": "2022-07-25T11:26:11.161Z"
   },
   {
    "duration": 6,
    "start_time": "2022-07-25T11:27:23.611Z"
   },
   {
    "duration": 9,
    "start_time": "2022-07-25T11:27:50.103Z"
   },
   {
    "duration": 12,
    "start_time": "2022-07-25T11:27:52.441Z"
   },
   {
    "duration": 61,
    "start_time": "2022-07-25T11:30:24.988Z"
   },
   {
    "duration": 20,
    "start_time": "2022-07-25T11:30:25.310Z"
   },
   {
    "duration": 6,
    "start_time": "2022-07-25T11:30:33.191Z"
   },
   {
    "duration": 22,
    "start_time": "2022-07-25T11:30:33.900Z"
   },
   {
    "duration": 18,
    "start_time": "2022-07-25T11:30:34.589Z"
   },
   {
    "duration": 8,
    "start_time": "2022-07-25T11:30:47.955Z"
   },
   {
    "duration": 23,
    "start_time": "2022-07-25T11:30:48.258Z"
   },
   {
    "duration": 18,
    "start_time": "2022-07-25T11:30:48.695Z"
   },
   {
    "duration": 5,
    "start_time": "2022-07-25T11:31:07.839Z"
   },
   {
    "duration": 22,
    "start_time": "2022-07-25T11:31:08.129Z"
   },
   {
    "duration": 12,
    "start_time": "2022-07-25T11:31:08.546Z"
   },
   {
    "duration": 6,
    "start_time": "2022-07-25T11:31:25.151Z"
   },
   {
    "duration": 23,
    "start_time": "2022-07-25T11:31:25.457Z"
   },
   {
    "duration": 20,
    "start_time": "2022-07-25T11:31:25.943Z"
   },
   {
    "duration": 7,
    "start_time": "2022-07-25T11:31:33.647Z"
   },
   {
    "duration": 22,
    "start_time": "2022-07-25T11:32:14.865Z"
   },
   {
    "duration": 6,
    "start_time": "2022-07-25T11:32:15.292Z"
   },
   {
    "duration": 6,
    "start_time": "2022-07-25T11:33:00.372Z"
   },
   {
    "duration": 22,
    "start_time": "2022-07-25T11:33:00.795Z"
   },
   {
    "duration": 6,
    "start_time": "2022-07-25T11:33:01.509Z"
   },
   {
    "duration": 21,
    "start_time": "2022-07-25T11:33:30.244Z"
   },
   {
    "duration": 8,
    "start_time": "2022-07-25T11:33:32.864Z"
   },
   {
    "duration": 11,
    "start_time": "2022-07-25T11:33:57.916Z"
   },
   {
    "duration": 12,
    "start_time": "2022-07-25T11:35:19.504Z"
   },
   {
    "duration": 9,
    "start_time": "2022-07-25T11:36:03.880Z"
   },
   {
    "duration": 20,
    "start_time": "2022-07-25T11:36:04.271Z"
   },
   {
    "duration": 12,
    "start_time": "2022-07-25T11:36:04.729Z"
   },
   {
    "duration": 6,
    "start_time": "2022-07-25T11:37:01.098Z"
   },
   {
    "duration": 35,
    "start_time": "2022-07-25T11:37:01.457Z"
   },
   {
    "duration": 12,
    "start_time": "2022-07-25T11:37:01.888Z"
   },
   {
    "duration": 13,
    "start_time": "2022-07-25T11:37:19.143Z"
   },
   {
    "duration": 12,
    "start_time": "2022-07-25T11:38:11.839Z"
   },
   {
    "duration": 11,
    "start_time": "2022-07-25T11:39:58.468Z"
   },
   {
    "duration": 7,
    "start_time": "2022-07-25T11:40:29.705Z"
   },
   {
    "duration": 24,
    "start_time": "2022-07-25T11:40:30.307Z"
   },
   {
    "duration": 11,
    "start_time": "2022-07-25T11:40:31.230Z"
   },
   {
    "duration": 12,
    "start_time": "2022-07-25T11:41:19.340Z"
   },
   {
    "duration": 10,
    "start_time": "2022-07-25T11:42:05.129Z"
   },
   {
    "duration": 7,
    "start_time": "2022-07-25T11:42:08.370Z"
   },
   {
    "duration": 25,
    "start_time": "2022-07-25T11:42:08.722Z"
   },
   {
    "duration": 10,
    "start_time": "2022-07-25T11:42:09.137Z"
   },
   {
    "duration": 87,
    "start_time": "2022-07-25T11:42:18.090Z"
   },
   {
    "duration": 9,
    "start_time": "2022-07-25T11:42:21.618Z"
   },
   {
    "duration": 6,
    "start_time": "2022-07-25T11:42:31.518Z"
   },
   {
    "duration": 7,
    "start_time": "2022-07-25T11:43:54.791Z"
   },
   {
    "duration": 38,
    "start_time": "2022-07-25T11:43:55.056Z"
   },
   {
    "duration": 9,
    "start_time": "2022-07-25T11:43:55.631Z"
   },
   {
    "duration": 8,
    "start_time": "2022-07-25T11:44:29.206Z"
   },
   {
    "duration": 24,
    "start_time": "2022-07-25T11:44:29.459Z"
   },
   {
    "duration": 10,
    "start_time": "2022-07-25T11:44:29.717Z"
   },
   {
    "duration": 7,
    "start_time": "2022-07-25T11:45:06.774Z"
   },
   {
    "duration": 22,
    "start_time": "2022-07-25T11:45:07.043Z"
   },
   {
    "duration": 8,
    "start_time": "2022-07-25T11:45:07.708Z"
   },
   {
    "duration": 15,
    "start_time": "2022-07-25T11:45:15.382Z"
   },
   {
    "duration": 31,
    "start_time": "2022-07-25T11:45:33.070Z"
   },
   {
    "duration": 9,
    "start_time": "2022-07-25T11:45:33.376Z"
   },
   {
    "duration": 18,
    "start_time": "2022-07-25T11:46:18.748Z"
   },
   {
    "duration": 5,
    "start_time": "2022-07-25T11:46:19.149Z"
   },
   {
    "duration": 8,
    "start_time": "2022-07-25T11:46:22.352Z"
   },
   {
    "duration": 12,
    "start_time": "2022-07-25T11:46:29.781Z"
   },
   {
    "duration": 7,
    "start_time": "2022-07-25T11:47:11.408Z"
   },
   {
    "duration": 22,
    "start_time": "2022-07-25T11:47:11.894Z"
   },
   {
    "duration": 6,
    "start_time": "2022-07-25T11:47:12.358Z"
   },
   {
    "duration": 22,
    "start_time": "2022-07-25T11:48:18.636Z"
   },
   {
    "duration": 7,
    "start_time": "2022-07-25T11:48:20.337Z"
   },
   {
    "duration": 7,
    "start_time": "2022-07-25T11:48:26.738Z"
   },
   {
    "duration": 8,
    "start_time": "2022-07-25T11:48:30.113Z"
   },
   {
    "duration": 7,
    "start_time": "2022-07-25T11:55:09.212Z"
   },
   {
    "duration": 28,
    "start_time": "2022-07-25T11:55:09.413Z"
   },
   {
    "duration": 6,
    "start_time": "2022-07-25T11:55:09.674Z"
   },
   {
    "duration": 13,
    "start_time": "2022-07-25T11:57:40.471Z"
   },
   {
    "duration": 25,
    "start_time": "2022-07-25T11:57:40.662Z"
   },
   {
    "duration": 6,
    "start_time": "2022-07-25T11:57:40.950Z"
   },
   {
    "duration": 11,
    "start_time": "2022-07-25T11:59:20.635Z"
   },
   {
    "duration": 23,
    "start_time": "2022-07-25T11:59:20.882Z"
   },
   {
    "duration": 7,
    "start_time": "2022-07-25T11:59:21.210Z"
   },
   {
    "duration": 8,
    "start_time": "2022-07-25T12:01:19.900Z"
   },
   {
    "duration": 8,
    "start_time": "2022-07-25T12:01:24.447Z"
   },
   {
    "duration": 23,
    "start_time": "2022-07-25T12:01:24.716Z"
   },
   {
    "duration": 7,
    "start_time": "2022-07-25T12:01:25.039Z"
   },
   {
    "duration": 79,
    "start_time": "2022-07-25T12:02:40.674Z"
   },
   {
    "duration": 23,
    "start_time": "2022-07-25T12:02:41.172Z"
   },
   {
    "duration": 8,
    "start_time": "2022-07-25T12:02:48.779Z"
   },
   {
    "duration": 24,
    "start_time": "2022-07-25T12:02:49.154Z"
   },
   {
    "duration": 6,
    "start_time": "2022-07-25T12:02:50.170Z"
   },
   {
    "duration": 9,
    "start_time": "2022-07-25T12:03:32.361Z"
   },
   {
    "duration": 27,
    "start_time": "2022-07-25T12:03:32.766Z"
   },
   {
    "duration": 7,
    "start_time": "2022-07-25T12:03:33.349Z"
   },
   {
    "duration": 6,
    "start_time": "2022-07-25T12:04:39.263Z"
   },
   {
    "duration": 13,
    "start_time": "2022-07-25T12:04:58.899Z"
   },
   {
    "duration": 42,
    "start_time": "2022-07-25T12:04:59.174Z"
   },
   {
    "duration": 9,
    "start_time": "2022-07-25T12:04:59.474Z"
   },
   {
    "duration": 9,
    "start_time": "2022-07-25T12:05:46.821Z"
   },
   {
    "duration": 24,
    "start_time": "2022-07-25T12:05:47.039Z"
   },
   {
    "duration": 7,
    "start_time": "2022-07-25T12:05:47.451Z"
   },
   {
    "duration": 13,
    "start_time": "2022-07-25T12:06:33.145Z"
   },
   {
    "duration": 38,
    "start_time": "2022-07-25T12:06:33.352Z"
   },
   {
    "duration": 6,
    "start_time": "2022-07-25T12:06:33.743Z"
   },
   {
    "duration": 13,
    "start_time": "2022-07-25T12:06:57.046Z"
   },
   {
    "duration": 31,
    "start_time": "2022-07-25T12:06:57.241Z"
   },
   {
    "duration": 7,
    "start_time": "2022-07-25T12:06:57.455Z"
   },
   {
    "duration": 10,
    "start_time": "2022-07-25T12:08:43.118Z"
   },
   {
    "duration": 24,
    "start_time": "2022-07-25T12:08:43.340Z"
   },
   {
    "duration": 6,
    "start_time": "2022-07-25T12:08:43.563Z"
   },
   {
    "duration": 9,
    "start_time": "2022-07-25T12:09:29.811Z"
   },
   {
    "duration": 25,
    "start_time": "2022-07-25T12:09:30.043Z"
   },
   {
    "duration": 7,
    "start_time": "2022-07-25T12:09:30.273Z"
   },
   {
    "duration": 9,
    "start_time": "2022-07-25T12:09:55.140Z"
   },
   {
    "duration": 23,
    "start_time": "2022-07-25T12:09:55.348Z"
   },
   {
    "duration": 7,
    "start_time": "2022-07-25T12:09:55.816Z"
   },
   {
    "duration": 9,
    "start_time": "2022-07-25T12:11:12.975Z"
   },
   {
    "duration": 25,
    "start_time": "2022-07-25T12:11:13.202Z"
   },
   {
    "duration": 7,
    "start_time": "2022-07-25T12:11:13.448Z"
   },
   {
    "duration": 9,
    "start_time": "2022-07-25T12:11:49.768Z"
   },
   {
    "duration": 25,
    "start_time": "2022-07-25T12:11:50.040Z"
   },
   {
    "duration": 6,
    "start_time": "2022-07-25T12:11:50.404Z"
   },
   {
    "duration": 9,
    "start_time": "2022-07-25T12:12:05.471Z"
   },
   {
    "duration": 23,
    "start_time": "2022-07-25T12:12:05.746Z"
   },
   {
    "duration": 7,
    "start_time": "2022-07-25T12:12:06.094Z"
   },
   {
    "duration": 10,
    "start_time": "2022-07-25T12:12:20.904Z"
   },
   {
    "duration": 26,
    "start_time": "2022-07-25T12:12:21.112Z"
   },
   {
    "duration": 7,
    "start_time": "2022-07-25T12:12:21.340Z"
   },
   {
    "duration": 24,
    "start_time": "2022-07-25T12:12:40.212Z"
   },
   {
    "duration": 7,
    "start_time": "2022-07-25T12:12:40.408Z"
   },
   {
    "duration": 6,
    "start_time": "2022-07-25T12:12:52.097Z"
   },
   {
    "duration": 8,
    "start_time": "2022-07-25T12:13:24.236Z"
   },
   {
    "duration": 23,
    "start_time": "2022-07-25T12:15:26.689Z"
   },
   {
    "duration": 6,
    "start_time": "2022-07-25T12:15:28.026Z"
   },
   {
    "duration": 10,
    "start_time": "2022-07-25T12:15:36.714Z"
   },
   {
    "duration": 24,
    "start_time": "2022-07-25T12:15:36.937Z"
   },
   {
    "duration": 6,
    "start_time": "2022-07-25T12:15:37.178Z"
   },
   {
    "duration": 19,
    "start_time": "2022-07-25T12:17:31.207Z"
   },
   {
    "duration": 13,
    "start_time": "2022-07-25T12:17:32.791Z"
   },
   {
    "duration": 10,
    "start_time": "2022-07-25T12:17:39.185Z"
   },
   {
    "duration": 139,
    "start_time": "2022-07-25T12:25:02.242Z"
   },
   {
    "duration": 208,
    "start_time": "2022-07-25T12:25:16.627Z"
   },
   {
    "duration": 346,
    "start_time": "2022-07-25T12:25:34.156Z"
   },
   {
    "duration": 222,
    "start_time": "2022-07-25T12:26:03.043Z"
   },
   {
    "duration": 14,
    "start_time": "2022-07-25T12:27:47.444Z"
   },
   {
    "duration": 15,
    "start_time": "2022-07-25T12:28:01.576Z"
   },
   {
    "duration": 20,
    "start_time": "2022-07-25T12:28:25.542Z"
   },
   {
    "duration": 735,
    "start_time": "2022-07-25T12:28:48.459Z"
   },
   {
    "duration": 1013,
    "start_time": "2022-07-25T12:29:17.618Z"
   },
   {
    "duration": 889,
    "start_time": "2022-07-25T12:29:33.047Z"
   },
   {
    "duration": 1537,
    "start_time": "2022-07-25T12:29:44.003Z"
   },
   {
    "duration": 2344,
    "start_time": "2022-07-25T12:29:53.808Z"
   },
   {
    "duration": 326,
    "start_time": "2022-07-25T12:34:14.444Z"
   },
   {
    "duration": 695,
    "start_time": "2022-07-25T12:35:38.648Z"
   },
   {
    "duration": 475,
    "start_time": "2022-07-25T12:35:50.053Z"
   },
   {
    "duration": 11,
    "start_time": "2022-07-25T12:38:33.845Z"
   },
   {
    "duration": 200,
    "start_time": "2022-07-25T12:38:37.544Z"
   },
   {
    "duration": 976,
    "start_time": "2022-07-25T12:39:47.641Z"
   },
   {
    "duration": 118,
    "start_time": "2022-07-25T12:40:01.735Z"
   },
   {
    "duration": 55,
    "start_time": "2022-07-25T12:40:07.646Z"
   },
   {
    "duration": 52,
    "start_time": "2022-07-25T12:40:20.707Z"
   },
   {
    "duration": 51,
    "start_time": "2022-07-25T12:40:28.157Z"
   },
   {
    "duration": 100,
    "start_time": "2022-07-25T12:40:44.291Z"
   },
   {
    "duration": 64,
    "start_time": "2022-07-25T12:41:11.643Z"
   },
   {
    "duration": 87,
    "start_time": "2022-07-25T12:41:21.885Z"
   },
   {
    "duration": 58,
    "start_time": "2022-07-25T12:41:29.150Z"
   },
   {
    "duration": 70,
    "start_time": "2022-07-25T12:41:40.544Z"
   },
   {
    "duration": 997,
    "start_time": "2022-07-25T12:41:44.305Z"
   },
   {
    "duration": 60,
    "start_time": "2022-07-25T12:41:53.959Z"
   },
   {
    "duration": 992,
    "start_time": "2022-07-25T12:41:57.222Z"
   },
   {
    "duration": 1205,
    "start_time": "2022-07-25T12:42:18.902Z"
   },
   {
    "duration": 1019,
    "start_time": "2022-07-25T12:42:26.007Z"
   },
   {
    "duration": 1138,
    "start_time": "2022-07-25T12:42:59.346Z"
   },
   {
    "duration": 1061,
    "start_time": "2022-07-25T12:43:09.510Z"
   },
   {
    "duration": 15,
    "start_time": "2022-07-25T12:45:15.186Z"
   },
   {
    "duration": 11,
    "start_time": "2022-07-25T12:45:16.380Z"
   },
   {
    "duration": 1222,
    "start_time": "2022-07-25T12:45:17.359Z"
   },
   {
    "duration": 1251,
    "start_time": "2022-07-25T12:49:23.301Z"
   },
   {
    "duration": 1421,
    "start_time": "2022-07-25T12:49:37.386Z"
   },
   {
    "duration": 2001,
    "start_time": "2022-07-25T13:01:37.357Z"
   },
   {
    "duration": 0,
    "start_time": "2022-07-25T13:01:39.360Z"
   },
   {
    "duration": 1204,
    "start_time": "2022-07-25T13:01:56.598Z"
   },
   {
    "duration": 56,
    "start_time": "2022-07-25T13:01:57.804Z"
   },
   {
    "duration": 13,
    "start_time": "2022-07-25T13:01:57.862Z"
   },
   {
    "duration": 21,
    "start_time": "2022-07-25T13:01:57.877Z"
   },
   {
    "duration": 12,
    "start_time": "2022-07-25T13:01:57.900Z"
   },
   {
    "duration": 17,
    "start_time": "2022-07-25T13:01:57.913Z"
   },
   {
    "duration": 21,
    "start_time": "2022-07-25T13:01:57.932Z"
   },
   {
    "duration": 24,
    "start_time": "2022-07-25T13:01:57.955Z"
   },
   {
    "duration": 2283,
    "start_time": "2022-07-25T13:01:57.980Z"
   },
   {
    "duration": 227,
    "start_time": "2022-07-25T13:02:00.267Z"
   },
   {
    "duration": 116,
    "start_time": "2022-07-25T13:02:00.497Z"
   },
   {
    "duration": 0,
    "start_time": "2022-07-25T13:02:00.615Z"
   },
   {
    "duration": 0,
    "start_time": "2022-07-25T13:02:00.616Z"
   },
   {
    "duration": 0,
    "start_time": "2022-07-25T13:02:00.617Z"
   },
   {
    "duration": 0,
    "start_time": "2022-07-25T13:02:00.618Z"
   },
   {
    "duration": 0,
    "start_time": "2022-07-25T13:02:00.619Z"
   },
   {
    "duration": 0,
    "start_time": "2022-07-25T13:02:00.620Z"
   },
   {
    "duration": 0,
    "start_time": "2022-07-25T13:02:00.621Z"
   },
   {
    "duration": 0,
    "start_time": "2022-07-25T13:02:00.622Z"
   },
   {
    "duration": 0,
    "start_time": "2022-07-25T13:02:00.623Z"
   },
   {
    "duration": 0,
    "start_time": "2022-07-25T13:02:00.624Z"
   },
   {
    "duration": 0,
    "start_time": "2022-07-25T13:02:00.625Z"
   },
   {
    "duration": 0,
    "start_time": "2022-07-25T13:02:00.626Z"
   },
   {
    "duration": 0,
    "start_time": "2022-07-25T13:02:00.627Z"
   },
   {
    "duration": 0,
    "start_time": "2022-07-25T13:02:00.628Z"
   },
   {
    "duration": 0,
    "start_time": "2022-07-25T13:02:00.629Z"
   },
   {
    "duration": 0,
    "start_time": "2022-07-25T13:02:00.630Z"
   },
   {
    "duration": 0,
    "start_time": "2022-07-25T13:02:00.632Z"
   },
   {
    "duration": 0,
    "start_time": "2022-07-25T13:02:00.664Z"
   },
   {
    "duration": 0,
    "start_time": "2022-07-25T13:02:00.666Z"
   },
   {
    "duration": 0,
    "start_time": "2022-07-25T13:02:00.667Z"
   },
   {
    "duration": 0,
    "start_time": "2022-07-25T13:02:00.668Z"
   },
   {
    "duration": 0,
    "start_time": "2022-07-25T13:02:00.670Z"
   },
   {
    "duration": 0,
    "start_time": "2022-07-25T13:02:00.671Z"
   },
   {
    "duration": 0,
    "start_time": "2022-07-25T13:02:00.673Z"
   },
   {
    "duration": 1,
    "start_time": "2022-07-25T13:02:00.674Z"
   },
   {
    "duration": 0,
    "start_time": "2022-07-25T13:02:00.676Z"
   },
   {
    "duration": 0,
    "start_time": "2022-07-25T13:02:00.678Z"
   },
   {
    "duration": 0,
    "start_time": "2022-07-25T13:02:00.679Z"
   },
   {
    "duration": 0,
    "start_time": "2022-07-25T13:02:00.680Z"
   },
   {
    "duration": 0,
    "start_time": "2022-07-25T13:02:00.682Z"
   },
   {
    "duration": 0,
    "start_time": "2022-07-25T13:02:00.684Z"
   },
   {
    "duration": 0,
    "start_time": "2022-07-25T13:02:00.686Z"
   },
   {
    "duration": 0,
    "start_time": "2022-07-25T13:02:00.687Z"
   },
   {
    "duration": 0,
    "start_time": "2022-07-25T13:02:00.689Z"
   },
   {
    "duration": 0,
    "start_time": "2022-07-25T13:02:00.690Z"
   },
   {
    "duration": 0,
    "start_time": "2022-07-25T13:02:00.692Z"
   },
   {
    "duration": 36,
    "start_time": "2022-07-25T13:02:15.853Z"
   },
   {
    "duration": 37,
    "start_time": "2022-07-25T13:02:21.249Z"
   },
   {
    "duration": 40,
    "start_time": "2022-07-25T13:02:21.289Z"
   },
   {
    "duration": 45,
    "start_time": "2022-07-25T13:02:21.332Z"
   },
   {
    "duration": 5,
    "start_time": "2022-07-25T13:02:21.380Z"
   },
   {
    "duration": 887,
    "start_time": "2022-07-25T13:02:21.389Z"
   },
   {
    "duration": 14,
    "start_time": "2022-07-25T13:02:22.278Z"
   },
   {
    "duration": 455,
    "start_time": "2022-07-25T13:02:22.294Z"
   },
   {
    "duration": 15,
    "start_time": "2022-07-25T13:02:22.751Z"
   },
   {
    "duration": 17,
    "start_time": "2022-07-25T13:02:22.768Z"
   },
   {
    "duration": 296,
    "start_time": "2022-07-25T13:02:22.788Z"
   },
   {
    "duration": 5,
    "start_time": "2022-07-25T13:02:23.085Z"
   },
   {
    "duration": 474,
    "start_time": "2022-07-25T13:02:23.092Z"
   },
   {
    "duration": 30,
    "start_time": "2022-07-25T13:02:23.568Z"
   },
   {
    "duration": 12,
    "start_time": "2022-07-25T13:02:23.602Z"
   },
   {
    "duration": 16,
    "start_time": "2022-07-25T13:02:23.616Z"
   },
   {
    "duration": 399,
    "start_time": "2022-07-25T13:02:23.634Z"
   },
   {
    "duration": 383,
    "start_time": "2022-07-25T13:02:24.036Z"
   },
   {
    "duration": 53,
    "start_time": "2022-07-25T13:02:24.421Z"
   },
   {
    "duration": 297,
    "start_time": "2022-07-25T13:02:24.476Z"
   },
   {
    "duration": 287,
    "start_time": "2022-07-25T13:02:24.774Z"
   },
   {
    "duration": 293,
    "start_time": "2022-07-25T13:02:25.064Z"
   },
   {
    "duration": 18,
    "start_time": "2022-07-25T13:02:25.359Z"
   },
   {
    "duration": 13,
    "start_time": "2022-07-25T13:02:25.379Z"
   },
   {
    "duration": 909,
    "start_time": "2022-07-25T13:02:25.394Z"
   },
   {
    "duration": 5073,
    "start_time": "2022-07-25T13:02:26.304Z"
   },
   {
    "duration": 3320,
    "start_time": "2022-07-25T13:02:31.379Z"
   },
   {
    "duration": 94,
    "start_time": "2022-07-25T13:02:34.701Z"
   },
   {
    "duration": 2,
    "start_time": "2022-07-25T13:02:34.797Z"
   },
   {
    "duration": 17,
    "start_time": "2022-07-25T13:02:34.801Z"
   },
   {
    "duration": 1511,
    "start_time": "2022-07-25T13:02:34.821Z"
   },
   {
    "duration": 9,
    "start_time": "2022-07-25T13:02:36.334Z"
   },
   {
    "duration": 10,
    "start_time": "2022-07-25T13:02:36.344Z"
   },
   {
    "duration": 26,
    "start_time": "2022-07-25T13:02:36.364Z"
   },
   {
    "duration": 6,
    "start_time": "2022-07-25T13:02:36.392Z"
   },
   {
    "duration": 20,
    "start_time": "2022-07-25T13:02:36.400Z"
   },
   {
    "duration": 16,
    "start_time": "2022-07-25T13:02:36.422Z"
   },
   {
    "duration": 1576,
    "start_time": "2022-07-25T13:02:36.440Z"
   },
   {
    "duration": 252,
    "start_time": "2022-07-25T13:02:46.800Z"
   },
   {
    "duration": 271,
    "start_time": "2022-07-25T13:02:55.377Z"
   },
   {
    "duration": 268,
    "start_time": "2022-07-25T13:02:58.769Z"
   },
   {
    "duration": 369,
    "start_time": "2022-07-25T13:05:53.402Z"
   },
   {
    "duration": 45,
    "start_time": "2022-07-27T05:47:29.923Z"
   },
   {
    "duration": 6,
    "start_time": "2022-07-27T05:47:33.398Z"
   },
   {
    "duration": 1190,
    "start_time": "2022-07-27T05:47:40.858Z"
   },
   {
    "duration": 97,
    "start_time": "2022-07-27T05:47:42.050Z"
   },
   {
    "duration": 17,
    "start_time": "2022-07-27T05:47:42.149Z"
   },
   {
    "duration": 11,
    "start_time": "2022-07-27T05:47:42.169Z"
   },
   {
    "duration": 20,
    "start_time": "2022-07-27T05:47:42.183Z"
   },
   {
    "duration": 8,
    "start_time": "2022-07-27T05:47:42.206Z"
   },
   {
    "duration": 12,
    "start_time": "2022-07-27T05:47:42.216Z"
   },
   {
    "duration": 20,
    "start_time": "2022-07-27T05:47:42.230Z"
   },
   {
    "duration": 2541,
    "start_time": "2022-07-27T05:47:42.252Z"
   },
   {
    "duration": 185,
    "start_time": "2022-07-27T05:47:44.796Z"
   },
   {
    "duration": 33,
    "start_time": "2022-07-27T05:47:44.983Z"
   },
   {
    "duration": 33,
    "start_time": "2022-07-27T05:47:45.017Z"
   },
   {
    "duration": 18,
    "start_time": "2022-07-27T05:47:47.059Z"
   },
   {
    "duration": 4,
    "start_time": "2022-07-27T05:48:14.049Z"
   },
   {
    "duration": 18,
    "start_time": "2022-07-27T05:49:51.780Z"
   },
   {
    "duration": 4,
    "start_time": "2022-07-27T05:50:37.972Z"
   },
   {
    "duration": 16,
    "start_time": "2022-07-27T05:50:54.101Z"
   },
   {
    "duration": 95,
    "start_time": "2022-07-27T05:52:36.645Z"
   },
   {
    "duration": 12,
    "start_time": "2022-07-27T05:53:29.072Z"
   },
   {
    "duration": 18,
    "start_time": "2022-07-27T05:53:43.646Z"
   },
   {
    "duration": 14,
    "start_time": "2022-07-27T05:54:18.646Z"
   },
   {
    "duration": 17,
    "start_time": "2022-07-27T05:54:36.552Z"
   },
   {
    "duration": 12,
    "start_time": "2022-07-27T05:56:22.245Z"
   },
   {
    "duration": 13,
    "start_time": "2022-07-27T05:56:59.379Z"
   },
   {
    "duration": 17,
    "start_time": "2022-07-27T05:57:48.176Z"
   },
   {
    "duration": 70,
    "start_time": "2022-07-27T05:59:20.136Z"
   },
   {
    "duration": 38,
    "start_time": "2022-07-27T06:00:13.938Z"
   },
   {
    "duration": 36,
    "start_time": "2022-07-27T06:00:24.288Z"
   },
   {
    "duration": 84,
    "start_time": "2022-07-27T06:00:41.848Z"
   },
   {
    "duration": 71,
    "start_time": "2022-07-27T06:00:46.834Z"
   },
   {
    "duration": 12,
    "start_time": "2022-07-27T06:00:49.516Z"
   },
   {
    "duration": 3,
    "start_time": "2022-07-27T06:01:44.698Z"
   },
   {
    "duration": 11,
    "start_time": "2022-07-27T06:01:46.801Z"
   },
   {
    "duration": 70,
    "start_time": "2022-07-27T06:01:55.849Z"
   },
   {
    "duration": 11,
    "start_time": "2022-07-27T06:01:59.003Z"
   },
   {
    "duration": 11,
    "start_time": "2022-07-27T06:02:44.329Z"
   },
   {
    "duration": 11,
    "start_time": "2022-07-27T06:02:49.129Z"
   },
   {
    "duration": 78,
    "start_time": "2022-07-27T06:04:02.406Z"
   },
   {
    "duration": 12,
    "start_time": "2022-07-27T06:04:14.685Z"
   },
   {
    "duration": 11,
    "start_time": "2022-07-27T06:04:22.346Z"
   },
   {
    "duration": 15,
    "start_time": "2022-07-27T06:05:04.377Z"
   },
   {
    "duration": 30,
    "start_time": "2022-07-27T06:05:10.773Z"
   },
   {
    "duration": 41,
    "start_time": "2022-07-27T06:05:15.938Z"
   },
   {
    "duration": 29,
    "start_time": "2022-07-27T06:05:28.633Z"
   },
   {
    "duration": 17,
    "start_time": "2022-07-27T06:05:39.383Z"
   },
   {
    "duration": 8,
    "start_time": "2022-07-27T06:08:13.817Z"
   },
   {
    "duration": 7,
    "start_time": "2022-07-27T06:08:24.772Z"
   },
   {
    "duration": 6,
    "start_time": "2022-07-27T06:09:05.199Z"
   },
   {
    "duration": 13,
    "start_time": "2022-07-27T06:09:12.765Z"
   },
   {
    "duration": 11,
    "start_time": "2022-07-27T06:09:28.445Z"
   },
   {
    "duration": 50,
    "start_time": "2022-07-27T06:09:28.458Z"
   },
   {
    "duration": 10,
    "start_time": "2022-07-27T06:09:28.509Z"
   },
   {
    "duration": 10,
    "start_time": "2022-07-27T06:09:28.520Z"
   },
   {
    "duration": 9,
    "start_time": "2022-07-27T06:09:28.531Z"
   },
   {
    "duration": 7,
    "start_time": "2022-07-27T06:09:28.541Z"
   },
   {
    "duration": 6,
    "start_time": "2022-07-27T06:09:28.550Z"
   },
   {
    "duration": 46,
    "start_time": "2022-07-27T06:09:28.557Z"
   },
   {
    "duration": 1952,
    "start_time": "2022-07-27T06:09:28.605Z"
   },
   {
    "duration": 182,
    "start_time": "2022-07-27T06:09:30.559Z"
   },
   {
    "duration": 35,
    "start_time": "2022-07-27T06:09:30.743Z"
   },
   {
    "duration": 61,
    "start_time": "2022-07-27T06:09:30.779Z"
   },
   {
    "duration": 17,
    "start_time": "2022-07-27T06:09:30.842Z"
   },
   {
    "duration": 13,
    "start_time": "2022-07-27T06:09:30.861Z"
   },
   {
    "duration": 34,
    "start_time": "2022-07-27T06:09:30.876Z"
   },
   {
    "duration": 35,
    "start_time": "2022-07-27T06:09:30.912Z"
   },
   {
    "duration": 23,
    "start_time": "2022-07-27T06:09:30.949Z"
   },
   {
    "duration": 16,
    "start_time": "2022-07-27T06:09:30.973Z"
   },
   {
    "duration": 5,
    "start_time": "2022-07-27T06:09:31.001Z"
   },
   {
    "duration": 830,
    "start_time": "2022-07-27T06:09:31.008Z"
   },
   {
    "duration": 14,
    "start_time": "2022-07-27T06:09:31.840Z"
   },
   {
    "duration": 340,
    "start_time": "2022-07-27T06:09:31.855Z"
   },
   {
    "duration": 12,
    "start_time": "2022-07-27T06:09:32.196Z"
   },
   {
    "duration": 15,
    "start_time": "2022-07-27T06:09:32.210Z"
   },
   {
    "duration": 305,
    "start_time": "2022-07-27T06:09:32.227Z"
   },
   {
    "duration": 5,
    "start_time": "2022-07-27T06:09:32.533Z"
   },
   {
    "duration": 315,
    "start_time": "2022-07-27T06:09:32.540Z"
   },
   {
    "duration": 11,
    "start_time": "2022-07-27T06:09:32.856Z"
   },
   {
    "duration": 16,
    "start_time": "2022-07-27T06:09:32.870Z"
   },
   {
    "duration": 24,
    "start_time": "2022-07-27T06:09:32.888Z"
   },
   {
    "duration": 327,
    "start_time": "2022-07-27T06:09:32.913Z"
   },
   {
    "duration": 354,
    "start_time": "2022-07-27T06:09:33.241Z"
   },
   {
    "duration": 38,
    "start_time": "2022-07-27T06:09:33.601Z"
   },
   {
    "duration": 232,
    "start_time": "2022-07-27T06:09:33.641Z"
   },
   {
    "duration": 330,
    "start_time": "2022-07-27T06:09:33.874Z"
   },
   {
    "duration": 262,
    "start_time": "2022-07-27T06:09:34.206Z"
   },
   {
    "duration": 14,
    "start_time": "2022-07-27T06:09:34.469Z"
   },
   {
    "duration": 23,
    "start_time": "2022-07-27T06:09:34.485Z"
   },
   {
    "duration": 7,
    "start_time": "2022-07-27T06:09:34.509Z"
   },
   {
    "duration": 16,
    "start_time": "2022-07-27T06:09:37.983Z"
   },
   {
    "duration": 9,
    "start_time": "2022-07-27T06:11:48.028Z"
   },
   {
    "duration": 1242,
    "start_time": "2022-07-27T06:11:48.494Z"
   },
   {
    "duration": 0,
    "start_time": "2022-07-27T06:11:49.738Z"
   },
   {
    "duration": 13,
    "start_time": "2022-07-27T06:11:54.416Z"
   },
   {
    "duration": 52,
    "start_time": "2022-07-27T06:11:54.431Z"
   },
   {
    "duration": 10,
    "start_time": "2022-07-27T06:11:54.484Z"
   },
   {
    "duration": 8,
    "start_time": "2022-07-27T06:11:54.496Z"
   },
   {
    "duration": 10,
    "start_time": "2022-07-27T06:11:54.506Z"
   },
   {
    "duration": 8,
    "start_time": "2022-07-27T06:11:54.517Z"
   },
   {
    "duration": 6,
    "start_time": "2022-07-27T06:11:54.527Z"
   },
   {
    "duration": 15,
    "start_time": "2022-07-27T06:11:54.534Z"
   },
   {
    "duration": 2069,
    "start_time": "2022-07-27T06:11:54.550Z"
   },
   {
    "duration": 177,
    "start_time": "2022-07-27T06:11:56.622Z"
   },
   {
    "duration": 30,
    "start_time": "2022-07-27T06:11:56.802Z"
   },
   {
    "duration": 31,
    "start_time": "2022-07-27T06:11:56.834Z"
   },
   {
    "duration": 22,
    "start_time": "2022-07-27T06:11:56.867Z"
   },
   {
    "duration": 14,
    "start_time": "2022-07-27T06:11:56.902Z"
   },
   {
    "duration": 16,
    "start_time": "2022-07-27T06:11:56.918Z"
   },
   {
    "duration": 31,
    "start_time": "2022-07-27T06:11:56.936Z"
   },
   {
    "duration": 40,
    "start_time": "2022-07-27T06:11:56.968Z"
   },
   {
    "duration": 15,
    "start_time": "2022-07-27T06:11:57.009Z"
   },
   {
    "duration": 4,
    "start_time": "2022-07-27T06:11:57.025Z"
   },
   {
    "duration": 847,
    "start_time": "2022-07-27T06:11:57.031Z"
   },
   {
    "duration": 23,
    "start_time": "2022-07-27T06:11:57.880Z"
   },
   {
    "duration": 316,
    "start_time": "2022-07-27T06:11:57.905Z"
   },
   {
    "duration": 8,
    "start_time": "2022-07-27T06:11:58.223Z"
   },
   {
    "duration": 15,
    "start_time": "2022-07-27T06:11:58.233Z"
   },
   {
    "duration": 300,
    "start_time": "2022-07-27T06:11:58.249Z"
   },
   {
    "duration": 5,
    "start_time": "2022-07-27T06:11:58.550Z"
   },
   {
    "duration": 410,
    "start_time": "2022-07-27T06:11:58.556Z"
   },
   {
    "duration": 10,
    "start_time": "2022-07-27T06:11:58.969Z"
   },
   {
    "duration": 25,
    "start_time": "2022-07-27T06:11:58.981Z"
   },
   {
    "duration": 12,
    "start_time": "2022-07-27T06:11:59.007Z"
   },
   {
    "duration": 340,
    "start_time": "2022-07-27T06:11:59.021Z"
   },
   {
    "duration": 339,
    "start_time": "2022-07-27T06:11:59.363Z"
   },
   {
    "duration": 39,
    "start_time": "2022-07-27T06:11:59.704Z"
   },
   {
    "duration": 245,
    "start_time": "2022-07-27T06:11:59.744Z"
   },
   {
    "duration": 238,
    "start_time": "2022-07-27T06:11:59.991Z"
   },
   {
    "duration": 240,
    "start_time": "2022-07-27T06:12:00.231Z"
   },
   {
    "duration": 15,
    "start_time": "2022-07-27T06:12:00.473Z"
   },
   {
    "duration": 25,
    "start_time": "2022-07-27T06:12:00.490Z"
   },
   {
    "duration": 7,
    "start_time": "2022-07-27T06:12:00.517Z"
   },
   {
    "duration": 1882,
    "start_time": "2022-07-27T06:12:00.526Z"
   },
   {
    "duration": 4595,
    "start_time": "2022-07-27T06:12:02.409Z"
   },
   {
    "duration": 2317,
    "start_time": "2022-07-27T06:12:07.006Z"
   },
   {
    "duration": 62,
    "start_time": "2022-07-27T06:12:09.324Z"
   },
   {
    "duration": 14,
    "start_time": "2022-07-27T06:12:09.388Z"
   },
   {
    "duration": 2,
    "start_time": "2022-07-27T06:12:09.403Z"
   },
   {
    "duration": 1374,
    "start_time": "2022-07-27T06:12:09.407Z"
   },
   {
    "duration": 7,
    "start_time": "2022-07-27T06:12:10.782Z"
   },
   {
    "duration": 15,
    "start_time": "2022-07-27T06:12:10.790Z"
   },
   {
    "duration": 21,
    "start_time": "2022-07-27T06:12:10.943Z"
   },
   {
    "duration": 6,
    "start_time": "2022-07-27T06:12:12.373Z"
   },
   {
    "duration": 13,
    "start_time": "2022-07-27T06:12:19.338Z"
   },
   {
    "duration": 11,
    "start_time": "2022-07-27T06:12:20.163Z"
   },
   {
    "duration": 1354,
    "start_time": "2022-07-27T06:12:22.293Z"
   },
   {
    "duration": 65,
    "start_time": "2022-07-27T07:52:03.253Z"
   },
   {
    "duration": 11,
    "start_time": "2022-07-27T07:52:08.582Z"
   },
   {
    "duration": 67,
    "start_time": "2022-07-27T07:52:08.595Z"
   },
   {
    "duration": 10,
    "start_time": "2022-07-27T07:52:08.663Z"
   },
   {
    "duration": 18,
    "start_time": "2022-07-27T07:52:08.674Z"
   },
   {
    "duration": 19,
    "start_time": "2022-07-27T07:52:08.694Z"
   },
   {
    "duration": 22,
    "start_time": "2022-07-27T07:52:08.715Z"
   },
   {
    "duration": 10,
    "start_time": "2022-07-27T07:52:08.739Z"
   },
   {
    "duration": 23,
    "start_time": "2022-07-27T07:52:08.750Z"
   },
   {
    "duration": 2081,
    "start_time": "2022-07-27T07:52:08.775Z"
   },
   {
    "duration": 193,
    "start_time": "2022-07-27T07:52:10.857Z"
   },
   {
    "duration": 31,
    "start_time": "2022-07-27T07:52:11.051Z"
   },
   {
    "duration": 50,
    "start_time": "2022-07-27T07:52:11.083Z"
   },
   {
    "duration": 16,
    "start_time": "2022-07-27T07:52:11.134Z"
   },
   {
    "duration": 12,
    "start_time": "2022-07-27T07:52:11.153Z"
   },
   {
    "duration": 39,
    "start_time": "2022-07-27T07:52:11.166Z"
   },
   {
    "duration": 34,
    "start_time": "2022-07-27T07:52:11.211Z"
   },
   {
    "duration": 14,
    "start_time": "2022-07-27T07:52:11.247Z"
   },
   {
    "duration": 13,
    "start_time": "2022-07-27T07:52:11.262Z"
   },
   {
    "duration": 3,
    "start_time": "2022-07-27T07:52:11.277Z"
   },
   {
    "duration": 790,
    "start_time": "2022-07-27T07:52:11.282Z"
   },
   {
    "duration": 13,
    "start_time": "2022-07-27T07:52:12.073Z"
   },
   {
    "duration": 446,
    "start_time": "2022-07-27T07:52:12.088Z"
   },
   {
    "duration": 8,
    "start_time": "2022-07-27T07:52:12.536Z"
   },
   {
    "duration": 16,
    "start_time": "2022-07-27T07:52:12.545Z"
   },
   {
    "duration": 318,
    "start_time": "2022-07-27T07:52:12.562Z"
   },
   {
    "duration": 5,
    "start_time": "2022-07-27T07:52:12.882Z"
   },
   {
    "duration": 341,
    "start_time": "2022-07-27T07:52:12.888Z"
   },
   {
    "duration": 20,
    "start_time": "2022-07-27T07:52:23.217Z"
   },
   {
    "duration": 19,
    "start_time": "2022-07-27T07:52:37.362Z"
   },
   {
    "duration": 15,
    "start_time": "2022-07-27T07:52:38.029Z"
   },
   {
    "duration": 322,
    "start_time": "2022-07-27T07:52:40.315Z"
   },
   {
    "duration": 341,
    "start_time": "2022-07-27T07:52:43.049Z"
   },
   {
    "duration": 17,
    "start_time": "2022-07-27T07:57:41.031Z"
   },
   {
    "duration": 5,
    "start_time": "2022-07-27T07:57:52.831Z"
   },
   {
    "duration": 331,
    "start_time": "2022-07-27T07:57:54.977Z"
   },
   {
    "duration": 6,
    "start_time": "2022-07-27T07:58:51.126Z"
   },
   {
    "duration": 316,
    "start_time": "2022-07-27T07:58:54.550Z"
   },
   {
    "duration": 21,
    "start_time": "2022-07-27T07:59:06.287Z"
   },
   {
    "duration": 12,
    "start_time": "2022-07-27T07:59:09.302Z"
   },
   {
    "duration": 15,
    "start_time": "2022-07-27T07:59:09.990Z"
   },
   {
    "duration": 435,
    "start_time": "2022-07-27T07:59:11.914Z"
   },
   {
    "duration": 330,
    "start_time": "2022-07-27T07:59:19.190Z"
   },
   {
    "duration": 42,
    "start_time": "2022-07-27T08:00:29.450Z"
   },
   {
    "duration": 257,
    "start_time": "2022-07-27T08:00:31.173Z"
   },
   {
    "duration": 248,
    "start_time": "2022-07-27T08:01:02.042Z"
   },
   {
    "duration": 253,
    "start_time": "2022-07-27T08:01:05.610Z"
   },
   {
    "duration": 21,
    "start_time": "2022-07-27T08:03:29.833Z"
   },
   {
    "duration": 1563,
    "start_time": "2022-07-27T08:03:59.698Z"
   },
   {
    "duration": 7,
    "start_time": "2022-07-27T08:04:01.263Z"
   },
   {
    "duration": 9,
    "start_time": "2022-07-27T08:04:03.555Z"
   },
   {
    "duration": 25,
    "start_time": "2022-07-27T08:04:04.819Z"
   },
   {
    "duration": 6,
    "start_time": "2022-07-27T08:04:06.017Z"
   },
   {
    "duration": 12,
    "start_time": "2022-07-27T08:04:20.517Z"
   },
   {
    "duration": 12,
    "start_time": "2022-07-27T08:04:21.635Z"
   },
   {
    "duration": 1402,
    "start_time": "2022-07-27T08:04:23.813Z"
   },
   {
    "duration": 13,
    "start_time": "2022-07-27T08:12:17.413Z"
   },
   {
    "duration": 1529,
    "start_time": "2022-07-27T08:12:32.875Z"
   },
   {
    "duration": 15,
    "start_time": "2022-07-27T08:12:43.874Z"
   },
   {
    "duration": 1369,
    "start_time": "2022-07-27T08:12:47.566Z"
   },
   {
    "duration": 21,
    "start_time": "2022-07-27T08:13:05.199Z"
   },
   {
    "duration": 68,
    "start_time": "2022-07-27T08:13:05.223Z"
   },
   {
    "duration": 15,
    "start_time": "2022-07-27T08:13:05.293Z"
   },
   {
    "duration": 38,
    "start_time": "2022-07-27T08:13:05.310Z"
   },
   {
    "duration": 9,
    "start_time": "2022-07-27T08:13:05.350Z"
   },
   {
    "duration": 6,
    "start_time": "2022-07-27T08:13:05.360Z"
   },
   {
    "duration": 10,
    "start_time": "2022-07-27T08:13:05.367Z"
   },
   {
    "duration": 16,
    "start_time": "2022-07-27T08:13:05.378Z"
   },
   {
    "duration": 2033,
    "start_time": "2022-07-27T08:13:05.395Z"
   },
   {
    "duration": 433,
    "start_time": "2022-07-27T08:13:07.432Z"
   },
   {
    "duration": 39,
    "start_time": "2022-07-27T08:13:07.866Z"
   },
   {
    "duration": 39,
    "start_time": "2022-07-27T08:13:07.909Z"
   },
   {
    "duration": 20,
    "start_time": "2022-07-27T08:13:07.950Z"
   },
   {
    "duration": 13,
    "start_time": "2022-07-27T08:13:07.972Z"
   },
   {
    "duration": 43,
    "start_time": "2022-07-27T08:13:07.987Z"
   },
   {
    "duration": 34,
    "start_time": "2022-07-27T08:13:08.032Z"
   },
   {
    "duration": 17,
    "start_time": "2022-07-27T08:13:08.068Z"
   },
   {
    "duration": 30,
    "start_time": "2022-07-27T08:13:08.087Z"
   },
   {
    "duration": 9,
    "start_time": "2022-07-27T08:13:08.119Z"
   },
   {
    "duration": 791,
    "start_time": "2022-07-27T08:13:08.129Z"
   },
   {
    "duration": 17,
    "start_time": "2022-07-27T08:13:08.922Z"
   },
   {
    "duration": 3,
    "start_time": "2022-07-27T08:13:08.940Z"
   },
   {
    "duration": 377,
    "start_time": "2022-07-27T08:13:08.945Z"
   },
   {
    "duration": 8,
    "start_time": "2022-07-27T08:13:09.323Z"
   },
   {
    "duration": 16,
    "start_time": "2022-07-27T08:13:09.332Z"
   },
   {
    "duration": 5,
    "start_time": "2022-07-27T08:13:09.349Z"
   },
   {
    "duration": 314,
    "start_time": "2022-07-27T08:13:09.356Z"
   },
   {
    "duration": 4,
    "start_time": "2022-07-27T08:13:09.674Z"
   },
   {
    "duration": 348,
    "start_time": "2022-07-27T08:13:09.680Z"
   },
   {
    "duration": 23,
    "start_time": "2022-07-27T08:13:10.031Z"
   },
   {
    "duration": 13,
    "start_time": "2022-07-27T08:13:10.056Z"
   },
   {
    "duration": 45,
    "start_time": "2022-07-27T08:13:10.071Z"
   },
   {
    "duration": 463,
    "start_time": "2022-07-27T08:13:10.119Z"
   },
   {
    "duration": 346,
    "start_time": "2022-07-27T08:13:10.584Z"
   },
   {
    "duration": 41,
    "start_time": "2022-07-27T08:13:10.932Z"
   },
   {
    "duration": 276,
    "start_time": "2022-07-27T08:13:10.974Z"
   },
   {
    "duration": 274,
    "start_time": "2022-07-27T08:13:11.252Z"
   },
   {
    "duration": 249,
    "start_time": "2022-07-27T08:13:11.528Z"
   },
   {
    "duration": 24,
    "start_time": "2022-07-27T08:13:11.779Z"
   },
   {
    "duration": 255,
    "start_time": "2022-07-27T08:13:11.810Z"
   },
   {
    "duration": 5463,
    "start_time": "2022-07-27T08:13:12.066Z"
   },
   {
    "duration": 5512,
    "start_time": "2022-07-27T08:13:17.531Z"
   },
   {
    "duration": 81,
    "start_time": "2022-07-27T08:13:23.044Z"
   },
   {
    "duration": 3,
    "start_time": "2022-07-27T08:13:23.127Z"
   },
   {
    "duration": 10,
    "start_time": "2022-07-27T08:13:23.131Z"
   },
   {
    "duration": 1491,
    "start_time": "2022-07-27T08:13:23.142Z"
   },
   {
    "duration": 8,
    "start_time": "2022-07-27T08:13:24.634Z"
   },
   {
    "duration": 8,
    "start_time": "2022-07-27T08:13:24.644Z"
   },
   {
    "duration": 28,
    "start_time": "2022-07-27T08:13:24.653Z"
   },
   {
    "duration": 34,
    "start_time": "2022-07-27T08:13:24.682Z"
   },
   {
    "duration": 12,
    "start_time": "2022-07-27T08:13:24.718Z"
   },
   {
    "duration": 9,
    "start_time": "2022-07-27T08:13:24.731Z"
   },
   {
    "duration": 1506,
    "start_time": "2022-07-27T08:13:24.741Z"
   },
   {
    "duration": 1443,
    "start_time": "2022-07-27T08:13:26.250Z"
   },
   {
    "duration": 1333,
    "start_time": "2022-07-27T08:13:47.521Z"
   },
   {
    "duration": 9,
    "start_time": "2022-07-27T08:13:52.117Z"
   },
   {
    "duration": 1118,
    "start_time": "2022-07-27T08:14:20.898Z"
   },
   {
    "duration": 51,
    "start_time": "2022-07-27T08:14:22.018Z"
   },
   {
    "duration": 11,
    "start_time": "2022-07-27T08:14:22.071Z"
   },
   {
    "duration": 18,
    "start_time": "2022-07-27T08:14:22.083Z"
   },
   {
    "duration": 12,
    "start_time": "2022-07-27T08:14:22.108Z"
   },
   {
    "duration": 8,
    "start_time": "2022-07-27T08:14:22.121Z"
   },
   {
    "duration": 7,
    "start_time": "2022-07-27T08:14:22.130Z"
   },
   {
    "duration": 16,
    "start_time": "2022-07-27T08:14:22.138Z"
   },
   {
    "duration": 2125,
    "start_time": "2022-07-27T08:14:22.155Z"
   },
   {
    "duration": 205,
    "start_time": "2022-07-27T08:14:24.282Z"
   },
   {
    "duration": 40,
    "start_time": "2022-07-27T08:14:24.489Z"
   },
   {
    "duration": 31,
    "start_time": "2022-07-27T08:14:24.531Z"
   },
   {
    "duration": 20,
    "start_time": "2022-07-27T08:14:24.564Z"
   },
   {
    "duration": 15,
    "start_time": "2022-07-27T08:14:24.607Z"
   },
   {
    "duration": 19,
    "start_time": "2022-07-27T08:14:24.624Z"
   },
   {
    "duration": 30,
    "start_time": "2022-07-27T08:14:24.644Z"
   },
   {
    "duration": 42,
    "start_time": "2022-07-27T08:14:24.676Z"
   },
   {
    "duration": 27,
    "start_time": "2022-07-27T08:14:24.720Z"
   },
   {
    "duration": 3,
    "start_time": "2022-07-27T08:14:24.749Z"
   },
   {
    "duration": 838,
    "start_time": "2022-07-27T08:14:24.754Z"
   },
   {
    "duration": 26,
    "start_time": "2022-07-27T08:14:25.593Z"
   },
   {
    "duration": 6,
    "start_time": "2022-07-27T08:14:25.621Z"
   },
   {
    "duration": 349,
    "start_time": "2022-07-27T08:14:25.628Z"
   },
   {
    "duration": 8,
    "start_time": "2022-07-27T08:14:25.979Z"
   },
   {
    "duration": 28,
    "start_time": "2022-07-27T08:14:25.989Z"
   },
   {
    "duration": 5,
    "start_time": "2022-07-27T08:14:26.019Z"
   },
   {
    "duration": 420,
    "start_time": "2022-07-27T08:14:26.026Z"
   },
   {
    "duration": 6,
    "start_time": "2022-07-27T08:14:26.447Z"
   },
   {
    "duration": 338,
    "start_time": "2022-07-27T08:14:26.454Z"
   },
   {
    "duration": 31,
    "start_time": "2022-07-27T08:14:26.794Z"
   },
   {
    "duration": 12,
    "start_time": "2022-07-27T08:14:26.826Z"
   },
   {
    "duration": 14,
    "start_time": "2022-07-27T08:14:26.840Z"
   },
   {
    "duration": 362,
    "start_time": "2022-07-27T08:14:26.855Z"
   },
   {
    "duration": 360,
    "start_time": "2022-07-27T08:14:27.218Z"
   },
   {
    "duration": 55,
    "start_time": "2022-07-27T08:14:27.579Z"
   },
   {
    "duration": 341,
    "start_time": "2022-07-27T08:14:27.636Z"
   },
   {
    "duration": 257,
    "start_time": "2022-07-27T08:14:27.979Z"
   },
   {
    "duration": 269,
    "start_time": "2022-07-27T08:14:28.237Z"
   },
   {
    "duration": 14,
    "start_time": "2022-07-27T08:14:28.516Z"
   },
   {
    "duration": 724,
    "start_time": "2022-07-27T08:14:28.532Z"
   },
   {
    "duration": 4902,
    "start_time": "2022-07-27T08:14:29.260Z"
   },
   {
    "duration": 5765,
    "start_time": "2022-07-27T08:14:34.164Z"
   },
   {
    "duration": 86,
    "start_time": "2022-07-27T08:14:39.932Z"
   },
   {
    "duration": 2,
    "start_time": "2022-07-27T08:14:40.020Z"
   },
   {
    "duration": 6,
    "start_time": "2022-07-27T08:14:40.023Z"
   },
   {
    "duration": 1499,
    "start_time": "2022-07-27T08:14:40.031Z"
   },
   {
    "duration": 7,
    "start_time": "2022-07-27T08:14:41.532Z"
   },
   {
    "duration": 8,
    "start_time": "2022-07-27T08:14:41.541Z"
   },
   {
    "duration": 24,
    "start_time": "2022-07-27T08:14:41.551Z"
   },
   {
    "duration": 6,
    "start_time": "2022-07-27T08:14:41.576Z"
   },
   {
    "duration": 17,
    "start_time": "2022-07-27T08:14:41.602Z"
   },
   {
    "duration": 15,
    "start_time": "2022-07-27T08:14:41.620Z"
   },
   {
    "duration": 1493,
    "start_time": "2022-07-27T08:14:41.636Z"
   },
   {
    "duration": 11,
    "start_time": "2022-07-27T08:14:43.130Z"
   },
   {
    "duration": 1655,
    "start_time": "2022-07-27T08:14:43.142Z"
   },
   {
    "duration": 9,
    "start_time": "2022-07-27T08:14:51.960Z"
   },
   {
    "duration": 9,
    "start_time": "2022-07-27T08:15:13.344Z"
   },
   {
    "duration": 9,
    "start_time": "2022-07-27T08:15:28.218Z"
   },
   {
    "duration": 12,
    "start_time": "2022-07-27T08:16:24.048Z"
   },
   {
    "duration": 51,
    "start_time": "2022-07-27T08:16:24.062Z"
   },
   {
    "duration": 11,
    "start_time": "2022-07-27T08:16:24.114Z"
   },
   {
    "duration": 8,
    "start_time": "2022-07-27T08:16:24.127Z"
   },
   {
    "duration": 10,
    "start_time": "2022-07-27T08:16:24.136Z"
   },
   {
    "duration": 12,
    "start_time": "2022-07-27T08:16:24.147Z"
   },
   {
    "duration": 10,
    "start_time": "2022-07-27T08:16:24.160Z"
   },
   {
    "duration": 43,
    "start_time": "2022-07-27T08:16:24.172Z"
   },
   {
    "duration": 2162,
    "start_time": "2022-07-27T08:16:24.220Z"
   },
   {
    "duration": 204,
    "start_time": "2022-07-27T08:16:26.385Z"
   },
   {
    "duration": 53,
    "start_time": "2022-07-27T08:16:26.590Z"
   },
   {
    "duration": 45,
    "start_time": "2022-07-27T08:16:26.645Z"
   },
   {
    "duration": 31,
    "start_time": "2022-07-27T08:16:26.691Z"
   },
   {
    "duration": 13,
    "start_time": "2022-07-27T08:16:26.724Z"
   },
   {
    "duration": 17,
    "start_time": "2022-07-27T08:16:26.738Z"
   },
   {
    "duration": 59,
    "start_time": "2022-07-27T08:16:26.756Z"
   },
   {
    "duration": 18,
    "start_time": "2022-07-27T08:16:26.818Z"
   },
   {
    "duration": 15,
    "start_time": "2022-07-27T08:16:26.837Z"
   },
   {
    "duration": 3,
    "start_time": "2022-07-27T08:16:26.854Z"
   },
   {
    "duration": 884,
    "start_time": "2022-07-27T08:16:26.859Z"
   },
   {
    "duration": 19,
    "start_time": "2022-07-27T08:16:27.745Z"
   },
   {
    "duration": 6,
    "start_time": "2022-07-27T08:16:27.765Z"
   },
   {
    "duration": 489,
    "start_time": "2022-07-27T08:16:27.773Z"
   },
   {
    "duration": 9,
    "start_time": "2022-07-27T08:16:28.263Z"
   },
   {
    "duration": 15,
    "start_time": "2022-07-27T08:16:28.273Z"
   },
   {
    "duration": 12,
    "start_time": "2022-07-27T08:16:28.302Z"
   },
   {
    "duration": 306,
    "start_time": "2022-07-27T08:16:28.315Z"
   },
   {
    "duration": 4,
    "start_time": "2022-07-27T08:16:28.624Z"
   },
   {
    "duration": 331,
    "start_time": "2022-07-27T08:16:28.630Z"
   },
   {
    "duration": 20,
    "start_time": "2022-07-27T08:16:28.962Z"
   },
   {
    "duration": 27,
    "start_time": "2022-07-27T08:16:28.984Z"
   },
   {
    "duration": 14,
    "start_time": "2022-07-27T08:16:29.015Z"
   },
   {
    "duration": 348,
    "start_time": "2022-07-27T08:16:29.030Z"
   },
   {
    "duration": 357,
    "start_time": "2022-07-27T08:16:29.380Z"
   },
   {
    "duration": 40,
    "start_time": "2022-07-27T08:16:29.738Z"
   },
   {
    "duration": 287,
    "start_time": "2022-07-27T08:16:29.779Z"
   },
   {
    "duration": 270,
    "start_time": "2022-07-27T08:16:30.067Z"
   },
   {
    "duration": 278,
    "start_time": "2022-07-27T08:16:30.339Z"
   },
   {
    "duration": 15,
    "start_time": "2022-07-27T08:16:30.621Z"
   },
   {
    "duration": 5,
    "start_time": "2022-07-27T08:16:30.638Z"
   },
   {
    "duration": 5161,
    "start_time": "2022-07-27T08:16:30.644Z"
   },
   {
    "duration": 5199,
    "start_time": "2022-07-27T08:16:35.807Z"
   },
   {
    "duration": 63,
    "start_time": "2022-07-27T08:16:41.011Z"
   },
   {
    "duration": 3,
    "start_time": "2022-07-27T08:16:41.076Z"
   },
   {
    "duration": 37,
    "start_time": "2022-07-27T08:16:41.080Z"
   },
   {
    "duration": 1456,
    "start_time": "2022-07-27T08:16:41.120Z"
   },
   {
    "duration": 9,
    "start_time": "2022-07-27T08:16:42.577Z"
   },
   {
    "duration": 31,
    "start_time": "2022-07-27T08:16:42.587Z"
   },
   {
    "duration": 29,
    "start_time": "2022-07-27T08:16:42.619Z"
   },
   {
    "duration": 6,
    "start_time": "2022-07-27T08:16:42.649Z"
   },
   {
    "duration": 22,
    "start_time": "2022-07-27T08:16:45.239Z"
   },
   {
    "duration": 24,
    "start_time": "2022-07-27T08:17:14.193Z"
   },
   {
    "duration": 21,
    "start_time": "2022-07-27T08:17:19.052Z"
   },
   {
    "duration": 10,
    "start_time": "2022-07-27T08:17:23.617Z"
   },
   {
    "duration": 1462,
    "start_time": "2022-07-27T08:17:26.917Z"
   },
   {
    "duration": 10,
    "start_time": "2022-07-27T08:17:30.856Z"
   },
   {
    "duration": 13,
    "start_time": "2022-07-27T08:17:45.239Z"
   },
   {
    "duration": 1133,
    "start_time": "2022-07-27T08:18:39.219Z"
   },
   {
    "duration": 52,
    "start_time": "2022-07-27T08:18:40.354Z"
   },
   {
    "duration": 11,
    "start_time": "2022-07-27T08:18:40.418Z"
   },
   {
    "duration": 11,
    "start_time": "2022-07-27T08:18:40.430Z"
   },
   {
    "duration": 9,
    "start_time": "2022-07-27T08:18:40.443Z"
   },
   {
    "duration": 7,
    "start_time": "2022-07-27T08:18:40.454Z"
   },
   {
    "duration": 6,
    "start_time": "2022-07-27T08:18:40.463Z"
   },
   {
    "duration": 39,
    "start_time": "2022-07-27T08:18:40.471Z"
   },
   {
    "duration": 2158,
    "start_time": "2022-07-27T08:18:40.511Z"
   },
   {
    "duration": 207,
    "start_time": "2022-07-27T08:18:42.670Z"
   },
   {
    "duration": 47,
    "start_time": "2022-07-27T08:18:42.879Z"
   },
   {
    "duration": 45,
    "start_time": "2022-07-27T08:18:42.928Z"
   },
   {
    "duration": 36,
    "start_time": "2022-07-27T08:18:42.975Z"
   },
   {
    "duration": 15,
    "start_time": "2022-07-27T08:18:43.014Z"
   },
   {
    "duration": 16,
    "start_time": "2022-07-27T08:18:43.031Z"
   },
   {
    "duration": 38,
    "start_time": "2022-07-27T08:18:43.049Z"
   },
   {
    "duration": 32,
    "start_time": "2022-07-27T08:18:43.088Z"
   },
   {
    "duration": 14,
    "start_time": "2022-07-27T08:18:43.122Z"
   },
   {
    "duration": 4,
    "start_time": "2022-07-27T08:18:43.137Z"
   },
   {
    "duration": 855,
    "start_time": "2022-07-27T08:18:43.143Z"
   },
   {
    "duration": 16,
    "start_time": "2022-07-27T08:18:44.001Z"
   },
   {
    "duration": 7,
    "start_time": "2022-07-27T08:18:44.018Z"
   },
   {
    "duration": 350,
    "start_time": "2022-07-27T08:18:44.027Z"
   },
   {
    "duration": 7,
    "start_time": "2022-07-27T08:18:44.379Z"
   },
   {
    "duration": 30,
    "start_time": "2022-07-27T08:18:44.388Z"
   },
   {
    "duration": 8,
    "start_time": "2022-07-27T08:18:44.420Z"
   },
   {
    "duration": 399,
    "start_time": "2022-07-27T08:18:44.429Z"
   },
   {
    "duration": 7,
    "start_time": "2022-07-27T08:18:44.829Z"
   },
   {
    "duration": 346,
    "start_time": "2022-07-27T08:18:44.838Z"
   },
   {
    "duration": 39,
    "start_time": "2022-07-27T08:18:45.185Z"
   },
   {
    "duration": 17,
    "start_time": "2022-07-27T08:18:45.226Z"
   },
   {
    "duration": 14,
    "start_time": "2022-07-27T08:18:45.244Z"
   },
   {
    "duration": 362,
    "start_time": "2022-07-27T08:18:45.260Z"
   },
   {
    "duration": 342,
    "start_time": "2022-07-27T08:18:45.623Z"
   },
   {
    "duration": 50,
    "start_time": "2022-07-27T08:18:45.966Z"
   },
   {
    "duration": 265,
    "start_time": "2022-07-27T08:18:46.020Z"
   },
   {
    "duration": 255,
    "start_time": "2022-07-27T08:18:46.287Z"
   },
   {
    "duration": 254,
    "start_time": "2022-07-27T08:18:46.543Z"
   },
   {
    "duration": 22,
    "start_time": "2022-07-27T08:18:46.801Z"
   },
   {
    "duration": 705,
    "start_time": "2022-07-27T08:18:46.825Z"
   },
   {
    "duration": 4882,
    "start_time": "2022-07-27T08:18:47.535Z"
   },
   {
    "duration": 5516,
    "start_time": "2022-07-27T08:18:52.418Z"
   },
   {
    "duration": 69,
    "start_time": "2022-07-27T08:18:57.936Z"
   },
   {
    "duration": 10,
    "start_time": "2022-07-27T08:18:58.007Z"
   },
   {
    "duration": 11,
    "start_time": "2022-07-27T08:18:58.019Z"
   },
   {
    "duration": 1517,
    "start_time": "2022-07-27T08:18:58.031Z"
   },
   {
    "duration": 7,
    "start_time": "2022-07-27T08:18:59.549Z"
   },
   {
    "duration": 10,
    "start_time": "2022-07-27T08:18:59.558Z"
   },
   {
    "duration": 51,
    "start_time": "2022-07-27T08:18:59.569Z"
   },
   {
    "duration": 13,
    "start_time": "2022-07-27T08:18:59.622Z"
   },
   {
    "duration": 41,
    "start_time": "2022-07-27T08:18:59.637Z"
   },
   {
    "duration": 16,
    "start_time": "2022-07-27T08:18:59.680Z"
   },
   {
    "duration": 399,
    "start_time": "2022-07-27T08:18:59.697Z"
   },
   {
    "duration": 0,
    "start_time": "2022-07-27T08:19:00.102Z"
   },
   {
    "duration": 0,
    "start_time": "2022-07-27T08:19:00.103Z"
   },
   {
    "duration": 1471,
    "start_time": "2022-07-27T08:19:27.493Z"
   },
   {
    "duration": 9,
    "start_time": "2022-07-27T08:19:37.354Z"
   },
   {
    "duration": 13,
    "start_time": "2022-07-27T08:19:58.595Z"
   },
   {
    "duration": 19,
    "start_time": "2022-07-27T08:20:07.753Z"
   },
   {
    "duration": 7,
    "start_time": "2022-07-27T08:20:22.840Z"
   },
   {
    "duration": 6,
    "start_time": "2022-07-27T08:20:24.785Z"
   },
   {
    "duration": 6,
    "start_time": "2022-07-27T08:20:30.130Z"
   },
   {
    "duration": 6,
    "start_time": "2022-07-27T08:21:33.870Z"
   },
   {
    "duration": 240,
    "start_time": "2022-07-27T08:21:45.805Z"
   },
   {
    "duration": 225,
    "start_time": "2022-07-27T08:21:57.025Z"
   },
   {
    "duration": 245,
    "start_time": "2022-07-27T08:22:41.421Z"
   },
   {
    "duration": 12,
    "start_time": "2022-07-27T08:24:57.802Z"
   },
   {
    "duration": 12,
    "start_time": "2022-07-27T08:25:24.591Z"
   },
   {
    "duration": 18,
    "start_time": "2022-07-27T08:25:31.701Z"
   },
   {
    "duration": 352,
    "start_time": "2022-07-27T08:26:51.830Z"
   },
   {
    "duration": 6,
    "start_time": "2022-07-27T08:27:00.553Z"
   },
   {
    "duration": 5,
    "start_time": "2022-07-27T08:27:18.817Z"
   },
   {
    "duration": 90,
    "start_time": "2022-07-27T08:28:15.075Z"
   },
   {
    "duration": 9,
    "start_time": "2022-07-27T08:31:46.383Z"
   },
   {
    "duration": 11713,
    "start_time": "2022-07-27T08:32:16.179Z"
   },
   {
    "duration": 17,
    "start_time": "2022-07-27T08:32:46.451Z"
   },
   {
    "duration": 117,
    "start_time": "2022-07-27T08:35:48.822Z"
   },
   {
    "duration": 7,
    "start_time": "2022-07-27T08:37:24.259Z"
   },
   {
    "duration": 9,
    "start_time": "2022-07-27T08:37:27.979Z"
   },
   {
    "duration": 9,
    "start_time": "2022-07-27T08:37:49.785Z"
   },
   {
    "duration": 12,
    "start_time": "2022-07-27T08:38:12.544Z"
   },
   {
    "duration": 10,
    "start_time": "2022-07-27T08:38:58.123Z"
   },
   {
    "duration": 12,
    "start_time": "2022-07-27T10:25:19.246Z"
   },
   {
    "duration": 12,
    "start_time": "2022-07-27T10:25:45.528Z"
   },
   {
    "duration": 11,
    "start_time": "2022-07-27T10:26:01.389Z"
   },
   {
    "duration": 15,
    "start_time": "2022-07-27T10:26:07.466Z"
   },
   {
    "duration": 17,
    "start_time": "2022-07-27T10:26:17.655Z"
   },
   {
    "duration": 12,
    "start_time": "2022-07-27T10:26:20.708Z"
   },
   {
    "duration": 7,
    "start_time": "2022-07-27T10:27:29.800Z"
   },
   {
    "duration": 7,
    "start_time": "2022-07-27T10:27:34.394Z"
   },
   {
    "duration": 13,
    "start_time": "2022-07-27T10:28:04.307Z"
   },
   {
    "duration": 16,
    "start_time": "2022-07-27T10:28:12.999Z"
   },
   {
    "duration": 12,
    "start_time": "2022-07-27T10:28:15.984Z"
   },
   {
    "duration": 16,
    "start_time": "2022-07-27T10:28:21.278Z"
   },
   {
    "duration": 14,
    "start_time": "2022-07-27T10:29:55.551Z"
   },
   {
    "duration": 12,
    "start_time": "2022-07-27T10:30:04.039Z"
   },
   {
    "duration": 11,
    "start_time": "2022-07-27T10:30:49.368Z"
   },
   {
    "duration": 9,
    "start_time": "2022-07-27T10:32:18.379Z"
   },
   {
    "duration": 11,
    "start_time": "2022-07-27T10:32:23.773Z"
   },
   {
    "duration": 13,
    "start_time": "2022-07-27T10:33:22.858Z"
   },
   {
    "duration": 12,
    "start_time": "2022-07-27T10:33:44.109Z"
   },
   {
    "duration": 1213,
    "start_time": "2022-07-27T10:34:20.960Z"
   },
   {
    "duration": 1270,
    "start_time": "2022-07-27T10:34:46.288Z"
   },
   {
    "duration": 12,
    "start_time": "2022-07-27T10:34:54.392Z"
   },
   {
    "duration": 18,
    "start_time": "2022-07-27T10:35:02.943Z"
   },
   {
    "duration": 15,
    "start_time": "2022-07-27T10:35:11.636Z"
   },
   {
    "duration": 11,
    "start_time": "2022-07-27T10:35:30.844Z"
   },
   {
    "duration": 18,
    "start_time": "2022-07-27T10:35:35.627Z"
   },
   {
    "duration": 16,
    "start_time": "2022-07-27T10:37:40.197Z"
   },
   {
    "duration": 11,
    "start_time": "2022-07-27T10:37:54.919Z"
   },
   {
    "duration": 10,
    "start_time": "2022-07-27T10:38:00.230Z"
   },
   {
    "duration": 14,
    "start_time": "2022-07-27T10:38:17.562Z"
   },
   {
    "duration": 10,
    "start_time": "2022-07-27T10:38:41.434Z"
   },
   {
    "duration": 20,
    "start_time": "2022-07-27T10:38:52.032Z"
   },
   {
    "duration": 11,
    "start_time": "2022-07-27T10:39:07.251Z"
   },
   {
    "duration": 7,
    "start_time": "2022-07-27T10:39:22.842Z"
   },
   {
    "duration": 12,
    "start_time": "2022-07-27T10:39:53.965Z"
   },
   {
    "duration": 12,
    "start_time": "2022-07-27T10:40:07.531Z"
   },
   {
    "duration": 22,
    "start_time": "2022-07-27T10:41:18.430Z"
   },
   {
    "duration": 16,
    "start_time": "2022-07-27T10:41:32.050Z"
   },
   {
    "duration": 12,
    "start_time": "2022-07-27T10:41:36.646Z"
   },
   {
    "duration": 17,
    "start_time": "2022-07-27T10:42:08.082Z"
   },
   {
    "duration": 10,
    "start_time": "2022-07-27T10:42:22.174Z"
   },
   {
    "duration": 7,
    "start_time": "2022-07-27T10:42:36.763Z"
   },
   {
    "duration": 8,
    "start_time": "2022-07-27T10:43:14.986Z"
   },
   {
    "duration": 6,
    "start_time": "2022-07-27T10:43:52.235Z"
   },
   {
    "duration": 16,
    "start_time": "2022-07-27T10:53:43.221Z"
   },
   {
    "duration": 331,
    "start_time": "2022-07-27T11:07:43.229Z"
   },
   {
    "duration": 391,
    "start_time": "2022-07-27T11:13:02.954Z"
   },
   {
    "duration": 344,
    "start_time": "2022-07-27T11:13:35.253Z"
   },
   {
    "duration": 57,
    "start_time": "2022-07-27T11:13:41.577Z"
   },
   {
    "duration": 473,
    "start_time": "2022-07-27T11:13:45.508Z"
   },
   {
    "duration": 284,
    "start_time": "2022-07-27T11:13:52.166Z"
   },
   {
    "duration": 313,
    "start_time": "2022-07-27T11:13:55.276Z"
   },
   {
    "duration": 11,
    "start_time": "2022-07-27T11:19:45.379Z"
   },
   {
    "duration": 12,
    "start_time": "2022-07-27T11:20:20.231Z"
   },
   {
    "duration": 52,
    "start_time": "2022-07-27T11:20:20.245Z"
   },
   {
    "duration": 11,
    "start_time": "2022-07-27T11:20:20.299Z"
   },
   {
    "duration": 16,
    "start_time": "2022-07-27T11:20:20.312Z"
   },
   {
    "duration": 16,
    "start_time": "2022-07-27T11:20:20.330Z"
   },
   {
    "duration": 8,
    "start_time": "2022-07-27T11:20:20.348Z"
   },
   {
    "duration": 6,
    "start_time": "2022-07-27T11:20:20.358Z"
   },
   {
    "duration": 18,
    "start_time": "2022-07-27T11:20:20.365Z"
   },
   {
    "duration": 2263,
    "start_time": "2022-07-27T11:20:20.402Z"
   },
   {
    "duration": 199,
    "start_time": "2022-07-27T11:20:22.668Z"
   },
   {
    "duration": 42,
    "start_time": "2022-07-27T11:20:22.868Z"
   },
   {
    "duration": 48,
    "start_time": "2022-07-27T11:20:22.912Z"
   },
   {
    "duration": 18,
    "start_time": "2022-07-27T11:20:22.962Z"
   },
   {
    "duration": 29,
    "start_time": "2022-07-27T11:20:22.981Z"
   },
   {
    "duration": 24,
    "start_time": "2022-07-27T11:20:23.012Z"
   },
   {
    "duration": 40,
    "start_time": "2022-07-27T11:20:23.038Z"
   },
   {
    "duration": 41,
    "start_time": "2022-07-27T11:20:23.080Z"
   },
   {
    "duration": 14,
    "start_time": "2022-07-27T11:20:23.123Z"
   },
   {
    "duration": 4,
    "start_time": "2022-07-27T11:20:23.139Z"
   },
   {
    "duration": 837,
    "start_time": "2022-07-27T11:20:23.145Z"
   },
   {
    "duration": 21,
    "start_time": "2022-07-27T11:20:23.983Z"
   },
   {
    "duration": 556,
    "start_time": "2022-07-27T11:20:24.006Z"
   },
   {
    "duration": 8,
    "start_time": "2022-07-27T11:20:24.564Z"
   },
   {
    "duration": 19,
    "start_time": "2022-07-27T11:20:29.428Z"
   },
   {
    "duration": 14,
    "start_time": "2022-07-27T11:21:00.730Z"
   },
   {
    "duration": 1522,
    "start_time": "2022-07-27T11:25:31.041Z"
   },
   {
    "duration": 14,
    "start_time": "2022-07-27T11:26:44.542Z"
   },
   {
    "duration": 12,
    "start_time": "2022-07-27T11:26:53.436Z"
   },
   {
    "duration": 51,
    "start_time": "2022-07-27T11:26:53.450Z"
   },
   {
    "duration": 11,
    "start_time": "2022-07-27T11:26:53.502Z"
   },
   {
    "duration": 10,
    "start_time": "2022-07-27T11:26:53.516Z"
   },
   {
    "duration": 10,
    "start_time": "2022-07-27T11:26:53.528Z"
   },
   {
    "duration": 12,
    "start_time": "2022-07-27T11:26:53.540Z"
   },
   {
    "duration": 8,
    "start_time": "2022-07-27T11:26:53.554Z"
   },
   {
    "duration": 49,
    "start_time": "2022-07-27T11:26:53.564Z"
   },
   {
    "duration": 2088,
    "start_time": "2022-07-27T11:26:53.615Z"
   },
   {
    "duration": 225,
    "start_time": "2022-07-27T11:26:55.706Z"
   },
   {
    "duration": 34,
    "start_time": "2022-07-27T11:26:55.932Z"
   },
   {
    "duration": 67,
    "start_time": "2022-07-27T11:26:55.968Z"
   },
   {
    "duration": 19,
    "start_time": "2022-07-27T11:26:56.037Z"
   },
   {
    "duration": 13,
    "start_time": "2022-07-27T11:26:56.058Z"
   },
   {
    "duration": 41,
    "start_time": "2022-07-27T11:26:56.073Z"
   },
   {
    "duration": 38,
    "start_time": "2022-07-27T11:26:56.116Z"
   },
   {
    "duration": 21,
    "start_time": "2022-07-27T11:26:56.156Z"
   },
   {
    "duration": 41,
    "start_time": "2022-07-27T11:26:56.179Z"
   },
   {
    "duration": 5,
    "start_time": "2022-07-27T11:26:56.222Z"
   },
   {
    "duration": 809,
    "start_time": "2022-07-27T11:26:56.229Z"
   },
   {
    "duration": 14,
    "start_time": "2022-07-27T11:26:57.040Z"
   },
   {
    "duration": 654,
    "start_time": "2022-07-27T11:26:57.057Z"
   },
   {
    "duration": 7,
    "start_time": "2022-07-27T11:26:57.713Z"
   },
   {
    "duration": 13,
    "start_time": "2022-07-27T11:26:57.722Z"
   },
   {
    "duration": 9,
    "start_time": "2022-07-27T11:26:57.737Z"
   },
   {
    "duration": 359,
    "start_time": "2022-07-27T11:26:57.748Z"
   },
   {
    "duration": 316,
    "start_time": "2022-07-27T11:26:58.109Z"
   },
   {
    "duration": 6,
    "start_time": "2022-07-27T11:26:58.429Z"
   },
   {
    "duration": 381,
    "start_time": "2022-07-27T11:26:58.436Z"
   },
   {
    "duration": 26,
    "start_time": "2022-07-27T11:26:58.819Z"
   },
   {
    "duration": 20,
    "start_time": "2022-07-27T11:26:58.847Z"
   },
   {
    "duration": 44,
    "start_time": "2022-07-27T11:26:58.869Z"
   },
   {
    "duration": 375,
    "start_time": "2022-07-27T11:26:58.915Z"
   },
   {
    "duration": 404,
    "start_time": "2022-07-27T11:26:59.292Z"
   },
   {
    "duration": 55,
    "start_time": "2022-07-27T11:26:59.698Z"
   },
   {
    "duration": 306,
    "start_time": "2022-07-27T11:26:59.754Z"
   },
   {
    "duration": 269,
    "start_time": "2022-07-27T11:27:00.062Z"
   },
   {
    "duration": 456,
    "start_time": "2022-07-27T11:27:00.333Z"
   },
   {
    "duration": 22,
    "start_time": "2022-07-27T11:27:00.791Z"
   },
   {
    "duration": 206,
    "start_time": "2022-07-27T11:27:00.814Z"
   },
   {
    "duration": 4876,
    "start_time": "2022-07-27T11:27:01.022Z"
   },
   {
    "duration": 2720,
    "start_time": "2022-07-27T11:27:05.900Z"
   },
   {
    "duration": 85,
    "start_time": "2022-07-27T11:27:08.622Z"
   },
   {
    "duration": 3,
    "start_time": "2022-07-27T11:27:08.709Z"
   },
   {
    "duration": 8,
    "start_time": "2022-07-27T11:27:08.713Z"
   },
   {
    "duration": 1502,
    "start_time": "2022-07-27T11:27:08.723Z"
   },
   {
    "duration": 8,
    "start_time": "2022-07-27T11:27:10.227Z"
   },
   {
    "duration": 10,
    "start_time": "2022-07-27T11:27:10.236Z"
   },
   {
    "duration": 28,
    "start_time": "2022-07-27T11:27:10.248Z"
   },
   {
    "duration": 11,
    "start_time": "2022-07-27T11:27:10.278Z"
   },
   {
    "duration": 15,
    "start_time": "2022-07-27T11:27:10.303Z"
   },
   {
    "duration": 10,
    "start_time": "2022-07-27T11:27:10.319Z"
   },
   {
    "duration": 1402,
    "start_time": "2022-07-27T11:27:10.331Z"
   },
   {
    "duration": 196,
    "start_time": "2022-07-27T11:27:13.299Z"
   },
   {
    "duration": 28,
    "start_time": "2022-07-27T11:27:27.990Z"
   },
   {
    "duration": 20,
    "start_time": "2022-07-27T11:28:07.068Z"
   },
   {
    "duration": 8,
    "start_time": "2022-07-27T11:28:14.421Z"
   },
   {
    "duration": 25,
    "start_time": "2022-07-27T11:28:23.410Z"
   },
   {
    "duration": 147,
    "start_time": "2022-07-27T11:28:39.026Z"
   },
   {
    "duration": 213,
    "start_time": "2022-07-27T11:28:53.279Z"
   },
   {
    "duration": 225,
    "start_time": "2022-07-27T11:29:07.113Z"
   },
   {
    "duration": 12,
    "start_time": "2022-07-27T11:29:27.973Z"
   },
   {
    "duration": 361,
    "start_time": "2022-07-27T11:29:37.332Z"
   },
   {
    "duration": 1095,
    "start_time": "2022-07-27T11:33:42.937Z"
   },
   {
    "duration": 61,
    "start_time": "2022-07-27T11:33:44.034Z"
   },
   {
    "duration": 13,
    "start_time": "2022-07-27T11:33:44.097Z"
   },
   {
    "duration": 17,
    "start_time": "2022-07-27T11:33:44.112Z"
   },
   {
    "duration": 12,
    "start_time": "2022-07-27T11:33:44.131Z"
   },
   {
    "duration": 9,
    "start_time": "2022-07-27T11:33:44.145Z"
   },
   {
    "duration": 9,
    "start_time": "2022-07-27T11:33:44.155Z"
   },
   {
    "duration": 38,
    "start_time": "2022-07-27T11:33:44.166Z"
   },
   {
    "duration": 2146,
    "start_time": "2022-07-27T11:33:44.205Z"
   },
   {
    "duration": 210,
    "start_time": "2022-07-27T11:33:46.355Z"
   },
   {
    "duration": 42,
    "start_time": "2022-07-27T11:33:46.566Z"
   },
   {
    "duration": 39,
    "start_time": "2022-07-27T11:33:46.610Z"
   },
   {
    "duration": 21,
    "start_time": "2022-07-27T11:33:46.651Z"
   },
   {
    "duration": 34,
    "start_time": "2022-07-27T11:33:46.674Z"
   },
   {
    "duration": 18,
    "start_time": "2022-07-27T11:33:46.709Z"
   },
   {
    "duration": 34,
    "start_time": "2022-07-27T11:33:46.729Z"
   },
   {
    "duration": 47,
    "start_time": "2022-07-27T11:33:46.765Z"
   },
   {
    "duration": 14,
    "start_time": "2022-07-27T11:33:46.813Z"
   },
   {
    "duration": 4,
    "start_time": "2022-07-27T11:33:46.828Z"
   },
   {
    "duration": 887,
    "start_time": "2022-07-27T11:33:46.834Z"
   },
   {
    "duration": 14,
    "start_time": "2022-07-27T11:33:47.723Z"
   },
   {
    "duration": 360,
    "start_time": "2022-07-27T11:33:47.739Z"
   },
   {
    "duration": 7,
    "start_time": "2022-07-27T11:33:48.102Z"
   },
   {
    "duration": 25,
    "start_time": "2022-07-27T11:33:48.111Z"
   },
   {
    "duration": 14,
    "start_time": "2022-07-27T11:33:48.138Z"
   },
   {
    "duration": 432,
    "start_time": "2022-07-27T11:33:48.154Z"
   },
   {
    "duration": 313,
    "start_time": "2022-07-27T11:33:48.587Z"
   },
   {
    "duration": 5,
    "start_time": "2022-07-27T11:33:48.904Z"
   },
   {
    "duration": 328,
    "start_time": "2022-07-27T11:33:48.911Z"
   },
   {
    "duration": 28,
    "start_time": "2022-07-27T11:33:49.241Z"
   },
   {
    "duration": 13,
    "start_time": "2022-07-27T11:33:49.271Z"
   },
   {
    "duration": 26,
    "start_time": "2022-07-27T11:33:49.286Z"
   },
   {
    "duration": 346,
    "start_time": "2022-07-27T11:33:49.314Z"
   },
   {
    "duration": 341,
    "start_time": "2022-07-27T11:33:49.661Z"
   },
   {
    "duration": 45,
    "start_time": "2022-07-27T11:33:50.004Z"
   },
   {
    "duration": 278,
    "start_time": "2022-07-27T11:33:50.051Z"
   },
   {
    "duration": 250,
    "start_time": "2022-07-27T11:33:50.330Z"
   },
   {
    "duration": 255,
    "start_time": "2022-07-27T11:33:50.581Z"
   },
   {
    "duration": 15,
    "start_time": "2022-07-27T11:33:50.837Z"
   },
   {
    "duration": 786,
    "start_time": "2022-07-27T11:33:50.853Z"
   },
   {
    "duration": 4800,
    "start_time": "2022-07-27T11:33:51.641Z"
   },
   {
    "duration": 2486,
    "start_time": "2022-07-27T11:33:56.443Z"
   },
   {
    "duration": 83,
    "start_time": "2022-07-27T11:33:58.931Z"
   },
   {
    "duration": 2,
    "start_time": "2022-07-27T11:33:59.016Z"
   },
   {
    "duration": 5,
    "start_time": "2022-07-27T11:33:59.020Z"
   },
   {
    "duration": 1471,
    "start_time": "2022-07-27T11:33:59.027Z"
   },
   {
    "duration": 7,
    "start_time": "2022-07-27T11:34:00.502Z"
   },
   {
    "duration": 10,
    "start_time": "2022-07-27T11:34:00.511Z"
   },
   {
    "duration": 52,
    "start_time": "2022-07-27T11:34:00.522Z"
   },
   {
    "duration": 10,
    "start_time": "2022-07-27T11:34:00.576Z"
   },
   {
    "duration": 13,
    "start_time": "2022-07-27T11:34:00.588Z"
   },
   {
    "duration": 12,
    "start_time": "2022-07-27T11:34:00.603Z"
   },
   {
    "duration": 1404,
    "start_time": "2022-07-27T11:34:00.616Z"
   },
   {
    "duration": 12,
    "start_time": "2022-07-27T11:34:02.022Z"
   },
   {
    "duration": 310,
    "start_time": "2022-07-27T11:34:02.036Z"
   },
   {
    "duration": 8,
    "start_time": "2022-07-27T11:34:02.347Z"
   },
   {
    "duration": 251,
    "start_time": "2022-07-27T11:34:02.357Z"
   },
   {
    "duration": 5,
    "start_time": "2022-07-27T11:34:02.610Z"
   },
   {
    "duration": 7,
    "start_time": "2022-07-27T11:34:02.617Z"
   },
   {
    "duration": 9,
    "start_time": "2022-07-27T11:34:02.626Z"
   },
   {
    "duration": 7,
    "start_time": "2022-07-27T11:34:02.636Z"
   },
   {
    "duration": 12,
    "start_time": "2022-07-27T11:34:22.549Z"
   }
  ],
  "kernelspec": {
   "display_name": "Python 3 (ipykernel)",
   "language": "python",
   "name": "python3"
  },
  "language_info": {
   "codemirror_mode": {
    "name": "ipython",
    "version": 3
   },
   "file_extension": ".py",
   "mimetype": "text/x-python",
   "name": "python",
   "nbconvert_exporter": "python",
   "pygments_lexer": "ipython3",
   "version": "3.9.7"
  },
  "toc": {
   "base_numbering": 1,
   "nav_menu": {},
   "number_sections": true,
   "sideBar": true,
   "skip_h1_title": true,
   "title_cell": "Table of Contents",
   "title_sidebar": "Contents",
   "toc_cell": true,
   "toc_position": {
    "height": "542.667px",
    "left": "43px",
    "top": "111.139px",
    "width": "196.806px"
   },
   "toc_section_display": true,
   "toc_window_display": true
  }
 },
 "nbformat": 4,
 "nbformat_minor": 5
}
