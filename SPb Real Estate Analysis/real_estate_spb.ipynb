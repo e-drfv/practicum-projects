{
 "cells": [
  {
   "cell_type": "markdown",
   "metadata": {
    "toc": true
   },
   "source": [
    "<h1>Содержание<span class=\"tocSkip\"></span></h1>\n",
    "<div class=\"toc\"><ul class=\"toc-item\"><li><span><a href=\"#Изучение-данных-из-файла\" data-toc-modified-id=\"Изучение-данных-из-файла-1\"><span class=\"toc-item-num\">1&nbsp;&nbsp;</span>Изучение данных из файла</a></span><ul class=\"toc-item\"><li><span><a href=\"#Вывод\" data-toc-modified-id=\"Вывод-1.1\"><span class=\"toc-item-num\">1.1&nbsp;&nbsp;</span>Вывод</a></span></li></ul></li><li><span><a href=\"#Предобработка-данных\" data-toc-modified-id=\"Предобработка-данных-2\"><span class=\"toc-item-num\">2&nbsp;&nbsp;</span>Предобработка данных</a></span><ul class=\"toc-item\"><li><span><a href=\"#Скорректируем-дубли\" data-toc-modified-id=\"Скорректируем-дубли-2.1\"><span class=\"toc-item-num\">2.1&nbsp;&nbsp;</span>Скорректируем дубли</a></span><ul class=\"toc-item\"><li><span><a href=\"#Заменим-название-для-самого-неудобного-столбца\" data-toc-modified-id=\"Заменим-название-для-самого-неудобного-столбца-2.1.1\"><span class=\"toc-item-num\">2.1.1&nbsp;&nbsp;</span>Заменим название для самого неудобного столбца</a></span></li><li><span><a href=\"#Уберем-неявные-дубли\" data-toc-modified-id=\"Уберем-неявные-дубли-2.1.2\"><span class=\"toc-item-num\">2.1.2&nbsp;&nbsp;</span>Уберем неявные дубли</a></span></li><li><span><a href=\"#Приведем-дату-к-корректному-виду\" data-toc-modified-id=\"Приведем-дату-к-корректному-виду-2.1.3\"><span class=\"toc-item-num\">2.1.3&nbsp;&nbsp;</span>Приведем дату к корректному виду</a></span></li></ul></li><li><span><a href=\"#Заполним-пропущенные-значения\" data-toc-modified-id=\"Заполним-пропущенные-значения-2.2\"><span class=\"toc-item-num\">2.2&nbsp;&nbsp;</span>Заполним пропущенные значения</a></span><ul class=\"toc-item\"><li><span><a href=\"#Скорректируем-нечисловые-столбцы\" data-toc-modified-id=\"Скорректируем-нечисловые-столбцы-2.2.1\"><span class=\"toc-item-num\">2.2.1&nbsp;&nbsp;</span>Скорректируем нечисловые столбцы</a></span></li><li><span><a href=\"#Остальные-числовые-столбцы-медианными-значениями.\" data-toc-modified-id=\"Остальные-числовые-столбцы-медианными-значениями.-2.2.2\"><span class=\"toc-item-num\">2.2.2&nbsp;&nbsp;</span>Остальные числовые столбцы медианными значениями.</a></span></li><li><span><a href=\"#Переведем-значения-столбцов,-которые-должны-быть-целочисленными-в-int-для-удобства.\" data-toc-modified-id=\"Переведем-значения-столбцов,-которые-должны-быть-целочисленными-в-int-для-удобства.-2.2.3\"><span class=\"toc-item-num\">2.2.3&nbsp;&nbsp;</span>Переведем значения столбцов, которые должны быть целочисленными в int для удобства.</a></span></li></ul></li></ul></li><li><span><a href=\"#Расчёты-и-добавление-результатов-в-таблицу\" data-toc-modified-id=\"Расчёты-и-добавление-результатов-в-таблицу-3\"><span class=\"toc-item-num\">3&nbsp;&nbsp;</span>Расчёты и добавление результатов в таблицу</a></span><ul class=\"toc-item\"><li><span><a href=\"#Расчет-цены-квадратного-метра\" data-toc-modified-id=\"Расчет-цены-квадратного-метра-3.1\"><span class=\"toc-item-num\">3.1&nbsp;&nbsp;</span>Расчет цены квадратного метра</a></span></li><li><span><a href=\"#День-недели,-месяц-и-год-публикации-объявления\" data-toc-modified-id=\"День-недели,-месяц-и-год-публикации-объявления-3.2\"><span class=\"toc-item-num\">3.2&nbsp;&nbsp;</span>День недели, месяц и год публикации объявления</a></span></li><li><span><a href=\"#Классифицируем-этаж-квартиры;-варианты-—-первый,-последний,-другой\" data-toc-modified-id=\"Классифицируем-этаж-квартиры;-варианты-—-первый,-последний,-другой-3.3\"><span class=\"toc-item-num\">3.3&nbsp;&nbsp;</span>Классифицируем этаж квартиры; варианты — первый, последний, другой</a></span></li><li><span><a href=\"#Посчитаем-соотношение-жилой-и-общей-площади,-а-также-отношение-площади-кухни-к-общей.\" data-toc-modified-id=\"Посчитаем-соотношение-жилой-и-общей-площади,-а-также-отношение-площади-кухни-к-общей.-3.4\"><span class=\"toc-item-num\">3.4&nbsp;&nbsp;</span>Посчитаем соотношение жилой и общей площади, а также отношение площади кухни к общей.</a></span></li></ul></li><li><span><a href=\"#Исследовательский-анализ-данных\" data-toc-modified-id=\"Исследовательский-анализ-данных-4\"><span class=\"toc-item-num\">4&nbsp;&nbsp;</span>Исследовательский анализ данных</a></span><ul class=\"toc-item\"><li><span><a href=\"#Изучим--основные-параметры-квартир:-площадь,-цену,-число-комнат,-высоту-потолков\" data-toc-modified-id=\"Изучим--основные-параметры-квартир:-площадь,-цену,-число-комнат,-высоту-потолков-4.1\"><span class=\"toc-item-num\">4.1&nbsp;&nbsp;</span>Изучим  основные параметры квартир: площадь, цену, число комнат, высоту потолков</a></span></li><li><span><a href=\"#Изучим-время-продажи-квартиры\" data-toc-modified-id=\"Изучим-время-продажи-квартиры-4.2\"><span class=\"toc-item-num\">4.2&nbsp;&nbsp;</span>Изучим время продажи квартиры</a></span></li><li><span><a href=\"#Почистим-данные-от-редких-и-выбивающихся-значений\" data-toc-modified-id=\"Почистим-данные-от-редких-и-выбивающихся-значений-4.3\"><span class=\"toc-item-num\">4.3&nbsp;&nbsp;</span>Почистим данные от редких и выбивающихся значений</a></span></li><li><span><a href=\"#Какие-факторы-больше-всего-влияют-на-стоимость-квартиры\" data-toc-modified-id=\"Какие-факторы-больше-всего-влияют-на-стоимость-квартиры-4.4\"><span class=\"toc-item-num\">4.4&nbsp;&nbsp;</span>Какие факторы больше всего влияют на стоимость квартиры</a></span><ul class=\"toc-item\"><li><span><a href=\"#Зависит-ли-цена-от-площади?\" data-toc-modified-id=\"Зависит-ли-цена-от-площади?-4.4.1\"><span class=\"toc-item-num\">4.4.1&nbsp;&nbsp;</span>Зависит ли цена от площади?</a></span></li><li><span><a href=\"#Зависит-ли-цена-от-количества-комнат?\" data-toc-modified-id=\"Зависит-ли-цена-от-количества-комнат?-4.4.2\"><span class=\"toc-item-num\">4.4.2&nbsp;&nbsp;</span>Зависит ли цена от количества комнат?</a></span></li><li><span><a href=\"#Зависит-ли-цена-от-близости-к-центру?\" data-toc-modified-id=\"Зависит-ли-цена-от-близости-к-центру?-4.4.3\"><span class=\"toc-item-num\">4.4.3&nbsp;&nbsp;</span>Зависит ли цена от близости к центру?</a></span></li><li><span><a href=\"#Зависит-ли-цена-от-этажа?\" data-toc-modified-id=\"Зависит-ли-цена-от-этажа?-4.4.4\"><span class=\"toc-item-num\">4.4.4&nbsp;&nbsp;</span>Зависит ли цена от этажа?</a></span></li><li><span><a href=\"#Зависит-ли-цена-от-дня-недели-размещения?\" data-toc-modified-id=\"Зависит-ли-цена-от-дня-недели-размещения?-4.4.5\"><span class=\"toc-item-num\">4.4.5&nbsp;&nbsp;</span>Зависит ли цена от дня недели размещения?</a></span></li><li><span><a href=\"#Зависит-ли-цена-от-месяца-размещения?\" data-toc-modified-id=\"Зависит-ли-цена-от-месяца-размещения?-4.4.6\"><span class=\"toc-item-num\">4.4.6&nbsp;&nbsp;</span>Зависит ли цена от месяца размещения?</a></span></li><li><span><a href=\"#Зависит-ли-цена-от-года-размещения?\" data-toc-modified-id=\"Зависит-ли-цена-от-года-размещения?-4.4.7\"><span class=\"toc-item-num\">4.4.7&nbsp;&nbsp;</span>Зависит ли цена от года размещения?</a></span></li><li><span><a href=\"#Общие-зависимости\" data-toc-modified-id=\"Общие-зависимости-4.4.8\"><span class=\"toc-item-num\">4.4.8&nbsp;&nbsp;</span>Общие зависимости</a></span></li></ul></li><li><span><a href=\"#10-населённых-пунктов-с-наибольшим-числом-объявлений.\" data-toc-modified-id=\"10-населённых-пунктов-с-наибольшим-числом-объявлений.-4.5\"><span class=\"toc-item-num\">4.5&nbsp;&nbsp;</span>10 населённых пунктов с наибольшим числом объявлений.</a></span></li><li><span><a href=\"#Зависимость-цены-от-расстояния-до-центра\" data-toc-modified-id=\"Зависимость-цены-от-расстояния-до-центра-4.6\"><span class=\"toc-item-num\">4.6&nbsp;&nbsp;</span>Зависимость цены от расстояния до центра</a></span></li><li><span><a href=\"#Проанализируем-квартиры-в-центре\" data-toc-modified-id=\"Проанализируем-квартиры-в-центре-4.7\"><span class=\"toc-item-num\">4.7&nbsp;&nbsp;</span>Проанализируем квартиры в центре</a></span><ul class=\"toc-item\"><li><span><a href=\"#Исследуем-распределение-основных-параметров\" data-toc-modified-id=\"Исследуем-распределение-основных-параметров-4.7.1\"><span class=\"toc-item-num\">4.7.1&nbsp;&nbsp;</span>Исследуем распределение основных параметров</a></span></li><li><span><a href=\"#Исследуем-связь-цены-с-дополнительными-параметрами\" data-toc-modified-id=\"Исследуем-связь-цены-с-дополнительными-параметрами-4.7.2\"><span class=\"toc-item-num\">4.7.2&nbsp;&nbsp;</span>Исследуем связь цены с дополнительными параметрами</a></span></li></ul></li></ul></li><li><span><a href=\"#Общий-вывод\" data-toc-modified-id=\"Общий-вывод-5\"><span class=\"toc-item-num\">5&nbsp;&nbsp;</span>Общий вывод</a></span></li><li><span><a href=\"#Чек-лист-готовности-проекта\" data-toc-modified-id=\"Чек-лист-готовности-проекта-6\"><span class=\"toc-item-num\">6&nbsp;&nbsp;</span>Чек-лист готовности проекта</a></span></li></ul></div>"
   ]
  },
  {
   "cell_type": "markdown",
   "metadata": {},
   "source": [
    "# Исследование объявлений о продаже квартир\n",
    "\n",
    "Изучаем данные сервиса Яндекc Недвижимость — архив объявлений о продаже квартир в Санкт-Петербурге и соседних населённых пунктах за несколько лет. Определяем рыночную стоимость объектов недвижимости. Строим автоматизированную систему: она отследит аномалии и мошенническую деятельность. \n",
    "\n",
    "По каждой квартире на продажу доступны два вида данных. Первые вписаны пользователем, вторые получены автоматически на основе картографических данных. Например, расстояние до центра, аэропорта, ближайшего парка и водоёма. "
   ]
  },
  {
   "cell_type": "markdown",
   "metadata": {},
   "source": [
    "*Описание данных*\n",
    "+ airports_nearest — расстояние до ближайшего аэропорта в метрах (м)\n",
    "+ balcony — число балконов\n",
    "+ ceiling_height — высота потолков (м)\n",
    "+ cityCenters_nearest — расстояние до центра города (м)\n",
    "+ days_exposition — сколько дней было размещено объявление (от публикации до снятия)\n",
    "+ first_day_exposition — дата публикации\n",
    "+ floor — этаж\n",
    "+ floors_total — всего этажей в доме\n",
    "+ is_apartment — апартаменты (булев тип)\n",
    "+ kitchen_area — площадь кухни в квадратных метрах (м²)\n",
    "+ last_price — цена на момент снятия с публикации\n",
    "+ living_area — жилая площадь в квадратных метрах (м²)\n",
    "+ locality_name — название населённого пункта\n",
    "+ open_plan — свободная планировка (булев тип)\n",
    "+ parks_around3000 — число парков в радиусе 3 км\n",
    "+ parks_nearest — расстояние до ближайшего парка (м)\n",
    "+ ponds_around3000 — число водоёмов в радиусе 3 км\n",
    "+ ponds_nearest — расстояние до ближайшего водоёма (м)\n",
    "+ rooms — число комнат\n",
    "+ studio — квартира-студия (булев тип)\n",
    "+ total_area — площадь квартиры в квадратных метрах (м²)\n",
    "+ total_images — число фотографий квартиры в объявлении"
   ]
  },
  {
   "cell_type": "markdown",
   "metadata": {},
   "source": [
    "## Изучение данных из файла"
   ]
  },
  {
   "cell_type": "code",
   "execution_count": 1,
   "metadata": {},
   "outputs": [],
   "source": [
    "import pandas as pd\n",
    "\n",
    "import warnings\n",
    "warnings.filterwarnings('ignore')\n",
    "import os\n",
    "\n",
    "import matplotlib.pyplot as plt"
   ]
  },
  {
   "cell_type": "code",
   "execution_count": 2,
   "metadata": {},
   "outputs": [],
   "source": [
    "if os.path.exists('/datasets/real_estate_data.csv'):\n",
    "    df = pd.read_csv('/datasets/real_estate_data.csv', sep='\\t')\n",
    "else:\n",
    "    df = pd.read_csv('datasets/real_estate_data.csv', sep='\\t')"
   ]
  },
  {
   "cell_type": "code",
   "execution_count": 3,
   "metadata": {
    "scrolled": true
   },
   "outputs": [
    {
     "name": "stdout",
     "output_type": "stream",
     "text": [
      "<class 'pandas.core.frame.DataFrame'>\n",
      "RangeIndex: 23699 entries, 0 to 23698\n",
      "Data columns (total 22 columns):\n",
      " #   Column                Non-Null Count  Dtype  \n",
      "---  ------                --------------  -----  \n",
      " 0   total_images          23699 non-null  int64  \n",
      " 1   last_price            23699 non-null  float64\n",
      " 2   total_area            23699 non-null  float64\n",
      " 3   first_day_exposition  23699 non-null  object \n",
      " 4   rooms                 23699 non-null  int64  \n",
      " 5   ceiling_height        14504 non-null  float64\n",
      " 6   floors_total          23613 non-null  float64\n",
      " 7   living_area           21796 non-null  float64\n",
      " 8   floor                 23699 non-null  int64  \n",
      " 9   is_apartment          2775 non-null   object \n",
      " 10  studio                23699 non-null  bool   \n",
      " 11  open_plan             23699 non-null  bool   \n",
      " 12  kitchen_area          21421 non-null  float64\n",
      " 13  balcony               12180 non-null  float64\n",
      " 14  locality_name         23650 non-null  object \n",
      " 15  airports_nearest      18157 non-null  float64\n",
      " 16  cityCenters_nearest   18180 non-null  float64\n",
      " 17  parks_around3000      18181 non-null  float64\n",
      " 18  parks_nearest         8079 non-null   float64\n",
      " 19  ponds_around3000      18181 non-null  float64\n",
      " 20  ponds_nearest         9110 non-null   float64\n",
      " 21  days_exposition       20518 non-null  float64\n",
      "dtypes: bool(2), float64(14), int64(3), object(3)\n",
      "memory usage: 3.7+ MB\n"
     ]
    }
   ],
   "source": [
    "df.info() #оценим общую информацию"
   ]
  },
  {
   "cell_type": "code",
   "execution_count": 4,
   "metadata": {},
   "outputs": [
    {
     "data": {
      "text/plain": [
       "0"
      ]
     },
     "execution_count": 4,
     "metadata": {},
     "output_type": "execute_result"
    }
   ],
   "source": [
    "df.duplicated().sum() #посмотрим количество дубликатов"
   ]
  },
  {
   "cell_type": "code",
   "execution_count": 5,
   "metadata": {
    "scrolled": true
   },
   "outputs": [
    {
     "data": {
      "text/plain": [
       "total_images            0.000000\n",
       "last_price              0.000000\n",
       "total_area              0.000000\n",
       "first_day_exposition    0.000000\n",
       "rooms                   0.000000\n",
       "ceiling_height          0.387991\n",
       "floors_total            0.003629\n",
       "living_area             0.080299\n",
       "floor                   0.000000\n",
       "is_apartment            0.882906\n",
       "studio                  0.000000\n",
       "open_plan               0.000000\n",
       "kitchen_area            0.096122\n",
       "balcony                 0.486054\n",
       "locality_name           0.002068\n",
       "airports_nearest        0.233850\n",
       "cityCenters_nearest     0.232879\n",
       "parks_around3000        0.232837\n",
       "parks_nearest           0.659100\n",
       "ponds_around3000        0.232837\n",
       "ponds_nearest           0.615596\n",
       "days_exposition         0.134225\n",
       "dtype: float64"
      ]
     },
     "execution_count": 5,
     "metadata": {},
     "output_type": "execute_result"
    }
   ],
   "source": [
    "df.isna().mean() #посмотрим процент пропусков в столбцах"
   ]
  },
  {
   "cell_type": "code",
   "execution_count": 6,
   "metadata": {},
   "outputs": [
    {
     "data": {
      "text/plain": [
       "array(['Бокситогорск', 'Волосово', 'Волхов', 'Всеволожск', 'Выборг',\n",
       "       'Высоцк', 'Гатчина', 'Зеленогорск', 'Ивангород', 'Каменногорск',\n",
       "       'Кингисепп', 'Кириши', 'Кировск', 'Колпино', 'Коммунар',\n",
       "       'Красное Село', 'Кронштадт', 'Кудрово', 'Лодейное Поле',\n",
       "       'Ломоносов', 'Луга', 'Любань', 'Мурино', 'Никольское',\n",
       "       'Новая Ладога', 'Отрадное', 'Павловск', 'Петергоф', 'Пикалёво',\n",
       "       'Подпорожье', 'Приморск', 'Приозерск', 'Пушкин', 'Санкт-Петербург',\n",
       "       'Светогорск', 'Сертолово', 'Сестрорецк', 'Сланцы', 'Сосновый Бор',\n",
       "       'Сясьстрой', 'Тихвин', 'Тосно', 'Шлиссельбург',\n",
       "       'городской поселок Большая Ижора', 'городской поселок Янино-1',\n",
       "       'городской посёлок Будогощь', 'городской посёлок Виллози',\n",
       "       'городской посёлок Лесогорский', 'городской посёлок Мга',\n",
       "       'городской посёлок Назия', 'городской посёлок Новоселье',\n",
       "       'городской посёлок Павлово', 'городской посёлок Рощино',\n",
       "       'городской посёлок Свирьстрой', 'городской посёлок Советский',\n",
       "       'городской посёлок Фёдоровское', 'городской посёлок Янино-1',\n",
       "       'деревня Агалатово', 'деревня Аро', 'деревня Батово',\n",
       "       'деревня Бегуницы', 'деревня Белогорка', 'деревня Большая Вруда',\n",
       "       'деревня Большая Пустомержа', 'деревня Большие Колпаны',\n",
       "       'деревня Большое Рейзино', 'деревня Большой Сабск', 'деревня Бор',\n",
       "       'деревня Борисова Грива', 'деревня Ваганово', 'деревня Вартемяги',\n",
       "       'деревня Вахнова Кара', 'деревня Выскатка', 'деревня Гарболово',\n",
       "       'деревня Глинка', 'деревня Горбунки', 'деревня Гостилицы',\n",
       "       'деревня Заклинье', 'деревня Заневка', 'деревня Зимитицы',\n",
       "       'деревня Извара', 'деревня Иссад', 'деревня Калитино',\n",
       "       'деревня Кальтино', 'деревня Камышовка', 'деревня Каськово',\n",
       "       'деревня Келози', 'деревня Кипень', 'деревня Кисельня',\n",
       "       'деревня Колтуши', 'деревня Коркино', 'деревня Котлы',\n",
       "       'деревня Кривко', 'деревня Кудрово', 'деревня Кузьмолово',\n",
       "       'деревня Курковицы', 'деревня Куровицы', 'деревня Куттузи',\n",
       "       'деревня Лаврики', 'деревня Лаголово', 'деревня Лампово',\n",
       "       'деревня Лесколово', 'деревня Лопухинка', 'деревня Лупполово',\n",
       "       'деревня Малая Романовка', 'деревня Малое Верево',\n",
       "       'деревня Малое Карлино', 'деревня Малые Колпаны',\n",
       "       'деревня Мануйлово', 'деревня Меньково', 'деревня Мины',\n",
       "       'деревня Мистолово', 'деревня Ненимяки', 'деревня Нижние Осельки',\n",
       "       'деревня Нижняя', 'деревня Низино', 'деревня Новое Девяткино',\n",
       "       'деревня Новолисино', 'деревня Нурма', 'деревня Оржицы',\n",
       "       'деревня Парицы', 'деревня Пельгора', 'деревня Пеники',\n",
       "       'деревня Пижма', 'деревня Пикколово', 'деревня Пудомяги',\n",
       "       'деревня Пустынка', 'деревня Пчева', 'деревня Рабитицы',\n",
       "       'деревня Разбегаево', 'деревня Раздолье', 'деревня Разметелево',\n",
       "       'деревня Рапполово', 'деревня Реброво', 'деревня Русско',\n",
       "       'деревня Сижно', 'деревня Снегирёвка', 'деревня Старая',\n",
       "       'деревня Старая Пустошь', 'деревня Старое Хинколово',\n",
       "       'деревня Старополье', 'деревня Старосиверская',\n",
       "       'деревня Старые Бегуницы', 'деревня Суоранда',\n",
       "       'деревня Сяськелево', 'деревня Тарасово', 'деревня Терпилицы',\n",
       "       'деревня Тихковицы', 'деревня Тойворово', 'деревня Торосово',\n",
       "       'деревня Торошковичи', 'деревня Трубников Бор',\n",
       "       'деревня Фалилеево', 'деревня Фёдоровское', 'деревня Хапо-Ое',\n",
       "       'деревня Хязельки', 'деревня Чудской Бор', 'деревня Шпаньково',\n",
       "       'деревня Щеглово', 'деревня Юкки', 'деревня Ялгино',\n",
       "       'деревня Яльгелево', 'деревня Ям-Тесово',\n",
       "       'коттеджный поселок Кивеннапа Север', 'коттеджный поселок Счастье',\n",
       "       'коттеджный посёлок Лесное', 'поселок Аннино', 'поселок Барышево',\n",
       "       'поселок Бугры', 'поселок Возрождение', 'поселок Войсковицы',\n",
       "       'поселок Володарское', 'поселок Гаврилово', 'поселок Гарболово',\n",
       "       'поселок Гладкое', 'поселок Глажево', 'поселок Глебычево',\n",
       "       'поселок Гончарово', 'поселок Громово', 'поселок Дружноселье',\n",
       "       'поселок Елизаветино', 'поселок Жилгородок', 'поселок Жилпосёлок',\n",
       "       'поселок Житково', 'поселок Заводской', 'поселок Запорожское',\n",
       "       'поселок Зимитицы', 'поселок Ильичёво', 'поселок Калитино',\n",
       "       'поселок Каложицы', 'поселок Кингисеппский', 'поселок Кирпичное',\n",
       "       'поселок Кобралово', 'поселок Кобринское', 'поселок Коммунары',\n",
       "       'поселок Коробицыно', 'поселок Котельский',\n",
       "       'поселок Красная Долина', 'поселок Красносельское',\n",
       "       'поселок Лесное', 'поселок Лисий Нос', 'поселок Лукаши',\n",
       "       'поселок Любань', 'поселок Мельниково', 'поселок Мичуринское',\n",
       "       'поселок Молодцово', 'поселок Мурино', 'поселок Новый Свет',\n",
       "       'поселок Новый Учхоз', 'поселок Оредеж',\n",
       "       'поселок Пансионат Зелёный Бор', 'поселок Первомайское',\n",
       "       'поселок Перово', 'поселок Петровское', 'поселок Победа',\n",
       "       'поселок Поляны', 'поселок Почап', 'поселок Починок',\n",
       "       'поселок Пушное', 'поселок Пчевжа', 'поселок Рабитицы',\n",
       "       'поселок Романовка', 'поселок Ромашки', 'поселок Рябово',\n",
       "       'поселок Севастьяново', 'поселок Селезнёво', 'поселок Сельцо',\n",
       "       'поселок Семиозерье', 'поселок Семрино', 'поселок Серебрянский',\n",
       "       'поселок Совхозный', 'поселок Старая Малукса',\n",
       "       'поселок Стеклянный', 'поселок Сумино', 'поселок Суходолье',\n",
       "       'поселок Тельмана', 'поселок Терволово', 'поселок Торковичи',\n",
       "       'поселок Тёсово-4', 'поселок Углово', 'поселок Усть-Луга',\n",
       "       'поселок Ушаки', 'поселок Цвелодубово', 'поселок Цвылёво',\n",
       "       'поселок городского типа Большая Ижора',\n",
       "       'поселок городского типа Вырица',\n",
       "       'поселок городского типа Дружная Горка',\n",
       "       'поселок городского типа Дубровка',\n",
       "       'поселок городского типа Ефимовский',\n",
       "       'поселок городского типа Кондратьево',\n",
       "       'поселок городского типа Красный Бор',\n",
       "       'поселок городского типа Кузьмоловский',\n",
       "       'поселок городского типа Лебяжье',\n",
       "       'поселок городского типа Лесогорский',\n",
       "       'поселок городского типа Назия',\n",
       "       'поселок городского типа Никольский',\n",
       "       'поселок городского типа Приладожский',\n",
       "       'поселок городского типа Рахья', 'поселок городского типа Рощино',\n",
       "       'поселок городского типа Рябово',\n",
       "       'поселок городского типа Синявино',\n",
       "       'поселок городского типа Советский',\n",
       "       'поселок городского типа Токсово',\n",
       "       'поселок городского типа Форносово',\n",
       "       'поселок городского типа имени Свердлова',\n",
       "       'поселок станции Вещево', 'поселок станции Корнево',\n",
       "       'поселок станции Лужайка', 'поселок станции Приветнинское',\n",
       "       'посёлок Александровская', 'посёлок Алексеевка', 'посёлок Аннино',\n",
       "       'посёлок Белоостров', 'посёлок Бугры', 'посёлок Возрождение',\n",
       "       'посёлок Войскорово', 'посёлок Высокоключевой',\n",
       "       'посёлок Гаврилово', 'посёлок Дзержинского', 'посёлок Жилгородок',\n",
       "       'посёлок Ильичёво', 'посёлок Кикерино', 'посёлок Кобралово',\n",
       "       'посёлок Коробицыно', 'посёлок Левашово', 'посёлок Ленинское',\n",
       "       'посёлок Лисий Нос', 'посёлок Мельниково', 'посёлок Металлострой',\n",
       "       'посёлок Мичуринское', 'посёлок Молодёжное', 'посёлок Мурино',\n",
       "       'посёлок Мыза-Ивановка', 'посёлок Новогорелово',\n",
       "       'посёлок Новый Свет', 'посёлок Пансионат Зелёный Бор',\n",
       "       'посёлок Парголово', 'посёлок Перово', 'посёлок Песочный',\n",
       "       'посёлок Петро-Славянка', 'посёлок Петровское',\n",
       "       'посёлок Платформа 69-й километр', 'посёлок Плодовое',\n",
       "       'посёлок Плоское', 'посёлок Победа', 'посёлок Поляны',\n",
       "       'посёлок Понтонный', 'посёлок Пригородный', 'посёлок Пудость',\n",
       "       'посёлок Репино', 'посёлок Ропша', 'посёлок Сапёрное',\n",
       "       'посёлок Сапёрный', 'посёлок Сосново', 'посёлок Старая Малукса',\n",
       "       'посёлок Стеклянный', 'посёлок Стрельна', 'посёлок Суйда',\n",
       "       'посёлок Сумино', 'посёлок Тельмана', 'посёлок Терволово',\n",
       "       'посёлок Торфяное', 'посёлок Усть-Ижора', 'посёлок Усть-Луга',\n",
       "       'посёлок Форт Красная Горка', 'посёлок Шугозеро', 'посёлок Шушары',\n",
       "       'посёлок Щеглово', 'посёлок городского типа Важины',\n",
       "       'посёлок городского типа Вознесенье',\n",
       "       'посёлок городского типа Вырица',\n",
       "       'посёлок городского типа Красный Бор',\n",
       "       'посёлок городского типа Кузнечное',\n",
       "       'посёлок городского типа Кузьмоловский',\n",
       "       'посёлок городского типа Лебяжье', 'посёлок городского типа Мга',\n",
       "       'посёлок городского типа Павлово',\n",
       "       'посёлок городского типа Рощино', 'посёлок городского типа Рябово',\n",
       "       'посёлок городского типа Сиверский',\n",
       "       'посёлок городского типа Тайцы', 'посёлок городского типа Токсово',\n",
       "       'посёлок городского типа Ульяновка',\n",
       "       'посёлок городского типа Форносово',\n",
       "       'посёлок городского типа имени Морозова',\n",
       "       'посёлок городского типа имени Свердлова',\n",
       "       'посёлок при железнодорожной станции Вещево',\n",
       "       'посёлок при железнодорожной станции Приветнинское',\n",
       "       'посёлок станции Громово', 'посёлок станции Свирь',\n",
       "       'садоводческое некоммерческое товарищество Лесная Поляна',\n",
       "       'садовое товарищество Новая Ропша',\n",
       "       'садовое товарищество Приладожский', 'садовое товарищество Рахья',\n",
       "       'садовое товарищество Садко', 'село Копорье', 'село Никольское',\n",
       "       'село Павлово', 'село Паша', 'село Путилово', 'село Рождествено',\n",
       "       'село Русско-Высоцкое', 'село Старая Ладога', 'село Шум', nan],\n",
       "      dtype=object)"
      ]
     },
     "execution_count": 6,
     "metadata": {},
     "output_type": "execute_result"
    }
   ],
   "source": [
    "df['locality_name'].sort_values().unique() #проверим, нет ли неявных дублей в названиях городов"
   ]
  },
  {
   "cell_type": "markdown",
   "metadata": {},
   "source": [
    "### Вывод"
   ]
  },
  {
   "cell_type": "markdown",
   "metadata": {},
   "source": [
    "В данных есть поблемы:\n",
    "* пропущенные значения,\n",
    "* некорректные типы данных,\n",
    "* неудобно названные столбцы,\n",
    "* неявные дубли.\n",
    "\n",
    "Явных дубликатов нет."
   ]
  },
  {
   "cell_type": "markdown",
   "metadata": {},
   "source": [
    "## Предобработка данных"
   ]
  },
  {
   "cell_type": "markdown",
   "metadata": {},
   "source": [
    "### Скорректируем дубли"
   ]
  },
  {
   "cell_type": "markdown",
   "metadata": {},
   "source": [
    "#### Заменим название для самого неудобного столбца"
   ]
  },
  {
   "cell_type": "code",
   "execution_count": 7,
   "metadata": {},
   "outputs": [],
   "source": [
    "df.rename(columns={'cityCenters_nearest':'citycenters_nearest'}, inplace=True)"
   ]
  },
  {
   "cell_type": "markdown",
   "metadata": {},
   "source": [
    "#### Уберем неявные дубли"
   ]
  },
  {
   "cell_type": "markdown",
   "metadata": {},
   "source": [
    "Заменим слово \"посёлок\" на \"поселок\" - это неявный дубль, это может увеличить количество данных по небольшим городам."
   ]
  },
  {
   "cell_type": "code",
   "execution_count": 8,
   "metadata": {},
   "outputs": [],
   "source": [
    "df['locality_name'] = df['locality_name'].str.replace('посёлок', 'поселок')"
   ]
  },
  {
   "cell_type": "markdown",
   "metadata": {},
   "source": [
    "#### Приведем дату к корректному виду"
   ]
  },
  {
   "cell_type": "code",
   "execution_count": 9,
   "metadata": {},
   "outputs": [],
   "source": [
    "df['first_day_exposition'] = pd.to_datetime(df['first_day_exposition'], format='%Y-%m-%dT%H:%M:%S')"
   ]
  },
  {
   "cell_type": "markdown",
   "metadata": {},
   "source": [
    "### Заполним пропущенные значения"
   ]
  },
  {
   "cell_type": "markdown",
   "metadata": {},
   "source": [
    "#### Скорректируем нечисловые столбцы"
   ]
  },
  {
   "cell_type": "markdown",
   "metadata": {},
   "source": [
    "Выбросим столбцы без указания местоположения (их немного)"
   ]
  },
  {
   "cell_type": "code",
   "execution_count": 10,
   "metadata": {},
   "outputs": [],
   "source": [
    "df = df.dropna(subset=['locality_name'])"
   ]
  },
  {
   "cell_type": "markdown",
   "metadata": {},
   "source": [
    "Значения аппартаментов логично заменить на False - если человек не указал, значит это не аппартаменты."
   ]
  },
  {
   "cell_type": "code",
   "execution_count": 11,
   "metadata": {
    "scrolled": true
   },
   "outputs": [],
   "source": [
    "df['is_apartment'] = df['is_apartment'].fillna('False')"
   ]
  },
  {
   "cell_type": "markdown",
   "metadata": {},
   "source": [
    "Аналогично, если не указали количество балконов - значит их нет."
   ]
  },
  {
   "cell_type": "code",
   "execution_count": 12,
   "metadata": {
    "scrolled": true
   },
   "outputs": [],
   "source": [
    "df['balcony'] = df['balcony'].fillna('0')"
   ]
  },
  {
   "cell_type": "code",
   "execution_count": 13,
   "metadata": {},
   "outputs": [
    {
     "name": "stdout",
     "output_type": "stream",
     "text": [
      "<class 'pandas.core.frame.DataFrame'>\n",
      "Int64Index: 23650 entries, 0 to 23698\n",
      "Data columns (total 22 columns):\n",
      " #   Column                Non-Null Count  Dtype         \n",
      "---  ------                --------------  -----         \n",
      " 0   total_images          23650 non-null  int64         \n",
      " 1   last_price            23650 non-null  float64       \n",
      " 2   total_area            23650 non-null  float64       \n",
      " 3   first_day_exposition  23650 non-null  datetime64[ns]\n",
      " 4   rooms                 23650 non-null  int64         \n",
      " 5   ceiling_height        14490 non-null  float64       \n",
      " 6   floors_total          23565 non-null  float64       \n",
      " 7   living_area           21752 non-null  float64       \n",
      " 8   floor                 23650 non-null  int64         \n",
      " 9   is_apartment          23650 non-null  object        \n",
      " 10  studio                23650 non-null  bool          \n",
      " 11  open_plan             23650 non-null  bool          \n",
      " 12  kitchen_area          21381 non-null  float64       \n",
      " 13  balcony               23650 non-null  object        \n",
      " 14  locality_name         23650 non-null  object        \n",
      " 15  airports_nearest      18116 non-null  float64       \n",
      " 16  citycenters_nearest   18139 non-null  float64       \n",
      " 17  parks_around3000      18140 non-null  float64       \n",
      " 18  parks_nearest         8064 non-null   float64       \n",
      " 19  ponds_around3000      18140 non-null  float64       \n",
      " 20  ponds_nearest         9085 non-null   float64       \n",
      " 21  days_exposition       20470 non-null  float64       \n",
      "dtypes: bool(2), datetime64[ns](1), float64(13), int64(3), object(3)\n",
      "memory usage: 3.8+ MB\n"
     ]
    }
   ],
   "source": [
    "df.info()"
   ]
  },
  {
   "cell_type": "markdown",
   "metadata": {},
   "source": [
    "#### Остальные числовые столбцы медианными значениями."
   ]
  },
  {
   "cell_type": "markdown",
   "metadata": {},
   "source": [
    "Для большинства числовых значений будет корректно заполнить пропуски медианой по сгруппированным по местоположению данным."
   ]
  },
  {
   "cell_type": "code",
   "execution_count": 14,
   "metadata": {},
   "outputs": [],
   "source": [
    "num_columns = ['ceiling_height', 'living_area', 'kitchen_area']\n",
    "for col in num_columns:\n",
    "    df[col] = df[col].fillna(df.groupby('locality_name')[col].transform(\"median\"))"
   ]
  },
  {
   "cell_type": "code",
   "execution_count": 15,
   "metadata": {},
   "outputs": [],
   "source": [
    "df=df.dropna(subset=['floors_total'])"
   ]
  },
  {
   "cell_type": "code",
   "execution_count": 16,
   "metadata": {},
   "outputs": [],
   "source": [
    "df['parks_around3000']=df['parks_around3000'].fillna(0)\n",
    "df['ponds_around3000']=df['ponds_around3000'].fillna(0)"
   ]
  },
  {
   "cell_type": "code",
   "execution_count": 17,
   "metadata": {},
   "outputs": [
    {
     "data": {
      "text/plain": [
       "total_images                0\n",
       "last_price                  0\n",
       "total_area                  0\n",
       "first_day_exposition        0\n",
       "rooms                       0\n",
       "ceiling_height            106\n",
       "floors_total                0\n",
       "living_area                17\n",
       "floor                       0\n",
       "is_apartment                0\n",
       "studio                      0\n",
       "open_plan                   0\n",
       "kitchen_area               19\n",
       "balcony                     0\n",
       "locality_name               0\n",
       "airports_nearest         5524\n",
       "citycenters_nearest      5501\n",
       "parks_around3000            0\n",
       "parks_nearest           15535\n",
       "ponds_around3000            0\n",
       "ponds_nearest           14529\n",
       "days_exposition          3171\n",
       "dtype: int64"
      ]
     },
     "execution_count": 17,
     "metadata": {},
     "output_type": "execute_result"
    }
   ],
   "source": [
    "df.isna().sum()"
   ]
  },
  {
   "cell_type": "markdown",
   "metadata": {},
   "source": [
    "Оставшиеся пустые значения в ceiling_height, living_area, kitchen_area говорят о том, что при группировке по населенному пункту ни одного значения не было заполнено, соответственно среднее от n/a - n/a. "
   ]
  },
  {
   "cell_type": "markdown",
   "metadata": {},
   "source": [
    "#### Переведем значения столбцов, которые должны быть целочисленными в int для удобства."
   ]
  },
  {
   "cell_type": "code",
   "execution_count": 18,
   "metadata": {
    "scrolled": false
   },
   "outputs": [],
   "source": [
    "df[['last_price', 'floors_total', 'balcony']] = df[['last_price', 'floors_total', 'balcony']].astype('int64')"
   ]
  },
  {
   "cell_type": "code",
   "execution_count": 19,
   "metadata": {
    "scrolled": true
   },
   "outputs": [
    {
     "name": "stdout",
     "output_type": "stream",
     "text": [
      "<class 'pandas.core.frame.DataFrame'>\n",
      "Int64Index: 23565 entries, 0 to 23698\n",
      "Data columns (total 22 columns):\n",
      " #   Column                Non-Null Count  Dtype         \n",
      "---  ------                --------------  -----         \n",
      " 0   total_images          23565 non-null  int64         \n",
      " 1   last_price            23565 non-null  int64         \n",
      " 2   total_area            23565 non-null  float64       \n",
      " 3   first_day_exposition  23565 non-null  datetime64[ns]\n",
      " 4   rooms                 23565 non-null  int64         \n",
      " 5   ceiling_height        23459 non-null  float64       \n",
      " 6   floors_total          23565 non-null  int64         \n",
      " 7   living_area           23548 non-null  float64       \n",
      " 8   floor                 23565 non-null  int64         \n",
      " 9   is_apartment          23565 non-null  object        \n",
      " 10  studio                23565 non-null  bool          \n",
      " 11  open_plan             23565 non-null  bool          \n",
      " 12  kitchen_area          23546 non-null  float64       \n",
      " 13  balcony               23565 non-null  int64         \n",
      " 14  locality_name         23565 non-null  object        \n",
      " 15  airports_nearest      18041 non-null  float64       \n",
      " 16  citycenters_nearest   18064 non-null  float64       \n",
      " 17  parks_around3000      23565 non-null  float64       \n",
      " 18  parks_nearest         8030 non-null   float64       \n",
      " 19  ponds_around3000      23565 non-null  float64       \n",
      " 20  ponds_nearest         9036 non-null   float64       \n",
      " 21  days_exposition       20394 non-null  float64       \n",
      "dtypes: bool(2), datetime64[ns](1), float64(11), int64(6), object(2)\n",
      "memory usage: 3.8+ MB\n"
     ]
    }
   ],
   "source": [
    "df.info()"
   ]
  },
  {
   "cell_type": "markdown",
   "metadata": {},
   "source": [
    "Оставшиеся данные можно считать корректными и продолжить с ними работу."
   ]
  },
  {
   "cell_type": "markdown",
   "metadata": {},
   "source": [
    "## Расчёты и добавление результатов в таблицу"
   ]
  },
  {
   "cell_type": "markdown",
   "metadata": {},
   "source": [
    "### Расчет цены квадратного метра"
   ]
  },
  {
   "cell_type": "code",
   "execution_count": 20,
   "metadata": {},
   "outputs": [],
   "source": [
    "df['m2_price'] = df['last_price']/ df['total_area']"
   ]
  },
  {
   "cell_type": "markdown",
   "metadata": {},
   "source": [
    "### День недели, месяц и год публикации объявления"
   ]
  },
  {
   "cell_type": "code",
   "execution_count": 21,
   "metadata": {},
   "outputs": [],
   "source": [
    "df['expo_weekday'] = pd.DatetimeIndex(df['first_day_exposition']).weekday"
   ]
  },
  {
   "cell_type": "code",
   "execution_count": 22,
   "metadata": {},
   "outputs": [],
   "source": [
    "df['expo_month'] = pd.DatetimeIndex(df['first_day_exposition']).month"
   ]
  },
  {
   "cell_type": "code",
   "execution_count": 23,
   "metadata": {},
   "outputs": [],
   "source": [
    "df['expo_year'] = pd.DatetimeIndex(df['first_day_exposition']).year"
   ]
  },
  {
   "cell_type": "markdown",
   "metadata": {},
   "source": [
    "### Классифицируем этаж квартиры; варианты — первый, последний, другой"
   ]
  },
  {
   "cell_type": "code",
   "execution_count": 24,
   "metadata": {},
   "outputs": [],
   "source": [
    "def floors_type (row):\n",
    "    if row['floor'] == 1:\n",
    "        return 'первый'\n",
    "    elif row['floor'] == row['floors_total']:\n",
    "        return'последний'\n",
    "    else: \n",
    "        return 'другой'"
   ]
  },
  {
   "cell_type": "code",
   "execution_count": 25,
   "metadata": {},
   "outputs": [],
   "source": [
    "df['floor_type'] = df.apply(floors_type, axis=1)"
   ]
  },
  {
   "cell_type": "markdown",
   "metadata": {},
   "source": [
    "### Посчитаем соотношение жилой и общей площади, а также отношение площади кухни к общей."
   ]
  },
  {
   "cell_type": "code",
   "execution_count": 26,
   "metadata": {},
   "outputs": [],
   "source": [
    "df['living_to_total'] = df['living_area']/ df['total_area']"
   ]
  },
  {
   "cell_type": "code",
   "execution_count": 27,
   "metadata": {},
   "outputs": [],
   "source": [
    "df['kitchen_to_living'] = df['kitchen_area']/ df['living_area']"
   ]
  },
  {
   "cell_type": "markdown",
   "metadata": {},
   "source": [
    "## Исследовательский анализ данных"
   ]
  },
  {
   "cell_type": "markdown",
   "metadata": {},
   "source": [
    "### Изучим  основные параметры квартир: площадь, цену, число комнат, высоту потолков"
   ]
  },
  {
   "cell_type": "markdown",
   "metadata": {},
   "source": [
    "**Изучим площадь квартир**"
   ]
  },
  {
   "cell_type": "code",
   "execution_count": 28,
   "metadata": {
    "scrolled": true
   },
   "outputs": [
    {
     "data": {
      "text/plain": [
       "count    23565.000000\n",
       "mean        60.322824\n",
       "std         35.657060\n",
       "min         12.000000\n",
       "25%         40.000000\n",
       "50%         52.000000\n",
       "75%         69.700000\n",
       "max        900.000000\n",
       "Name: total_area, dtype: float64"
      ]
     },
     "execution_count": 28,
     "metadata": {},
     "output_type": "execute_result"
    }
   ],
   "source": [
    "df['total_area'].describe()"
   ]
  },
  {
   "cell_type": "code",
   "execution_count": 29,
   "metadata": {},
   "outputs": [
    {
     "data": {
      "text/plain": [
       "(array([0.000e+00, 9.000e+00, 1.210e+02, 1.639e+03, 3.922e+03, 4.584e+03,\n",
       "        2.962e+03, 3.016e+03, 1.899e+03, 1.530e+03, 1.027e+03, 6.880e+02,\n",
       "        4.970e+02, 3.390e+02, 2.410e+02, 2.070e+02, 1.370e+02, 9.300e+01,\n",
       "        1.110e+02, 7.700e+01, 6.800e+01, 6.100e+01, 4.200e+01, 4.300e+01,\n",
       "        2.200e+01, 2.400e+01, 2.200e+01, 1.700e+01, 2.000e+01, 1.500e+01,\n",
       "        1.200e+01, 1.800e+01, 9.000e+00, 4.000e+00, 5.000e+00, 1.100e+01,\n",
       "        9.000e+00, 4.000e+00, 5.000e+00, 6.000e+00, 3.000e+00, 0.000e+00,\n",
       "        3.000e+00, 2.000e+00, 1.000e+00, 6.000e+00, 4.000e+00, 2.000e+00,\n",
       "        0.000e+00, 5.000e+00]),\n",
       " array([  0.,   8.,  16.,  24.,  32.,  40.,  48.,  56.,  64.,  72.,  80.,\n",
       "         88.,  96., 104., 112., 120., 128., 136., 144., 152., 160., 168.,\n",
       "        176., 184., 192., 200., 208., 216., 224., 232., 240., 248., 256.,\n",
       "        264., 272., 280., 288., 296., 304., 312., 320., 328., 336., 344.,\n",
       "        352., 360., 368., 376., 384., 392., 400.]),\n",
       " <BarContainer object of 50 artists>)"
      ]
     },
     "execution_count": 29,
     "metadata": {},
     "output_type": "execute_result"
    },
    {
     "data": {
      "image/png": "[encoded data removed]",
      "text/plain": [
       "<Figure size 432x288 with 1 Axes>"
      ]
     },
     "metadata": {
      "needs_background": "light"
     },
     "output_type": "display_data"
    }
   ],
   "source": [
    "plt.hist(df['total_area'], bins=50, range = (0,400))"
   ]
  },
  {
   "cell_type": "markdown",
   "metadata": {},
   "source": [
    "Большая часть квартир - около 50 кв.м. Распределение выглядит нормальным.  \n",
    "Есть выброс - квартира в 900 кв.м. "
   ]
  },
  {
   "cell_type": "code",
   "execution_count": 30,
   "metadata": {
    "scrolled": true
   },
   "outputs": [
    {
     "data": {
      "text/plain": [
       "{'whiskers': [<matplotlib.lines.Line2D at 0x23b3ef9b460>,\n",
       "  <matplotlib.lines.Line2D at 0x23b3ef9b730>],\n",
       " 'caps': [<matplotlib.lines.Line2D at 0x23b3ef9bac0>,\n",
       "  <matplotlib.lines.Line2D at 0x23b3ef9be50>],\n",
       " 'boxes': [<matplotlib.lines.Line2D at 0x23b3ef8cfd0>],\n",
       " 'medians': [<matplotlib.lines.Line2D at 0x23b3efa7220>],\n",
       " 'fliers': [<matplotlib.lines.Line2D at 0x23b3efa75b0>],\n",
       " 'means': []}"
      ]
     },
     "execution_count": 30,
     "metadata": {},
     "output_type": "execute_result"
    },
    {
     "data": {
      "image/png": "[encoded data removed]",
      "text/plain": [
       "<Figure size 432x288 with 1 Axes>"
      ]
     },
     "metadata": {
      "needs_background": "light"
     },
     "output_type": "display_data"
    }
   ],
   "source": [
    "plt.boxplot(df['total_area'], vert=False)"
   ]
  },
  {
   "cell_type": "markdown",
   "metadata": {},
   "source": [
    "Большинство квартир - стандартные, до 100 кв.м. Но есть и очень большие, таких достаточно много, их нельзя считать выбросами. \n",
    "Возьмем за порог квартиры в 550 кв.м, и отбросим квартиры больше."
   ]
  },
  {
   "cell_type": "markdown",
   "metadata": {},
   "source": [
    "**Изучим цены**"
   ]
  },
  {
   "cell_type": "code",
   "execution_count": 31,
   "metadata": {
    "scrolled": true
   },
   "outputs": [
    {
     "data": {
      "text/plain": [
       "{'whiskers': [<matplotlib.lines.Line2D at 0x23b3eff9ee0>,\n",
       "  <matplotlib.lines.Line2D at 0x23b3f0082b0>],\n",
       " 'caps': [<matplotlib.lines.Line2D at 0x23b3f008640>,\n",
       "  <matplotlib.lines.Line2D at 0x23b3f0089d0>],\n",
       " 'boxes': [<matplotlib.lines.Line2D at 0x23b3eff9b50>],\n",
       " 'medians': [<matplotlib.lines.Line2D at 0x23b3f008d60>],\n",
       " 'fliers': [<matplotlib.lines.Line2D at 0x23b3f014130>],\n",
       " 'means': []}"
      ]
     },
     "execution_count": 31,
     "metadata": {},
     "output_type": "execute_result"
    },
    {
     "data": {
      "image/png": "[encoded data removed]",
      "text/plain": [
       "<Figure size 432x288 with 1 Axes>"
      ]
     },
     "metadata": {
      "needs_background": "light"
     },
     "output_type": "display_data"
    }
   ],
   "source": [
    "plt.boxplot(df['m2_price'], vert=False)"
   ]
  },
  {
   "cell_type": "code",
   "execution_count": 32,
   "metadata": {},
   "outputs": [
    {
     "data": {
      "text/plain": [
       "count    2.356500e+04\n",
       "mean     9.940584e+04\n",
       "std      5.038943e+04\n",
       "min      1.118349e+02\n",
       "25%      7.656613e+04\n",
       "50%      9.500000e+04\n",
       "75%      1.142132e+05\n",
       "max      1.907500e+06\n",
       "Name: m2_price, dtype: float64"
      ]
     },
     "execution_count": 32,
     "metadata": {},
     "output_type": "execute_result"
    }
   ],
   "source": [
    "df['m2_price'].describe()"
   ]
  },
  {
   "cell_type": "markdown",
   "metadata": {},
   "source": [
    "Медианная цена - 100 тыс за квадратный метр. При этом разброс значений очень сильный.  \n",
    "Отбросим значения больше 1 млн - после этого значения только единичные выбросы.\n",
    "\n",
    "Посмотрим на нижнюю границу значений."
   ]
  },
  {
   "cell_type": "code",
   "execution_count": 33,
   "metadata": {
    "scrolled": true
   },
   "outputs": [
    {
     "data": {
      "text/plain": [
       "(array([  1.,   0.,   0.,   0.,   0.,   0.,   0.,   0.,   0.,   0.,   1.,\n",
       "          0.,   1.,   5.,   6.,   4.,   9.,  11.,  11.,  15.,  19.,  20.,\n",
       "         14.,  12.,  18.,  20.,  21.,  29.,   8.,   9.,  16.,  21.,  24.,\n",
       "         17.,  20.,  43.,  25.,  34.,  30.,  33.,  45.,  35.,  42.,  44.,\n",
       "         38.,  51.,  54.,  55.,  55.,  52.,  64.,  57.,  49.,  57.,  51.,\n",
       "         57.,  42.,  62.,  59.,  63.,  58.,  50.,  56.,  71.,  54.,  73.,\n",
       "         67.,  72.,  72.,  62.,  81.,  72.,  84.,  86.,  88., 101.,  79.,\n",
       "        108., 107., 107., 107., 110.,  89., 113., 115., 128., 157.,  99.,\n",
       "        143., 166., 130., 157., 142., 170., 143., 171., 176., 193., 160.,\n",
       "        157.]),\n",
       " array([    0.  ,   766.66,  1533.32,  2299.98,  3066.64,  3833.3 ,\n",
       "         4599.96,  5366.62,  6133.28,  6899.94,  7666.6 ,  8433.26,\n",
       "         9199.92,  9966.58, 10733.24, 11499.9 , 12266.56, 13033.22,\n",
       "        13799.88, 14566.54, 15333.2 , 16099.86, 16866.52, 17633.18,\n",
       "        18399.84, 19166.5 , 19933.16, 20699.82, 21466.48, 22233.14,\n",
       "        22999.8 , 23766.46, 24533.12, 25299.78, 26066.44, 26833.1 ,\n",
       "        27599.76, 28366.42, 29133.08, 29899.74, 30666.4 , 31433.06,\n",
       "        32199.72, 32966.38, 33733.04, 34499.7 , 35266.36, 36033.02,\n",
       "        36799.68, 37566.34, 38333.  , 39099.66, 39866.32, 40632.98,\n",
       "        41399.64, 42166.3 , 42932.96, 43699.62, 44466.28, 45232.94,\n",
       "        45999.6 , 46766.26, 47532.92, 48299.58, 49066.24, 49832.9 ,\n",
       "        50599.56, 51366.22, 52132.88, 52899.54, 53666.2 , 54432.86,\n",
       "        55199.52, 55966.18, 56732.84, 57499.5 , 58266.16, 59032.82,\n",
       "        59799.48, 60566.14, 61332.8 , 62099.46, 62866.12, 63632.78,\n",
       "        64399.44, 65166.1 , 65932.76, 66699.42, 67466.08, 68232.74,\n",
       "        68999.4 , 69766.06, 70532.72, 71299.38, 72066.04, 72832.7 ,\n",
       "        73599.36, 74366.02, 75132.68, 75899.34, 76666.  ]),\n",
       " <BarContainer object of 100 artists>)"
      ]
     },
     "execution_count": 33,
     "metadata": {},
     "output_type": "execute_result"
    },
    {
     "data": {
      "image/png": "[encoded data removed]",
      "text/plain": [
       "<Figure size 432x288 with 1 Axes>"
      ]
     },
     "metadata": {
      "needs_background": "light"
     },
     "output_type": "display_data"
    }
   ],
   "source": [
    "plt.hist(df['m2_price'],bins=100, range = (0, 76666))"
   ]
  },
  {
   "cell_type": "markdown",
   "metadata": {},
   "source": [
    "Отбросим значения меньше 10000 руб за метр, там почти нет данных. Другие низкие значения можно оставить, они могут быть актуальны для поселков. "
   ]
  },
  {
   "cell_type": "markdown",
   "metadata": {},
   "source": [
    "**Количество комнат**"
   ]
  },
  {
   "cell_type": "code",
   "execution_count": 34,
   "metadata": {},
   "outputs": [
    {
     "data": {
      "text/plain": [
       "count    23565.000000\n",
       "mean         2.070656\n",
       "std          1.078591\n",
       "min          0.000000\n",
       "25%          1.000000\n",
       "50%          2.000000\n",
       "75%          3.000000\n",
       "max         19.000000\n",
       "Name: rooms, dtype: float64"
      ]
     },
     "execution_count": 34,
     "metadata": {},
     "output_type": "execute_result"
    }
   ],
   "source": [
    "df['rooms'].describe()"
   ]
  },
  {
   "cell_type": "code",
   "execution_count": 35,
   "metadata": {
    "scrolled": true
   },
   "outputs": [
    {
     "data": {
      "text/plain": [
       "(array([1.940e+02, 8.004e+03, 7.897e+03, 5.779e+03, 0.000e+00, 1.172e+03,\n",
       "        3.250e+02, 1.040e+02, 5.900e+01, 0.000e+00, 1.200e+01, 8.000e+00,\n",
       "        3.000e+00, 2.000e+00, 0.000e+00, 1.000e+00, 0.000e+00, 2.000e+00,\n",
       "        1.000e+00, 0.000e+00, 1.000e+00, 0.000e+00, 0.000e+00, 1.000e+00,\n",
       "        0.000e+00]),\n",
       " array([ 0. ,  0.8,  1.6,  2.4,  3.2,  4. ,  4.8,  5.6,  6.4,  7.2,  8. ,\n",
       "         8.8,  9.6, 10.4, 11.2, 12. , 12.8, 13.6, 14.4, 15.2, 16. , 16.8,\n",
       "        17.6, 18.4, 19.2, 20. ]),\n",
       " <BarContainer object of 25 artists>)"
      ]
     },
     "execution_count": 35,
     "metadata": {},
     "output_type": "execute_result"
    },
    {
     "data": {
      "image/png": "[encoded data removed]",
      "text/plain": [
       "<Figure size 432x288 with 1 Axes>"
      ]
     },
     "metadata": {
      "needs_background": "light"
     },
     "output_type": "display_data"
    }
   ],
   "source": [
    "plt.hist(df['rooms'], bins=25, range = (0,20))"
   ]
  },
  {
   "cell_type": "markdown",
   "metadata": {},
   "source": [
    "Основная масса - 1 и 2-х комнатные квартиры.  \n",
    "В выборке есть 19-комнатная квартира - вероятно, коммуналка в Санкт-Петербурге, а также квартира с 0 комнат.   \n",
    "Для достоверности отбросим значения больше 8 комнат.  \n",
    "\n",
    "\n",
    "Проверим 0 комнат - это должны быть студии."
   ]
  },
  {
   "cell_type": "code",
   "execution_count": 36,
   "metadata": {
    "scrolled": true
   },
   "outputs": [
    {
     "data": {
      "text/html": [
       "<div>\n",
       "<style scoped>\n",
       "    .dataframe tbody tr th:only-of-type {\n",
       "        vertical-align: middle;\n",
       "    }\n",
       "\n",
       "    .dataframe tbody tr th {\n",
       "        vertical-align: top;\n",
       "    }\n",
       "\n",
       "    .dataframe thead th {\n",
       "        text-align: right;\n",
       "    }\n",
       "</style>\n",
       "<table border=\"1\" class=\"dataframe\">\n",
       "  <thead>\n",
       "    <tr style=\"text-align: right;\">\n",
       "      <th></th>\n",
       "      <th>total_images</th>\n",
       "      <th>last_price</th>\n",
       "      <th>total_area</th>\n",
       "      <th>first_day_exposition</th>\n",
       "      <th>rooms</th>\n",
       "      <th>ceiling_height</th>\n",
       "      <th>floors_total</th>\n",
       "      <th>living_area</th>\n",
       "      <th>floor</th>\n",
       "      <th>is_apartment</th>\n",
       "      <th>...</th>\n",
       "      <th>ponds_around3000</th>\n",
       "      <th>ponds_nearest</th>\n",
       "      <th>days_exposition</th>\n",
       "      <th>m2_price</th>\n",
       "      <th>expo_weekday</th>\n",
       "      <th>expo_month</th>\n",
       "      <th>expo_year</th>\n",
       "      <th>floor_type</th>\n",
       "      <th>living_to_total</th>\n",
       "      <th>kitchen_to_living</th>\n",
       "    </tr>\n",
       "  </thead>\n",
       "  <tbody>\n",
       "    <tr>\n",
       "      <th>144</th>\n",
       "      <td>1</td>\n",
       "      <td>2450000</td>\n",
       "      <td>27.00</td>\n",
       "      <td>2017-03-30</td>\n",
       "      <td>0</td>\n",
       "      <td>2.70</td>\n",
       "      <td>24</td>\n",
       "      <td>15.50</td>\n",
       "      <td>2</td>\n",
       "      <td>False</td>\n",
       "      <td>...</td>\n",
       "      <td>0.0</td>\n",
       "      <td>NaN</td>\n",
       "      <td>181.0</td>\n",
       "      <td>90740.740741</td>\n",
       "      <td>3</td>\n",
       "      <td>3</td>\n",
       "      <td>2017</td>\n",
       "      <td>другой</td>\n",
       "      <td>0.574074</td>\n",
       "      <td>0.669032</td>\n",
       "    </tr>\n",
       "    <tr>\n",
       "      <th>349</th>\n",
       "      <td>4</td>\n",
       "      <td>2320000</td>\n",
       "      <td>25.00</td>\n",
       "      <td>2017-09-27</td>\n",
       "      <td>0</td>\n",
       "      <td>2.75</td>\n",
       "      <td>14</td>\n",
       "      <td>17.00</td>\n",
       "      <td>1</td>\n",
       "      <td>False</td>\n",
       "      <td>...</td>\n",
       "      <td>0.0</td>\n",
       "      <td>NaN</td>\n",
       "      <td>45.0</td>\n",
       "      <td>92800.000000</td>\n",
       "      <td>2</td>\n",
       "      <td>9</td>\n",
       "      <td>2017</td>\n",
       "      <td>первый</td>\n",
       "      <td>0.680000</td>\n",
       "      <td>0.614118</td>\n",
       "    </tr>\n",
       "    <tr>\n",
       "      <th>440</th>\n",
       "      <td>8</td>\n",
       "      <td>2480000</td>\n",
       "      <td>27.11</td>\n",
       "      <td>2018-03-12</td>\n",
       "      <td>0</td>\n",
       "      <td>2.70</td>\n",
       "      <td>17</td>\n",
       "      <td>24.75</td>\n",
       "      <td>4</td>\n",
       "      <td>False</td>\n",
       "      <td>...</td>\n",
       "      <td>2.0</td>\n",
       "      <td>982.0</td>\n",
       "      <td>64.0</td>\n",
       "      <td>91479.158982</td>\n",
       "      <td>0</td>\n",
       "      <td>3</td>\n",
       "      <td>2018</td>\n",
       "      <td>другой</td>\n",
       "      <td>0.912947</td>\n",
       "      <td>0.400000</td>\n",
       "    </tr>\n",
       "    <tr>\n",
       "      <th>508</th>\n",
       "      <td>0</td>\n",
       "      <td>3375000</td>\n",
       "      <td>34.40</td>\n",
       "      <td>2017-03-28</td>\n",
       "      <td>0</td>\n",
       "      <td>2.64</td>\n",
       "      <td>26</td>\n",
       "      <td>24.30</td>\n",
       "      <td>19</td>\n",
       "      <td>False</td>\n",
       "      <td>...</td>\n",
       "      <td>1.0</td>\n",
       "      <td>593.0</td>\n",
       "      <td>430.0</td>\n",
       "      <td>98110.465116</td>\n",
       "      <td>1</td>\n",
       "      <td>3</td>\n",
       "      <td>2017</td>\n",
       "      <td>другой</td>\n",
       "      <td>0.706395</td>\n",
       "      <td>0.452675</td>\n",
       "    </tr>\n",
       "    <tr>\n",
       "      <th>608</th>\n",
       "      <td>2</td>\n",
       "      <td>1850000</td>\n",
       "      <td>25.00</td>\n",
       "      <td>2019-02-20</td>\n",
       "      <td>0</td>\n",
       "      <td>2.63</td>\n",
       "      <td>10</td>\n",
       "      <td>28.20</td>\n",
       "      <td>7</td>\n",
       "      <td>False</td>\n",
       "      <td>...</td>\n",
       "      <td>0.0</td>\n",
       "      <td>NaN</td>\n",
       "      <td>29.0</td>\n",
       "      <td>74000.000000</td>\n",
       "      <td>2</td>\n",
       "      <td>2</td>\n",
       "      <td>2019</td>\n",
       "      <td>другой</td>\n",
       "      <td>1.128000</td>\n",
       "      <td>0.382979</td>\n",
       "    </tr>\n",
       "    <tr>\n",
       "      <th>...</th>\n",
       "      <td>...</td>\n",
       "      <td>...</td>\n",
       "      <td>...</td>\n",
       "      <td>...</td>\n",
       "      <td>...</td>\n",
       "      <td>...</td>\n",
       "      <td>...</td>\n",
       "      <td>...</td>\n",
       "      <td>...</td>\n",
       "      <td>...</td>\n",
       "      <td>...</td>\n",
       "      <td>...</td>\n",
       "      <td>...</td>\n",
       "      <td>...</td>\n",
       "      <td>...</td>\n",
       "      <td>...</td>\n",
       "      <td>...</td>\n",
       "      <td>...</td>\n",
       "      <td>...</td>\n",
       "      <td>...</td>\n",
       "      <td>...</td>\n",
       "    </tr>\n",
       "    <tr>\n",
       "      <th>23210</th>\n",
       "      <td>7</td>\n",
       "      <td>3200000</td>\n",
       "      <td>26.00</td>\n",
       "      <td>2017-09-01</td>\n",
       "      <td>0</td>\n",
       "      <td>2.70</td>\n",
       "      <td>25</td>\n",
       "      <td>18.00</td>\n",
       "      <td>16</td>\n",
       "      <td>False</td>\n",
       "      <td>...</td>\n",
       "      <td>1.0</td>\n",
       "      <td>623.0</td>\n",
       "      <td>14.0</td>\n",
       "      <td>123076.923077</td>\n",
       "      <td>4</td>\n",
       "      <td>9</td>\n",
       "      <td>2017</td>\n",
       "      <td>другой</td>\n",
       "      <td>0.692308</td>\n",
       "      <td>0.550000</td>\n",
       "    </tr>\n",
       "    <tr>\n",
       "      <th>23442</th>\n",
       "      <td>0</td>\n",
       "      <td>2500000</td>\n",
       "      <td>27.70</td>\n",
       "      <td>2017-09-28</td>\n",
       "      <td>0</td>\n",
       "      <td>2.70</td>\n",
       "      <td>24</td>\n",
       "      <td>18.00</td>\n",
       "      <td>4</td>\n",
       "      <td>False</td>\n",
       "      <td>...</td>\n",
       "      <td>0.0</td>\n",
       "      <td>NaN</td>\n",
       "      <td>4.0</td>\n",
       "      <td>90252.707581</td>\n",
       "      <td>3</td>\n",
       "      <td>9</td>\n",
       "      <td>2017</td>\n",
       "      <td>другой</td>\n",
       "      <td>0.649819</td>\n",
       "      <td>0.576111</td>\n",
       "    </tr>\n",
       "    <tr>\n",
       "      <th>23554</th>\n",
       "      <td>15</td>\n",
       "      <td>3350000</td>\n",
       "      <td>26.00</td>\n",
       "      <td>2018-09-07</td>\n",
       "      <td>0</td>\n",
       "      <td>2.70</td>\n",
       "      <td>19</td>\n",
       "      <td>31.30</td>\n",
       "      <td>8</td>\n",
       "      <td>False</td>\n",
       "      <td>...</td>\n",
       "      <td>2.0</td>\n",
       "      <td>112.0</td>\n",
       "      <td>31.0</td>\n",
       "      <td>128846.153846</td>\n",
       "      <td>4</td>\n",
       "      <td>9</td>\n",
       "      <td>2018</td>\n",
       "      <td>другой</td>\n",
       "      <td>1.203846</td>\n",
       "      <td>0.316294</td>\n",
       "    </tr>\n",
       "    <tr>\n",
       "      <th>23592</th>\n",
       "      <td>10</td>\n",
       "      <td>1450000</td>\n",
       "      <td>29.00</td>\n",
       "      <td>2017-11-11</td>\n",
       "      <td>0</td>\n",
       "      <td>2.56</td>\n",
       "      <td>9</td>\n",
       "      <td>18.00</td>\n",
       "      <td>8</td>\n",
       "      <td>False</td>\n",
       "      <td>...</td>\n",
       "      <td>0.0</td>\n",
       "      <td>NaN</td>\n",
       "      <td>82.0</td>\n",
       "      <td>50000.000000</td>\n",
       "      <td>5</td>\n",
       "      <td>11</td>\n",
       "      <td>2017</td>\n",
       "      <td>другой</td>\n",
       "      <td>0.620690</td>\n",
       "      <td>0.461111</td>\n",
       "    </tr>\n",
       "    <tr>\n",
       "      <th>23637</th>\n",
       "      <td>8</td>\n",
       "      <td>2350000</td>\n",
       "      <td>26.00</td>\n",
       "      <td>2018-06-26</td>\n",
       "      <td>0</td>\n",
       "      <td>2.60</td>\n",
       "      <td>25</td>\n",
       "      <td>17.00</td>\n",
       "      <td>4</td>\n",
       "      <td>False</td>\n",
       "      <td>...</td>\n",
       "      <td>0.0</td>\n",
       "      <td>NaN</td>\n",
       "      <td>207.0</td>\n",
       "      <td>90384.615385</td>\n",
       "      <td>1</td>\n",
       "      <td>6</td>\n",
       "      <td>2018</td>\n",
       "      <td>другой</td>\n",
       "      <td>0.653846</td>\n",
       "      <td>0.588235</td>\n",
       "    </tr>\n",
       "  </tbody>\n",
       "</table>\n",
       "<p>194 rows × 29 columns</p>\n",
       "</div>"
      ],
      "text/plain": [
       "       total_images  last_price  total_area first_day_exposition  rooms  \\\n",
       "144               1     2450000       27.00           2017-03-30      0   \n",
       "349               4     2320000       25.00           2017-09-27      0   \n",
       "440               8     2480000       27.11           2018-03-12      0   \n",
       "508               0     3375000       34.40           2017-03-28      0   \n",
       "608               2     1850000       25.00           2019-02-20      0   \n",
       "...             ...         ...         ...                  ...    ...   \n",
       "23210             7     3200000       26.00           2017-09-01      0   \n",
       "23442             0     2500000       27.70           2017-09-28      0   \n",
       "23554            15     3350000       26.00           2018-09-07      0   \n",
       "23592            10     1450000       29.00           2017-11-11      0   \n",
       "23637             8     2350000       26.00           2018-06-26      0   \n",
       "\n",
       "       ceiling_height  floors_total  living_area  floor is_apartment  ...  \\\n",
       "144              2.70            24        15.50      2        False  ...   \n",
       "349              2.75            14        17.00      1        False  ...   \n",
       "440              2.70            17        24.75      4        False  ...   \n",
       "508              2.64            26        24.30     19        False  ...   \n",
       "608              2.63            10        28.20      7        False  ...   \n",
       "...               ...           ...          ...    ...          ...  ...   \n",
       "23210            2.70            25        18.00     16        False  ...   \n",
       "23442            2.70            24        18.00      4        False  ...   \n",
       "23554            2.70            19        31.30      8        False  ...   \n",
       "23592            2.56             9        18.00      8        False  ...   \n",
       "23637            2.60            25        17.00      4        False  ...   \n",
       "\n",
       "       ponds_around3000  ponds_nearest  days_exposition       m2_price  \\\n",
       "144                 0.0            NaN            181.0   90740.740741   \n",
       "349                 0.0            NaN             45.0   92800.000000   \n",
       "440                 2.0          982.0             64.0   91479.158982   \n",
       "508                 1.0          593.0            430.0   98110.465116   \n",
       "608                 0.0            NaN             29.0   74000.000000   \n",
       "...                 ...            ...              ...            ...   \n",
       "23210               1.0          623.0             14.0  123076.923077   \n",
       "23442               0.0            NaN              4.0   90252.707581   \n",
       "23554               2.0          112.0             31.0  128846.153846   \n",
       "23592               0.0            NaN             82.0   50000.000000   \n",
       "23637               0.0            NaN            207.0   90384.615385   \n",
       "\n",
       "      expo_weekday  expo_month  expo_year  floor_type  living_to_total  \\\n",
       "144              3           3       2017      другой         0.574074   \n",
       "349              2           9       2017      первый         0.680000   \n",
       "440              0           3       2018      другой         0.912947   \n",
       "508              1           3       2017      другой         0.706395   \n",
       "608              2           2       2019      другой         1.128000   \n",
       "...            ...         ...        ...         ...              ...   \n",
       "23210            4           9       2017      другой         0.692308   \n",
       "23442            3           9       2017      другой         0.649819   \n",
       "23554            4           9       2018      другой         1.203846   \n",
       "23592            5          11       2017      другой         0.620690   \n",
       "23637            1           6       2018      другой         0.653846   \n",
       "\n",
       "       kitchen_to_living  \n",
       "144             0.669032  \n",
       "349             0.614118  \n",
       "440             0.400000  \n",
       "508             0.452675  \n",
       "608             0.382979  \n",
       "...                  ...  \n",
       "23210           0.550000  \n",
       "23442           0.576111  \n",
       "23554           0.316294  \n",
       "23592           0.461111  \n",
       "23637           0.588235  \n",
       "\n",
       "[194 rows x 29 columns]"
      ]
     },
     "execution_count": 36,
     "metadata": {},
     "output_type": "execute_result"
    }
   ],
   "source": [
    "df[df['rooms'] ==0]"
   ]
  },
  {
   "cell_type": "markdown",
   "metadata": {},
   "source": [
    "В is_appartment ничего не указано, но судя по total_area - так и есть, оставим данные. "
   ]
  },
  {
   "cell_type": "markdown",
   "metadata": {},
   "source": [
    "**Посмотрим на высоту потолков**"
   ]
  },
  {
   "cell_type": "code",
   "execution_count": 37,
   "metadata": {},
   "outputs": [
    {
     "data": {
      "text/plain": [
       "count    23459.000000\n",
       "mean         2.732454\n",
       "std          1.006667\n",
       "min          1.000000\n",
       "25%          2.550000\n",
       "50%          2.700000\n",
       "75%          2.700000\n",
       "max        100.000000\n",
       "Name: ceiling_height, dtype: float64"
      ]
     },
     "execution_count": 37,
     "metadata": {},
     "output_type": "execute_result"
    }
   ],
   "source": [
    "df['ceiling_height'].describe()"
   ]
  },
  {
   "cell_type": "code",
   "execution_count": 38,
   "metadata": {},
   "outputs": [
    {
     "data": {
      "text/plain": [
       "(array([1.100e+01, 0.000e+00, 2.000e+00, 5.000e+00, 5.200e+01, 6.525e+03,\n",
       "        3.499e+03, 9.274e+03, 1.195e+03, 2.440e+02, 1.218e+03, 3.250e+02,\n",
       "        3.450e+02, 2.890e+02, 2.500e+01, 1.710e+02, 5.300e+01, 4.200e+01,\n",
       "        5.700e+01, 1.000e+01, 3.900e+01, 7.000e+00, 1.200e+01, 1.000e+00,\n",
       "        5.000e+00, 7.000e+00, 1.000e+00, 3.000e+00, 0.000e+00, 2.000e+00]),\n",
       " array([2. , 2.1, 2.2, 2.3, 2.4, 2.5, 2.6, 2.7, 2.8, 2.9, 3. , 3.1, 3.2,\n",
       "        3.3, 3.4, 3.5, 3.6, 3.7, 3.8, 3.9, 4. , 4.1, 4.2, 4.3, 4.4, 4.5,\n",
       "        4.6, 4.7, 4.8, 4.9, 5. ]),\n",
       " <BarContainer object of 30 artists>)"
      ]
     },
     "execution_count": 38,
     "metadata": {},
     "output_type": "execute_result"
    },
    {
     "data": {
      "image/png": "[encoded data removed]",
      "text/plain": [
       "<Figure size 432x288 with 1 Axes>"
      ]
     },
     "metadata": {
      "needs_background": "light"
     },
     "output_type": "display_data"
    }
   ],
   "source": [
    "plt.hist(df['ceiling_height'], bins=30, range = (2,5))"
   ]
  },
  {
   "cell_type": "markdown",
   "metadata": {},
   "source": [
    "C распределением у пололков все в порядке.  \n",
    "Пик приходится на 2.6 и 2.8 - вероятно, это типовые застройки.  \n",
    "\n",
    "Отбросим значения меньше 2м и больше 5."
   ]
  },
  {
   "cell_type": "markdown",
   "metadata": {},
   "source": [
    "### Изучим время продажи квартиры"
   ]
  },
  {
   "cell_type": "code",
   "execution_count": 39,
   "metadata": {},
   "outputs": [
    {
     "data": {
      "text/plain": [
       "count    20394.000000\n",
       "mean       180.741395\n",
       "std        219.732782\n",
       "min          1.000000\n",
       "25%         45.000000\n",
       "50%         95.000000\n",
       "75%        231.000000\n",
       "max       1580.000000\n",
       "Name: days_exposition, dtype: float64"
      ]
     },
     "execution_count": 39,
     "metadata": {},
     "output_type": "execute_result"
    }
   ],
   "source": [
    "df['days_exposition'].describe()"
   ]
  },
  {
   "cell_type": "code",
   "execution_count": 40,
   "metadata": {
    "scrolled": true
   },
   "outputs": [
    {
     "data": {
      "text/plain": [
       "(array([2.499e+03, 2.138e+03, 2.962e+03, 1.428e+03, 1.428e+03, 1.121e+03,\n",
       "        8.830e+02, 7.350e+02, 6.980e+02, 6.170e+02, 5.250e+02, 3.930e+02,\n",
       "        3.630e+02, 3.590e+02, 3.110e+02, 2.740e+02, 2.730e+02, 2.470e+02,\n",
       "        2.400e+02, 2.360e+02, 2.070e+02, 2.020e+02, 1.860e+02, 1.420e+02,\n",
       "        1.570e+02, 1.190e+02, 9.600e+01, 1.180e+02, 1.020e+02, 1.060e+02,\n",
       "        8.200e+01, 8.300e+01, 6.400e+01, 7.100e+01, 6.200e+01, 5.500e+01,\n",
       "        6.900e+01, 4.200e+01, 4.600e+01, 4.500e+01, 4.000e+01, 3.100e+01,\n",
       "        3.700e+01, 3.700e+01, 3.900e+01, 2.800e+01, 3.200e+01, 2.900e+01,\n",
       "        2.200e+01, 2.900e+01, 2.600e+01, 1.500e+01, 1.600e+01, 2.300e+01,\n",
       "        2.700e+01, 2.400e+01, 1.200e+01, 1.000e+01, 2.000e+01, 1.600e+01,\n",
       "        1.000e+01, 1.000e+01, 1.000e+01, 2.000e+00, 1.000e+01, 3.000e+00,\n",
       "        9.000e+00, 5.000e+00, 1.000e+01, 6.000e+00, 3.000e+00, 3.000e+00,\n",
       "        3.000e+00, 2.000e+00, 1.000e+00, 4.000e+00, 3.000e+00, 0.000e+00,\n",
       "        1.000e+00, 2.000e+00]),\n",
       " array([1.0000000e+00, 2.0737500e+01, 4.0475000e+01, 6.0212500e+01,\n",
       "        7.9950000e+01, 9.9687500e+01, 1.1942500e+02, 1.3916250e+02,\n",
       "        1.5890000e+02, 1.7863750e+02, 1.9837500e+02, 2.1811250e+02,\n",
       "        2.3785000e+02, 2.5758750e+02, 2.7732500e+02, 2.9706250e+02,\n",
       "        3.1680000e+02, 3.3653750e+02, 3.5627500e+02, 3.7601250e+02,\n",
       "        3.9575000e+02, 4.1548750e+02, 4.3522500e+02, 4.5496250e+02,\n",
       "        4.7470000e+02, 4.9443750e+02, 5.1417500e+02, 5.3391250e+02,\n",
       "        5.5365000e+02, 5.7338750e+02, 5.9312500e+02, 6.1286250e+02,\n",
       "        6.3260000e+02, 6.5233750e+02, 6.7207500e+02, 6.9181250e+02,\n",
       "        7.1155000e+02, 7.3128750e+02, 7.5102500e+02, 7.7076250e+02,\n",
       "        7.9050000e+02, 8.1023750e+02, 8.2997500e+02, 8.4971250e+02,\n",
       "        8.6945000e+02, 8.8918750e+02, 9.0892500e+02, 9.2866250e+02,\n",
       "        9.4840000e+02, 9.6813750e+02, 9.8787500e+02, 1.0076125e+03,\n",
       "        1.0273500e+03, 1.0470875e+03, 1.0668250e+03, 1.0865625e+03,\n",
       "        1.1063000e+03, 1.1260375e+03, 1.1457750e+03, 1.1655125e+03,\n",
       "        1.1852500e+03, 1.2049875e+03, 1.2247250e+03, 1.2444625e+03,\n",
       "        1.2642000e+03, 1.2839375e+03, 1.3036750e+03, 1.3234125e+03,\n",
       "        1.3431500e+03, 1.3628875e+03, 1.3826250e+03, 1.4023625e+03,\n",
       "        1.4221000e+03, 1.4418375e+03, 1.4615750e+03, 1.4813125e+03,\n",
       "        1.5010500e+03, 1.5207875e+03, 1.5405250e+03, 1.5602625e+03,\n",
       "        1.5800000e+03]),\n",
       " <BarContainer object of 80 artists>)"
      ]
     },
     "execution_count": 40,
     "metadata": {},
     "output_type": "execute_result"
    },
    {
     "data": {
      "image/png": "[encoded data removed]",
      "text/plain": [
       "<Figure size 432x288 with 1 Axes>"
      ]
     },
     "metadata": {
      "needs_background": "light"
     },
     "output_type": "display_data"
    }
   ],
   "source": [
    "plt.hist(df['days_exposition'], bins=80)"
   ]
  },
  {
   "cell_type": "markdown",
   "metadata": {},
   "source": [
    "Большинство квартир продаются примерно за 100 дней.  \n",
    "Посмотрим на быстрые продажи - начало гистограммы."
   ]
  },
  {
   "cell_type": "code",
   "execution_count": 41,
   "metadata": {
    "scrolled": false
   },
   "outputs": [
    {
     "data": {
      "text/plain": [
       "(array([  1.,   3., 157., 174., 152., 124., 234., 138., 142., 127., 135.,\n",
       "        108., 128., 147., 124., 100., 116., 128., 122., 139., 124., 125.,\n",
       "        111., 116.,  83., 102., 110., 125., 121., 208.,  66.,  90.,  89.,\n",
       "        113., 119.,  88.,  96.,  79.,  81.,  92.,  76., 113., 107., 138.,\n",
       "        879.,  90.,  77.,  77.,  68.,  61.]),\n",
       " array([ 1.  ,  1.98,  2.96,  3.94,  4.92,  5.9 ,  6.88,  7.86,  8.84,\n",
       "         9.82, 10.8 , 11.78, 12.76, 13.74, 14.72, 15.7 , 16.68, 17.66,\n",
       "        18.64, 19.62, 20.6 , 21.58, 22.56, 23.54, 24.52, 25.5 , 26.48,\n",
       "        27.46, 28.44, 29.42, 30.4 , 31.38, 32.36, 33.34, 34.32, 35.3 ,\n",
       "        36.28, 37.26, 38.24, 39.22, 40.2 , 41.18, 42.16, 43.14, 44.12,\n",
       "        45.1 , 46.08, 47.06, 48.04, 49.02, 50.  ]),\n",
       " <BarContainer object of 50 artists>)"
      ]
     },
     "execution_count": 41,
     "metadata": {},
     "output_type": "execute_result"
    },
    {
     "data": {
      "image/png": "[encoded data removed]",
      "text/plain": [
       "<Figure size 432x288 with 1 Axes>"
      ]
     },
     "metadata": {
      "needs_background": "light"
     },
     "output_type": "display_data"
    }
   ],
   "source": [
    "plt.hist(df['days_exposition'], bins=50, range=(1,50))"
   ]
  },
  {
   "cell_type": "markdown",
   "metadata": {},
   "source": [
    "Самая быстрая продажа - за 1 день. Отбросим данные со сроком жизни объявления < 3 дней. Возможно, передумали продавать, или переподали объявление."
   ]
  },
  {
   "cell_type": "markdown",
   "metadata": {},
   "source": [
    "Максимальное значение 1580 дней - больше 4 лет. Наверное, это та квартира за 700+ млн - проверим."
   ]
  },
  {
   "cell_type": "markdown",
   "metadata": {},
   "source": [
    "### Почистим данные от редких и выбивающихся значений"
   ]
  },
  {
   "cell_type": "code",
   "execution_count": 42,
   "metadata": {},
   "outputs": [
    {
     "data": {
      "text/html": [
       "<div>\n",
       "<style scoped>\n",
       "    .dataframe tbody tr th:only-of-type {\n",
       "        vertical-align: middle;\n",
       "    }\n",
       "\n",
       "    .dataframe tbody tr th {\n",
       "        vertical-align: top;\n",
       "    }\n",
       "\n",
       "    .dataframe thead th {\n",
       "        text-align: right;\n",
       "    }\n",
       "</style>\n",
       "<table border=\"1\" class=\"dataframe\">\n",
       "  <thead>\n",
       "    <tr style=\"text-align: right;\">\n",
       "      <th></th>\n",
       "      <th>total_images</th>\n",
       "      <th>last_price</th>\n",
       "      <th>total_area</th>\n",
       "      <th>first_day_exposition</th>\n",
       "      <th>rooms</th>\n",
       "      <th>ceiling_height</th>\n",
       "      <th>floors_total</th>\n",
       "      <th>living_area</th>\n",
       "      <th>floor</th>\n",
       "      <th>is_apartment</th>\n",
       "      <th>...</th>\n",
       "      <th>ponds_around3000</th>\n",
       "      <th>ponds_nearest</th>\n",
       "      <th>days_exposition</th>\n",
       "      <th>m2_price</th>\n",
       "      <th>expo_weekday</th>\n",
       "      <th>expo_month</th>\n",
       "      <th>expo_year</th>\n",
       "      <th>floor_type</th>\n",
       "      <th>living_to_total</th>\n",
       "      <th>kitchen_to_living</th>\n",
       "    </tr>\n",
       "  </thead>\n",
       "  <tbody>\n",
       "    <tr>\n",
       "      <th>0</th>\n",
       "      <td>20</td>\n",
       "      <td>13000000</td>\n",
       "      <td>108.00</td>\n",
       "      <td>2019-03-07</td>\n",
       "      <td>3</td>\n",
       "      <td>2.70</td>\n",
       "      <td>16</td>\n",
       "      <td>51.0</td>\n",
       "      <td>8</td>\n",
       "      <td>False</td>\n",
       "      <td>...</td>\n",
       "      <td>2.0</td>\n",
       "      <td>755.0</td>\n",
       "      <td>NaN</td>\n",
       "      <td>120370.370370</td>\n",
       "      <td>3</td>\n",
       "      <td>3</td>\n",
       "      <td>2019</td>\n",
       "      <td>другой</td>\n",
       "      <td>0.472222</td>\n",
       "      <td>0.490196</td>\n",
       "    </tr>\n",
       "    <tr>\n",
       "      <th>1</th>\n",
       "      <td>7</td>\n",
       "      <td>3350000</td>\n",
       "      <td>40.40</td>\n",
       "      <td>2018-12-04</td>\n",
       "      <td>1</td>\n",
       "      <td>2.63</td>\n",
       "      <td>11</td>\n",
       "      <td>18.6</td>\n",
       "      <td>1</td>\n",
       "      <td>False</td>\n",
       "      <td>...</td>\n",
       "      <td>0.0</td>\n",
       "      <td>NaN</td>\n",
       "      <td>81.0</td>\n",
       "      <td>82920.792079</td>\n",
       "      <td>1</td>\n",
       "      <td>12</td>\n",
       "      <td>2018</td>\n",
       "      <td>первый</td>\n",
       "      <td>0.460396</td>\n",
       "      <td>0.591398</td>\n",
       "    </tr>\n",
       "    <tr>\n",
       "      <th>2</th>\n",
       "      <td>10</td>\n",
       "      <td>5196000</td>\n",
       "      <td>56.00</td>\n",
       "      <td>2015-08-20</td>\n",
       "      <td>2</td>\n",
       "      <td>2.70</td>\n",
       "      <td>5</td>\n",
       "      <td>34.3</td>\n",
       "      <td>4</td>\n",
       "      <td>False</td>\n",
       "      <td>...</td>\n",
       "      <td>2.0</td>\n",
       "      <td>574.0</td>\n",
       "      <td>558.0</td>\n",
       "      <td>92785.714286</td>\n",
       "      <td>3</td>\n",
       "      <td>8</td>\n",
       "      <td>2015</td>\n",
       "      <td>другой</td>\n",
       "      <td>0.612500</td>\n",
       "      <td>0.241983</td>\n",
       "    </tr>\n",
       "    <tr>\n",
       "      <th>3</th>\n",
       "      <td>0</td>\n",
       "      <td>64900000</td>\n",
       "      <td>159.00</td>\n",
       "      <td>2015-07-24</td>\n",
       "      <td>3</td>\n",
       "      <td>2.70</td>\n",
       "      <td>14</td>\n",
       "      <td>31.3</td>\n",
       "      <td>9</td>\n",
       "      <td>False</td>\n",
       "      <td>...</td>\n",
       "      <td>3.0</td>\n",
       "      <td>234.0</td>\n",
       "      <td>424.0</td>\n",
       "      <td>408176.100629</td>\n",
       "      <td>4</td>\n",
       "      <td>7</td>\n",
       "      <td>2015</td>\n",
       "      <td>другой</td>\n",
       "      <td>0.196855</td>\n",
       "      <td>0.316294</td>\n",
       "    </tr>\n",
       "    <tr>\n",
       "      <th>4</th>\n",
       "      <td>2</td>\n",
       "      <td>10000000</td>\n",
       "      <td>100.00</td>\n",
       "      <td>2018-06-19</td>\n",
       "      <td>2</td>\n",
       "      <td>3.03</td>\n",
       "      <td>14</td>\n",
       "      <td>32.0</td>\n",
       "      <td>13</td>\n",
       "      <td>False</td>\n",
       "      <td>...</td>\n",
       "      <td>1.0</td>\n",
       "      <td>48.0</td>\n",
       "      <td>121.0</td>\n",
       "      <td>100000.000000</td>\n",
       "      <td>1</td>\n",
       "      <td>6</td>\n",
       "      <td>2018</td>\n",
       "      <td>другой</td>\n",
       "      <td>0.320000</td>\n",
       "      <td>1.281250</td>\n",
       "    </tr>\n",
       "    <tr>\n",
       "      <th>...</th>\n",
       "      <td>...</td>\n",
       "      <td>...</td>\n",
       "      <td>...</td>\n",
       "      <td>...</td>\n",
       "      <td>...</td>\n",
       "      <td>...</td>\n",
       "      <td>...</td>\n",
       "      <td>...</td>\n",
       "      <td>...</td>\n",
       "      <td>...</td>\n",
       "      <td>...</td>\n",
       "      <td>...</td>\n",
       "      <td>...</td>\n",
       "      <td>...</td>\n",
       "      <td>...</td>\n",
       "      <td>...</td>\n",
       "      <td>...</td>\n",
       "      <td>...</td>\n",
       "      <td>...</td>\n",
       "      <td>...</td>\n",
       "      <td>...</td>\n",
       "    </tr>\n",
       "    <tr>\n",
       "      <th>23694</th>\n",
       "      <td>9</td>\n",
       "      <td>9700000</td>\n",
       "      <td>133.81</td>\n",
       "      <td>2017-03-21</td>\n",
       "      <td>3</td>\n",
       "      <td>3.70</td>\n",
       "      <td>5</td>\n",
       "      <td>73.3</td>\n",
       "      <td>3</td>\n",
       "      <td>False</td>\n",
       "      <td>...</td>\n",
       "      <td>3.0</td>\n",
       "      <td>381.0</td>\n",
       "      <td>NaN</td>\n",
       "      <td>72490.845228</td>\n",
       "      <td>1</td>\n",
       "      <td>3</td>\n",
       "      <td>2017</td>\n",
       "      <td>другой</td>\n",
       "      <td>0.547792</td>\n",
       "      <td>0.188677</td>\n",
       "    </tr>\n",
       "    <tr>\n",
       "      <th>23695</th>\n",
       "      <td>14</td>\n",
       "      <td>3100000</td>\n",
       "      <td>59.00</td>\n",
       "      <td>2018-01-15</td>\n",
       "      <td>3</td>\n",
       "      <td>2.50</td>\n",
       "      <td>5</td>\n",
       "      <td>38.0</td>\n",
       "      <td>4</td>\n",
       "      <td>False</td>\n",
       "      <td>...</td>\n",
       "      <td>0.0</td>\n",
       "      <td>NaN</td>\n",
       "      <td>45.0</td>\n",
       "      <td>52542.372881</td>\n",
       "      <td>0</td>\n",
       "      <td>1</td>\n",
       "      <td>2018</td>\n",
       "      <td>другой</td>\n",
       "      <td>0.644068</td>\n",
       "      <td>0.223684</td>\n",
       "    </tr>\n",
       "    <tr>\n",
       "      <th>23696</th>\n",
       "      <td>18</td>\n",
       "      <td>2500000</td>\n",
       "      <td>56.70</td>\n",
       "      <td>2018-02-11</td>\n",
       "      <td>2</td>\n",
       "      <td>NaN</td>\n",
       "      <td>3</td>\n",
       "      <td>29.7</td>\n",
       "      <td>1</td>\n",
       "      <td>False</td>\n",
       "      <td>...</td>\n",
       "      <td>0.0</td>\n",
       "      <td>NaN</td>\n",
       "      <td>NaN</td>\n",
       "      <td>44091.710758</td>\n",
       "      <td>6</td>\n",
       "      <td>2</td>\n",
       "      <td>2018</td>\n",
       "      <td>первый</td>\n",
       "      <td>0.523810</td>\n",
       "      <td>0.274411</td>\n",
       "    </tr>\n",
       "    <tr>\n",
       "      <th>23697</th>\n",
       "      <td>13</td>\n",
       "      <td>11475000</td>\n",
       "      <td>76.75</td>\n",
       "      <td>2017-03-28</td>\n",
       "      <td>2</td>\n",
       "      <td>3.00</td>\n",
       "      <td>17</td>\n",
       "      <td>31.3</td>\n",
       "      <td>12</td>\n",
       "      <td>False</td>\n",
       "      <td>...</td>\n",
       "      <td>3.0</td>\n",
       "      <td>196.0</td>\n",
       "      <td>602.0</td>\n",
       "      <td>149511.400651</td>\n",
       "      <td>1</td>\n",
       "      <td>3</td>\n",
       "      <td>2017</td>\n",
       "      <td>другой</td>\n",
       "      <td>0.407818</td>\n",
       "      <td>0.744409</td>\n",
       "    </tr>\n",
       "    <tr>\n",
       "      <th>23698</th>\n",
       "      <td>4</td>\n",
       "      <td>1350000</td>\n",
       "      <td>32.30</td>\n",
       "      <td>2017-07-21</td>\n",
       "      <td>1</td>\n",
       "      <td>2.50</td>\n",
       "      <td>5</td>\n",
       "      <td>12.3</td>\n",
       "      <td>1</td>\n",
       "      <td>False</td>\n",
       "      <td>...</td>\n",
       "      <td>0.0</td>\n",
       "      <td>NaN</td>\n",
       "      <td>NaN</td>\n",
       "      <td>41795.665635</td>\n",
       "      <td>4</td>\n",
       "      <td>7</td>\n",
       "      <td>2017</td>\n",
       "      <td>первый</td>\n",
       "      <td>0.380805</td>\n",
       "      <td>0.731707</td>\n",
       "    </tr>\n",
       "  </tbody>\n",
       "</table>\n",
       "<p>23565 rows × 29 columns</p>\n",
       "</div>"
      ],
      "text/plain": [
       "       total_images  last_price  total_area first_day_exposition  rooms  \\\n",
       "0                20    13000000      108.00           2019-03-07      3   \n",
       "1                 7     3350000       40.40           2018-12-04      1   \n",
       "2                10     5196000       56.00           2015-08-20      2   \n",
       "3                 0    64900000      159.00           2015-07-24      3   \n",
       "4                 2    10000000      100.00           2018-06-19      2   \n",
       "...             ...         ...         ...                  ...    ...   \n",
       "23694             9     9700000      133.81           2017-03-21      3   \n",
       "23695            14     3100000       59.00           2018-01-15      3   \n",
       "23696            18     2500000       56.70           2018-02-11      2   \n",
       "23697            13    11475000       76.75           2017-03-28      2   \n",
       "23698             4     1350000       32.30           2017-07-21      1   \n",
       "\n",
       "       ceiling_height  floors_total  living_area  floor is_apartment  ...  \\\n",
       "0                2.70            16         51.0      8        False  ...   \n",
       "1                2.63            11         18.6      1        False  ...   \n",
       "2                2.70             5         34.3      4        False  ...   \n",
       "3                2.70            14         31.3      9        False  ...   \n",
       "4                3.03            14         32.0     13        False  ...   \n",
       "...               ...           ...          ...    ...          ...  ...   \n",
       "23694            3.70             5         73.3      3        False  ...   \n",
       "23695            2.50             5         38.0      4        False  ...   \n",
       "23696             NaN             3         29.7      1        False  ...   \n",
       "23697            3.00            17         31.3     12        False  ...   \n",
       "23698            2.50             5         12.3      1        False  ...   \n",
       "\n",
       "       ponds_around3000  ponds_nearest  days_exposition       m2_price  \\\n",
       "0                   2.0          755.0              NaN  120370.370370   \n",
       "1                   0.0            NaN             81.0   82920.792079   \n",
       "2                   2.0          574.0            558.0   92785.714286   \n",
       "3                   3.0          234.0            424.0  408176.100629   \n",
       "4                   1.0           48.0            121.0  100000.000000   \n",
       "...                 ...            ...              ...            ...   \n",
       "23694               3.0          381.0              NaN   72490.845228   \n",
       "23695               0.0            NaN             45.0   52542.372881   \n",
       "23696               0.0            NaN              NaN   44091.710758   \n",
       "23697               3.0          196.0            602.0  149511.400651   \n",
       "23698               0.0            NaN              NaN   41795.665635   \n",
       "\n",
       "      expo_weekday  expo_month  expo_year  floor_type  living_to_total  \\\n",
       "0                3           3       2019      другой         0.472222   \n",
       "1                1          12       2018      первый         0.460396   \n",
       "2                3           8       2015      другой         0.612500   \n",
       "3                4           7       2015      другой         0.196855   \n",
       "4                1           6       2018      другой         0.320000   \n",
       "...            ...         ...        ...         ...              ...   \n",
       "23694            1           3       2017      другой         0.547792   \n",
       "23695            0           1       2018      другой         0.644068   \n",
       "23696            6           2       2018      первый         0.523810   \n",
       "23697            1           3       2017      другой         0.407818   \n",
       "23698            4           7       2017      первый         0.380805   \n",
       "\n",
       "       kitchen_to_living  \n",
       "0               0.490196  \n",
       "1               0.591398  \n",
       "2               0.241983  \n",
       "3               0.316294  \n",
       "4               1.281250  \n",
       "...                  ...  \n",
       "23694           0.188677  \n",
       "23695           0.223684  \n",
       "23696           0.274411  \n",
       "23697           0.744409  \n",
       "23698           0.731707  \n",
       "\n",
       "[23565 rows x 29 columns]"
      ]
     },
     "execution_count": 42,
     "metadata": {},
     "output_type": "execute_result"
    }
   ],
   "source": [
    "df"
   ]
  },
  {
   "cell_type": "code",
   "execution_count": 43,
   "metadata": {},
   "outputs": [],
   "source": [
    "df_new = df.query('(total_area < 550) & (m2_price < 100_000_000) & (m2_price > 10_000) & (((ceiling_height >2)& (ceiling_height<5))|(ceiling_height.isnull()))&((days_exposition > 3)|(days_exposition.isnull())) & (rooms<8)', engine = 'python')"
   ]
  },
  {
   "cell_type": "code",
   "execution_count": 44,
   "metadata": {},
   "outputs": [
    {
     "name": "stdout",
     "output_type": "stream",
     "text": [
      "<class 'pandas.core.frame.DataFrame'>\n",
      "Int64Index: 23472 entries, 0 to 23698\n",
      "Data columns (total 29 columns):\n",
      " #   Column                Non-Null Count  Dtype         \n",
      "---  ------                --------------  -----         \n",
      " 0   total_images          23472 non-null  int64         \n",
      " 1   last_price            23472 non-null  int64         \n",
      " 2   total_area            23472 non-null  float64       \n",
      " 3   first_day_exposition  23472 non-null  datetime64[ns]\n",
      " 4   rooms                 23472 non-null  int64         \n",
      " 5   ceiling_height        23367 non-null  float64       \n",
      " 6   floors_total          23472 non-null  int64         \n",
      " 7   living_area           23455 non-null  float64       \n",
      " 8   floor                 23472 non-null  int64         \n",
      " 9   is_apartment          23472 non-null  object        \n",
      " 10  studio                23472 non-null  bool          \n",
      " 11  open_plan             23472 non-null  bool          \n",
      " 12  kitchen_area          23453 non-null  float64       \n",
      " 13  balcony               23472 non-null  int64         \n",
      " 14  locality_name         23472 non-null  object        \n",
      " 15  airports_nearest      17971 non-null  float64       \n",
      " 16  citycenters_nearest   17994 non-null  float64       \n",
      " 17  parks_around3000      23472 non-null  float64       \n",
      " 18  parks_nearest         7983 non-null   float64       \n",
      " 19  ponds_around3000      23472 non-null  float64       \n",
      " 20  ponds_nearest         8996 non-null   float64       \n",
      " 21  days_exposition       20322 non-null  float64       \n",
      " 22  m2_price              23472 non-null  float64       \n",
      " 23  expo_weekday          23472 non-null  int64         \n",
      " 24  expo_month            23472 non-null  int64         \n",
      " 25  expo_year             23472 non-null  int64         \n",
      " 26  floor_type            23472 non-null  object        \n",
      " 27  living_to_total       23455 non-null  float64       \n",
      " 28  kitchen_to_living     23452 non-null  float64       \n",
      "dtypes: bool(2), datetime64[ns](1), float64(14), int64(9), object(3)\n",
      "memory usage: 5.1+ MB\n"
     ]
    }
   ],
   "source": [
    "df_new.info()"
   ]
  },
  {
   "cell_type": "markdown",
   "metadata": {},
   "source": [
    "Итого мы удалили 0,7% некорректных данных (ошибок и выбросов) и продолжим работу с датафреймом df_new."
   ]
  },
  {
   "cell_type": "code",
   "execution_count": 45,
   "metadata": {
    "scrolled": true
   },
   "outputs": [
    {
     "data": {
      "text/html": [
       "<div>\n",
       "<style scoped>\n",
       "    .dataframe tbody tr th:only-of-type {\n",
       "        vertical-align: middle;\n",
       "    }\n",
       "\n",
       "    .dataframe tbody tr th {\n",
       "        vertical-align: top;\n",
       "    }\n",
       "\n",
       "    .dataframe thead th {\n",
       "        text-align: right;\n",
       "    }\n",
       "</style>\n",
       "<table border=\"1\" class=\"dataframe\">\n",
       "  <thead>\n",
       "    <tr style=\"text-align: right;\">\n",
       "      <th></th>\n",
       "      <th>total_images</th>\n",
       "      <th>last_price</th>\n",
       "      <th>total_area</th>\n",
       "      <th>first_day_exposition</th>\n",
       "      <th>rooms</th>\n",
       "      <th>ceiling_height</th>\n",
       "      <th>floors_total</th>\n",
       "      <th>living_area</th>\n",
       "      <th>floor</th>\n",
       "      <th>is_apartment</th>\n",
       "      <th>...</th>\n",
       "      <th>ponds_around3000</th>\n",
       "      <th>ponds_nearest</th>\n",
       "      <th>days_exposition</th>\n",
       "      <th>m2_price</th>\n",
       "      <th>expo_weekday</th>\n",
       "      <th>expo_month</th>\n",
       "      <th>expo_year</th>\n",
       "      <th>floor_type</th>\n",
       "      <th>living_to_total</th>\n",
       "      <th>kitchen_to_living</th>\n",
       "    </tr>\n",
       "  </thead>\n",
       "  <tbody>\n",
       "    <tr>\n",
       "      <th>793</th>\n",
       "      <td>20</td>\n",
       "      <td>135000000</td>\n",
       "      <td>310.0</td>\n",
       "      <td>2018-05-22</td>\n",
       "      <td>4</td>\n",
       "      <td>3.30</td>\n",
       "      <td>5</td>\n",
       "      <td>250.00</td>\n",
       "      <td>2</td>\n",
       "      <td>False</td>\n",
       "      <td>...</td>\n",
       "      <td>3.0</td>\n",
       "      <td>190.0</td>\n",
       "      <td>342.0</td>\n",
       "      <td>4.354839e+05</td>\n",
       "      <td>1</td>\n",
       "      <td>5</td>\n",
       "      <td>2018</td>\n",
       "      <td>другой</td>\n",
       "      <td>0.806452</td>\n",
       "      <td>0.200000</td>\n",
       "    </tr>\n",
       "    <tr>\n",
       "      <th>1188</th>\n",
       "      <td>20</td>\n",
       "      <td>118000000</td>\n",
       "      <td>290.6</td>\n",
       "      <td>2018-06-01</td>\n",
       "      <td>6</td>\n",
       "      <td>3.82</td>\n",
       "      <td>6</td>\n",
       "      <td>188.70</td>\n",
       "      <td>3</td>\n",
       "      <td>False</td>\n",
       "      <td>...</td>\n",
       "      <td>0.0</td>\n",
       "      <td>NaN</td>\n",
       "      <td>316.0</td>\n",
       "      <td>4.060564e+05</td>\n",
       "      <td>4</td>\n",
       "      <td>6</td>\n",
       "      <td>2018</td>\n",
       "      <td>другой</td>\n",
       "      <td>0.649346</td>\n",
       "      <td>0.116587</td>\n",
       "    </tr>\n",
       "    <tr>\n",
       "      <th>1300</th>\n",
       "      <td>14</td>\n",
       "      <td>120000000</td>\n",
       "      <td>280.0</td>\n",
       "      <td>2018-07-12</td>\n",
       "      <td>5</td>\n",
       "      <td>4.70</td>\n",
       "      <td>4</td>\n",
       "      <td>162.00</td>\n",
       "      <td>3</td>\n",
       "      <td>False</td>\n",
       "      <td>...</td>\n",
       "      <td>3.0</td>\n",
       "      <td>339.0</td>\n",
       "      <td>225.0</td>\n",
       "      <td>4.285714e+05</td>\n",
       "      <td>3</td>\n",
       "      <td>7</td>\n",
       "      <td>2018</td>\n",
       "      <td>другой</td>\n",
       "      <td>0.578571</td>\n",
       "      <td>0.185185</td>\n",
       "    </tr>\n",
       "    <tr>\n",
       "      <th>1436</th>\n",
       "      <td>19</td>\n",
       "      <td>330000000</td>\n",
       "      <td>190.0</td>\n",
       "      <td>2018-04-04</td>\n",
       "      <td>3</td>\n",
       "      <td>3.50</td>\n",
       "      <td>7</td>\n",
       "      <td>95.00</td>\n",
       "      <td>5</td>\n",
       "      <td>False</td>\n",
       "      <td>...</td>\n",
       "      <td>3.0</td>\n",
       "      <td>285.0</td>\n",
       "      <td>233.0</td>\n",
       "      <td>1.736842e+06</td>\n",
       "      <td>2</td>\n",
       "      <td>4</td>\n",
       "      <td>2018</td>\n",
       "      <td>другой</td>\n",
       "      <td>0.500000</td>\n",
       "      <td>0.421053</td>\n",
       "    </tr>\n",
       "    <tr>\n",
       "      <th>1928</th>\n",
       "      <td>11</td>\n",
       "      <td>125000000</td>\n",
       "      <td>224.5</td>\n",
       "      <td>2017-01-24</td>\n",
       "      <td>4</td>\n",
       "      <td>2.70</td>\n",
       "      <td>4</td>\n",
       "      <td>163.50</td>\n",
       "      <td>3</td>\n",
       "      <td>False</td>\n",
       "      <td>...</td>\n",
       "      <td>2.0</td>\n",
       "      <td>497.0</td>\n",
       "      <td>174.0</td>\n",
       "      <td>5.567929e+05</td>\n",
       "      <td>1</td>\n",
       "      <td>1</td>\n",
       "      <td>2017</td>\n",
       "      <td>другой</td>\n",
       "      <td>0.728285</td>\n",
       "      <td>0.183486</td>\n",
       "    </tr>\n",
       "    <tr>\n",
       "      <th>2243</th>\n",
       "      <td>9</td>\n",
       "      <td>130278280</td>\n",
       "      <td>304.0</td>\n",
       "      <td>2015-07-24</td>\n",
       "      <td>5</td>\n",
       "      <td>3.11</td>\n",
       "      <td>9</td>\n",
       "      <td>31.30</td>\n",
       "      <td>7</td>\n",
       "      <td>False</td>\n",
       "      <td>...</td>\n",
       "      <td>0.0</td>\n",
       "      <td>NaN</td>\n",
       "      <td>599.0</td>\n",
       "      <td>4.285470e+05</td>\n",
       "      <td>4</td>\n",
       "      <td>7</td>\n",
       "      <td>2015</td>\n",
       "      <td>другой</td>\n",
       "      <td>0.102961</td>\n",
       "      <td>0.316294</td>\n",
       "    </tr>\n",
       "    <tr>\n",
       "      <th>2536</th>\n",
       "      <td>16</td>\n",
       "      <td>159984000</td>\n",
       "      <td>242.4</td>\n",
       "      <td>2015-08-27</td>\n",
       "      <td>4</td>\n",
       "      <td>3.85</td>\n",
       "      <td>9</td>\n",
       "      <td>131.00</td>\n",
       "      <td>7</td>\n",
       "      <td>False</td>\n",
       "      <td>...</td>\n",
       "      <td>1.0</td>\n",
       "      <td>227.0</td>\n",
       "      <td>501.0</td>\n",
       "      <td>6.600000e+05</td>\n",
       "      <td>3</td>\n",
       "      <td>8</td>\n",
       "      <td>2015</td>\n",
       "      <td>другой</td>\n",
       "      <td>0.540429</td>\n",
       "      <td>0.152672</td>\n",
       "    </tr>\n",
       "    <tr>\n",
       "      <th>4996</th>\n",
       "      <td>20</td>\n",
       "      <td>124000000</td>\n",
       "      <td>124.5</td>\n",
       "      <td>2017-10-12</td>\n",
       "      <td>4</td>\n",
       "      <td>3.00</td>\n",
       "      <td>4</td>\n",
       "      <td>67.20</td>\n",
       "      <td>2</td>\n",
       "      <td>False</td>\n",
       "      <td>...</td>\n",
       "      <td>3.0</td>\n",
       "      <td>172.0</td>\n",
       "      <td>45.0</td>\n",
       "      <td>9.959839e+05</td>\n",
       "      <td>3</td>\n",
       "      <td>10</td>\n",
       "      <td>2017</td>\n",
       "      <td>другой</td>\n",
       "      <td>0.539759</td>\n",
       "      <td>0.297619</td>\n",
       "    </tr>\n",
       "    <tr>\n",
       "      <th>5893</th>\n",
       "      <td>3</td>\n",
       "      <td>230000000</td>\n",
       "      <td>500.0</td>\n",
       "      <td>2017-05-31</td>\n",
       "      <td>6</td>\n",
       "      <td>2.70</td>\n",
       "      <td>7</td>\n",
       "      <td>31.30</td>\n",
       "      <td>7</td>\n",
       "      <td>False</td>\n",
       "      <td>...</td>\n",
       "      <td>2.0</td>\n",
       "      <td>198.0</td>\n",
       "      <td>50.0</td>\n",
       "      <td>4.600000e+05</td>\n",
       "      <td>2</td>\n",
       "      <td>5</td>\n",
       "      <td>2017</td>\n",
       "      <td>последний</td>\n",
       "      <td>0.062600</td>\n",
       "      <td>1.277955</td>\n",
       "    </tr>\n",
       "    <tr>\n",
       "      <th>7543</th>\n",
       "      <td>20</td>\n",
       "      <td>130000000</td>\n",
       "      <td>307.8</td>\n",
       "      <td>2016-04-24</td>\n",
       "      <td>5</td>\n",
       "      <td>2.70</td>\n",
       "      <td>4</td>\n",
       "      <td>187.90</td>\n",
       "      <td>3</td>\n",
       "      <td>False</td>\n",
       "      <td>...</td>\n",
       "      <td>1.0</td>\n",
       "      <td>603.0</td>\n",
       "      <td>1094.0</td>\n",
       "      <td>4.223522e+05</td>\n",
       "      <td>6</td>\n",
       "      <td>4</td>\n",
       "      <td>2016</td>\n",
       "      <td>другой</td>\n",
       "      <td>0.610461</td>\n",
       "      <td>0.337414</td>\n",
       "    </tr>\n",
       "    <tr>\n",
       "      <th>7674</th>\n",
       "      <td>20</td>\n",
       "      <td>131000000</td>\n",
       "      <td>380.0</td>\n",
       "      <td>2016-09-23</td>\n",
       "      <td>5</td>\n",
       "      <td>3.90</td>\n",
       "      <td>6</td>\n",
       "      <td>150.00</td>\n",
       "      <td>4</td>\n",
       "      <td>False</td>\n",
       "      <td>...</td>\n",
       "      <td>1.0</td>\n",
       "      <td>635.0</td>\n",
       "      <td>901.0</td>\n",
       "      <td>3.447368e+05</td>\n",
       "      <td>4</td>\n",
       "      <td>9</td>\n",
       "      <td>2016</td>\n",
       "      <td>другой</td>\n",
       "      <td>0.394737</td>\n",
       "      <td>0.066000</td>\n",
       "    </tr>\n",
       "    <tr>\n",
       "      <th>8900</th>\n",
       "      <td>13</td>\n",
       "      <td>190870000</td>\n",
       "      <td>268.0</td>\n",
       "      <td>2016-03-25</td>\n",
       "      <td>3</td>\n",
       "      <td>2.70</td>\n",
       "      <td>8</td>\n",
       "      <td>132.00</td>\n",
       "      <td>7</td>\n",
       "      <td>False</td>\n",
       "      <td>...</td>\n",
       "      <td>2.0</td>\n",
       "      <td>198.0</td>\n",
       "      <td>901.0</td>\n",
       "      <td>7.122015e+05</td>\n",
       "      <td>4</td>\n",
       "      <td>3</td>\n",
       "      <td>2016</td>\n",
       "      <td>другой</td>\n",
       "      <td>0.492537</td>\n",
       "      <td>0.303030</td>\n",
       "    </tr>\n",
       "    <tr>\n",
       "      <th>12674</th>\n",
       "      <td>16</td>\n",
       "      <td>140000000</td>\n",
       "      <td>241.0</td>\n",
       "      <td>2015-07-24</td>\n",
       "      <td>5</td>\n",
       "      <td>3.00</td>\n",
       "      <td>5</td>\n",
       "      <td>31.30</td>\n",
       "      <td>4</td>\n",
       "      <td>False</td>\n",
       "      <td>...</td>\n",
       "      <td>3.0</td>\n",
       "      <td>83.0</td>\n",
       "      <td>399.0</td>\n",
       "      <td>5.809129e+05</td>\n",
       "      <td>4</td>\n",
       "      <td>7</td>\n",
       "      <td>2015</td>\n",
       "      <td>другой</td>\n",
       "      <td>0.129876</td>\n",
       "      <td>0.316294</td>\n",
       "    </tr>\n",
       "    <tr>\n",
       "      <th>12971</th>\n",
       "      <td>19</td>\n",
       "      <td>763000000</td>\n",
       "      <td>400.0</td>\n",
       "      <td>2017-09-30</td>\n",
       "      <td>7</td>\n",
       "      <td>2.70</td>\n",
       "      <td>10</td>\n",
       "      <td>250.00</td>\n",
       "      <td>10</td>\n",
       "      <td>False</td>\n",
       "      <td>...</td>\n",
       "      <td>3.0</td>\n",
       "      <td>756.0</td>\n",
       "      <td>33.0</td>\n",
       "      <td>1.907500e+06</td>\n",
       "      <td>5</td>\n",
       "      <td>9</td>\n",
       "      <td>2017</td>\n",
       "      <td>последний</td>\n",
       "      <td>0.625000</td>\n",
       "      <td>0.039600</td>\n",
       "    </tr>\n",
       "    <tr>\n",
       "      <th>13749</th>\n",
       "      <td>7</td>\n",
       "      <td>240000000</td>\n",
       "      <td>410.0</td>\n",
       "      <td>2017-04-01</td>\n",
       "      <td>6</td>\n",
       "      <td>3.40</td>\n",
       "      <td>7</td>\n",
       "      <td>218.00</td>\n",
       "      <td>7</td>\n",
       "      <td>False</td>\n",
       "      <td>...</td>\n",
       "      <td>2.0</td>\n",
       "      <td>198.0</td>\n",
       "      <td>199.0</td>\n",
       "      <td>5.853659e+05</td>\n",
       "      <td>5</td>\n",
       "      <td>4</td>\n",
       "      <td>2017</td>\n",
       "      <td>последний</td>\n",
       "      <td>0.531707</td>\n",
       "      <td>0.183486</td>\n",
       "    </tr>\n",
       "    <tr>\n",
       "      <th>13864</th>\n",
       "      <td>20</td>\n",
       "      <td>130000000</td>\n",
       "      <td>231.0</td>\n",
       "      <td>2015-08-13</td>\n",
       "      <td>6</td>\n",
       "      <td>3.60</td>\n",
       "      <td>6</td>\n",
       "      <td>148.00</td>\n",
       "      <td>4</td>\n",
       "      <td>False</td>\n",
       "      <td>...</td>\n",
       "      <td>3.0</td>\n",
       "      <td>170.0</td>\n",
       "      <td>467.0</td>\n",
       "      <td>5.627706e+05</td>\n",
       "      <td>3</td>\n",
       "      <td>8</td>\n",
       "      <td>2015</td>\n",
       "      <td>другой</td>\n",
       "      <td>0.640693</td>\n",
       "      <td>0.081081</td>\n",
       "    </tr>\n",
       "    <tr>\n",
       "      <th>14706</th>\n",
       "      <td>15</td>\n",
       "      <td>401300000</td>\n",
       "      <td>401.0</td>\n",
       "      <td>2016-02-20</td>\n",
       "      <td>5</td>\n",
       "      <td>2.70</td>\n",
       "      <td>9</td>\n",
       "      <td>204.00</td>\n",
       "      <td>9</td>\n",
       "      <td>False</td>\n",
       "      <td>...</td>\n",
       "      <td>1.0</td>\n",
       "      <td>478.0</td>\n",
       "      <td>393.0</td>\n",
       "      <td>1.000748e+06</td>\n",
       "      <td>5</td>\n",
       "      <td>2</td>\n",
       "      <td>2016</td>\n",
       "      <td>последний</td>\n",
       "      <td>0.508728</td>\n",
       "      <td>0.117647</td>\n",
       "    </tr>\n",
       "    <tr>\n",
       "      <th>15016</th>\n",
       "      <td>8</td>\n",
       "      <td>150000000</td>\n",
       "      <td>500.0</td>\n",
       "      <td>2016-01-13</td>\n",
       "      <td>4</td>\n",
       "      <td>3.20</td>\n",
       "      <td>7</td>\n",
       "      <td>31.30</td>\n",
       "      <td>7</td>\n",
       "      <td>False</td>\n",
       "      <td>...</td>\n",
       "      <td>3.0</td>\n",
       "      <td>531.0</td>\n",
       "      <td>303.0</td>\n",
       "      <td>3.000000e+05</td>\n",
       "      <td>2</td>\n",
       "      <td>1</td>\n",
       "      <td>2016</td>\n",
       "      <td>последний</td>\n",
       "      <td>0.062600</td>\n",
       "      <td>0.316294</td>\n",
       "    </tr>\n",
       "    <tr>\n",
       "      <th>16461</th>\n",
       "      <td>17</td>\n",
       "      <td>245000000</td>\n",
       "      <td>285.7</td>\n",
       "      <td>2017-04-10</td>\n",
       "      <td>6</td>\n",
       "      <td>3.35</td>\n",
       "      <td>7</td>\n",
       "      <td>182.80</td>\n",
       "      <td>4</td>\n",
       "      <td>False</td>\n",
       "      <td>...</td>\n",
       "      <td>3.0</td>\n",
       "      <td>140.0</td>\n",
       "      <td>249.0</td>\n",
       "      <td>8.575429e+05</td>\n",
       "      <td>0</td>\n",
       "      <td>4</td>\n",
       "      <td>2017</td>\n",
       "      <td>другой</td>\n",
       "      <td>0.639832</td>\n",
       "      <td>0.163020</td>\n",
       "    </tr>\n",
       "    <tr>\n",
       "      <th>16495</th>\n",
       "      <td>12</td>\n",
       "      <td>159000000</td>\n",
       "      <td>260.0</td>\n",
       "      <td>2017-04-04</td>\n",
       "      <td>4</td>\n",
       "      <td>2.70</td>\n",
       "      <td>5</td>\n",
       "      <td>180.00</td>\n",
       "      <td>4</td>\n",
       "      <td>False</td>\n",
       "      <td>...</td>\n",
       "      <td>3.0</td>\n",
       "      <td>620.0</td>\n",
       "      <td>178.0</td>\n",
       "      <td>6.115385e+05</td>\n",
       "      <td>1</td>\n",
       "      <td>4</td>\n",
       "      <td>2017</td>\n",
       "      <td>другой</td>\n",
       "      <td>0.692308</td>\n",
       "      <td>0.166667</td>\n",
       "    </tr>\n",
       "    <tr>\n",
       "      <th>16647</th>\n",
       "      <td>15</td>\n",
       "      <td>122000000</td>\n",
       "      <td>145.0</td>\n",
       "      <td>2017-04-25</td>\n",
       "      <td>3</td>\n",
       "      <td>3.30</td>\n",
       "      <td>6</td>\n",
       "      <td>36.00</td>\n",
       "      <td>2</td>\n",
       "      <td>False</td>\n",
       "      <td>...</td>\n",
       "      <td>3.0</td>\n",
       "      <td>250.0</td>\n",
       "      <td>335.0</td>\n",
       "      <td>8.413793e+05</td>\n",
       "      <td>1</td>\n",
       "      <td>4</td>\n",
       "      <td>2017</td>\n",
       "      <td>другой</td>\n",
       "      <td>0.248276</td>\n",
       "      <td>2.000000</td>\n",
       "    </tr>\n",
       "    <tr>\n",
       "      <th>17912</th>\n",
       "      <td>17</td>\n",
       "      <td>135000000</td>\n",
       "      <td>166.0</td>\n",
       "      <td>2019-02-07</td>\n",
       "      <td>3</td>\n",
       "      <td>3.30</td>\n",
       "      <td>7</td>\n",
       "      <td>52.00</td>\n",
       "      <td>1</td>\n",
       "      <td>False</td>\n",
       "      <td>...</td>\n",
       "      <td>3.0</td>\n",
       "      <td>215.0</td>\n",
       "      <td>NaN</td>\n",
       "      <td>8.132530e+05</td>\n",
       "      <td>3</td>\n",
       "      <td>2</td>\n",
       "      <td>2019</td>\n",
       "      <td>первый</td>\n",
       "      <td>0.313253</td>\n",
       "      <td>1.230769</td>\n",
       "    </tr>\n",
       "    <tr>\n",
       "      <th>19155</th>\n",
       "      <td>20</td>\n",
       "      <td>160000000</td>\n",
       "      <td>243.0</td>\n",
       "      <td>2018-11-12</td>\n",
       "      <td>5</td>\n",
       "      <td>2.70</td>\n",
       "      <td>5</td>\n",
       "      <td>145.00</td>\n",
       "      <td>4</td>\n",
       "      <td>False</td>\n",
       "      <td>...</td>\n",
       "      <td>1.0</td>\n",
       "      <td>200.0</td>\n",
       "      <td>18.0</td>\n",
       "      <td>6.584362e+05</td>\n",
       "      <td>0</td>\n",
       "      <td>11</td>\n",
       "      <td>2018</td>\n",
       "      <td>другой</td>\n",
       "      <td>0.596708</td>\n",
       "      <td>0.227586</td>\n",
       "    </tr>\n",
       "    <tr>\n",
       "      <th>20349</th>\n",
       "      <td>17</td>\n",
       "      <td>124480000</td>\n",
       "      <td>267.7</td>\n",
       "      <td>2016-06-18</td>\n",
       "      <td>4</td>\n",
       "      <td>2.70</td>\n",
       "      <td>8</td>\n",
       "      <td>107.03</td>\n",
       "      <td>8</td>\n",
       "      <td>False</td>\n",
       "      <td>...</td>\n",
       "      <td>2.0</td>\n",
       "      <td>473.0</td>\n",
       "      <td>205.0</td>\n",
       "      <td>4.649981e+05</td>\n",
       "      <td>5</td>\n",
       "      <td>6</td>\n",
       "      <td>2016</td>\n",
       "      <td>последний</td>\n",
       "      <td>0.399813</td>\n",
       "      <td>0.278987</td>\n",
       "    </tr>\n",
       "    <tr>\n",
       "      <th>21023</th>\n",
       "      <td>17</td>\n",
       "      <td>124350000</td>\n",
       "      <td>248.7</td>\n",
       "      <td>2015-08-27</td>\n",
       "      <td>4</td>\n",
       "      <td>3.40</td>\n",
       "      <td>9</td>\n",
       "      <td>131.00</td>\n",
       "      <td>4</td>\n",
       "      <td>False</td>\n",
       "      <td>...</td>\n",
       "      <td>1.0</td>\n",
       "      <td>227.0</td>\n",
       "      <td>501.0</td>\n",
       "      <td>5.000000e+05</td>\n",
       "      <td>3</td>\n",
       "      <td>8</td>\n",
       "      <td>2015</td>\n",
       "      <td>другой</td>\n",
       "      <td>0.526739</td>\n",
       "      <td>0.175573</td>\n",
       "    </tr>\n",
       "    <tr>\n",
       "      <th>21923</th>\n",
       "      <td>10</td>\n",
       "      <td>115490000</td>\n",
       "      <td>235.0</td>\n",
       "      <td>2017-04-09</td>\n",
       "      <td>5</td>\n",
       "      <td>4.90</td>\n",
       "      <td>5</td>\n",
       "      <td>140.00</td>\n",
       "      <td>5</td>\n",
       "      <td>False</td>\n",
       "      <td>...</td>\n",
       "      <td>3.0</td>\n",
       "      <td>253.0</td>\n",
       "      <td>351.0</td>\n",
       "      <td>4.914468e+05</td>\n",
       "      <td>6</td>\n",
       "      <td>4</td>\n",
       "      <td>2017</td>\n",
       "      <td>последний</td>\n",
       "      <td>0.595745</td>\n",
       "      <td>0.357143</td>\n",
       "    </tr>\n",
       "    <tr>\n",
       "      <th>21955</th>\n",
       "      <td>19</td>\n",
       "      <td>130000000</td>\n",
       "      <td>431.0</td>\n",
       "      <td>2017-10-02</td>\n",
       "      <td>7</td>\n",
       "      <td>3.70</td>\n",
       "      <td>8</td>\n",
       "      <td>220.00</td>\n",
       "      <td>5</td>\n",
       "      <td>False</td>\n",
       "      <td>...</td>\n",
       "      <td>0.0</td>\n",
       "      <td>NaN</td>\n",
       "      <td>161.0</td>\n",
       "      <td>3.016241e+05</td>\n",
       "      <td>0</td>\n",
       "      <td>10</td>\n",
       "      <td>2017</td>\n",
       "      <td>другой</td>\n",
       "      <td>0.510441</td>\n",
       "      <td>0.090909</td>\n",
       "    </tr>\n",
       "    <tr>\n",
       "      <th>22229</th>\n",
       "      <td>16</td>\n",
       "      <td>148000000</td>\n",
       "      <td>256.0</td>\n",
       "      <td>2016-03-16</td>\n",
       "      <td>5</td>\n",
       "      <td>2.70</td>\n",
       "      <td>6</td>\n",
       "      <td>179.00</td>\n",
       "      <td>5</td>\n",
       "      <td>False</td>\n",
       "      <td>...</td>\n",
       "      <td>3.0</td>\n",
       "      <td>462.0</td>\n",
       "      <td>233.0</td>\n",
       "      <td>5.781250e+05</td>\n",
       "      <td>2</td>\n",
       "      <td>3</td>\n",
       "      <td>2016</td>\n",
       "      <td>другой</td>\n",
       "      <td>0.699219</td>\n",
       "      <td>0.201117</td>\n",
       "    </tr>\n",
       "    <tr>\n",
       "      <th>22831</th>\n",
       "      <td>18</td>\n",
       "      <td>289238400</td>\n",
       "      <td>187.5</td>\n",
       "      <td>2019-03-19</td>\n",
       "      <td>2</td>\n",
       "      <td>3.37</td>\n",
       "      <td>6</td>\n",
       "      <td>63.70</td>\n",
       "      <td>6</td>\n",
       "      <td>False</td>\n",
       "      <td>...</td>\n",
       "      <td>3.0</td>\n",
       "      <td>188.0</td>\n",
       "      <td>NaN</td>\n",
       "      <td>1.542605e+06</td>\n",
       "      <td>1</td>\n",
       "      <td>3</td>\n",
       "      <td>2019</td>\n",
       "      <td>последний</td>\n",
       "      <td>0.339733</td>\n",
       "      <td>0.474097</td>\n",
       "    </tr>\n",
       "  </tbody>\n",
       "</table>\n",
       "<p>29 rows × 29 columns</p>\n",
       "</div>"
      ],
      "text/plain": [
       "       total_images  last_price  total_area first_day_exposition  rooms  \\\n",
       "793              20   135000000       310.0           2018-05-22      4   \n",
       "1188             20   118000000       290.6           2018-06-01      6   \n",
       "1300             14   120000000       280.0           2018-07-12      5   \n",
       "1436             19   330000000       190.0           2018-04-04      3   \n",
       "1928             11   125000000       224.5           2017-01-24      4   \n",
       "2243              9   130278280       304.0           2015-07-24      5   \n",
       "2536             16   159984000       242.4           2015-08-27      4   \n",
       "4996             20   124000000       124.5           2017-10-12      4   \n",
       "5893              3   230000000       500.0           2017-05-31      6   \n",
       "7543             20   130000000       307.8           2016-04-24      5   \n",
       "7674             20   131000000       380.0           2016-09-23      5   \n",
       "8900             13   190870000       268.0           2016-03-25      3   \n",
       "12674            16   140000000       241.0           2015-07-24      5   \n",
       "12971            19   763000000       400.0           2017-09-30      7   \n",
       "13749             7   240000000       410.0           2017-04-01      6   \n",
       "13864            20   130000000       231.0           2015-08-13      6   \n",
       "14706            15   401300000       401.0           2016-02-20      5   \n",
       "15016             8   150000000       500.0           2016-01-13      4   \n",
       "16461            17   245000000       285.7           2017-04-10      6   \n",
       "16495            12   159000000       260.0           2017-04-04      4   \n",
       "16647            15   122000000       145.0           2017-04-25      3   \n",
       "17912            17   135000000       166.0           2019-02-07      3   \n",
       "19155            20   160000000       243.0           2018-11-12      5   \n",
       "20349            17   124480000       267.7           2016-06-18      4   \n",
       "21023            17   124350000       248.7           2015-08-27      4   \n",
       "21923            10   115490000       235.0           2017-04-09      5   \n",
       "21955            19   130000000       431.0           2017-10-02      7   \n",
       "22229            16   148000000       256.0           2016-03-16      5   \n",
       "22831            18   289238400       187.5           2019-03-19      2   \n",
       "\n",
       "       ceiling_height  floors_total  living_area  floor is_apartment  ...  \\\n",
       "793              3.30             5       250.00      2        False  ...   \n",
       "1188             3.82             6       188.70      3        False  ...   \n",
       "1300             4.70             4       162.00      3        False  ...   \n",
       "1436             3.50             7        95.00      5        False  ...   \n",
       "1928             2.70             4       163.50      3        False  ...   \n",
       "2243             3.11             9        31.30      7        False  ...   \n",
       "2536             3.85             9       131.00      7        False  ...   \n",
       "4996             3.00             4        67.20      2        False  ...   \n",
       "5893             2.70             7        31.30      7        False  ...   \n",
       "7543             2.70             4       187.90      3        False  ...   \n",
       "7674             3.90             6       150.00      4        False  ...   \n",
       "8900             2.70             8       132.00      7        False  ...   \n",
       "12674            3.00             5        31.30      4        False  ...   \n",
       "12971            2.70            10       250.00     10        False  ...   \n",
       "13749            3.40             7       218.00      7        False  ...   \n",
       "13864            3.60             6       148.00      4        False  ...   \n",
       "14706            2.70             9       204.00      9        False  ...   \n",
       "15016            3.20             7        31.30      7        False  ...   \n",
       "16461            3.35             7       182.80      4        False  ...   \n",
       "16495            2.70             5       180.00      4        False  ...   \n",
       "16647            3.30             6        36.00      2        False  ...   \n",
       "17912            3.30             7        52.00      1        False  ...   \n",
       "19155            2.70             5       145.00      4        False  ...   \n",
       "20349            2.70             8       107.03      8        False  ...   \n",
       "21023            3.40             9       131.00      4        False  ...   \n",
       "21923            4.90             5       140.00      5        False  ...   \n",
       "21955            3.70             8       220.00      5        False  ...   \n",
       "22229            2.70             6       179.00      5        False  ...   \n",
       "22831            3.37             6        63.70      6        False  ...   \n",
       "\n",
       "       ponds_around3000  ponds_nearest  days_exposition      m2_price  \\\n",
       "793                 3.0          190.0            342.0  4.354839e+05   \n",
       "1188                0.0            NaN            316.0  4.060564e+05   \n",
       "1300                3.0          339.0            225.0  4.285714e+05   \n",
       "1436                3.0          285.0            233.0  1.736842e+06   \n",
       "1928                2.0          497.0            174.0  5.567929e+05   \n",
       "2243                0.0            NaN            599.0  4.285470e+05   \n",
       "2536                1.0          227.0            501.0  6.600000e+05   \n",
       "4996                3.0          172.0             45.0  9.959839e+05   \n",
       "5893                2.0          198.0             50.0  4.600000e+05   \n",
       "7543                1.0          603.0           1094.0  4.223522e+05   \n",
       "7674                1.0          635.0            901.0  3.447368e+05   \n",
       "8900                2.0          198.0            901.0  7.122015e+05   \n",
       "12674               3.0           83.0            399.0  5.809129e+05   \n",
       "12971               3.0          756.0             33.0  1.907500e+06   \n",
       "13749               2.0          198.0            199.0  5.853659e+05   \n",
       "13864               3.0          170.0            467.0  5.627706e+05   \n",
       "14706               1.0          478.0            393.0  1.000748e+06   \n",
       "15016               3.0          531.0            303.0  3.000000e+05   \n",
       "16461               3.0          140.0            249.0  8.575429e+05   \n",
       "16495               3.0          620.0            178.0  6.115385e+05   \n",
       "16647               3.0          250.0            335.0  8.413793e+05   \n",
       "17912               3.0          215.0              NaN  8.132530e+05   \n",
       "19155               1.0          200.0             18.0  6.584362e+05   \n",
       "20349               2.0          473.0            205.0  4.649981e+05   \n",
       "21023               1.0          227.0            501.0  5.000000e+05   \n",
       "21923               3.0          253.0            351.0  4.914468e+05   \n",
       "21955               0.0            NaN            161.0  3.016241e+05   \n",
       "22229               3.0          462.0            233.0  5.781250e+05   \n",
       "22831               3.0          188.0              NaN  1.542605e+06   \n",
       "\n",
       "      expo_weekday  expo_month  expo_year  floor_type  living_to_total  \\\n",
       "793              1           5       2018      другой         0.806452   \n",
       "1188             4           6       2018      другой         0.649346   \n",
       "1300             3           7       2018      другой         0.578571   \n",
       "1436             2           4       2018      другой         0.500000   \n",
       "1928             1           1       2017      другой         0.728285   \n",
       "2243             4           7       2015      другой         0.102961   \n",
       "2536             3           8       2015      другой         0.540429   \n",
       "4996             3          10       2017      другой         0.539759   \n",
       "5893             2           5       2017   последний         0.062600   \n",
       "7543             6           4       2016      другой         0.610461   \n",
       "7674             4           9       2016      другой         0.394737   \n",
       "8900             4           3       2016      другой         0.492537   \n",
       "12674            4           7       2015      другой         0.129876   \n",
       "12971            5           9       2017   последний         0.625000   \n",
       "13749            5           4       2017   последний         0.531707   \n",
       "13864            3           8       2015      другой         0.640693   \n",
       "14706            5           2       2016   последний         0.508728   \n",
       "15016            2           1       2016   последний         0.062600   \n",
       "16461            0           4       2017      другой         0.639832   \n",
       "16495            1           4       2017      другой         0.692308   \n",
       "16647            1           4       2017      другой         0.248276   \n",
       "17912            3           2       2019      первый         0.313253   \n",
       "19155            0          11       2018      другой         0.596708   \n",
       "20349            5           6       2016   последний         0.399813   \n",
       "21023            3           8       2015      другой         0.526739   \n",
       "21923            6           4       2017   последний         0.595745   \n",
       "21955            0          10       2017      другой         0.510441   \n",
       "22229            2           3       2016      другой         0.699219   \n",
       "22831            1           3       2019   последний         0.339733   \n",
       "\n",
       "       kitchen_to_living  \n",
       "793             0.200000  \n",
       "1188            0.116587  \n",
       "1300            0.185185  \n",
       "1436            0.421053  \n",
       "1928            0.183486  \n",
       "2243            0.316294  \n",
       "2536            0.152672  \n",
       "4996            0.297619  \n",
       "5893            1.277955  \n",
       "7543            0.337414  \n",
       "7674            0.066000  \n",
       "8900            0.303030  \n",
       "12674           0.316294  \n",
       "12971           0.039600  \n",
       "13749           0.183486  \n",
       "13864           0.081081  \n",
       "14706           0.117647  \n",
       "15016           0.316294  \n",
       "16461           0.163020  \n",
       "16495           0.166667  \n",
       "16647           2.000000  \n",
       "17912           1.230769  \n",
       "19155           0.227586  \n",
       "20349           0.278987  \n",
       "21023           0.175573  \n",
       "21923           0.357143  \n",
       "21955           0.090909  \n",
       "22229           0.201117  \n",
       "22831           0.474097  \n",
       "\n",
       "[29 rows x 29 columns]"
      ]
     },
     "execution_count": 45,
     "metadata": {},
     "output_type": "execute_result"
    }
   ],
   "source": [
    "# код ревьюера\n",
    "\n",
    "df_new.query('last_price > 100000000')"
   ]
  },
  {
   "cell_type": "code",
   "execution_count": 46,
   "metadata": {},
   "outputs": [
    {
     "data": {
      "text/plain": [
       "{'whiskers': [<matplotlib.lines.Line2D at 0x23b3f5c1190>,\n",
       "  <matplotlib.lines.Line2D at 0x23b3f5c1520>],\n",
       " 'caps': [<matplotlib.lines.Line2D at 0x23b3f5c18b0>,\n",
       "  <matplotlib.lines.Line2D at 0x23b3f5c1be0>],\n",
       " 'boxes': [<matplotlib.lines.Line2D at 0x23b3f5b0dc0>],\n",
       " 'medians': [<matplotlib.lines.Line2D at 0x23b3f5c1f70>],\n",
       " 'fliers': [<matplotlib.lines.Line2D at 0x23b3f5c9340>],\n",
       " 'means': []}"
      ]
     },
     "execution_count": 46,
     "metadata": {},
     "output_type": "execute_result"
    },
    {
     "data": {
      "image/png": "[encoded data removed]",
      "text/plain": [
       "<Figure size 432x288 with 1 Axes>"
      ]
     },
     "metadata": {
      "needs_background": "light"
     },
     "output_type": "display_data"
    }
   ],
   "source": [
    "plt.boxplot(df_new['last_price'], vert=False)"
   ]
  },
  {
   "cell_type": "markdown",
   "metadata": {},
   "source": [
    "У нас действительно есть сильно выбивающиеся значения среди всех цен. Можем их отбросить, чтобы не искажать зависимости."
   ]
  },
  {
   "cell_type": "code",
   "execution_count": 47,
   "metadata": {},
   "outputs": [],
   "source": [
    "df_new = df_new.query('last_price < 100000000')"
   ]
  },
  {
   "cell_type": "markdown",
   "metadata": {},
   "source": [
    "### Какие факторы больше всего влияют на стоимость квартиры"
   ]
  },
  {
   "cell_type": "markdown",
   "metadata": {},
   "source": [
    "Сделаем отдельный датафрейм для изучаемых данных."
   ]
  },
  {
   "cell_type": "code",
   "execution_count": 48,
   "metadata": {},
   "outputs": [],
   "source": [
    "df_analyze = df_new[['last_price','m2_price','total_area', 'rooms', 'citycenters_nearest', 'floor_type','expo_weekday', 'expo_month','expo_year']]"
   ]
  },
  {
   "cell_type": "markdown",
   "metadata": {},
   "source": [
    "#### Зависит ли цена от площади?  "
   ]
  },
  {
   "cell_type": "code",
   "execution_count": 49,
   "metadata": {
    "scrolled": true
   },
   "outputs": [
    {
     "data": {
      "text/plain": [
       "<AxesSubplot:xlabel='total_area', ylabel='m2_price'>"
      ]
     },
     "execution_count": 49,
     "metadata": {},
     "output_type": "execute_result"
    },
    {
     "data": {
      "image/png": "[encoded data removed]",
      "text/plain": [
       "<Figure size 432x288 with 1 Axes>"
      ]
     },
     "metadata": {
      "needs_background": "light"
     },
     "output_type": "display_data"
    }
   ],
   "source": [
    "df_analyze.plot(x='total_area', y='m2_price', kind='scatter', grid=True) "
   ]
  },
  {
   "cell_type": "markdown",
   "metadata": {},
   "source": [
    "Зависимости нет. Разброс обусловлен различными городами и другими факторами.  "
   ]
  },
  {
   "cell_type": "markdown",
   "metadata": {},
   "source": [
    "#### Зависит ли цена от количества комнат?  "
   ]
  },
  {
   "cell_type": "code",
   "execution_count": 50,
   "metadata": {
    "scrolled": true
   },
   "outputs": [
    {
     "data": {
      "text/plain": [
       "<AxesSubplot:xlabel='rooms'>"
      ]
     },
     "execution_count": 50,
     "metadata": {},
     "output_type": "execute_result"
    },
    {
     "data": {
      "image/png": "[encoded data removed]",
      "text/plain": [
       "<Figure size 432x288 with 1 Axes>"
      ]
     },
     "metadata": {
      "needs_background": "light"
     },
     "output_type": "display_data"
    }
   ],
   "source": [
    "df_analyze.pivot_table(index='rooms', values='m2_price', aggfunc='median').plot(y='m2_price', kind='bar') "
   ]
  },
  {
   "cell_type": "markdown",
   "metadata": {},
   "source": [
    "До трех комнат - чем больше комнат, тем дешевле квадратный метр.  \n",
    "Потом зависимость снова возрастает."
   ]
  },
  {
   "cell_type": "markdown",
   "metadata": {},
   "source": [
    "#### Зависит ли цена от близости к центру?  "
   ]
  },
  {
   "cell_type": "code",
   "execution_count": 51,
   "metadata": {},
   "outputs": [
    {
     "data": {
      "text/plain": [
       "<AxesSubplot:xlabel='citycenters_nearest', ylabel='m2_price'>"
      ]
     },
     "execution_count": 51,
     "metadata": {},
     "output_type": "execute_result"
    },
    {
     "data": {
      "image/png": "[encoded data removed]",
      "text/plain": [
       "<Figure size 432x288 with 1 Axes>"
      ]
     },
     "metadata": {
      "needs_background": "light"
     },
     "output_type": "display_data"
    }
   ],
   "source": [
    "df_analyze.plot(x='citycenters_nearest', y='m2_price', kind='scatter', grid=True) "
   ]
  },
  {
   "cell_type": "markdown",
   "metadata": {},
   "source": [
    "Да, при расстоянии меньше 10 км стоимость резко возрастает."
   ]
  },
  {
   "cell_type": "markdown",
   "metadata": {},
   "source": [
    "#### Зависит ли цена от этажа?"
   ]
  },
  {
   "cell_type": "code",
   "execution_count": 52,
   "metadata": {
    "scrolled": true
   },
   "outputs": [
    {
     "data": {
      "text/plain": [
       "<AxesSubplot:xlabel='floor_type'>"
      ]
     },
     "execution_count": 52,
     "metadata": {},
     "output_type": "execute_result"
    },
    {
     "data": {
      "image/png": "[encoded data removed]",
      "text/plain": [
       "<Figure size 432x288 with 1 Axes>"
      ]
     },
     "metadata": {
      "needs_background": "light"
     },
     "output_type": "display_data"
    }
   ],
   "source": [
    "df_analyze.pivot_table(index='floor_type', values='m2_price', aggfunc='median').plot(y='m2_price', kind='bar', grid=True) "
   ]
  },
  {
   "cell_type": "markdown",
   "metadata": {},
   "source": [
    "В среднем, на первом этаже квартиры дешевле всего. На последнем - дороже. На любом другом - самые дорогие."
   ]
  },
  {
   "cell_type": "markdown",
   "metadata": {},
   "source": [
    "#### Зависит ли цена от дня недели размещения?"
   ]
  },
  {
   "cell_type": "code",
   "execution_count": 53,
   "metadata": {},
   "outputs": [
    {
     "data": {
      "text/plain": [
       "(90000.0, 100000.0)"
      ]
     },
     "execution_count": 53,
     "metadata": {},
     "output_type": "execute_result"
    },
    {
     "data": {
      "image/png": "[encoded data removed]",
      "text/plain": [
       "<Figure size 432x288 with 1 Axes>"
      ]
     },
     "metadata": {
      "needs_background": "light"
     },
     "output_type": "display_data"
    }
   ],
   "source": [
    "df_analyze.pivot_table(index='expo_weekday', values='m2_price', aggfunc='median').plot(y='m2_price', kind='bar', grid=True)\n",
    "plt.ylim([90000, 100000])\n"
   ]
  },
  {
   "cell_type": "markdown",
   "metadata": {},
   "source": [
    "Цена за метр почти не зависит от дня размещения. В целом она чуть ниже в субботу."
   ]
  },
  {
   "cell_type": "markdown",
   "metadata": {},
   "source": [
    "#### Зависит ли цена от месяца размещения?"
   ]
  },
  {
   "cell_type": "code",
   "execution_count": 54,
   "metadata": {
    "scrolled": true
   },
   "outputs": [
    {
     "data": {
      "text/plain": [
       "(90000.0, 100000.0)"
      ]
     },
     "execution_count": 54,
     "metadata": {},
     "output_type": "execute_result"
    },
    {
     "data": {
      "image/png": "[encoded data removed]",
      "text/plain": [
       "<Figure size 432x288 with 1 Axes>"
      ]
     },
     "metadata": {
      "needs_background": "light"
     },
     "output_type": "display_data"
    }
   ],
   "source": [
    "df_analyze.pivot_table(index='expo_month', values='m2_price', aggfunc='median').plot(y='m2_price', kind='bar', grid=True)\n",
    "plt.ylim([90000, 100000])"
   ]
  },
  {
   "cell_type": "markdown",
   "metadata": {},
   "source": [
    "Цена за метр ниже в мае и июне. Выше всего - в апреле."
   ]
  },
  {
   "cell_type": "markdown",
   "metadata": {},
   "source": [
    "#### Зависит ли цена от года размещения?"
   ]
  },
  {
   "cell_type": "code",
   "execution_count": 55,
   "metadata": {
    "scrolled": true
   },
   "outputs": [
    {
     "data": {
      "text/plain": [
       "(90000.0, 110000.0)"
      ]
     },
     "execution_count": 55,
     "metadata": {},
     "output_type": "execute_result"
    },
    {
     "data": {
      "image/png": "[encoded data removed]",
      "text/plain": [
       "<Figure size 432x288 with 1 Axes>"
      ]
     },
     "metadata": {
      "needs_background": "light"
     },
     "output_type": "display_data"
    }
   ],
   "source": [
    "df_analyze.pivot_table(index='expo_year', values='m2_price', aggfunc='median').plot(y='m2_price', kind='bar', grid=True)\n",
    "plt.ylim([90000, 110000])"
   ]
  },
  {
   "cell_type": "markdown",
   "metadata": {},
   "source": [
    "Больше всего квадратный метр стоил в 2014 и 2019 годах. Меньше всего - в 2016.  \n",
    "Среди всего данных о времени публикации год имеет наибольшее влияние на цену квадратного метра."
   ]
  },
  {
   "cell_type": "code",
   "execution_count": 56,
   "metadata": {},
   "outputs": [
    {
     "data": {
      "text/html": [
       "<div>\n",
       "<style scoped>\n",
       "    .dataframe tbody tr th:only-of-type {\n",
       "        vertical-align: middle;\n",
       "    }\n",
       "\n",
       "    .dataframe tbody tr th {\n",
       "        vertical-align: top;\n",
       "    }\n",
       "\n",
       "    .dataframe thead tr th {\n",
       "        text-align: left;\n",
       "    }\n",
       "\n",
       "    .dataframe thead tr:last-of-type th {\n",
       "        text-align: right;\n",
       "    }\n",
       "</style>\n",
       "<table border=\"1\" class=\"dataframe\">\n",
       "  <thead>\n",
       "    <tr>\n",
       "      <th></th>\n",
       "      <th colspan=\"2\" halign=\"left\">mean</th>\n",
       "      <th colspan=\"2\" halign=\"left\">count</th>\n",
       "    </tr>\n",
       "    <tr>\n",
       "      <th></th>\n",
       "      <th>last_price</th>\n",
       "      <th>m2_price</th>\n",
       "      <th>last_price</th>\n",
       "      <th>m2_price</th>\n",
       "    </tr>\n",
       "    <tr>\n",
       "      <th>expo_year</th>\n",
       "      <th></th>\n",
       "      <th></th>\n",
       "      <th></th>\n",
       "      <th></th>\n",
       "    </tr>\n",
       "  </thead>\n",
       "  <tbody>\n",
       "    <tr>\n",
       "      <th>2014</th>\n",
       "      <td>1.204660e+07</td>\n",
       "      <td>124302.355703</td>\n",
       "      <td>136</td>\n",
       "      <td>136</td>\n",
       "    </tr>\n",
       "    <tr>\n",
       "      <th>2015</th>\n",
       "      <td>7.767751e+06</td>\n",
       "      <td>102321.226729</td>\n",
       "      <td>1153</td>\n",
       "      <td>1153</td>\n",
       "    </tr>\n",
       "    <tr>\n",
       "      <th>2016</th>\n",
       "      <td>6.343689e+06</td>\n",
       "      <td>97161.536927</td>\n",
       "      <td>2731</td>\n",
       "      <td>2731</td>\n",
       "    </tr>\n",
       "    <tr>\n",
       "      <th>2017</th>\n",
       "      <td>6.173172e+06</td>\n",
       "      <td>96583.504024</td>\n",
       "      <td>8122</td>\n",
       "      <td>8122</td>\n",
       "    </tr>\n",
       "    <tr>\n",
       "      <th>2018</th>\n",
       "      <td>5.824112e+06</td>\n",
       "      <td>97355.500202</td>\n",
       "      <td>8451</td>\n",
       "      <td>8451</td>\n",
       "    </tr>\n",
       "    <tr>\n",
       "      <th>2019</th>\n",
       "      <td>6.487496e+06</td>\n",
       "      <td>106219.338746</td>\n",
       "      <td>2850</td>\n",
       "      <td>2850</td>\n",
       "    </tr>\n",
       "  </tbody>\n",
       "</table>\n",
       "</div>"
      ],
      "text/plain": [
       "                   mean                     count         \n",
       "             last_price       m2_price last_price m2_price\n",
       "expo_year                                                 \n",
       "2014       1.204660e+07  124302.355703        136      136\n",
       "2015       7.767751e+06  102321.226729       1153     1153\n",
       "2016       6.343689e+06   97161.536927       2731     2731\n",
       "2017       6.173172e+06   96583.504024       8122     8122\n",
       "2018       5.824112e+06   97355.500202       8451     8451\n",
       "2019       6.487496e+06  106219.338746       2850     2850"
      ]
     },
     "execution_count": 56,
     "metadata": {},
     "output_type": "execute_result"
    }
   ],
   "source": [
    "df_analyze.pivot_table( values = ['last_price', 'm2_price'], index = 'expo_year', aggfunc=['mean','count'])"
   ]
  },
  {
   "cell_type": "markdown",
   "metadata": {},
   "source": [
    "В 2014 очень мало данных по сравнению с другими данными, чтобы делать по нему выводы. Гипотеза, что на старте в Яндекс Недвижимости появлялись только дорогие квартиры может быть верна - медианная общая цена и цена за метр выше, чем в любой другой год.  \n",
    "\n",
    "Для 2019 года вывод все еще справедлив.  \n",
    "\n",
    "Итого: квартиры со временем в среднем дорожают. Резче всего подорожали в 2019 году."
   ]
  },
  {
   "cell_type": "markdown",
   "metadata": {},
   "source": [
    "#### Общие зависимости"
   ]
  },
  {
   "cell_type": "code",
   "execution_count": 57,
   "metadata": {
    "scrolled": false
   },
   "outputs": [
    {
     "data": {
      "text/html": [
       "<div>\n",
       "<style scoped>\n",
       "    .dataframe tbody tr th:only-of-type {\n",
       "        vertical-align: middle;\n",
       "    }\n",
       "\n",
       "    .dataframe tbody tr th {\n",
       "        vertical-align: top;\n",
       "    }\n",
       "\n",
       "    .dataframe thead th {\n",
       "        text-align: right;\n",
       "    }\n",
       "</style>\n",
       "<table border=\"1\" class=\"dataframe\">\n",
       "  <thead>\n",
       "    <tr style=\"text-align: right;\">\n",
       "      <th></th>\n",
       "      <th>last_price</th>\n",
       "      <th>m2_price</th>\n",
       "      <th>total_area</th>\n",
       "      <th>rooms</th>\n",
       "      <th>citycenters_nearest</th>\n",
       "    </tr>\n",
       "  </thead>\n",
       "  <tbody>\n",
       "    <tr>\n",
       "      <th>last_price</th>\n",
       "      <td>1.000000</td>\n",
       "      <td>0.719998</td>\n",
       "      <td>0.765163</td>\n",
       "      <td>0.460527</td>\n",
       "      <td>-0.300362</td>\n",
       "    </tr>\n",
       "    <tr>\n",
       "      <th>m2_price</th>\n",
       "      <td>0.719998</td>\n",
       "      <td>1.000000</td>\n",
       "      <td>0.246739</td>\n",
       "      <td>0.013187</td>\n",
       "      <td>-0.361783</td>\n",
       "    </tr>\n",
       "    <tr>\n",
       "      <th>total_area</th>\n",
       "      <td>0.765163</td>\n",
       "      <td>0.246739</td>\n",
       "      <td>1.000000</td>\n",
       "      <td>0.759289</td>\n",
       "      <td>-0.232622</td>\n",
       "    </tr>\n",
       "    <tr>\n",
       "      <th>rooms</th>\n",
       "      <td>0.460527</td>\n",
       "      <td>0.013187</td>\n",
       "      <td>0.759289</td>\n",
       "      <td>1.000000</td>\n",
       "      <td>-0.178593</td>\n",
       "    </tr>\n",
       "    <tr>\n",
       "      <th>citycenters_nearest</th>\n",
       "      <td>-0.300362</td>\n",
       "      <td>-0.361783</td>\n",
       "      <td>-0.232622</td>\n",
       "      <td>-0.178593</td>\n",
       "      <td>1.000000</td>\n",
       "    </tr>\n",
       "  </tbody>\n",
       "</table>\n",
       "</div>"
      ],
      "text/plain": [
       "                     last_price  m2_price  total_area     rooms  \\\n",
       "last_price             1.000000  0.719998    0.765163  0.460527   \n",
       "m2_price               0.719998  1.000000    0.246739  0.013187   \n",
       "total_area             0.765163  0.246739    1.000000  0.759289   \n",
       "rooms                  0.460527  0.013187    0.759289  1.000000   \n",
       "citycenters_nearest   -0.300362 -0.361783   -0.232622 -0.178593   \n",
       "\n",
       "                     citycenters_nearest  \n",
       "last_price                     -0.300362  \n",
       "m2_price                       -0.361783  \n",
       "total_area                     -0.232622  \n",
       "rooms                          -0.178593  \n",
       "citycenters_nearest             1.000000  "
      ]
     },
     "execution_count": 57,
     "metadata": {},
     "output_type": "execute_result"
    }
   ],
   "source": [
    "df_corr = df_analyze[['last_price', 'm2_price', 'total_area', 'rooms', 'citycenters_nearest']].corr() \n",
    "df_corr"
   ]
  },
  {
   "cell_type": "markdown",
   "metadata": {},
   "source": [
    "Наибольшая положительная корреляция наблюдается между: \n",
    "- last_price и m2_price (очевидно),\n",
    "- last_price и total area,\n",
    "- total_area и rooms .\n",
    "\n",
    "Есть небольшая зависимость между:\n",
    "- last_price и rooms (цена больше зависит от общей площади, а не количества комнат),\n",
    "- m2_price и total_area (здесь зависимость есть, но небольшая).\n",
    "\n",
    "От близости к центру больше всего (но не сильно) обратно зависит m2_price. "
   ]
  },
  {
   "cell_type": "markdown",
   "metadata": {},
   "source": [
    "### 10 населённых пунктов с наибольшим числом объявлений."
   ]
  },
  {
   "cell_type": "markdown",
   "metadata": {},
   "source": [
    "Выберем 10 населённых пунктов с наибольшим числом объявлений."
   ]
  },
  {
   "cell_type": "code",
   "execution_count": 58,
   "metadata": {
    "scrolled": true
   },
   "outputs": [],
   "source": [
    "cities = df_new['locality_name'].value_counts(ascending=False)[:10]"
   ]
  },
  {
   "cell_type": "code",
   "execution_count": 59,
   "metadata": {},
   "outputs": [
    {
     "data": {
      "text/plain": [
       "Санкт-Петербург      15556\n",
       "поселок Мурино         550\n",
       "поселок Шушары         439\n",
       "Всеволожск             397\n",
       "Пушкин                 369\n",
       "Колпино                337\n",
       "поселок Парголово      327\n",
       "Гатчина                306\n",
       "деревня Кудрово        299\n",
       "Выборг                 235\n",
       "Name: locality_name, dtype: int64"
      ]
     },
     "execution_count": 59,
     "metadata": {},
     "output_type": "execute_result"
    }
   ],
   "source": [
    "cities"
   ]
  },
  {
   "cell_type": "markdown",
   "metadata": {},
   "source": [
    "Для них определим среднюю стоимость квадратного метра."
   ]
  },
  {
   "cell_type": "code",
   "execution_count": 60,
   "metadata": {
    "scrolled": true
   },
   "outputs": [],
   "source": [
    "cities_stat = (\n",
    "    df_new\n",
    "    .query('locality_name in @cities.index')\n",
    "    .pivot_table(index='locality_name', values = 'm2_price').sort_values(by='m2_price')\n",
    ")"
   ]
  },
  {
   "cell_type": "code",
   "execution_count": 61,
   "metadata": {},
   "outputs": [
    {
     "data": {
      "text/html": [
       "<div>\n",
       "<style scoped>\n",
       "    .dataframe tbody tr th:only-of-type {\n",
       "        vertical-align: middle;\n",
       "    }\n",
       "\n",
       "    .dataframe tbody tr th {\n",
       "        vertical-align: top;\n",
       "    }\n",
       "\n",
       "    .dataframe thead th {\n",
       "        text-align: right;\n",
       "    }\n",
       "</style>\n",
       "<table border=\"1\" class=\"dataframe\">\n",
       "  <thead>\n",
       "    <tr style=\"text-align: right;\">\n",
       "      <th></th>\n",
       "      <th>m2_price</th>\n",
       "    </tr>\n",
       "    <tr>\n",
       "      <th>locality_name</th>\n",
       "      <th></th>\n",
       "    </tr>\n",
       "  </thead>\n",
       "  <tbody>\n",
       "    <tr>\n",
       "      <th>Выборг</th>\n",
       "      <td>58238.143141</td>\n",
       "    </tr>\n",
       "    <tr>\n",
       "      <th>Всеволожск</th>\n",
       "      <td>68719.320400</td>\n",
       "    </tr>\n",
       "    <tr>\n",
       "      <th>Гатчина</th>\n",
       "      <td>68757.678644</td>\n",
       "    </tr>\n",
       "    <tr>\n",
       "      <th>Колпино</th>\n",
       "      <td>75333.295801</td>\n",
       "    </tr>\n",
       "    <tr>\n",
       "      <th>поселок Шушары</th>\n",
       "      <td>78551.344545</td>\n",
       "    </tr>\n",
       "    <tr>\n",
       "      <th>поселок Мурино</th>\n",
       "      <td>85603.644853</td>\n",
       "    </tr>\n",
       "    <tr>\n",
       "      <th>поселок Парголово</th>\n",
       "      <td>90175.913458</td>\n",
       "    </tr>\n",
       "    <tr>\n",
       "      <th>деревня Кудрово</th>\n",
       "      <td>92473.547576</td>\n",
       "    </tr>\n",
       "    <tr>\n",
       "      <th>Пушкин</th>\n",
       "      <td>103125.819291</td>\n",
       "    </tr>\n",
       "    <tr>\n",
       "      <th>Санкт-Петербург</th>\n",
       "      <td>113586.339699</td>\n",
       "    </tr>\n",
       "  </tbody>\n",
       "</table>\n",
       "</div>"
      ],
      "text/plain": [
       "                        m2_price\n",
       "locality_name                   \n",
       "Выборг              58238.143141\n",
       "Всеволожск          68719.320400\n",
       "Гатчина             68757.678644\n",
       "Колпино             75333.295801\n",
       "поселок Шушары      78551.344545\n",
       "поселок Мурино      85603.644853\n",
       "поселок Парголово   90175.913458\n",
       "деревня Кудрово     92473.547576\n",
       "Пушкин             103125.819291\n",
       "Санкт-Петербург    113586.339699"
      ]
     },
     "execution_count": 61,
     "metadata": {},
     "output_type": "execute_result"
    }
   ],
   "source": [
    "cities_stat"
   ]
  },
  {
   "cell_type": "markdown",
   "metadata": {},
   "source": [
    " Самое дешевое жилье - в Выборге.  \n",
    "Самое дорогое - в Санкт-Петербурге.\n"
   ]
  },
  {
   "cell_type": "markdown",
   "metadata": {},
   "source": [
    "### Зависимость цены от расстояния до центра"
   ]
  },
  {
   "cell_type": "markdown",
   "metadata": {},
   "source": [
    "Выделим отдельный датафрейм под Санкт-Петербург."
   ]
  },
  {
   "cell_type": "code",
   "execution_count": 62,
   "metadata": {},
   "outputs": [],
   "source": [
    "df_spb = df_new[df_new['locality_name'] == 'Санкт-Петербург']"
   ]
  },
  {
   "cell_type": "code",
   "execution_count": 63,
   "metadata": {},
   "outputs": [
    {
     "data": {
      "text/html": [
       "<div>\n",
       "<style scoped>\n",
       "    .dataframe tbody tr th:only-of-type {\n",
       "        vertical-align: middle;\n",
       "    }\n",
       "\n",
       "    .dataframe tbody tr th {\n",
       "        vertical-align: top;\n",
       "    }\n",
       "\n",
       "    .dataframe thead th {\n",
       "        text-align: right;\n",
       "    }\n",
       "</style>\n",
       "<table border=\"1\" class=\"dataframe\">\n",
       "  <thead>\n",
       "    <tr style=\"text-align: right;\">\n",
       "      <th></th>\n",
       "      <th>total_images</th>\n",
       "      <th>last_price</th>\n",
       "      <th>total_area</th>\n",
       "      <th>first_day_exposition</th>\n",
       "      <th>rooms</th>\n",
       "      <th>ceiling_height</th>\n",
       "      <th>floors_total</th>\n",
       "      <th>living_area</th>\n",
       "      <th>floor</th>\n",
       "      <th>is_apartment</th>\n",
       "      <th>...</th>\n",
       "      <th>ponds_around3000</th>\n",
       "      <th>ponds_nearest</th>\n",
       "      <th>days_exposition</th>\n",
       "      <th>m2_price</th>\n",
       "      <th>expo_weekday</th>\n",
       "      <th>expo_month</th>\n",
       "      <th>expo_year</th>\n",
       "      <th>floor_type</th>\n",
       "      <th>living_to_total</th>\n",
       "      <th>kitchen_to_living</th>\n",
       "    </tr>\n",
       "  </thead>\n",
       "  <tbody>\n",
       "    <tr>\n",
       "      <th>0</th>\n",
       "      <td>20</td>\n",
       "      <td>13000000</td>\n",
       "      <td>108.0</td>\n",
       "      <td>2019-03-07</td>\n",
       "      <td>3</td>\n",
       "      <td>2.70</td>\n",
       "      <td>16</td>\n",
       "      <td>51.0</td>\n",
       "      <td>8</td>\n",
       "      <td>False</td>\n",
       "      <td>...</td>\n",
       "      <td>2.0</td>\n",
       "      <td>755.0</td>\n",
       "      <td>NaN</td>\n",
       "      <td>120370.370370</td>\n",
       "      <td>3</td>\n",
       "      <td>3</td>\n",
       "      <td>2019</td>\n",
       "      <td>другой</td>\n",
       "      <td>0.472222</td>\n",
       "      <td>0.490196</td>\n",
       "    </tr>\n",
       "    <tr>\n",
       "      <th>2</th>\n",
       "      <td>10</td>\n",
       "      <td>5196000</td>\n",
       "      <td>56.0</td>\n",
       "      <td>2015-08-20</td>\n",
       "      <td>2</td>\n",
       "      <td>2.70</td>\n",
       "      <td>5</td>\n",
       "      <td>34.3</td>\n",
       "      <td>4</td>\n",
       "      <td>False</td>\n",
       "      <td>...</td>\n",
       "      <td>2.0</td>\n",
       "      <td>574.0</td>\n",
       "      <td>558.0</td>\n",
       "      <td>92785.714286</td>\n",
       "      <td>3</td>\n",
       "      <td>8</td>\n",
       "      <td>2015</td>\n",
       "      <td>другой</td>\n",
       "      <td>0.612500</td>\n",
       "      <td>0.241983</td>\n",
       "    </tr>\n",
       "    <tr>\n",
       "      <th>3</th>\n",
       "      <td>0</td>\n",
       "      <td>64900000</td>\n",
       "      <td>159.0</td>\n",
       "      <td>2015-07-24</td>\n",
       "      <td>3</td>\n",
       "      <td>2.70</td>\n",
       "      <td>14</td>\n",
       "      <td>31.3</td>\n",
       "      <td>9</td>\n",
       "      <td>False</td>\n",
       "      <td>...</td>\n",
       "      <td>3.0</td>\n",
       "      <td>234.0</td>\n",
       "      <td>424.0</td>\n",
       "      <td>408176.100629</td>\n",
       "      <td>4</td>\n",
       "      <td>7</td>\n",
       "      <td>2015</td>\n",
       "      <td>другой</td>\n",
       "      <td>0.196855</td>\n",
       "      <td>0.316294</td>\n",
       "    </tr>\n",
       "    <tr>\n",
       "      <th>4</th>\n",
       "      <td>2</td>\n",
       "      <td>10000000</td>\n",
       "      <td>100.0</td>\n",
       "      <td>2018-06-19</td>\n",
       "      <td>2</td>\n",
       "      <td>3.03</td>\n",
       "      <td>14</td>\n",
       "      <td>32.0</td>\n",
       "      <td>13</td>\n",
       "      <td>False</td>\n",
       "      <td>...</td>\n",
       "      <td>1.0</td>\n",
       "      <td>48.0</td>\n",
       "      <td>121.0</td>\n",
       "      <td>100000.000000</td>\n",
       "      <td>1</td>\n",
       "      <td>6</td>\n",
       "      <td>2018</td>\n",
       "      <td>другой</td>\n",
       "      <td>0.320000</td>\n",
       "      <td>1.281250</td>\n",
       "    </tr>\n",
       "    <tr>\n",
       "      <th>7</th>\n",
       "      <td>5</td>\n",
       "      <td>7915000</td>\n",
       "      <td>71.6</td>\n",
       "      <td>2019-04-18</td>\n",
       "      <td>2</td>\n",
       "      <td>2.70</td>\n",
       "      <td>24</td>\n",
       "      <td>31.3</td>\n",
       "      <td>22</td>\n",
       "      <td>False</td>\n",
       "      <td>...</td>\n",
       "      <td>0.0</td>\n",
       "      <td>NaN</td>\n",
       "      <td>NaN</td>\n",
       "      <td>110544.692737</td>\n",
       "      <td>3</td>\n",
       "      <td>4</td>\n",
       "      <td>2019</td>\n",
       "      <td>другой</td>\n",
       "      <td>0.437151</td>\n",
       "      <td>0.603834</td>\n",
       "    </tr>\n",
       "  </tbody>\n",
       "</table>\n",
       "<p>5 rows × 29 columns</p>\n",
       "</div>"
      ],
      "text/plain": [
       "   total_images  last_price  total_area first_day_exposition  rooms  \\\n",
       "0            20    13000000       108.0           2019-03-07      3   \n",
       "2            10     5196000        56.0           2015-08-20      2   \n",
       "3             0    64900000       159.0           2015-07-24      3   \n",
       "4             2    10000000       100.0           2018-06-19      2   \n",
       "7             5     7915000        71.6           2019-04-18      2   \n",
       "\n",
       "   ceiling_height  floors_total  living_area  floor is_apartment  ...  \\\n",
       "0            2.70            16         51.0      8        False  ...   \n",
       "2            2.70             5         34.3      4        False  ...   \n",
       "3            2.70            14         31.3      9        False  ...   \n",
       "4            3.03            14         32.0     13        False  ...   \n",
       "7            2.70            24         31.3     22        False  ...   \n",
       "\n",
       "   ponds_around3000  ponds_nearest  days_exposition       m2_price  \\\n",
       "0               2.0          755.0              NaN  120370.370370   \n",
       "2               2.0          574.0            558.0   92785.714286   \n",
       "3               3.0          234.0            424.0  408176.100629   \n",
       "4               1.0           48.0            121.0  100000.000000   \n",
       "7               0.0            NaN              NaN  110544.692737   \n",
       "\n",
       "  expo_weekday  expo_month  expo_year  floor_type  living_to_total  \\\n",
       "0            3           3       2019      другой         0.472222   \n",
       "2            3           8       2015      другой         0.612500   \n",
       "3            4           7       2015      другой         0.196855   \n",
       "4            1           6       2018      другой         0.320000   \n",
       "7            3           4       2019      другой         0.437151   \n",
       "\n",
       "   kitchen_to_living  \n",
       "0           0.490196  \n",
       "2           0.241983  \n",
       "3           0.316294  \n",
       "4           1.281250  \n",
       "7           0.603834  \n",
       "\n",
       "[5 rows x 29 columns]"
      ]
     },
     "execution_count": 63,
     "metadata": {},
     "output_type": "execute_result"
    }
   ],
   "source": [
    "df_spb.head()"
   ]
  },
  {
   "cell_type": "markdown",
   "metadata": {},
   "source": [
    "Добавим столбец в километрах до центра."
   ]
  },
  {
   "cell_type": "code",
   "execution_count": 64,
   "metadata": {},
   "outputs": [],
   "source": [
    "df_spb['to_center']= (df_spb['citycenters_nearest']/1000).round()"
   ]
  },
  {
   "cell_type": "code",
   "execution_count": 65,
   "metadata": {
    "scrolled": true
   },
   "outputs": [
    {
     "data": {
      "text/plain": [
       "<AxesSubplot:xlabel='to_center'>"
      ]
     },
     "execution_count": 65,
     "metadata": {},
     "output_type": "execute_result"
    },
    {
     "data": {
      "image/png": "[encoded data removed]",
      "text/plain": [
       "<Figure size 432x288 with 1 Axes>"
      ]
     },
     "metadata": {
      "needs_background": "light"
     },
     "output_type": "display_data"
    }
   ],
   "source": [
    "df_spb.pivot_table(index='to_center', values = 'm2_price', aggfunc='median').plot(y='m2_price', kind = 'bar')"
   ]
  },
  {
   "cell_type": "markdown",
   "metadata": {},
   "source": [
    "Цена за метр уменьшается с отдалением от центра города.   \n",
    "Сочтем центром все, что ближе 8 км от центра."
   ]
  },
  {
   "cell_type": "markdown",
   "metadata": {},
   "source": [
    "### Проанализируем квартиры в центре"
   ]
  },
  {
   "cell_type": "markdown",
   "metadata": {},
   "source": [
    "Создадим новый датафрейм из \"центральных\" квартир."
   ]
  },
  {
   "cell_type": "code",
   "execution_count": 66,
   "metadata": {},
   "outputs": [],
   "source": [
    "df_spb_center = df_spb.query('to_center < 8')[['m2_price','total_area', 'rooms', 'ceiling_height', 'floor_type', 'expo_weekday',\n",
    "       'expo_month', 'expo_year','to_center']]"
   ]
  },
  {
   "cell_type": "code",
   "execution_count": 67,
   "metadata": {
    "scrolled": true
   },
   "outputs": [
    {
     "data": {
      "text/html": [
       "<div>\n",
       "<style scoped>\n",
       "    .dataframe tbody tr th:only-of-type {\n",
       "        vertical-align: middle;\n",
       "    }\n",
       "\n",
       "    .dataframe tbody tr th {\n",
       "        vertical-align: top;\n",
       "    }\n",
       "\n",
       "    .dataframe thead th {\n",
       "        text-align: right;\n",
       "    }\n",
       "</style>\n",
       "<table border=\"1\" class=\"dataframe\">\n",
       "  <thead>\n",
       "    <tr style=\"text-align: right;\">\n",
       "      <th></th>\n",
       "      <th>m2_price</th>\n",
       "      <th>total_area</th>\n",
       "      <th>rooms</th>\n",
       "      <th>ceiling_height</th>\n",
       "      <th>floor_type</th>\n",
       "      <th>expo_weekday</th>\n",
       "      <th>expo_month</th>\n",
       "      <th>expo_year</th>\n",
       "      <th>to_center</th>\n",
       "    </tr>\n",
       "  </thead>\n",
       "  <tbody>\n",
       "    <tr>\n",
       "      <th>3</th>\n",
       "      <td>408176.100629</td>\n",
       "      <td>159.00</td>\n",
       "      <td>3</td>\n",
       "      <td>2.70</td>\n",
       "      <td>другой</td>\n",
       "      <td>4</td>\n",
       "      <td>7</td>\n",
       "      <td>2015</td>\n",
       "      <td>7.0</td>\n",
       "    </tr>\n",
       "    <tr>\n",
       "      <th>24</th>\n",
       "      <td>66872.427984</td>\n",
       "      <td>97.20</td>\n",
       "      <td>2</td>\n",
       "      <td>2.70</td>\n",
       "      <td>первый</td>\n",
       "      <td>5</td>\n",
       "      <td>10</td>\n",
       "      <td>2015</td>\n",
       "      <td>2.0</td>\n",
       "    </tr>\n",
       "    <tr>\n",
       "      <th>35</th>\n",
       "      <td>104026.845638</td>\n",
       "      <td>149.00</td>\n",
       "      <td>5</td>\n",
       "      <td>2.70</td>\n",
       "      <td>другой</td>\n",
       "      <td>0</td>\n",
       "      <td>6</td>\n",
       "      <td>2017</td>\n",
       "      <td>4.0</td>\n",
       "    </tr>\n",
       "    <tr>\n",
       "      <th>51</th>\n",
       "      <td>279503.105590</td>\n",
       "      <td>161.00</td>\n",
       "      <td>3</td>\n",
       "      <td>3.20</td>\n",
       "      <td>другой</td>\n",
       "      <td>1</td>\n",
       "      <td>10</td>\n",
       "      <td>2017</td>\n",
       "      <td>7.0</td>\n",
       "    </tr>\n",
       "    <tr>\n",
       "      <th>52</th>\n",
       "      <td>86727.941176</td>\n",
       "      <td>136.00</td>\n",
       "      <td>6</td>\n",
       "      <td>3.00</td>\n",
       "      <td>последний</td>\n",
       "      <td>4</td>\n",
       "      <td>9</td>\n",
       "      <td>2017</td>\n",
       "      <td>7.0</td>\n",
       "    </tr>\n",
       "    <tr>\n",
       "      <th>...</th>\n",
       "      <td>...</td>\n",
       "      <td>...</td>\n",
       "      <td>...</td>\n",
       "      <td>...</td>\n",
       "      <td>...</td>\n",
       "      <td>...</td>\n",
       "      <td>...</td>\n",
       "      <td>...</td>\n",
       "      <td>...</td>\n",
       "    </tr>\n",
       "    <tr>\n",
       "      <th>23665</th>\n",
       "      <td>90425.531915</td>\n",
       "      <td>47.00</td>\n",
       "      <td>1</td>\n",
       "      <td>2.70</td>\n",
       "      <td>первый</td>\n",
       "      <td>4</td>\n",
       "      <td>5</td>\n",
       "      <td>2016</td>\n",
       "      <td>5.0</td>\n",
       "    </tr>\n",
       "    <tr>\n",
       "      <th>23681</th>\n",
       "      <td>122093.023256</td>\n",
       "      <td>43.00</td>\n",
       "      <td>2</td>\n",
       "      <td>2.50</td>\n",
       "      <td>другой</td>\n",
       "      <td>4</td>\n",
       "      <td>5</td>\n",
       "      <td>2018</td>\n",
       "      <td>7.0</td>\n",
       "    </tr>\n",
       "    <tr>\n",
       "      <th>23690</th>\n",
       "      <td>105769.230769</td>\n",
       "      <td>52.00</td>\n",
       "      <td>2</td>\n",
       "      <td>2.70</td>\n",
       "      <td>другой</td>\n",
       "      <td>3</td>\n",
       "      <td>7</td>\n",
       "      <td>2018</td>\n",
       "      <td>6.0</td>\n",
       "    </tr>\n",
       "    <tr>\n",
       "      <th>23691</th>\n",
       "      <td>129903.978052</td>\n",
       "      <td>72.90</td>\n",
       "      <td>2</td>\n",
       "      <td>2.75</td>\n",
       "      <td>другой</td>\n",
       "      <td>3</td>\n",
       "      <td>10</td>\n",
       "      <td>2016</td>\n",
       "      <td>4.0</td>\n",
       "    </tr>\n",
       "    <tr>\n",
       "      <th>23694</th>\n",
       "      <td>72490.845228</td>\n",
       "      <td>133.81</td>\n",
       "      <td>3</td>\n",
       "      <td>3.70</td>\n",
       "      <td>другой</td>\n",
       "      <td>1</td>\n",
       "      <td>3</td>\n",
       "      <td>2017</td>\n",
       "      <td>4.0</td>\n",
       "    </tr>\n",
       "  </tbody>\n",
       "</table>\n",
       "<p>3457 rows × 9 columns</p>\n",
       "</div>"
      ],
      "text/plain": [
       "            m2_price  total_area  rooms  ceiling_height floor_type  \\\n",
       "3      408176.100629      159.00      3            2.70     другой   \n",
       "24      66872.427984       97.20      2            2.70     первый   \n",
       "35     104026.845638      149.00      5            2.70     другой   \n",
       "51     279503.105590      161.00      3            3.20     другой   \n",
       "52      86727.941176      136.00      6            3.00  последний   \n",
       "...              ...         ...    ...             ...        ...   \n",
       "23665   90425.531915       47.00      1            2.70     первый   \n",
       "23681  122093.023256       43.00      2            2.50     другой   \n",
       "23690  105769.230769       52.00      2            2.70     другой   \n",
       "23691  129903.978052       72.90      2            2.75     другой   \n",
       "23694   72490.845228      133.81      3            3.70     другой   \n",
       "\n",
       "       expo_weekday  expo_month  expo_year  to_center  \n",
       "3                 4           7       2015        7.0  \n",
       "24                5          10       2015        2.0  \n",
       "35                0           6       2017        4.0  \n",
       "51                1          10       2017        7.0  \n",
       "52                4           9       2017        7.0  \n",
       "...             ...         ...        ...        ...  \n",
       "23665             4           5       2016        5.0  \n",
       "23681             4           5       2018        7.0  \n",
       "23690             3           7       2018        6.0  \n",
       "23691             3          10       2016        4.0  \n",
       "23694             1           3       2017        4.0  \n",
       "\n",
       "[3457 rows x 9 columns]"
      ]
     },
     "execution_count": 67,
     "metadata": {},
     "output_type": "execute_result"
    }
   ],
   "source": [
    "df_spb_center"
   ]
  },
  {
   "cell_type": "markdown",
   "metadata": {},
   "source": [
    "#### Исследуем распределение основных параметров"
   ]
  },
  {
   "cell_type": "markdown",
   "metadata": {},
   "source": [
    "Часть посмотрим с помощью описательных методов, а часть - увидим на графиках."
   ]
  },
  {
   "cell_type": "code",
   "execution_count": 68,
   "metadata": {},
   "outputs": [
    {
     "data": {
      "text/html": [
       "<div>\n",
       "<style scoped>\n",
       "    .dataframe tbody tr th:only-of-type {\n",
       "        vertical-align: middle;\n",
       "    }\n",
       "\n",
       "    .dataframe tbody tr th {\n",
       "        vertical-align: top;\n",
       "    }\n",
       "\n",
       "    .dataframe thead th {\n",
       "        text-align: right;\n",
       "    }\n",
       "</style>\n",
       "<table border=\"1\" class=\"dataframe\">\n",
       "  <thead>\n",
       "    <tr style=\"text-align: right;\">\n",
       "      <th></th>\n",
       "      <th>m2_price</th>\n",
       "      <th>total_area</th>\n",
       "      <th>rooms</th>\n",
       "      <th>ceiling_height</th>\n",
       "      <th>expo_weekday</th>\n",
       "      <th>expo_month</th>\n",
       "      <th>expo_year</th>\n",
       "    </tr>\n",
       "  </thead>\n",
       "  <tbody>\n",
       "    <tr>\n",
       "      <th>count</th>\n",
       "      <td>23443.000000</td>\n",
       "      <td>23443.000000</td>\n",
       "      <td>23443.000000</td>\n",
       "      <td>23338.000000</td>\n",
       "      <td>23443.000000</td>\n",
       "      <td>23443.000000</td>\n",
       "      <td>23443.000000</td>\n",
       "    </tr>\n",
       "    <tr>\n",
       "      <th>mean</th>\n",
       "      <td>98543.587402</td>\n",
       "      <td>59.623957</td>\n",
       "      <td>2.056520</td>\n",
       "      <td>2.701849</td>\n",
       "      <td>2.567675</td>\n",
       "      <td>6.404257</td>\n",
       "      <td>2017.371369</td>\n",
       "    </tr>\n",
       "    <tr>\n",
       "      <th>std</th>\n",
       "      <td>42914.479386</td>\n",
       "      <td>32.333793</td>\n",
       "      <td>1.029306</td>\n",
       "      <td>0.217677</td>\n",
       "      <td>1.788699</td>\n",
       "      <td>3.493567</td>\n",
       "      <td>1.036508</td>\n",
       "    </tr>\n",
       "    <tr>\n",
       "      <th>min</th>\n",
       "      <td>10185.185185</td>\n",
       "      <td>12.000000</td>\n",
       "      <td>0.000000</td>\n",
       "      <td>2.200000</td>\n",
       "      <td>0.000000</td>\n",
       "      <td>1.000000</td>\n",
       "      <td>2014.000000</td>\n",
       "    </tr>\n",
       "    <tr>\n",
       "      <th>25%</th>\n",
       "      <td>76585.470151</td>\n",
       "      <td>40.000000</td>\n",
       "      <td>1.000000</td>\n",
       "      <td>2.550000</td>\n",
       "      <td>1.000000</td>\n",
       "      <td>3.000000</td>\n",
       "      <td>2017.000000</td>\n",
       "    </tr>\n",
       "    <tr>\n",
       "      <th>50%</th>\n",
       "      <td>94972.067039</td>\n",
       "      <td>52.000000</td>\n",
       "      <td>2.000000</td>\n",
       "      <td>2.700000</td>\n",
       "      <td>3.000000</td>\n",
       "      <td>6.000000</td>\n",
       "      <td>2017.000000</td>\n",
       "    </tr>\n",
       "    <tr>\n",
       "      <th>75%</th>\n",
       "      <td>114062.500000</td>\n",
       "      <td>69.300000</td>\n",
       "      <td>3.000000</td>\n",
       "      <td>2.700000</td>\n",
       "      <td>4.000000</td>\n",
       "      <td>10.000000</td>\n",
       "      <td>2018.000000</td>\n",
       "    </tr>\n",
       "    <tr>\n",
       "      <th>max</th>\n",
       "      <td>848484.848485</td>\n",
       "      <td>517.000000</td>\n",
       "      <td>7.000000</td>\n",
       "      <td>4.800000</td>\n",
       "      <td>6.000000</td>\n",
       "      <td>12.000000</td>\n",
       "      <td>2019.000000</td>\n",
       "    </tr>\n",
       "  </tbody>\n",
       "</table>\n",
       "</div>"
      ],
      "text/plain": [
       "            m2_price    total_area         rooms  ceiling_height  \\\n",
       "count   23443.000000  23443.000000  23443.000000    23338.000000   \n",
       "mean    98543.587402     59.623957      2.056520        2.701849   \n",
       "std     42914.479386     32.333793      1.029306        0.217677   \n",
       "min     10185.185185     12.000000      0.000000        2.200000   \n",
       "25%     76585.470151     40.000000      1.000000        2.550000   \n",
       "50%     94972.067039     52.000000      2.000000        2.700000   \n",
       "75%    114062.500000     69.300000      3.000000        2.700000   \n",
       "max    848484.848485    517.000000      7.000000        4.800000   \n",
       "\n",
       "       expo_weekday    expo_month     expo_year  \n",
       "count  23443.000000  23443.000000  23443.000000  \n",
       "mean       2.567675      6.404257   2017.371369  \n",
       "std        1.788699      3.493567      1.036508  \n",
       "min        0.000000      1.000000   2014.000000  \n",
       "25%        1.000000      3.000000   2017.000000  \n",
       "50%        3.000000      6.000000   2017.000000  \n",
       "75%        4.000000     10.000000   2018.000000  \n",
       "max        6.000000     12.000000   2019.000000  "
      ]
     },
     "execution_count": 68,
     "metadata": {},
     "output_type": "execute_result"
    }
   ],
   "source": [
    "df_new[['m2_price','total_area', 'rooms', 'ceiling_height', 'floor_type', 'expo_weekday',\n",
    "       'expo_month', 'expo_year']].describe()"
   ]
  },
  {
   "cell_type": "code",
   "execution_count": 69,
   "metadata": {},
   "outputs": [
    {
     "data": {
      "text/html": [
       "<div>\n",
       "<style scoped>\n",
       "    .dataframe tbody tr th:only-of-type {\n",
       "        vertical-align: middle;\n",
       "    }\n",
       "\n",
       "    .dataframe tbody tr th {\n",
       "        vertical-align: top;\n",
       "    }\n",
       "\n",
       "    .dataframe thead th {\n",
       "        text-align: right;\n",
       "    }\n",
       "</style>\n",
       "<table border=\"1\" class=\"dataframe\">\n",
       "  <thead>\n",
       "    <tr style=\"text-align: right;\">\n",
       "      <th></th>\n",
       "      <th>m2_price</th>\n",
       "      <th>total_area</th>\n",
       "      <th>rooms</th>\n",
       "      <th>ceiling_height</th>\n",
       "      <th>expo_weekday</th>\n",
       "      <th>expo_month</th>\n",
       "      <th>expo_year</th>\n",
       "      <th>to_center</th>\n",
       "    </tr>\n",
       "  </thead>\n",
       "  <tbody>\n",
       "    <tr>\n",
       "      <th>count</th>\n",
       "      <td>3457.000000</td>\n",
       "      <td>3457.000000</td>\n",
       "      <td>3457.000000</td>\n",
       "      <td>3457.000000</td>\n",
       "      <td>3457.000000</td>\n",
       "      <td>3457.000000</td>\n",
       "      <td>3457.000000</td>\n",
       "      <td>3457.000000</td>\n",
       "    </tr>\n",
       "    <tr>\n",
       "      <th>mean</th>\n",
       "      <td>140202.939143</td>\n",
       "      <td>89.797003</td>\n",
       "      <td>2.771189</td>\n",
       "      <td>2.947975</td>\n",
       "      <td>2.510848</td>\n",
       "      <td>6.443737</td>\n",
       "      <td>2017.176454</td>\n",
       "      <td>4.508533</td>\n",
       "    </tr>\n",
       "    <tr>\n",
       "      <th>std</th>\n",
       "      <td>68998.594796</td>\n",
       "      <td>51.727332</td>\n",
       "      <td>1.301042</td>\n",
       "      <td>0.336903</td>\n",
       "      <td>1.719463</td>\n",
       "      <td>3.458137</td>\n",
       "      <td>1.122472</td>\n",
       "      <td>1.683594</td>\n",
       "    </tr>\n",
       "    <tr>\n",
       "      <th>min</th>\n",
       "      <td>15345.268542</td>\n",
       "      <td>12.000000</td>\n",
       "      <td>0.000000</td>\n",
       "      <td>2.400000</td>\n",
       "      <td>0.000000</td>\n",
       "      <td>1.000000</td>\n",
       "      <td>2014.000000</td>\n",
       "      <td>0.000000</td>\n",
       "    </tr>\n",
       "    <tr>\n",
       "      <th>25%</th>\n",
       "      <td>99838.472834</td>\n",
       "      <td>56.500000</td>\n",
       "      <td>2.000000</td>\n",
       "      <td>2.700000</td>\n",
       "      <td>1.000000</td>\n",
       "      <td>3.000000</td>\n",
       "      <td>2017.000000</td>\n",
       "      <td>4.000000</td>\n",
       "    </tr>\n",
       "    <tr>\n",
       "      <th>50%</th>\n",
       "      <td>123437.500000</td>\n",
       "      <td>77.800000</td>\n",
       "      <td>3.000000</td>\n",
       "      <td>2.800000</td>\n",
       "      <td>3.000000</td>\n",
       "      <td>6.000000</td>\n",
       "      <td>2017.000000</td>\n",
       "      <td>5.000000</td>\n",
       "    </tr>\n",
       "    <tr>\n",
       "      <th>75%</th>\n",
       "      <td>154528.301887</td>\n",
       "      <td>108.000000</td>\n",
       "      <td>3.000000</td>\n",
       "      <td>3.120000</td>\n",
       "      <td>4.000000</td>\n",
       "      <td>10.000000</td>\n",
       "      <td>2018.000000</td>\n",
       "      <td>6.000000</td>\n",
       "    </tr>\n",
       "    <tr>\n",
       "      <th>max</th>\n",
       "      <td>848484.848485</td>\n",
       "      <td>517.000000</td>\n",
       "      <td>7.000000</td>\n",
       "      <td>4.800000</td>\n",
       "      <td>6.000000</td>\n",
       "      <td>12.000000</td>\n",
       "      <td>2019.000000</td>\n",
       "      <td>7.000000</td>\n",
       "    </tr>\n",
       "  </tbody>\n",
       "</table>\n",
       "</div>"
      ],
      "text/plain": [
       "            m2_price   total_area        rooms  ceiling_height  expo_weekday  \\\n",
       "count    3457.000000  3457.000000  3457.000000     3457.000000   3457.000000   \n",
       "mean   140202.939143    89.797003     2.771189        2.947975      2.510848   \n",
       "std     68998.594796    51.727332     1.301042        0.336903      1.719463   \n",
       "min     15345.268542    12.000000     0.000000        2.400000      0.000000   \n",
       "25%     99838.472834    56.500000     2.000000        2.700000      1.000000   \n",
       "50%    123437.500000    77.800000     3.000000        2.800000      3.000000   \n",
       "75%    154528.301887   108.000000     3.000000        3.120000      4.000000   \n",
       "max    848484.848485   517.000000     7.000000        4.800000      6.000000   \n",
       "\n",
       "        expo_month    expo_year    to_center  \n",
       "count  3457.000000  3457.000000  3457.000000  \n",
       "mean      6.443737  2017.176454     4.508533  \n",
       "std       3.458137     1.122472     1.683594  \n",
       "min       1.000000  2014.000000     0.000000  \n",
       "25%       3.000000  2017.000000     4.000000  \n",
       "50%       6.000000  2017.000000     5.000000  \n",
       "75%      10.000000  2018.000000     6.000000  \n",
       "max      12.000000  2019.000000     7.000000  "
      ]
     },
     "execution_count": 69,
     "metadata": {},
     "output_type": "execute_result"
    }
   ],
   "source": [
    "df_spb_center.describe()"
   ]
  },
  {
   "cell_type": "code",
   "execution_count": 70,
   "metadata": {},
   "outputs": [],
   "source": [
    "def plotter_1 (column):\n",
    "    plt.hist(df_new[column], bins=100, label='all_data')\n",
    "    plt.hist(df_spb_center[column], bins=100, label='spb_center_data')\n",
    "    plt.title(column)\n",
    "    plt.legend()\n",
    "    plt.show()\n"
   ]
  },
  {
   "cell_type": "code",
   "execution_count": 71,
   "metadata": {},
   "outputs": [
    {
     "data": {
      "image/png": "[encoded data removed]",
      "text/plain": [
       "<Figure size 432x288 with 1 Axes>"
      ]
     },
     "metadata": {
      "needs_background": "light"
     },
     "output_type": "display_data"
    },
    {
     "data": {
      "image/png": "[encoded data removed]",
      "text/plain": [
       "<Figure size 432x288 with 1 Axes>"
      ]
     },
     "metadata": {
      "needs_background": "light"
     },
     "output_type": "display_data"
    },
    {
     "data": {
      "image/png": "[encoded data removed]",
      "text/plain": [
       "<Figure size 432x288 with 1 Axes>"
      ]
     },
     "metadata": {
      "needs_background": "light"
     },
     "output_type": "display_data"
    },
    {
     "data": {
      "image/png": "[encoded data removed]",
      "text/plain": [
       "<Figure size 432x288 with 1 Axes>"
      ]
     },
     "metadata": {
      "needs_background": "light"
     },
     "output_type": "display_data"
    }
   ],
   "source": [
    "plotter_1 ('m2_price')\n",
    "plotter_1 ('total_area')\n",
    "plotter_1 ('rooms')\n",
    "plotter_1 ('ceiling_height')"
   ]
  },
  {
   "cell_type": "markdown",
   "metadata": {},
   "source": [
    "\n",
    "1. Стоимость метра отличается на 30% между центром Санкт Петербурга и остальными квартирами. Согласно графику, нижняя граница выше и хвост дорогих значений - больше. \n",
    "\n",
    "2. В центре продаются квартиры больше - 52м2 против 80 в центре. \n",
    "3. В центре чаще продают 3-х комнатные, а везде - одно- и двухкомнатные. Что и следует из метража. \n",
    "4. Потолки в среднем по всем квартирам ниже, чем в квартирах в центре. Но большая часть все равно в районе 2.6. "
   ]
  },
  {
   "cell_type": "markdown",
   "metadata": {},
   "source": [
    "#### Исследуем связь цены с дополнительными параметрами"
   ]
  },
  {
   "cell_type": "code",
   "execution_count": 72,
   "metadata": {},
   "outputs": [],
   "source": [
    "#в общий фрейм также добавим значение расстояния в км\n",
    "df_new['to_center']= (df_new['citycenters_nearest']/1000).round()"
   ]
  },
  {
   "cell_type": "code",
   "execution_count": 73,
   "metadata": {
    "scrolled": true
   },
   "outputs": [],
   "source": [
    "def plotter (column):\n",
    "    all_data = df_new.pivot_table(index=column, values='m2_price', aggfunc='median')\n",
    "    spb_data = df_spb_center.pivot_table(index=column, values='m2_price', aggfunc='median')\n",
    "    plt.bar(spb_data.index, spb_data['m2_price'], label='spb_data')\n",
    "    plt.bar(all_data.index, all_data['m2_price'], label ='all_data')\n",
    "    plt.title(column)\n",
    "    plt.ylim([70000, 160000])\n",
    "    plt.legend()\n",
    "    plt.show()"
   ]
  },
  {
   "cell_type": "code",
   "execution_count": 74,
   "metadata": {
    "scrolled": true
   },
   "outputs": [
    {
     "data": {
      "image/png": "[encoded data removed]",
      "text/plain": [
       "<Figure size 432x288 with 1 Axes>"
      ]
     },
     "metadata": {
      "needs_background": "light"
     },
     "output_type": "display_data"
    },
    {
     "data": {
      "image/png": "[encoded data removed]",
      "text/plain": [
       "<Figure size 432x288 with 1 Axes>"
      ]
     },
     "metadata": {
      "needs_background": "light"
     },
     "output_type": "display_data"
    },
    {
     "data": {
      "image/png": "[encoded data removed]",
      "text/plain": [
       "<Figure size 432x288 with 1 Axes>"
      ]
     },
     "metadata": {
      "needs_background": "light"
     },
     "output_type": "display_data"
    },
    {
     "data": {
      "image/png": "[encoded data removed]",
      "text/plain": [
       "<Figure size 432x288 with 1 Axes>"
      ]
     },
     "metadata": {
      "needs_background": "light"
     },
     "output_type": "display_data"
    },
    {
     "data": {
      "image/png": "[encoded data removed]",
      "text/plain": [
       "<Figure size 432x288 with 1 Axes>"
      ]
     },
     "metadata": {
      "needs_background": "light"
     },
     "output_type": "display_data"
    }
   ],
   "source": [
    "plotter ('expo_weekday')\n",
    "plotter ('expo_month')\n",
    "plotter ('expo_year')\n",
    "plotter ('floor_type')\n",
    "plotter ('rooms')"
   ]
  },
  {
   "cell_type": "markdown",
   "metadata": {},
   "source": [
    "1. Зависимость от дня недели объявления - в Питере ее тоже почти нет.\n",
    "2. Завимисоть от месяца - в Питере скачки чуть более заметны, но изменения могут быть обусловлены малым количеством данных в каждом месяце.\n",
    "3. Зависимость от года - такая же тенденция, как и для всех данных. \n",
    "4. Для этажа - аналогично всей выборке, разницы нет. \n",
    "5. Сильная разница в количестве комнат - в центре Санкт-Петербурга однокомнатные квартры дороже всего. В целом в Петербурге при большом количестве комнат цена падает (коммуналки?), а везде - растет. "
   ]
  },
  {
   "cell_type": "code",
   "execution_count": 75,
   "metadata": {},
   "outputs": [
    {
     "data": {
      "image/png": "[encoded data removed]",
      "text/plain": [
       "<Figure size 432x288 with 1 Axes>"
      ]
     },
     "metadata": {
      "needs_background": "light"
     },
     "output_type": "display_data"
    }
   ],
   "source": [
    "all_data = df_new.pivot_table(index='rooms', values='m2_price', aggfunc='count')\n",
    "spb_data = df_spb_center.pivot_table(index='rooms', values='m2_price', aggfunc='count')\n",
    "plt.bar(all_data.index, all_data['m2_price'], label ='all_data')\n",
    "plt.bar(spb_data.index, spb_data['m2_price'], label='spb_data')\n",
    "plt.title('rooms')\n",
    "plt.legend()\n",
    "plt.show()"
   ]
  },
  {
   "cell_type": "markdown",
   "metadata": {},
   "source": [
    "Гипотеза имеет место быть - квартиры с 5 комнтами и больше встречаются почти всегда в центре Санкт-Петербурга. Значит для этих квартир all_data - это почти spb_data, а там цены выше.  \n",
    "\n",
    "**Итоговый вывод: стоимость за метр с увеличением количества комнат уменьшается.**"
   ]
  },
  {
   "cell_type": "code",
   "execution_count": 76,
   "metadata": {
    "scrolled": true
   },
   "outputs": [
    {
     "data": {
      "text/html": [
       "<div>\n",
       "<style scoped>\n",
       "    .dataframe tbody tr th:only-of-type {\n",
       "        vertical-align: middle;\n",
       "    }\n",
       "\n",
       "    .dataframe tbody tr th {\n",
       "        vertical-align: top;\n",
       "    }\n",
       "\n",
       "    .dataframe thead th {\n",
       "        text-align: right;\n",
       "    }\n",
       "</style>\n",
       "<table border=\"1\" class=\"dataframe\">\n",
       "  <thead>\n",
       "    <tr style=\"text-align: right;\">\n",
       "      <th></th>\n",
       "      <th>last_price</th>\n",
       "      <th>m2_price</th>\n",
       "      <th>total_area</th>\n",
       "      <th>rooms</th>\n",
       "      <th>citycenters_nearest</th>\n",
       "    </tr>\n",
       "  </thead>\n",
       "  <tbody>\n",
       "    <tr>\n",
       "      <th>last_price</th>\n",
       "      <td>1.000000</td>\n",
       "      <td>0.712060</td>\n",
       "      <td>0.776027</td>\n",
       "      <td>0.477900</td>\n",
       "      <td>-0.371612</td>\n",
       "    </tr>\n",
       "    <tr>\n",
       "      <th>m2_price</th>\n",
       "      <td>0.712060</td>\n",
       "      <td>1.000000</td>\n",
       "      <td>0.228026</td>\n",
       "      <td>-0.013671</td>\n",
       "      <td>-0.346923</td>\n",
       "    </tr>\n",
       "    <tr>\n",
       "      <th>total_area</th>\n",
       "      <td>0.776027</td>\n",
       "      <td>0.228026</td>\n",
       "      <td>1.000000</td>\n",
       "      <td>0.757916</td>\n",
       "      <td>-0.343179</td>\n",
       "    </tr>\n",
       "    <tr>\n",
       "      <th>rooms</th>\n",
       "      <td>0.477900</td>\n",
       "      <td>-0.013671</td>\n",
       "      <td>0.757916</td>\n",
       "      <td>1.000000</td>\n",
       "      <td>-0.289452</td>\n",
       "    </tr>\n",
       "    <tr>\n",
       "      <th>citycenters_nearest</th>\n",
       "      <td>-0.371612</td>\n",
       "      <td>-0.346923</td>\n",
       "      <td>-0.343179</td>\n",
       "      <td>-0.289452</td>\n",
       "      <td>1.000000</td>\n",
       "    </tr>\n",
       "  </tbody>\n",
       "</table>\n",
       "</div>"
      ],
      "text/plain": [
       "                     last_price  m2_price  total_area     rooms  \\\n",
       "last_price             1.000000  0.712060    0.776027  0.477900   \n",
       "m2_price               0.712060  1.000000    0.228026 -0.013671   \n",
       "total_area             0.776027  0.228026    1.000000  0.757916   \n",
       "rooms                  0.477900 -0.013671    0.757916  1.000000   \n",
       "citycenters_nearest   -0.371612 -0.346923   -0.343179 -0.289452   \n",
       "\n",
       "                     citycenters_nearest  \n",
       "last_price                     -0.371612  \n",
       "m2_price                       -0.346923  \n",
       "total_area                     -0.343179  \n",
       "rooms                          -0.289452  \n",
       "citycenters_nearest             1.000000  "
      ]
     },
     "execution_count": 76,
     "metadata": {},
     "output_type": "execute_result"
    }
   ],
   "source": [
    "corr_spb = df_spb[['last_price', 'm2_price', 'total_area', 'rooms', 'citycenters_nearest']].corr() \n",
    "corr_spb"
   ]
  },
  {
   "cell_type": "code",
   "execution_count": 77,
   "metadata": {},
   "outputs": [
    {
     "data": {
      "text/html": [
       "<div>\n",
       "<style scoped>\n",
       "    .dataframe tbody tr th:only-of-type {\n",
       "        vertical-align: middle;\n",
       "    }\n",
       "\n",
       "    .dataframe tbody tr th {\n",
       "        vertical-align: top;\n",
       "    }\n",
       "\n",
       "    .dataframe thead th {\n",
       "        text-align: right;\n",
       "    }\n",
       "</style>\n",
       "<table border=\"1\" class=\"dataframe\">\n",
       "  <thead>\n",
       "    <tr style=\"text-align: right;\">\n",
       "      <th></th>\n",
       "      <th>last_price</th>\n",
       "      <th>m2_price</th>\n",
       "      <th>total_area</th>\n",
       "      <th>rooms</th>\n",
       "      <th>citycenters_nearest</th>\n",
       "    </tr>\n",
       "  </thead>\n",
       "  <tbody>\n",
       "    <tr>\n",
       "      <th>last_price</th>\n",
       "      <td>1.000000</td>\n",
       "      <td>0.719998</td>\n",
       "      <td>0.765163</td>\n",
       "      <td>0.460527</td>\n",
       "      <td>-0.300362</td>\n",
       "    </tr>\n",
       "    <tr>\n",
       "      <th>m2_price</th>\n",
       "      <td>0.719998</td>\n",
       "      <td>1.000000</td>\n",
       "      <td>0.246739</td>\n",
       "      <td>0.013187</td>\n",
       "      <td>-0.361783</td>\n",
       "    </tr>\n",
       "    <tr>\n",
       "      <th>total_area</th>\n",
       "      <td>0.765163</td>\n",
       "      <td>0.246739</td>\n",
       "      <td>1.000000</td>\n",
       "      <td>0.759289</td>\n",
       "      <td>-0.232622</td>\n",
       "    </tr>\n",
       "    <tr>\n",
       "      <th>rooms</th>\n",
       "      <td>0.460527</td>\n",
       "      <td>0.013187</td>\n",
       "      <td>0.759289</td>\n",
       "      <td>1.000000</td>\n",
       "      <td>-0.178593</td>\n",
       "    </tr>\n",
       "    <tr>\n",
       "      <th>citycenters_nearest</th>\n",
       "      <td>-0.300362</td>\n",
       "      <td>-0.361783</td>\n",
       "      <td>-0.232622</td>\n",
       "      <td>-0.178593</td>\n",
       "      <td>1.000000</td>\n",
       "    </tr>\n",
       "  </tbody>\n",
       "</table>\n",
       "</div>"
      ],
      "text/plain": [
       "                     last_price  m2_price  total_area     rooms  \\\n",
       "last_price             1.000000  0.719998    0.765163  0.460527   \n",
       "m2_price               0.719998  1.000000    0.246739  0.013187   \n",
       "total_area             0.765163  0.246739    1.000000  0.759289   \n",
       "rooms                  0.460527  0.013187    0.759289  1.000000   \n",
       "citycenters_nearest   -0.300362 -0.361783   -0.232622 -0.178593   \n",
       "\n",
       "                     citycenters_nearest  \n",
       "last_price                     -0.300362  \n",
       "m2_price                       -0.361783  \n",
       "total_area                     -0.232622  \n",
       "rooms                          -0.178593  \n",
       "citycenters_nearest             1.000000  "
      ]
     },
     "execution_count": 77,
     "metadata": {},
     "output_type": "execute_result"
    }
   ],
   "source": [
    "df_corr"
   ]
  },
  {
   "cell_type": "markdown",
   "metadata": {},
   "source": [
    "Сравнение корреляций по Санкт-Петербургу и по всем данным:\n",
    "Положительные зависимости неизменны для обоих датасетов:\n",
    "- last_price и m2_price,\n",
    "- last_price и total area,\n",
    "- total_area и rooms .\n",
    "- last_price и rooms (цена больше зависит от общей площади, а не количества комнат),\n",
    "- m2_price и total_area (здесь зависимость есть, но небольшая).\n",
    "\n",
    "Интересная разница между зависимостью citycenters_nearest и total_area и rooms - в Петербурге она сильнее (как мы и выяснили выше - в центре Петербурга много квартир больше 5 комнат).\n",
    "Также в центре Петербурга выше зависимость от близости к центру."
   ]
  },
  {
   "cell_type": "code",
   "execution_count": 78,
   "metadata": {
    "scrolled": true
   },
   "outputs": [
    {
     "data": {
      "image/png": "[encoded data removed]",
      "text/plain": [
       "<Figure size 432x288 with 1 Axes>"
      ]
     },
     "metadata": {
      "needs_background": "light"
     },
     "output_type": "display_data"
    }
   ],
   "source": [
    "spb_data = df_spb.pivot_table(index='to_center', values='m2_price', aggfunc='median')\n",
    "all_data = df_new[(df['locality_name'] != 'Санкт-Петербург')].pivot_table(index='to_center', values='m2_price', aggfunc='median')\n",
    "plt.scatter(spb_data.index, spb_data['m2_price'], label='spb_data')\n",
    "plt.scatter(all_data.index, all_data['m2_price'], label ='all_data')\n",
    "\n",
    "plt.title('to center')\n",
    "plt.ylim([70000, 150000])\n",
    "plt.legend()\n",
    "plt.show()"
   ]
  },
  {
   "cell_type": "markdown",
   "metadata": {},
   "source": [
    "6. Кажется, в данных центром всего является Санкт-Петербург. Очевидно, он ближе всего к центру.\n",
    "За пределами Петербурга расстояние уже не имеет значения - 40 км или 60 км. Есть прямая зависимость на участке от 9 до 30 км - вероятно это все еще город. "
   ]
  },
  {
   "cell_type": "markdown",
   "metadata": {},
   "source": [
    "## Общий вывод"
   ]
  },
  {
   "cell_type": "markdown",
   "metadata": {},
   "source": [
    "\n",
    "\n",
    "- Дороже всего квартиры в центре Санкт-Петербурга. Там же больше всего квартир с 5 и более комнатами.\n",
    "\n",
    "- Цена за метр не зависит от дня недели и месяца размещения, зато зависит от местоположения. В Питере больше любят однокомнатные.\n",
    "\n",
    "- Цены зависят от года - недвижимость в целом сильно скачет в цене.\n",
    "\n",
    "- При приближении к центру стоимость сильно возрастает.\n",
    "\n",
    "- Общие зависимости по всему датасету справедливы и для центра Санкт-Петербурга. Единственное различие вносит фактор близости к центру. \n",
    "\n",
    "Для определения честной цены стоит ориентироваться на местоположение (город) и среднюю цену в нем, сгруппированную по метрам, количеству комнат и близость к центру, если она меньше 30 км, с повышающим коэффициентом для расстояний < 7 км. "
   ]
  }
 ],
 "metadata": {
  "ExecuteTimeLog": [
   {
    "duration": 1145,
    "start_time": "2022-03-12T12:39:23.961Z"
   },
   {
    "duration": 13,
    "start_time": "2022-03-12T12:39:25.108Z"
   },
   {
    "duration": 15,
    "start_time": "2022-03-12T12:39:25.124Z"
   },
   {
    "duration": 58,
    "start_time": "2022-03-12T12:39:25.142Z"
   },
   {
    "duration": 9,
    "start_time": "2022-03-12T12:39:25.202Z"
   },
   {
    "duration": 6015,
    "start_time": "2022-03-12T12:39:25.214Z"
   },
   {
    "duration": 59,
    "start_time": "2022-03-12T12:39:31.175Z"
   },
   {
    "duration": 56,
    "start_time": "2022-03-12T12:39:31.180Z"
   },
   {
    "duration": 52,
    "start_time": "2022-03-12T12:39:31.186Z"
   },
   {
    "duration": 48,
    "start_time": "2022-03-12T12:39:31.191Z"
   },
   {
    "duration": 39,
    "start_time": "2022-03-12T12:39:31.202Z"
   },
   {
    "duration": 35,
    "start_time": "2022-03-12T12:39:31.207Z"
   },
   {
    "duration": 32,
    "start_time": "2022-03-12T12:39:31.212Z"
   },
   {
    "duration": 28,
    "start_time": "2022-03-12T12:39:31.217Z"
   },
   {
    "duration": 25,
    "start_time": "2022-03-12T12:39:31.222Z"
   },
   {
    "duration": 22,
    "start_time": "2022-03-12T12:39:31.226Z"
   },
   {
    "duration": 18,
    "start_time": "2022-03-12T12:39:31.232Z"
   },
   {
    "duration": 15,
    "start_time": "2022-03-12T12:39:31.236Z"
   },
   {
    "duration": 10,
    "start_time": "2022-03-12T12:39:31.242Z"
   },
   {
    "duration": 6,
    "start_time": "2022-03-12T12:39:31.247Z"
   },
   {
    "duration": 3,
    "start_time": "2022-03-12T12:39:31.252Z"
   },
   {
    "duration": 0,
    "start_time": "2022-03-12T12:39:31.256Z"
   },
   {
    "duration": -10,
    "start_time": "2022-03-12T12:39:31.268Z"
   },
   {
    "duration": -14,
    "start_time": "2022-03-12T12:39:31.273Z"
   },
   {
    "duration": -19,
    "start_time": "2022-03-12T12:39:31.279Z"
   },
   {
    "duration": -22,
    "start_time": "2022-03-12T12:39:31.284Z"
   },
   {
    "duration": -27,
    "start_time": "2022-03-12T12:39:31.290Z"
   },
   {
    "duration": -31,
    "start_time": "2022-03-12T12:39:31.295Z"
   },
   {
    "duration": -35,
    "start_time": "2022-03-12T12:39:31.300Z"
   },
   {
    "duration": -38,
    "start_time": "2022-03-12T12:39:31.305Z"
   },
   {
    "duration": -43,
    "start_time": "2022-03-12T12:39:31.311Z"
   },
   {
    "duration": -47,
    "start_time": "2022-03-12T12:39:31.316Z"
   },
   {
    "duration": -51,
    "start_time": "2022-03-12T12:39:31.322Z"
   },
   {
    "duration": -54,
    "start_time": "2022-03-12T12:39:31.326Z"
   },
   {
    "duration": -46,
    "start_time": "2022-03-12T12:39:31.332Z"
   },
   {
    "duration": -48,
    "start_time": "2022-03-12T12:39:31.336Z"
   },
   {
    "duration": -53,
    "start_time": "2022-03-12T12:39:31.342Z"
   },
   {
    "duration": -95,
    "start_time": "2022-03-12T12:39:31.386Z"
   },
   {
    "duration": -99,
    "start_time": "2022-03-12T12:39:31.391Z"
   },
   {
    "duration": -133,
    "start_time": "2022-03-12T12:39:31.427Z"
   },
   {
    "duration": -137,
    "start_time": "2022-03-12T12:39:31.432Z"
   },
   {
    "duration": -141,
    "start_time": "2022-03-12T12:39:31.437Z"
   },
   {
    "duration": -168,
    "start_time": "2022-03-12T12:39:31.466Z"
   },
   {
    "duration": -202,
    "start_time": "2022-03-12T12:39:31.501Z"
   },
   {
    "duration": -206,
    "start_time": "2022-03-12T12:39:31.506Z"
   },
   {
    "duration": -208,
    "start_time": "2022-03-12T12:39:31.510Z"
   },
   {
    "duration": -234,
    "start_time": "2022-03-12T12:39:31.537Z"
   },
   {
    "duration": -237,
    "start_time": "2022-03-12T12:39:31.541Z"
   },
   {
    "duration": -241,
    "start_time": "2022-03-12T12:39:31.546Z"
   },
   {
    "duration": -243,
    "start_time": "2022-03-12T12:39:31.550Z"
   },
   {
    "duration": -282,
    "start_time": "2022-03-12T12:39:31.590Z"
   },
   {
    "duration": -285,
    "start_time": "2022-03-12T12:39:31.594Z"
   },
   {
    "duration": -334,
    "start_time": "2022-03-12T12:39:31.645Z"
   },
   {
    "duration": -337,
    "start_time": "2022-03-12T12:39:31.649Z"
   },
   {
    "duration": -341,
    "start_time": "2022-03-12T12:39:31.654Z"
   },
   {
    "duration": -343,
    "start_time": "2022-03-12T12:39:31.658Z"
   },
   {
    "duration": -359,
    "start_time": "2022-03-12T12:39:31.675Z"
   },
   {
    "duration": -373,
    "start_time": "2022-03-12T12:39:31.691Z"
   },
   {
    "duration": -395,
    "start_time": "2022-03-12T12:39:31.714Z"
   },
   {
    "duration": -398,
    "start_time": "2022-03-12T12:39:31.718Z"
   },
   {
    "duration": -401,
    "start_time": "2022-03-12T12:39:31.723Z"
   },
   {
    "duration": -431,
    "start_time": "2022-03-12T12:39:31.754Z"
   },
   {
    "duration": -465,
    "start_time": "2022-03-12T12:39:31.789Z"
   },
   {
    "duration": -467,
    "start_time": "2022-03-12T12:39:31.793Z"
   },
   {
    "duration": -409,
    "start_time": "2022-03-12T12:39:31.798Z"
   },
   {
    "duration": -413,
    "start_time": "2022-03-12T12:39:31.803Z"
   },
   {
    "duration": 4,
    "start_time": "2022-03-12T12:44:02.793Z"
   },
   {
    "duration": 31,
    "start_time": "2022-03-12T12:44:02.799Z"
   },
   {
    "duration": 1000,
    "start_time": "2022-03-12T12:44:02.832Z"
   },
   {
    "duration": 114,
    "start_time": "2022-03-12T12:44:03.835Z"
   },
   {
    "duration": 339,
    "start_time": "2022-03-12T12:44:03.951Z"
   },
   {
    "duration": 116,
    "start_time": "2022-03-12T12:44:04.179Z"
   },
   {
    "duration": 115,
    "start_time": "2022-03-12T12:44:04.182Z"
   },
   {
    "duration": 112,
    "start_time": "2022-03-12T12:44:04.186Z"
   },
   {
    "duration": 110,
    "start_time": "2022-03-12T12:44:04.190Z"
   },
   {
    "duration": 103,
    "start_time": "2022-03-12T12:44:04.198Z"
   },
   {
    "duration": 100,
    "start_time": "2022-03-12T12:44:04.202Z"
   },
   {
    "duration": 98,
    "start_time": "2022-03-12T12:44:04.206Z"
   },
   {
    "duration": 95,
    "start_time": "2022-03-12T12:44:04.210Z"
   },
   {
    "duration": 94,
    "start_time": "2022-03-12T12:44:04.213Z"
   },
   {
    "duration": 91,
    "start_time": "2022-03-12T12:44:04.217Z"
   },
   {
    "duration": 87,
    "start_time": "2022-03-12T12:44:04.222Z"
   },
   {
    "duration": 85,
    "start_time": "2022-03-12T12:44:04.226Z"
   },
   {
    "duration": 82,
    "start_time": "2022-03-12T12:44:04.230Z"
   },
   {
    "duration": 80,
    "start_time": "2022-03-12T12:44:04.233Z"
   },
   {
    "duration": 77,
    "start_time": "2022-03-12T12:44:04.237Z"
   },
   {
    "duration": 75,
    "start_time": "2022-03-12T12:44:04.241Z"
   },
   {
    "duration": 60,
    "start_time": "2022-03-12T12:44:04.259Z"
   },
   {
    "duration": 53,
    "start_time": "2022-03-12T12:44:04.267Z"
   },
   {
    "duration": 50,
    "start_time": "2022-03-12T12:44:04.272Z"
   },
   {
    "duration": 43,
    "start_time": "2022-03-12T12:44:04.281Z"
   },
   {
    "duration": 40,
    "start_time": "2022-03-12T12:44:04.285Z"
   },
   {
    "duration": 37,
    "start_time": "2022-03-12T12:44:04.290Z"
   },
   {
    "duration": 30,
    "start_time": "2022-03-12T12:44:04.299Z"
   },
   {
    "duration": 83,
    "start_time": "2022-03-12T12:44:04.303Z"
   },
   {
    "duration": 45,
    "start_time": "2022-03-12T12:44:04.343Z"
   },
   {
    "duration": 33,
    "start_time": "2022-03-12T12:44:04.356Z"
   },
   {
    "duration": -13,
    "start_time": "2022-03-12T12:44:04.404Z"
   },
   {
    "duration": -15,
    "start_time": "2022-03-12T12:44:04.408Z"
   },
   {
    "duration": -18,
    "start_time": "2022-03-12T12:44:04.412Z"
   },
   {
    "duration": -52,
    "start_time": "2022-03-12T12:44:04.448Z"
   },
   {
    "duration": -55,
    "start_time": "2022-03-12T12:44:04.453Z"
   },
   {
    "duration": -64,
    "start_time": "2022-03-12T12:44:04.464Z"
   },
   {
    "duration": -65,
    "start_time": "2022-03-12T12:44:04.469Z"
   },
   {
    "duration": -143,
    "start_time": "2022-03-12T12:44:04.548Z"
   },
   {
    "duration": -503,
    "start_time": "2022-03-12T12:44:04.910Z"
   },
   {
    "duration": -548,
    "start_time": "2022-03-12T12:44:04.957Z"
   },
   {
    "duration": -551,
    "start_time": "2022-03-12T12:44:04.961Z"
   },
   {
    "duration": -552,
    "start_time": "2022-03-12T12:44:04.964Z"
   },
   {
    "duration": -555,
    "start_time": "2022-03-12T12:44:04.968Z"
   },
   {
    "duration": -557,
    "start_time": "2022-03-12T12:44:04.972Z"
   },
   {
    "duration": -560,
    "start_time": "2022-03-12T12:44:04.977Z"
   },
   {
    "duration": -563,
    "start_time": "2022-03-12T12:44:04.981Z"
   },
   {
    "duration": -565,
    "start_time": "2022-03-12T12:44:04.985Z"
   },
   {
    "duration": -567,
    "start_time": "2022-03-12T12:44:04.988Z"
   },
   {
    "duration": -570,
    "start_time": "2022-03-12T12:44:04.992Z"
   },
   {
    "duration": -508,
    "start_time": "2022-03-12T12:44:04.995Z"
   },
   {
    "duration": -511,
    "start_time": "2022-03-12T12:44:04.999Z"
   },
   {
    "duration": -512,
    "start_time": "2022-03-12T12:44:05.002Z"
   },
   {
    "duration": -514,
    "start_time": "2022-03-12T12:44:05.006Z"
   },
   {
    "duration": -516,
    "start_time": "2022-03-12T12:44:05.009Z"
   },
   {
    "duration": -518,
    "start_time": "2022-03-12T12:44:05.013Z"
   },
   {
    "duration": -538,
    "start_time": "2022-03-12T12:44:05.034Z"
   },
   {
    "duration": -552,
    "start_time": "2022-03-12T12:44:05.050Z"
   },
   {
    "duration": -555,
    "start_time": "2022-03-12T12:44:05.054Z"
   },
   {
    "duration": -558,
    "start_time": "2022-03-12T12:44:05.059Z"
   },
   {
    "duration": -561,
    "start_time": "2022-03-12T12:44:05.063Z"
   },
   {
    "duration": -570,
    "start_time": "2022-03-12T12:44:05.074Z"
   },
   {
    "duration": -572,
    "start_time": "2022-03-12T12:44:05.078Z"
   },
   {
    "duration": -574,
    "start_time": "2022-03-12T12:44:05.082Z"
   },
   {
    "duration": -576,
    "start_time": "2022-03-12T12:44:05.086Z"
   },
   {
    "duration": -579,
    "start_time": "2022-03-12T12:44:05.091Z"
   },
   {
    "duration": -581,
    "start_time": "2022-03-12T12:44:05.094Z"
   },
   {
    "duration": -584,
    "start_time": "2022-03-12T12:44:05.099Z"
   },
   {
    "duration": 4,
    "start_time": "2022-03-12T12:44:47.886Z"
   },
   {
    "duration": 9,
    "start_time": "2022-03-12T12:44:47.893Z"
   },
   {
    "duration": 870,
    "start_time": "2022-03-12T12:44:47.905Z"
   },
   {
    "duration": 88,
    "start_time": "2022-03-12T12:44:48.779Z"
   },
   {
    "duration": 26,
    "start_time": "2022-03-12T12:44:48.870Z"
   },
   {
    "duration": 43,
    "start_time": "2022-03-12T12:44:48.899Z"
   },
   {
    "duration": 44,
    "start_time": "2022-03-12T12:44:48.945Z"
   },
   {
    "duration": 29,
    "start_time": "2022-03-12T12:44:48.992Z"
   },
   {
    "duration": 8,
    "start_time": "2022-03-12T12:44:49.027Z"
   },
   {
    "duration": 54,
    "start_time": "2022-03-12T12:44:49.039Z"
   },
   {
    "duration": 12,
    "start_time": "2022-03-12T12:44:49.095Z"
   },
   {
    "duration": 16,
    "start_time": "2022-03-12T12:44:49.109Z"
   },
   {
    "duration": 7,
    "start_time": "2022-03-12T12:44:49.127Z"
   },
   {
    "duration": 14,
    "start_time": "2022-03-12T12:44:49.136Z"
   },
   {
    "duration": 36,
    "start_time": "2022-03-12T12:44:49.153Z"
   },
   {
    "duration": 371,
    "start_time": "2022-03-12T12:44:49.191Z"
   },
   {
    "duration": 101,
    "start_time": "2022-03-12T12:44:49.467Z"
   },
   {
    "duration": 97,
    "start_time": "2022-03-12T12:44:49.473Z"
   },
   {
    "duration": 95,
    "start_time": "2022-03-12T12:44:49.477Z"
   },
   {
    "duration": 90,
    "start_time": "2022-03-12T12:44:49.484Z"
   },
   {
    "duration": 88,
    "start_time": "2022-03-12T12:44:49.489Z"
   },
   {
    "duration": 87,
    "start_time": "2022-03-12T12:44:49.492Z"
   },
   {
    "duration": 85,
    "start_time": "2022-03-12T12:44:49.496Z"
   },
   {
    "duration": 71,
    "start_time": "2022-03-12T12:44:49.512Z"
   },
   {
    "duration": 70,
    "start_time": "2022-03-12T12:44:49.516Z"
   },
   {
    "duration": 68,
    "start_time": "2022-03-12T12:44:49.520Z"
   },
   {
    "duration": 66,
    "start_time": "2022-03-12T12:44:49.524Z"
   },
   {
    "duration": 66,
    "start_time": "2022-03-12T12:44:49.527Z"
   },
   {
    "duration": 64,
    "start_time": "2022-03-12T12:44:49.531Z"
   },
   {
    "duration": 62,
    "start_time": "2022-03-12T12:44:49.535Z"
   },
   {
    "duration": 60,
    "start_time": "2022-03-12T12:44:49.539Z"
   },
   {
    "duration": 60,
    "start_time": "2022-03-12T12:44:49.542Z"
   },
   {
    "duration": 58,
    "start_time": "2022-03-12T12:44:49.546Z"
   },
   {
    "duration": 49,
    "start_time": "2022-03-12T12:44:49.557Z"
   },
   {
    "duration": 46,
    "start_time": "2022-03-12T12:44:49.562Z"
   },
   {
    "duration": 40,
    "start_time": "2022-03-12T12:44:49.570Z"
   },
   {
    "duration": 38,
    "start_time": "2022-03-12T12:44:49.575Z"
   },
   {
    "duration": 37,
    "start_time": "2022-03-12T12:44:49.578Z"
   },
   {
    "duration": 35,
    "start_time": "2022-03-12T12:44:49.582Z"
   },
   {
    "duration": -44,
    "start_time": "2022-03-12T12:44:49.664Z"
   },
   {
    "duration": -59,
    "start_time": "2022-03-12T12:44:49.681Z"
   },
   {
    "duration": -62,
    "start_time": "2022-03-12T12:44:49.686Z"
   },
   {
    "duration": -73,
    "start_time": "2022-03-12T12:44:49.699Z"
   },
   {
    "duration": -101,
    "start_time": "2022-03-12T12:44:49.729Z"
   },
   {
    "duration": -118,
    "start_time": "2022-03-12T12:44:49.748Z"
   },
   {
    "duration": -66,
    "start_time": "2022-03-12T12:44:49.753Z"
   },
   {
    "duration": -271,
    "start_time": "2022-03-12T12:44:49.960Z"
   },
   {
    "duration": -354,
    "start_time": "2022-03-12T12:44:50.046Z"
   },
   {
    "duration": -356,
    "start_time": "2022-03-12T12:44:50.050Z"
   },
   {
    "duration": -358,
    "start_time": "2022-03-12T12:44:50.054Z"
   },
   {
    "duration": -366,
    "start_time": "2022-03-12T12:44:50.064Z"
   },
   {
    "duration": -366,
    "start_time": "2022-03-12T12:44:50.067Z"
   },
   {
    "duration": -376,
    "start_time": "2022-03-12T12:44:50.079Z"
   },
   {
    "duration": -379,
    "start_time": "2022-03-12T12:44:50.084Z"
   },
   {
    "duration": -388,
    "start_time": "2022-03-12T12:44:50.095Z"
   },
   {
    "duration": -389,
    "start_time": "2022-03-12T12:44:50.098Z"
   },
   {
    "duration": -391,
    "start_time": "2022-03-12T12:44:50.103Z"
   },
   {
    "duration": -399,
    "start_time": "2022-03-12T12:44:50.113Z"
   },
   {
    "duration": -401,
    "start_time": "2022-03-12T12:44:50.117Z"
   },
   {
    "duration": -418,
    "start_time": "2022-03-12T12:44:50.136Z"
   },
   {
    "duration": -425,
    "start_time": "2022-03-12T12:44:50.146Z"
   },
   {
    "duration": -427,
    "start_time": "2022-03-12T12:44:50.150Z"
   },
   {
    "duration": -455,
    "start_time": "2022-03-12T12:44:50.180Z"
   },
   {
    "duration": -398,
    "start_time": "2022-03-12T12:44:50.184Z"
   },
   {
    "duration": -400,
    "start_time": "2022-03-12T12:44:50.188Z"
   },
   {
    "duration": -403,
    "start_time": "2022-03-12T12:44:50.192Z"
   },
   {
    "duration": -406,
    "start_time": "2022-03-12T12:44:50.197Z"
   },
   {
    "duration": -409,
    "start_time": "2022-03-12T12:44:50.201Z"
   },
   {
    "duration": 76,
    "start_time": "2022-03-12T12:56:42.749Z"
   },
   {
    "duration": 19,
    "start_time": "2022-03-12T13:14:27.055Z"
   },
   {
    "duration": 4,
    "start_time": "2022-03-12T13:41:37.557Z"
   },
   {
    "duration": 259,
    "start_time": "2022-03-12T13:41:38.386Z"
   },
   {
    "duration": 4,
    "start_time": "2022-03-12T13:43:32.028Z"
   },
   {
    "duration": 79,
    "start_time": "2022-03-12T13:43:32.748Z"
   },
   {
    "duration": 16,
    "start_time": "2022-03-12T13:43:33.593Z"
   },
   {
    "duration": 38,
    "start_time": "2022-03-12T13:43:34.291Z"
   },
   {
    "duration": 12,
    "start_time": "2022-03-12T13:43:34.828Z"
   },
   {
    "duration": 27,
    "start_time": "2022-03-12T13:43:35.388Z"
   },
   {
    "duration": 6,
    "start_time": "2022-03-12T13:43:38.320Z"
   },
   {
    "duration": 25,
    "start_time": "2022-03-12T13:43:39.940Z"
   },
   {
    "duration": 12,
    "start_time": "2022-03-12T13:43:40.768Z"
   },
   {
    "duration": 12,
    "start_time": "2022-03-12T13:43:43.361Z"
   },
   {
    "duration": 7,
    "start_time": "2022-03-12T13:43:49.868Z"
   },
   {
    "duration": 9,
    "start_time": "2022-03-12T13:43:51.460Z"
   },
   {
    "duration": 18,
    "start_time": "2022-03-12T13:43:52.313Z"
   },
   {
    "duration": 4,
    "start_time": "2022-03-12T13:44:29.480Z"
   },
   {
    "duration": 288,
    "start_time": "2022-03-12T13:44:30.080Z"
   },
   {
    "duration": 74,
    "start_time": "2022-03-12T13:46:00.308Z"
   },
   {
    "duration": 69,
    "start_time": "2022-03-12T13:47:14.683Z"
   },
   {
    "duration": 17,
    "start_time": "2022-03-12T13:47:17.843Z"
   },
   {
    "duration": 19,
    "start_time": "2022-03-12T13:47:31.573Z"
   },
   {
    "duration": 17,
    "start_time": "2022-03-12T13:47:32.685Z"
   },
   {
    "duration": 9,
    "start_time": "2022-03-12T13:47:38.108Z"
   },
   {
    "duration": 8,
    "start_time": "2022-03-12T13:47:39.484Z"
   },
   {
    "duration": 8,
    "start_time": "2022-03-12T13:47:40.549Z"
   },
   {
    "duration": 8,
    "start_time": "2022-03-12T13:47:41.042Z"
   },
   {
    "duration": 5,
    "start_time": "2022-03-12T13:47:44.802Z"
   },
   {
    "duration": 983,
    "start_time": "2022-03-12T13:47:45.574Z"
   },
   {
    "duration": 6,
    "start_time": "2022-03-12T13:47:47.020Z"
   },
   {
    "duration": 5,
    "start_time": "2022-03-12T13:47:48.021Z"
   },
   {
    "duration": 12,
    "start_time": "2022-03-12T13:59:21.440Z"
   },
   {
    "duration": 678,
    "start_time": "2022-03-12T13:59:22.241Z"
   },
   {
    "duration": 204,
    "start_time": "2022-03-12T13:59:46.420Z"
   },
   {
    "duration": 241,
    "start_time": "2022-03-12T13:59:58.950Z"
   },
   {
    "duration": 12,
    "start_time": "2022-03-12T14:00:00.048Z"
   },
   {
    "duration": 925,
    "start_time": "2022-03-12T14:00:04.481Z"
   },
   {
    "duration": 12,
    "start_time": "2022-03-12T14:00:13.597Z"
   },
   {
    "duration": 387,
    "start_time": "2022-03-12T14:00:14.765Z"
   },
   {
    "duration": 57,
    "start_time": "2022-03-12T14:00:23.930Z"
   },
   {
    "duration": 11,
    "start_time": "2022-03-12T14:00:29.941Z"
   },
   {
    "duration": 346,
    "start_time": "2022-03-12T14:00:31.983Z"
   },
   {
    "duration": 12,
    "start_time": "2022-03-12T14:00:43.468Z"
   },
   {
    "duration": 535,
    "start_time": "2022-03-12T14:00:44.131Z"
   },
   {
    "duration": 382,
    "start_time": "2022-03-12T14:00:49.708Z"
   },
   {
    "duration": 73,
    "start_time": "2022-03-12T14:01:28.463Z"
   },
   {
    "duration": 22,
    "start_time": "2022-03-12T14:03:35.940Z"
   },
   {
    "duration": 139,
    "start_time": "2022-03-12T14:03:46.879Z"
   },
   {
    "duration": 4,
    "start_time": "2022-03-12T14:05:33.770Z"
   },
   {
    "duration": 121,
    "start_time": "2022-03-12T14:05:35.319Z"
   },
   {
    "duration": 51,
    "start_time": "2022-03-12T14:06:30.647Z"
   },
   {
    "duration": 6,
    "start_time": "2022-03-12T14:10:47.913Z"
   },
   {
    "duration": 731,
    "start_time": "2022-03-12T14:10:49.308Z"
   },
   {
    "duration": 344,
    "start_time": "2022-03-12T14:11:02.749Z"
   },
   {
    "duration": 736,
    "start_time": "2022-03-12T14:11:13.915Z"
   },
   {
    "duration": 258,
    "start_time": "2022-03-12T14:11:21.205Z"
   },
   {
    "duration": 277,
    "start_time": "2022-03-12T14:11:29.605Z"
   },
   {
    "duration": 330,
    "start_time": "2022-03-12T14:11:58.964Z"
   },
   {
    "duration": 298,
    "start_time": "2022-03-12T14:12:02.980Z"
   },
   {
    "duration": 8,
    "start_time": "2022-03-12T14:15:38.484Z"
   },
   {
    "duration": 8,
    "start_time": "2022-03-12T14:15:42.084Z"
   },
   {
    "duration": 26,
    "start_time": "2022-03-12T14:16:43.175Z"
   },
   {
    "duration": 8,
    "start_time": "2022-03-12T14:16:44.924Z"
   },
   {
    "duration": 9,
    "start_time": "2022-03-12T14:17:36.554Z"
   },
   {
    "duration": 30,
    "start_time": "2022-03-12T14:17:37.523Z"
   },
   {
    "duration": 6,
    "start_time": "2022-03-12T14:17:42.421Z"
   },
   {
    "duration": 488,
    "start_time": "2022-03-12T14:17:43.325Z"
   },
   {
    "duration": 16,
    "start_time": "2022-03-12T14:18:21.425Z"
   },
   {
    "duration": 24,
    "start_time": "2022-03-12T14:18:22.348Z"
   },
   {
    "duration": 48,
    "start_time": "2022-03-12T14:18:26.114Z"
   },
   {
    "duration": 45,
    "start_time": "2022-03-12T14:18:26.844Z"
   },
   {
    "duration": 5,
    "start_time": "2022-03-12T14:18:30.934Z"
   },
   {
    "duration": 4563,
    "start_time": "2022-03-12T14:18:31.548Z"
   },
   {
    "duration": 6,
    "start_time": "2022-03-12T14:21:05.594Z"
   },
   {
    "duration": 7,
    "start_time": "2022-03-12T14:21:06.083Z"
   },
   {
    "duration": 1958,
    "start_time": "2022-03-12T14:21:13.084Z"
   },
   {
    "duration": 486,
    "start_time": "2022-03-12T14:27:21.754Z"
   },
   {
    "duration": 706,
    "start_time": "2022-03-13T08:46:48.426Z"
   },
   {
    "duration": 100,
    "start_time": "2022-03-13T08:46:50.201Z"
   },
   {
    "duration": 14,
    "start_time": "2022-03-13T08:46:52.372Z"
   },
   {
    "duration": 3,
    "start_time": "2022-03-13T09:16:30.399Z"
   },
   {
    "duration": 16,
    "start_time": "2022-03-13T09:16:30.404Z"
   },
   {
    "duration": 91,
    "start_time": "2022-03-13T09:16:30.423Z"
   },
   {
    "duration": 11,
    "start_time": "2022-03-13T09:16:30.517Z"
   },
   {
    "duration": 36,
    "start_time": "2022-03-13T09:16:30.530Z"
   },
   {
    "duration": 10,
    "start_time": "2022-03-13T09:16:30.568Z"
   },
   {
    "duration": 24,
    "start_time": "2022-03-13T09:16:30.666Z"
   },
   {
    "duration": 6,
    "start_time": "2022-03-13T09:16:30.693Z"
   },
   {
    "duration": 22,
    "start_time": "2022-03-13T09:16:30.702Z"
   },
   {
    "duration": 28,
    "start_time": "2022-03-13T09:16:30.727Z"
   },
   {
    "duration": 38,
    "start_time": "2022-03-13T09:16:30.757Z"
   },
   {
    "duration": 14,
    "start_time": "2022-03-13T09:16:30.797Z"
   },
   {
    "duration": 25,
    "start_time": "2022-03-13T09:16:30.813Z"
   },
   {
    "duration": 19,
    "start_time": "2022-03-13T09:16:30.840Z"
   },
   {
    "duration": 3,
    "start_time": "2022-03-13T09:16:33.259Z"
   },
   {
    "duration": 334,
    "start_time": "2022-03-13T09:16:34.447Z"
   },
   {
    "duration": 3,
    "start_time": "2022-03-13T09:17:15.498Z"
   },
   {
    "duration": 312,
    "start_time": "2022-03-13T09:17:17.818Z"
   },
   {
    "duration": 4,
    "start_time": "2022-03-13T09:17:41.191Z"
   },
   {
    "duration": 26,
    "start_time": "2022-03-13T09:28:55.287Z"
   },
   {
    "duration": 28,
    "start_time": "2022-03-13T09:28:57.436Z"
   },
   {
    "duration": 26,
    "start_time": "2022-03-13T09:29:04.517Z"
   },
   {
    "duration": 8,
    "start_time": "2022-03-13T09:29:34.236Z"
   },
   {
    "duration": 248,
    "start_time": "2022-03-13T09:30:14.915Z"
   },
   {
    "duration": 3,
    "start_time": "2022-03-13T09:31:06.721Z"
   },
   {
    "duration": 4,
    "start_time": "2022-03-13T09:31:07.020Z"
   },
   {
    "duration": 104,
    "start_time": "2022-03-13T09:31:07.030Z"
   },
   {
    "duration": 17,
    "start_time": "2022-03-13T09:31:07.136Z"
   },
   {
    "duration": 50,
    "start_time": "2022-03-13T09:31:07.157Z"
   },
   {
    "duration": 14,
    "start_time": "2022-03-13T09:31:07.210Z"
   },
   {
    "duration": 34,
    "start_time": "2022-03-13T09:31:07.226Z"
   },
   {
    "duration": 8,
    "start_time": "2022-03-13T09:31:07.262Z"
   },
   {
    "duration": 51,
    "start_time": "2022-03-13T09:31:07.273Z"
   },
   {
    "duration": 19,
    "start_time": "2022-03-13T09:31:07.326Z"
   },
   {
    "duration": 16,
    "start_time": "2022-03-13T09:31:07.348Z"
   },
   {
    "duration": 7,
    "start_time": "2022-03-13T09:31:07.366Z"
   },
   {
    "duration": 31,
    "start_time": "2022-03-13T09:31:07.375Z"
   },
   {
    "duration": 19,
    "start_time": "2022-03-13T09:31:07.409Z"
   },
   {
    "duration": 27,
    "start_time": "2022-03-13T09:31:07.430Z"
   },
   {
    "duration": 261,
    "start_time": "2022-03-13T09:31:09.710Z"
   },
   {
    "duration": 55,
    "start_time": "2022-03-13T09:33:18.076Z"
   },
   {
    "duration": 13,
    "start_time": "2022-03-13T09:33:46.691Z"
   },
   {
    "duration": 11,
    "start_time": "2022-03-13T09:33:59.665Z"
   },
   {
    "duration": 13,
    "start_time": "2022-03-13T09:34:00.910Z"
   },
   {
    "duration": 3,
    "start_time": "2022-03-13T09:34:08.717Z"
   },
   {
    "duration": 6,
    "start_time": "2022-03-13T09:34:08.722Z"
   },
   {
    "duration": 71,
    "start_time": "2022-03-13T09:34:08.731Z"
   },
   {
    "duration": 14,
    "start_time": "2022-03-13T09:34:08.804Z"
   },
   {
    "duration": 26,
    "start_time": "2022-03-13T09:34:08.820Z"
   },
   {
    "duration": 12,
    "start_time": "2022-03-13T09:34:08.848Z"
   },
   {
    "duration": 58,
    "start_time": "2022-03-13T09:34:08.862Z"
   },
   {
    "duration": 6,
    "start_time": "2022-03-13T09:34:08.923Z"
   },
   {
    "duration": 16,
    "start_time": "2022-03-13T09:34:08.932Z"
   },
   {
    "duration": 13,
    "start_time": "2022-03-13T09:34:08.951Z"
   },
   {
    "duration": 40,
    "start_time": "2022-03-13T09:34:08.966Z"
   },
   {
    "duration": 5,
    "start_time": "2022-03-13T09:34:09.008Z"
   },
   {
    "duration": 12,
    "start_time": "2022-03-13T09:34:09.015Z"
   },
   {
    "duration": 14,
    "start_time": "2022-03-13T09:34:09.029Z"
   },
   {
    "duration": 18,
    "start_time": "2022-03-13T09:34:09.045Z"
   },
   {
    "duration": 8,
    "start_time": "2022-03-13T09:34:12.136Z"
   },
   {
    "duration": 12,
    "start_time": "2022-03-13T09:34:12.916Z"
   },
   {
    "duration": 2,
    "start_time": "2022-03-13T09:34:23.977Z"
   },
   {
    "duration": 7,
    "start_time": "2022-03-13T09:34:23.981Z"
   },
   {
    "duration": 72,
    "start_time": "2022-03-13T09:34:23.990Z"
   },
   {
    "duration": 12,
    "start_time": "2022-03-13T09:34:24.064Z"
   },
   {
    "duration": 35,
    "start_time": "2022-03-13T09:34:24.077Z"
   },
   {
    "duration": 9,
    "start_time": "2022-03-13T09:34:24.114Z"
   },
   {
    "duration": 21,
    "start_time": "2022-03-13T09:34:24.125Z"
   },
   {
    "duration": 5,
    "start_time": "2022-03-13T09:34:24.148Z"
   },
   {
    "duration": 45,
    "start_time": "2022-03-13T09:34:24.156Z"
   },
   {
    "duration": 14,
    "start_time": "2022-03-13T09:34:24.203Z"
   },
   {
    "duration": 12,
    "start_time": "2022-03-13T09:34:24.220Z"
   },
   {
    "duration": 4,
    "start_time": "2022-03-13T09:34:24.234Z"
   },
   {
    "duration": 10,
    "start_time": "2022-03-13T09:34:24.240Z"
   },
   {
    "duration": 15,
    "start_time": "2022-03-13T09:34:24.251Z"
   },
   {
    "duration": 40,
    "start_time": "2022-03-13T09:34:24.268Z"
   },
   {
    "duration": 53,
    "start_time": "2022-03-13T09:34:27.170Z"
   },
   {
    "duration": 13,
    "start_time": "2022-03-13T09:34:33.551Z"
   },
   {
    "duration": 3,
    "start_time": "2022-03-13T09:34:51.878Z"
   },
   {
    "duration": 8,
    "start_time": "2022-03-13T09:34:51.884Z"
   },
   {
    "duration": 79,
    "start_time": "2022-03-13T09:34:51.894Z"
   },
   {
    "duration": 13,
    "start_time": "2022-03-13T09:34:51.975Z"
   },
   {
    "duration": 32,
    "start_time": "2022-03-13T09:34:51.990Z"
   },
   {
    "duration": 11,
    "start_time": "2022-03-13T09:34:52.025Z"
   },
   {
    "duration": 32,
    "start_time": "2022-03-13T09:34:52.039Z"
   },
   {
    "duration": 27,
    "start_time": "2022-03-13T09:34:52.074Z"
   },
   {
    "duration": 18,
    "start_time": "2022-03-13T09:34:52.104Z"
   },
   {
    "duration": 11,
    "start_time": "2022-03-13T09:34:52.124Z"
   },
   {
    "duration": 15,
    "start_time": "2022-03-13T09:34:52.137Z"
   },
   {
    "duration": 6,
    "start_time": "2022-03-13T09:34:52.154Z"
   },
   {
    "duration": 12,
    "start_time": "2022-03-13T09:34:52.162Z"
   },
   {
    "duration": 38,
    "start_time": "2022-03-13T09:34:52.176Z"
   },
   {
    "duration": 20,
    "start_time": "2022-03-13T09:34:52.216Z"
   },
   {
    "duration": 9,
    "start_time": "2022-03-13T09:34:54.296Z"
   },
   {
    "duration": 10,
    "start_time": "2022-03-13T09:34:58.816Z"
   },
   {
    "duration": 14,
    "start_time": "2022-03-13T09:35:00.661Z"
   },
   {
    "duration": 4327,
    "start_time": "2022-03-13T09:36:29.715Z"
   },
   {
    "duration": 93,
    "start_time": "2022-03-13T09:37:00.536Z"
   },
   {
    "duration": 7,
    "start_time": "2022-03-13T09:37:07.654Z"
   },
   {
    "duration": 14,
    "start_time": "2022-03-13T09:38:35.317Z"
   },
   {
    "duration": 3,
    "start_time": "2022-03-13T09:40:39.510Z"
   },
   {
    "duration": 4,
    "start_time": "2022-03-13T09:40:39.522Z"
   },
   {
    "duration": 72,
    "start_time": "2022-03-13T09:40:39.527Z"
   },
   {
    "duration": 12,
    "start_time": "2022-03-13T09:40:39.601Z"
   },
   {
    "duration": 28,
    "start_time": "2022-03-13T09:40:39.616Z"
   },
   {
    "duration": 10,
    "start_time": "2022-03-13T09:40:39.646Z"
   },
   {
    "duration": 51,
    "start_time": "2022-03-13T09:40:39.657Z"
   },
   {
    "duration": 4,
    "start_time": "2022-03-13T09:40:39.710Z"
   },
   {
    "duration": 17,
    "start_time": "2022-03-13T09:40:39.717Z"
   },
   {
    "duration": 9,
    "start_time": "2022-03-13T09:40:39.736Z"
   },
   {
    "duration": 18,
    "start_time": "2022-03-13T09:40:39.747Z"
   },
   {
    "duration": 6,
    "start_time": "2022-03-13T09:40:39.767Z"
   },
   {
    "duration": 30,
    "start_time": "2022-03-13T09:40:39.774Z"
   },
   {
    "duration": 14,
    "start_time": "2022-03-13T09:40:39.805Z"
   },
   {
    "duration": 20,
    "start_time": "2022-03-13T09:40:40.017Z"
   },
   {
    "duration": 9,
    "start_time": "2022-03-13T09:40:40.039Z"
   },
   {
    "duration": 6057,
    "start_time": "2022-03-13T09:40:40.050Z"
   },
   {
    "duration": 4274,
    "start_time": "2022-03-13T09:40:41.837Z"
   },
   {
    "duration": 4267,
    "start_time": "2022-03-13T09:40:41.846Z"
   },
   {
    "duration": 4259,
    "start_time": "2022-03-13T09:40:41.855Z"
   },
   {
    "duration": 4253,
    "start_time": "2022-03-13T09:40:41.862Z"
   },
   {
    "duration": 4248,
    "start_time": "2022-03-13T09:40:41.869Z"
   },
   {
    "duration": 4242,
    "start_time": "2022-03-13T09:40:41.876Z"
   },
   {
    "duration": 4237,
    "start_time": "2022-03-13T09:40:41.883Z"
   },
   {
    "duration": 4232,
    "start_time": "2022-03-13T09:40:41.889Z"
   },
   {
    "duration": 4226,
    "start_time": "2022-03-13T09:40:41.897Z"
   },
   {
    "duration": 4206,
    "start_time": "2022-03-13T09:40:41.919Z"
   },
   {
    "duration": 4199,
    "start_time": "2022-03-13T09:40:41.927Z"
   },
   {
    "duration": 4192,
    "start_time": "2022-03-13T09:40:41.936Z"
   },
   {
    "duration": 4185,
    "start_time": "2022-03-13T09:40:41.944Z"
   },
   {
    "duration": 4181,
    "start_time": "2022-03-13T09:40:41.950Z"
   },
   {
    "duration": 4175,
    "start_time": "2022-03-13T09:40:41.957Z"
   },
   {
    "duration": 4169,
    "start_time": "2022-03-13T09:40:41.964Z"
   },
   {
    "duration": 4164,
    "start_time": "2022-03-13T09:40:41.971Z"
   },
   {
    "duration": 4158,
    "start_time": "2022-03-13T09:40:41.978Z"
   },
   {
    "duration": 4151,
    "start_time": "2022-03-13T09:40:41.986Z"
   },
   {
    "duration": 4145,
    "start_time": "2022-03-13T09:40:41.993Z"
   },
   {
    "duration": 3012,
    "start_time": "2022-03-13T09:40:43.128Z"
   },
   {
    "duration": 2997,
    "start_time": "2022-03-13T09:40:43.144Z"
   },
   {
    "duration": 2982,
    "start_time": "2022-03-13T09:40:43.160Z"
   },
   {
    "duration": 2976,
    "start_time": "2022-03-13T09:40:43.167Z"
   },
   {
    "duration": 2966,
    "start_time": "2022-03-13T09:40:43.178Z"
   },
   {
    "duration": 2958,
    "start_time": "2022-03-13T09:40:43.188Z"
   },
   {
    "duration": 2947,
    "start_time": "2022-03-13T09:40:43.200Z"
   },
   {
    "duration": 2939,
    "start_time": "2022-03-13T09:40:43.209Z"
   },
   {
    "duration": 2982,
    "start_time": "2022-03-13T09:40:43.219Z"
   },
   {
    "duration": 2976,
    "start_time": "2022-03-13T09:40:43.227Z"
   },
   {
    "duration": 2969,
    "start_time": "2022-03-13T09:40:43.235Z"
   },
   {
    "duration": 2964,
    "start_time": "2022-03-13T09:40:43.242Z"
   },
   {
    "duration": 2957,
    "start_time": "2022-03-13T09:40:43.250Z"
   },
   {
    "duration": 2951,
    "start_time": "2022-03-13T09:40:43.257Z"
   },
   {
    "duration": 2932,
    "start_time": "2022-03-13T09:40:43.277Z"
   },
   {
    "duration": 2926,
    "start_time": "2022-03-13T09:40:43.284Z"
   },
   {
    "duration": 2918,
    "start_time": "2022-03-13T09:40:43.293Z"
   },
   {
    "duration": 2913,
    "start_time": "2022-03-13T09:40:43.300Z"
   },
   {
    "duration": 2906,
    "start_time": "2022-03-13T09:40:43.308Z"
   },
   {
    "duration": 2900,
    "start_time": "2022-03-13T09:40:43.315Z"
   },
   {
    "duration": 2893,
    "start_time": "2022-03-13T09:40:43.323Z"
   },
   {
    "duration": 2887,
    "start_time": "2022-03-13T09:40:43.330Z"
   },
   {
    "duration": 2881,
    "start_time": "2022-03-13T09:40:43.338Z"
   },
   {
    "duration": 2875,
    "start_time": "2022-03-13T09:40:43.345Z"
   },
   {
    "duration": 2868,
    "start_time": "2022-03-13T09:40:43.353Z"
   },
   {
    "duration": 2863,
    "start_time": "2022-03-13T09:40:43.360Z"
   },
   {
    "duration": 2856,
    "start_time": "2022-03-13T09:40:43.368Z"
   },
   {
    "duration": 2840,
    "start_time": "2022-03-13T09:40:43.385Z"
   },
   {
    "duration": 2833,
    "start_time": "2022-03-13T09:40:43.393Z"
   },
   {
    "duration": 2827,
    "start_time": "2022-03-13T09:40:43.400Z"
   },
   {
    "duration": 2820,
    "start_time": "2022-03-13T09:40:43.408Z"
   },
   {
    "duration": 2815,
    "start_time": "2022-03-13T09:40:43.415Z"
   },
   {
    "duration": 2808,
    "start_time": "2022-03-13T09:40:43.423Z"
   },
   {
    "duration": 2802,
    "start_time": "2022-03-13T09:40:43.430Z"
   },
   {
    "duration": 3,
    "start_time": "2022-03-13T09:41:18.744Z"
   },
   {
    "duration": 4,
    "start_time": "2022-03-13T09:41:18.757Z"
   },
   {
    "duration": 72,
    "start_time": "2022-03-13T09:41:18.763Z"
   },
   {
    "duration": 11,
    "start_time": "2022-03-13T09:41:18.838Z"
   },
   {
    "duration": 55,
    "start_time": "2022-03-13T09:41:18.852Z"
   },
   {
    "duration": 9,
    "start_time": "2022-03-13T09:41:18.909Z"
   },
   {
    "duration": 23,
    "start_time": "2022-03-13T09:41:18.920Z"
   },
   {
    "duration": 10,
    "start_time": "2022-03-13T09:41:18.945Z"
   },
   {
    "duration": 43,
    "start_time": "2022-03-13T09:41:18.957Z"
   },
   {
    "duration": 9,
    "start_time": "2022-03-13T09:41:19.004Z"
   },
   {
    "duration": 14,
    "start_time": "2022-03-13T09:41:19.016Z"
   },
   {
    "duration": 16,
    "start_time": "2022-03-13T09:41:19.032Z"
   },
   {
    "duration": 9,
    "start_time": "2022-03-13T09:41:19.051Z"
   },
   {
    "duration": 39,
    "start_time": "2022-03-13T09:41:19.063Z"
   },
   {
    "duration": 28,
    "start_time": "2022-03-13T09:41:19.105Z"
   },
   {
    "duration": 11,
    "start_time": "2022-03-13T09:41:19.135Z"
   },
   {
    "duration": 5790,
    "start_time": "2022-03-13T09:41:19.148Z"
   },
   {
    "duration": 4298,
    "start_time": "2022-03-13T09:41:20.645Z"
   },
   {
    "duration": 4290,
    "start_time": "2022-03-13T09:41:20.654Z"
   },
   {
    "duration": 4284,
    "start_time": "2022-03-13T09:41:20.662Z"
   },
   {
    "duration": 4277,
    "start_time": "2022-03-13T09:41:20.670Z"
   },
   {
    "duration": 4270,
    "start_time": "2022-03-13T09:41:20.678Z"
   },
   {
    "duration": 4264,
    "start_time": "2022-03-13T09:41:20.685Z"
   },
   {
    "duration": 4256,
    "start_time": "2022-03-13T09:41:20.694Z"
   },
   {
    "duration": 4250,
    "start_time": "2022-03-13T09:41:20.702Z"
   },
   {
    "duration": 4244,
    "start_time": "2022-03-13T09:41:20.710Z"
   },
   {
    "duration": 4237,
    "start_time": "2022-03-13T09:41:20.718Z"
   },
   {
    "duration": 4230,
    "start_time": "2022-03-13T09:41:20.727Z"
   },
   {
    "duration": 4208,
    "start_time": "2022-03-13T09:41:20.750Z"
   },
   {
    "duration": 4201,
    "start_time": "2022-03-13T09:41:20.759Z"
   },
   {
    "duration": 4195,
    "start_time": "2022-03-13T09:41:20.766Z"
   },
   {
    "duration": 4189,
    "start_time": "2022-03-13T09:41:20.774Z"
   },
   {
    "duration": 4184,
    "start_time": "2022-03-13T09:41:20.781Z"
   },
   {
    "duration": 4177,
    "start_time": "2022-03-13T09:41:20.789Z"
   },
   {
    "duration": 4172,
    "start_time": "2022-03-13T09:41:20.796Z"
   },
   {
    "duration": 4167,
    "start_time": "2022-03-13T09:41:20.803Z"
   },
   {
    "duration": 2983,
    "start_time": "2022-03-13T09:41:21.988Z"
   },
   {
    "duration": 2966,
    "start_time": "2022-03-13T09:41:22.007Z"
   },
   {
    "duration": 2959,
    "start_time": "2022-03-13T09:41:22.015Z"
   },
   {
    "duration": 2951,
    "start_time": "2022-03-13T09:41:22.025Z"
   },
   {
    "duration": 2933,
    "start_time": "2022-03-13T09:41:22.044Z"
   },
   {
    "duration": 2927,
    "start_time": "2022-03-13T09:41:22.052Z"
   },
   {
    "duration": 2921,
    "start_time": "2022-03-13T09:41:22.060Z"
   },
   {
    "duration": 2919,
    "start_time": "2022-03-13T09:41:22.083Z"
   },
   {
    "duration": 2912,
    "start_time": "2022-03-13T09:41:22.092Z"
   },
   {
    "duration": 2890,
    "start_time": "2022-03-13T09:41:22.115Z"
   },
   {
    "duration": 2884,
    "start_time": "2022-03-13T09:41:22.123Z"
   },
   {
    "duration": 2864,
    "start_time": "2022-03-13T09:41:22.144Z"
   },
   {
    "duration": 2859,
    "start_time": "2022-03-13T09:41:22.151Z"
   },
   {
    "duration": 2853,
    "start_time": "2022-03-13T09:41:22.159Z"
   },
   {
    "duration": 2833,
    "start_time": "2022-03-13T09:41:22.180Z"
   },
   {
    "duration": 2825,
    "start_time": "2022-03-13T09:41:22.190Z"
   },
   {
    "duration": 2805,
    "start_time": "2022-03-13T09:41:22.212Z"
   },
   {
    "duration": 2797,
    "start_time": "2022-03-13T09:41:22.221Z"
   },
   {
    "duration": 2790,
    "start_time": "2022-03-13T09:41:22.229Z"
   },
   {
    "duration": 2770,
    "start_time": "2022-03-13T09:41:22.251Z"
   },
   {
    "duration": 2764,
    "start_time": "2022-03-13T09:41:22.259Z"
   },
   {
    "duration": 2747,
    "start_time": "2022-03-13T09:41:22.277Z"
   },
   {
    "duration": 2741,
    "start_time": "2022-03-13T09:41:22.284Z"
   },
   {
    "duration": 2736,
    "start_time": "2022-03-13T09:41:22.291Z"
   },
   {
    "duration": 2721,
    "start_time": "2022-03-13T09:41:22.308Z"
   },
   {
    "duration": 2713,
    "start_time": "2022-03-13T09:41:22.317Z"
   },
   {
    "duration": 2707,
    "start_time": "2022-03-13T09:41:22.325Z"
   },
   {
    "duration": 2692,
    "start_time": "2022-03-13T09:41:22.342Z"
   },
   {
    "duration": 2686,
    "start_time": "2022-03-13T09:41:22.349Z"
   },
   {
    "duration": 2679,
    "start_time": "2022-03-13T09:41:22.358Z"
   },
   {
    "duration": 2673,
    "start_time": "2022-03-13T09:41:22.365Z"
   },
   {
    "duration": 2667,
    "start_time": "2022-03-13T09:41:22.373Z"
   },
   {
    "duration": 2720,
    "start_time": "2022-03-13T09:41:22.380Z"
   },
   {
    "duration": 2714,
    "start_time": "2022-03-13T09:41:22.388Z"
   },
   {
    "duration": 2708,
    "start_time": "2022-03-13T09:41:22.396Z"
   },
   {
    "duration": 5897,
    "start_time": "2022-03-13T09:42:41.697Z"
   },
   {
    "duration": 4,
    "start_time": "2022-03-13T09:43:18.407Z"
   },
   {
    "duration": 5,
    "start_time": "2022-03-13T09:43:39.087Z"
   },
   {
    "duration": 3,
    "start_time": "2022-03-13T09:43:46.082Z"
   },
   {
    "duration": 12,
    "start_time": "2022-03-13T09:43:46.098Z"
   },
   {
    "duration": 11,
    "start_time": "2022-03-13T09:43:46.112Z"
   },
   {
    "duration": 13,
    "start_time": "2022-03-13T09:43:46.125Z"
   },
   {
    "duration": 8,
    "start_time": "2022-03-13T09:43:46.140Z"
   },
   {
    "duration": 14,
    "start_time": "2022-03-13T09:43:46.150Z"
   },
   {
    "duration": 35,
    "start_time": "2022-03-13T09:43:46.166Z"
   },
   {
    "duration": 18,
    "start_time": "2022-03-13T09:43:46.204Z"
   },
   {
    "duration": 14,
    "start_time": "2022-03-13T09:43:46.225Z"
   },
   {
    "duration": 788,
    "start_time": "2022-03-13T09:43:46.242Z"
   },
   {
    "duration": 5,
    "start_time": "2022-03-13T09:43:47.032Z"
   },
   {
    "duration": 21,
    "start_time": "2022-03-13T09:43:47.038Z"
   },
   {
    "duration": 32,
    "start_time": "2022-03-13T09:43:47.061Z"
   },
   {
    "duration": 354,
    "start_time": "2022-03-13T09:43:47.095Z"
   },
   {
    "duration": 155,
    "start_time": "2022-03-13T09:43:47.451Z"
   },
   {
    "duration": 167,
    "start_time": "2022-03-13T09:43:47.608Z"
   },
   {
    "duration": 10,
    "start_time": "2022-03-13T09:43:47.777Z"
   },
   {
    "duration": 372,
    "start_time": "2022-03-13T09:43:47.788Z"
   },
   {
    "duration": 8,
    "start_time": "2022-03-13T09:43:48.162Z"
   },
   {
    "duration": 334,
    "start_time": "2022-03-13T09:43:48.171Z"
   },
   {
    "duration": 38,
    "start_time": "2022-03-13T09:43:48.507Z"
   },
   {
    "duration": 8,
    "start_time": "2022-03-13T09:43:48.547Z"
   },
   {
    "duration": 237,
    "start_time": "2022-03-13T09:43:48.559Z"
   },
   {
    "duration": 10,
    "start_time": "2022-03-13T09:43:48.798Z"
   },
   {
    "duration": 337,
    "start_time": "2022-03-13T09:43:48.810Z"
   },
   {
    "duration": 263,
    "start_time": "2022-03-13T09:43:49.149Z"
   },
   {
    "duration": 14,
    "start_time": "2022-03-13T09:43:49.414Z"
   },
   {
    "duration": 36,
    "start_time": "2022-03-13T09:43:49.430Z"
   },
   {
    "duration": 5,
    "start_time": "2022-03-13T09:43:49.467Z"
   },
   {
    "duration": 527,
    "start_time": "2022-03-13T09:43:49.474Z"
   },
   {
    "duration": 247,
    "start_time": "2022-03-13T09:43:50.003Z"
   },
   {
    "duration": 546,
    "start_time": "2022-03-13T09:43:50.252Z"
   },
   {
    "duration": 171,
    "start_time": "2022-03-13T09:43:50.799Z"
   },
   {
    "duration": 206,
    "start_time": "2022-03-13T09:43:50.972Z"
   },
   {
    "duration": 229,
    "start_time": "2022-03-13T09:43:51.181Z"
   },
   {
    "duration": 198,
    "start_time": "2022-03-13T09:43:51.412Z"
   },
   {
    "duration": 6,
    "start_time": "2022-03-13T09:43:51.612Z"
   },
   {
    "duration": 9,
    "start_time": "2022-03-13T09:43:51.620Z"
   },
   {
    "duration": 20,
    "start_time": "2022-03-13T09:43:51.630Z"
   },
   {
    "duration": 7,
    "start_time": "2022-03-13T09:43:51.652Z"
   },
   {
    "duration": 12,
    "start_time": "2022-03-13T09:43:51.660Z"
   },
   {
    "duration": 46,
    "start_time": "2022-03-13T09:43:51.674Z"
   },
   {
    "duration": 4,
    "start_time": "2022-03-13T09:43:51.722Z"
   },
   {
    "duration": 327,
    "start_time": "2022-03-13T09:43:51.728Z"
   },
   {
    "duration": 9,
    "start_time": "2022-03-13T09:43:52.057Z"
   },
   {
    "duration": 34,
    "start_time": "2022-03-13T09:43:52.068Z"
   },
   {
    "duration": 35,
    "start_time": "2022-03-13T09:43:52.105Z"
   },
   {
    "duration": 31,
    "start_time": "2022-03-13T09:43:52.142Z"
   },
   {
    "duration": 28,
    "start_time": "2022-03-13T09:43:52.174Z"
   },
   {
    "duration": 2359,
    "start_time": "2022-03-13T09:43:52.204Z"
   },
   {
    "duration": 5,
    "start_time": "2022-03-13T09:43:54.565Z"
   },
   {
    "duration": 9,
    "start_time": "2022-03-13T09:43:54.571Z"
   },
   {
    "duration": 1240,
    "start_time": "2022-03-13T09:43:54.582Z"
   },
   {
    "duration": 331,
    "start_time": "2022-03-13T09:43:55.824Z"
   },
   {
    "duration": 299,
    "start_time": "2022-03-14T05:44:36.930Z"
   },
   {
    "duration": 253,
    "start_time": "2022-03-14T05:44:46.171Z"
   },
   {
    "duration": 263,
    "start_time": "2022-03-14T05:44:49.612Z"
   },
   {
    "duration": 3,
    "start_time": "2022-03-14T05:44:56.251Z"
   },
   {
    "duration": 752,
    "start_time": "2022-03-14T05:44:56.255Z"
   },
   {
    "duration": 83,
    "start_time": "2022-03-14T05:44:57.009Z"
   },
   {
    "duration": 12,
    "start_time": "2022-03-14T05:44:57.094Z"
   },
   {
    "duration": 30,
    "start_time": "2022-03-14T05:44:57.108Z"
   },
   {
    "duration": 9,
    "start_time": "2022-03-14T05:44:57.139Z"
   },
   {
    "duration": 41,
    "start_time": "2022-03-14T05:44:57.150Z"
   },
   {
    "duration": 18,
    "start_time": "2022-03-14T05:44:57.192Z"
   },
   {
    "duration": 35,
    "start_time": "2022-03-14T05:44:57.214Z"
   },
   {
    "duration": 20,
    "start_time": "2022-03-14T05:44:57.252Z"
   },
   {
    "duration": 32,
    "start_time": "2022-03-14T05:44:57.274Z"
   },
   {
    "duration": 18,
    "start_time": "2022-03-14T05:44:57.308Z"
   },
   {
    "duration": 31,
    "start_time": "2022-03-14T05:44:57.328Z"
   },
   {
    "duration": 24,
    "start_time": "2022-03-14T05:44:57.361Z"
   },
   {
    "duration": 25,
    "start_time": "2022-03-14T05:44:57.388Z"
   },
   {
    "duration": 19,
    "start_time": "2022-03-14T05:44:57.415Z"
   },
   {
    "duration": 31,
    "start_time": "2022-03-14T05:44:57.437Z"
   },
   {
    "duration": 16,
    "start_time": "2022-03-14T05:44:57.470Z"
   },
   {
    "duration": 46,
    "start_time": "2022-03-14T05:44:57.488Z"
   },
   {
    "duration": 28,
    "start_time": "2022-03-14T05:44:57.535Z"
   },
   {
    "duration": 19,
    "start_time": "2022-03-14T05:44:57.565Z"
   },
   {
    "duration": 26,
    "start_time": "2022-03-14T05:44:57.586Z"
   },
   {
    "duration": 16,
    "start_time": "2022-03-14T05:44:57.614Z"
   },
   {
    "duration": 31,
    "start_time": "2022-03-14T05:44:57.633Z"
   },
   {
    "duration": 25,
    "start_time": "2022-03-14T05:44:57.667Z"
   },
   {
    "duration": 25,
    "start_time": "2022-03-14T05:44:57.694Z"
   },
   {
    "duration": 625,
    "start_time": "2022-03-14T05:44:57.723Z"
   },
   {
    "duration": 4,
    "start_time": "2022-03-14T05:44:58.350Z"
   },
   {
    "duration": 20,
    "start_time": "2022-03-14T05:44:58.356Z"
   },
   {
    "duration": 35,
    "start_time": "2022-03-14T05:44:58.378Z"
   },
   {
    "duration": 335,
    "start_time": "2022-03-14T05:44:58.415Z"
   },
   {
    "duration": 152,
    "start_time": "2022-03-14T05:44:58.752Z"
   },
   {
    "duration": 176,
    "start_time": "2022-03-14T05:44:58.906Z"
   },
   {
    "duration": 9,
    "start_time": "2022-03-14T05:44:59.084Z"
   },
   {
    "duration": 408,
    "start_time": "2022-03-14T05:44:59.095Z"
   },
   {
    "duration": 8,
    "start_time": "2022-03-14T05:44:59.505Z"
   },
   {
    "duration": 262,
    "start_time": "2022-03-14T05:44:59.515Z"
   },
   {
    "duration": 41,
    "start_time": "2022-03-14T05:44:59.778Z"
   },
   {
    "duration": 9,
    "start_time": "2022-03-14T05:44:59.821Z"
   },
   {
    "duration": 260,
    "start_time": "2022-03-14T05:44:59.831Z"
   },
   {
    "duration": 9,
    "start_time": "2022-03-14T05:45:00.093Z"
   },
   {
    "duration": 387,
    "start_time": "2022-03-14T05:45:00.104Z"
   },
   {
    "duration": 282,
    "start_time": "2022-03-14T05:45:00.492Z"
   },
   {
    "duration": 14,
    "start_time": "2022-03-14T05:45:00.776Z"
   },
   {
    "duration": 560,
    "start_time": "2022-03-14T05:45:02.111Z"
   },
   {
    "duration": 155,
    "start_time": "2022-03-14T05:45:57.094Z"
   },
   {
    "duration": 8,
    "start_time": "2022-03-14T05:51:31.812Z"
   },
   {
    "duration": 6,
    "start_time": "2022-03-14T05:51:35.292Z"
   },
   {
    "duration": 8,
    "start_time": "2022-03-14T05:51:35.301Z"
   },
   {
    "duration": 342,
    "start_time": "2022-03-14T05:51:35.311Z"
   },
   {
    "duration": 244,
    "start_time": "2022-03-14T05:51:35.656Z"
   },
   {
    "duration": 344,
    "start_time": "2022-03-14T05:51:35.902Z"
   },
   {
    "duration": 196,
    "start_time": "2022-03-14T05:51:36.247Z"
   },
   {
    "duration": 232,
    "start_time": "2022-03-14T05:51:36.445Z"
   },
   {
    "duration": 251,
    "start_time": "2022-03-14T05:51:36.679Z"
   },
   {
    "duration": 231,
    "start_time": "2022-03-14T05:51:36.934Z"
   },
   {
    "duration": 11,
    "start_time": "2022-03-14T05:51:37.167Z"
   },
   {
    "duration": 21,
    "start_time": "2022-03-14T05:51:37.180Z"
   },
   {
    "duration": 23,
    "start_time": "2022-03-14T05:51:37.203Z"
   },
   {
    "duration": 22,
    "start_time": "2022-03-14T05:51:37.228Z"
   },
   {
    "duration": 7,
    "start_time": "2022-03-14T05:51:37.252Z"
   },
   {
    "duration": 47,
    "start_time": "2022-03-14T05:51:37.261Z"
   },
   {
    "duration": 10,
    "start_time": "2022-03-14T05:51:37.310Z"
   },
   {
    "duration": 223,
    "start_time": "2022-03-14T05:51:37.322Z"
   },
   {
    "duration": 8,
    "start_time": "2022-03-14T05:51:37.546Z"
   },
   {
    "duration": 33,
    "start_time": "2022-03-14T05:51:37.555Z"
   },
   {
    "duration": 47,
    "start_time": "2022-03-14T05:51:37.589Z"
   },
   {
    "duration": 39,
    "start_time": "2022-03-14T05:51:37.639Z"
   },
   {
    "duration": 3,
    "start_time": "2022-03-14T05:51:37.680Z"
   },
   {
    "duration": 2734,
    "start_time": "2022-03-14T05:51:37.685Z"
   },
   {
    "duration": 4,
    "start_time": "2022-03-14T05:51:40.421Z"
   },
   {
    "duration": 6,
    "start_time": "2022-03-14T05:51:40.427Z"
   },
   {
    "duration": 1456,
    "start_time": "2022-03-14T05:51:40.437Z"
   },
   {
    "duration": 6677,
    "start_time": "2022-03-14T05:51:41.896Z"
   },
   {
    "duration": 6,
    "start_time": "2022-03-14T05:51:55.331Z"
   },
   {
    "duration": 6,
    "start_time": "2022-03-14T05:51:59.792Z"
   },
   {
    "duration": 11,
    "start_time": "2022-03-14T05:51:59.800Z"
   },
   {
    "duration": 397,
    "start_time": "2022-03-14T05:51:59.813Z"
   },
   {
    "duration": 6473,
    "start_time": "2022-03-14T05:51:53.739Z"
   },
   {
    "duration": 6465,
    "start_time": "2022-03-14T05:51:53.748Z"
   },
   {
    "duration": 6455,
    "start_time": "2022-03-14T05:51:53.759Z"
   },
   {
    "duration": 6245,
    "start_time": "2022-03-14T05:51:53.970Z"
   },
   {
    "duration": 6237,
    "start_time": "2022-03-14T05:51:53.979Z"
   },
   {
    "duration": 6230,
    "start_time": "2022-03-14T05:51:53.987Z"
   },
   {
    "duration": 6222,
    "start_time": "2022-03-14T05:51:53.996Z"
   },
   {
    "duration": 6216,
    "start_time": "2022-03-14T05:51:54.003Z"
   },
   {
    "duration": 6209,
    "start_time": "2022-03-14T05:51:54.012Z"
   },
   {
    "duration": 6203,
    "start_time": "2022-03-14T05:51:54.019Z"
   },
   {
    "duration": 6195,
    "start_time": "2022-03-14T05:51:54.028Z"
   },
   {
    "duration": 6189,
    "start_time": "2022-03-14T05:51:54.035Z"
   },
   {
    "duration": 6181,
    "start_time": "2022-03-14T05:51:54.044Z"
   },
   {
    "duration": 6173,
    "start_time": "2022-03-14T05:51:54.053Z"
   },
   {
    "duration": 6165,
    "start_time": "2022-03-14T05:51:54.062Z"
   },
   {
    "duration": 6158,
    "start_time": "2022-03-14T05:51:54.070Z"
   },
   {
    "duration": 6139,
    "start_time": "2022-03-14T05:51:54.090Z"
   },
   {
    "duration": 6132,
    "start_time": "2022-03-14T05:51:54.098Z"
   },
   {
    "duration": 6124,
    "start_time": "2022-03-14T05:51:54.107Z"
   },
   {
    "duration": 6118,
    "start_time": "2022-03-14T05:51:54.114Z"
   },
   {
    "duration": 6110,
    "start_time": "2022-03-14T05:51:54.124Z"
   },
   {
    "duration": 6104,
    "start_time": "2022-03-14T05:51:54.131Z"
   },
   {
    "duration": 6094,
    "start_time": "2022-03-14T05:51:54.142Z"
   },
   {
    "duration": 6088,
    "start_time": "2022-03-14T05:51:54.149Z"
   },
   {
    "duration": 321,
    "start_time": "2022-03-14T05:52:22.211Z"
   },
   {
    "duration": 7,
    "start_time": "2022-03-14T05:52:43.976Z"
   },
   {
    "duration": 4,
    "start_time": "2022-03-14T05:52:45.356Z"
   },
   {
    "duration": 277,
    "start_time": "2022-03-14T05:52:47.176Z"
   },
   {
    "duration": 8,
    "start_time": "2022-03-14T05:52:54.026Z"
   },
   {
    "duration": 3,
    "start_time": "2022-03-14T05:53:22.892Z"
   },
   {
    "duration": 11,
    "start_time": "2022-03-14T05:53:22.897Z"
   },
   {
    "duration": 90,
    "start_time": "2022-03-14T05:53:22.911Z"
   },
   {
    "duration": 12,
    "start_time": "2022-03-14T05:53:23.003Z"
   },
   {
    "duration": 26,
    "start_time": "2022-03-14T05:53:23.016Z"
   },
   {
    "duration": 34,
    "start_time": "2022-03-14T05:53:23.043Z"
   },
   {
    "duration": 20,
    "start_time": "2022-03-14T05:53:23.079Z"
   },
   {
    "duration": 6,
    "start_time": "2022-03-14T05:53:23.101Z"
   },
   {
    "duration": 19,
    "start_time": "2022-03-14T05:53:23.109Z"
   },
   {
    "duration": 12,
    "start_time": "2022-03-14T05:53:23.130Z"
   },
   {
    "duration": 41,
    "start_time": "2022-03-14T05:53:23.144Z"
   },
   {
    "duration": 5,
    "start_time": "2022-03-14T05:53:23.186Z"
   },
   {
    "duration": 13,
    "start_time": "2022-03-14T05:53:23.193Z"
   },
   {
    "duration": 14,
    "start_time": "2022-03-14T05:53:23.208Z"
   },
   {
    "duration": 19,
    "start_time": "2022-03-14T05:53:23.224Z"
   },
   {
    "duration": 33,
    "start_time": "2022-03-14T05:53:23.245Z"
   },
   {
    "duration": 4,
    "start_time": "2022-03-14T05:53:23.280Z"
   },
   {
    "duration": 2,
    "start_time": "2022-03-14T05:53:23.327Z"
   },
   {
    "duration": 12,
    "start_time": "2022-03-14T05:53:23.336Z"
   },
   {
    "duration": 10,
    "start_time": "2022-03-14T05:53:23.350Z"
   },
   {
    "duration": 18,
    "start_time": "2022-03-14T05:53:23.362Z"
   },
   {
    "duration": 4,
    "start_time": "2022-03-14T05:53:23.382Z"
   },
   {
    "duration": 13,
    "start_time": "2022-03-14T05:53:23.387Z"
   },
   {
    "duration": 7,
    "start_time": "2022-03-14T05:53:23.402Z"
   },
   {
    "duration": 13,
    "start_time": "2022-03-14T05:53:23.411Z"
   },
   {
    "duration": 4,
    "start_time": "2022-03-14T05:53:23.426Z"
   },
   {
    "duration": 669,
    "start_time": "2022-03-14T05:53:23.432Z"
   },
   {
    "duration": 4,
    "start_time": "2022-03-14T05:53:24.103Z"
   },
   {
    "duration": 10,
    "start_time": "2022-03-14T05:53:24.109Z"
   },
   {
    "duration": 13,
    "start_time": "2022-03-14T05:53:24.121Z"
   },
   {
    "duration": 313,
    "start_time": "2022-03-14T05:53:24.136Z"
   },
   {
    "duration": 152,
    "start_time": "2022-03-14T05:53:24.452Z"
   },
   {
    "duration": 268,
    "start_time": "2022-03-14T05:53:24.606Z"
   },
   {
    "duration": 9,
    "start_time": "2022-03-14T05:53:24.877Z"
   },
   {
    "duration": 413,
    "start_time": "2022-03-14T05:53:24.888Z"
   },
   {
    "duration": 8,
    "start_time": "2022-03-14T05:53:25.303Z"
   },
   {
    "duration": 281,
    "start_time": "2022-03-14T05:53:25.315Z"
   },
   {
    "duration": 41,
    "start_time": "2022-03-14T05:53:25.598Z"
   },
   {
    "duration": 9,
    "start_time": "2022-03-14T05:53:25.640Z"
   },
   {
    "duration": 273,
    "start_time": "2022-03-14T05:53:25.650Z"
   },
   {
    "duration": 10,
    "start_time": "2022-03-14T05:53:25.924Z"
   },
   {
    "duration": 372,
    "start_time": "2022-03-14T05:53:25.935Z"
   },
   {
    "duration": 285,
    "start_time": "2022-03-14T05:53:26.309Z"
   },
   {
    "duration": 13,
    "start_time": "2022-03-14T05:53:26.596Z"
   },
   {
    "duration": 38,
    "start_time": "2022-03-14T05:53:26.611Z"
   },
   {
    "duration": 196,
    "start_time": "2022-03-14T05:53:26.651Z"
   },
   {
    "duration": 7,
    "start_time": "2022-03-14T05:53:26.849Z"
   },
   {
    "duration": 19,
    "start_time": "2022-03-14T05:53:26.858Z"
   },
   {
    "duration": 22,
    "start_time": "2022-03-14T05:53:26.879Z"
   },
   {
    "duration": 480,
    "start_time": "2022-03-14T05:53:26.903Z"
   },
   {
    "duration": 217,
    "start_time": "2022-03-14T05:53:27.385Z"
   },
   {
    "duration": 817,
    "start_time": "2022-03-14T05:53:27.604Z"
   },
   {
    "duration": 230,
    "start_time": "2022-03-14T05:53:28.423Z"
   },
   {
    "duration": 204,
    "start_time": "2022-03-14T05:53:28.655Z"
   },
   {
    "duration": 247,
    "start_time": "2022-03-14T05:53:28.861Z"
   },
   {
    "duration": 217,
    "start_time": "2022-03-14T05:53:29.110Z"
   },
   {
    "duration": 6,
    "start_time": "2022-03-14T05:53:29.329Z"
   },
   {
    "duration": 26,
    "start_time": "2022-03-14T05:53:29.337Z"
   },
   {
    "duration": 33,
    "start_time": "2022-03-14T05:53:29.365Z"
   },
   {
    "duration": 14,
    "start_time": "2022-03-14T05:53:29.400Z"
   },
   {
    "duration": 29,
    "start_time": "2022-03-14T05:53:29.416Z"
   },
   {
    "duration": 41,
    "start_time": "2022-03-14T05:53:29.447Z"
   },
   {
    "duration": 18,
    "start_time": "2022-03-14T05:53:29.490Z"
   },
   {
    "duration": 367,
    "start_time": "2022-03-14T05:53:29.510Z"
   },
   {
    "duration": 8,
    "start_time": "2022-03-14T05:53:29.879Z"
   },
   {
    "duration": 26,
    "start_time": "2022-03-14T05:53:29.889Z"
   },
   {
    "duration": 58,
    "start_time": "2022-03-14T05:53:29.917Z"
   },
   {
    "duration": 32,
    "start_time": "2022-03-14T05:53:29.977Z"
   },
   {
    "duration": 10,
    "start_time": "2022-03-14T05:53:30.013Z"
   },
   {
    "duration": 3366,
    "start_time": "2022-03-14T05:53:30.025Z"
   },
   {
    "duration": 5,
    "start_time": "2022-03-14T05:53:33.393Z"
   },
   {
    "duration": 7,
    "start_time": "2022-03-14T05:53:33.400Z"
   },
   {
    "duration": 1428,
    "start_time": "2022-03-14T05:53:33.409Z"
   },
   {
    "duration": 404,
    "start_time": "2022-03-14T05:53:34.838Z"
   },
   {
    "duration": 262,
    "start_time": "2022-03-14T05:55:37.461Z"
   },
   {
    "duration": 271,
    "start_time": "2022-03-14T05:55:41.630Z"
   },
   {
    "duration": 10,
    "start_time": "2022-03-14T05:55:55.161Z"
   },
   {
    "duration": 5,
    "start_time": "2022-03-14T05:56:38.820Z"
   },
   {
    "duration": 10,
    "start_time": "2022-03-14T05:56:46.590Z"
   },
   {
    "duration": 14,
    "start_time": "2022-03-14T05:56:55.311Z"
   },
   {
    "duration": 19,
    "start_time": "2022-03-14T05:59:21.591Z"
   },
   {
    "duration": 5,
    "start_time": "2022-03-14T06:01:43.711Z"
   },
   {
    "duration": 21,
    "start_time": "2022-03-14T06:03:03.565Z"
   },
   {
    "duration": 262,
    "start_time": "2022-03-14T06:03:28.910Z"
   },
   {
    "duration": 21,
    "start_time": "2022-03-14T06:03:38.891Z"
   },
   {
    "duration": 119,
    "start_time": "2022-03-14T06:04:51.770Z"
   },
   {
    "duration": 20,
    "start_time": "2022-03-14T06:04:58.711Z"
   },
   {
    "duration": 9,
    "start_time": "2022-03-14T06:05:32.105Z"
   },
   {
    "duration": 34,
    "start_time": "2022-03-14T06:06:35.420Z"
   },
   {
    "duration": 84,
    "start_time": "2022-03-14T06:06:50.151Z"
   },
   {
    "duration": 92,
    "start_time": "2022-03-14T06:06:52.830Z"
   },
   {
    "duration": 261,
    "start_time": "2022-03-14T06:07:20.251Z"
   },
   {
    "duration": 20,
    "start_time": "2022-03-14T06:07:52.965Z"
   },
   {
    "duration": 31,
    "start_time": "2022-03-14T06:08:26.649Z"
   },
   {
    "duration": 14,
    "start_time": "2022-03-14T06:15:29.317Z"
   },
   {
    "duration": 15,
    "start_time": "2022-03-14T06:15:41.990Z"
   },
   {
    "duration": 14,
    "start_time": "2022-03-14T06:15:51.606Z"
   },
   {
    "duration": 21,
    "start_time": "2022-03-14T06:17:32.818Z"
   },
   {
    "duration": 92,
    "start_time": "2022-03-14T06:50:06.818Z"
   },
   {
    "duration": 86,
    "start_time": "2022-03-14T06:50:14.780Z"
   },
   {
    "duration": 6,
    "start_time": "2022-03-14T06:50:48.971Z"
   },
   {
    "duration": 6,
    "start_time": "2022-03-14T06:50:49.884Z"
   },
   {
    "duration": 18,
    "start_time": "2022-03-14T06:51:17.784Z"
   },
   {
    "duration": 7,
    "start_time": "2022-03-14T06:51:18.871Z"
   },
   {
    "duration": 4,
    "start_time": "2022-03-14T06:55:09.653Z"
   },
   {
    "duration": 2792,
    "start_time": "2022-03-14T06:55:12.992Z"
   },
   {
    "duration": 4,
    "start_time": "2022-03-14T06:56:01.865Z"
   },
   {
    "duration": 2941,
    "start_time": "2022-03-14T06:56:02.564Z"
   },
   {
    "duration": 97,
    "start_time": "2022-03-14T06:56:26.205Z"
   },
   {
    "duration": 2817,
    "start_time": "2022-03-14T06:56:26.392Z"
   },
   {
    "duration": 4,
    "start_time": "2022-03-14T06:56:32.308Z"
   },
   {
    "duration": 1064,
    "start_time": "2022-03-14T06:56:32.911Z"
   },
   {
    "duration": 4,
    "start_time": "2022-03-14T06:56:39.424Z"
   },
   {
    "duration": 2815,
    "start_time": "2022-03-14T06:56:39.811Z"
   },
   {
    "duration": 510,
    "start_time": "2022-03-14T07:05:35.313Z"
   },
   {
    "duration": 649,
    "start_time": "2022-03-14T07:05:45.855Z"
   },
   {
    "duration": 262,
    "start_time": "2022-03-14T07:06:11.561Z"
   },
   {
    "duration": 267,
    "start_time": "2022-03-14T07:06:20.813Z"
   },
   {
    "duration": 264,
    "start_time": "2022-03-14T07:06:28.634Z"
   },
   {
    "duration": 14,
    "start_time": "2022-03-14T07:12:23.281Z"
   },
   {
    "duration": 258,
    "start_time": "2022-03-14T07:13:57.308Z"
   },
   {
    "duration": 14,
    "start_time": "2022-03-14T07:14:21.341Z"
   },
   {
    "duration": 14,
    "start_time": "2022-03-14T07:14:37.869Z"
   },
   {
    "duration": 13,
    "start_time": "2022-03-14T07:14:43.190Z"
   },
   {
    "duration": 10,
    "start_time": "2022-03-14T07:14:47.708Z"
   },
   {
    "duration": 84,
    "start_time": "2022-03-14T07:21:47.101Z"
   },
   {
    "duration": 12,
    "start_time": "2022-03-14T07:28:06.857Z"
   },
   {
    "duration": 15,
    "start_time": "2022-03-14T07:40:54.500Z"
   },
   {
    "duration": 14,
    "start_time": "2022-03-14T07:40:57.379Z"
   },
   {
    "duration": 17,
    "start_time": "2022-03-14T07:42:17.158Z"
   },
   {
    "duration": 13,
    "start_time": "2022-03-14T07:42:18.129Z"
   },
   {
    "duration": 12,
    "start_time": "2022-03-14T07:43:39.391Z"
   },
   {
    "duration": 37,
    "start_time": "2022-03-14T07:43:39.405Z"
   },
   {
    "duration": 185,
    "start_time": "2022-03-14T07:43:39.444Z"
   },
   {
    "duration": 8,
    "start_time": "2022-03-14T07:43:39.631Z"
   },
   {
    "duration": 6,
    "start_time": "2022-03-14T07:43:39.641Z"
   },
   {
    "duration": 546,
    "start_time": "2022-03-14T07:43:39.649Z"
   },
   {
    "duration": 263,
    "start_time": "2022-03-14T07:43:40.197Z"
   },
   {
    "duration": 527,
    "start_time": "2022-03-14T07:43:40.462Z"
   },
   {
    "duration": 207,
    "start_time": "2022-03-14T07:43:40.993Z"
   },
   {
    "duration": 209,
    "start_time": "2022-03-14T07:43:41.202Z"
   },
   {
    "duration": 258,
    "start_time": "2022-03-14T07:43:41.413Z"
   },
   {
    "duration": 226,
    "start_time": "2022-03-14T07:43:41.677Z"
   },
   {
    "duration": 25,
    "start_time": "2022-03-14T07:43:41.905Z"
   },
   {
    "duration": 14,
    "start_time": "2022-03-14T07:43:41.931Z"
   },
   {
    "duration": 32,
    "start_time": "2022-03-14T07:43:41.946Z"
   },
   {
    "duration": 8,
    "start_time": "2022-03-14T07:43:41.980Z"
   },
   {
    "duration": 19,
    "start_time": "2022-03-14T07:43:41.990Z"
   },
   {
    "duration": 7,
    "start_time": "2022-03-14T07:43:42.012Z"
   },
   {
    "duration": 11,
    "start_time": "2022-03-14T07:43:42.021Z"
   },
   {
    "duration": 66,
    "start_time": "2022-03-14T07:43:42.034Z"
   },
   {
    "duration": 7,
    "start_time": "2022-03-14T07:43:42.102Z"
   },
   {
    "duration": 390,
    "start_time": "2022-03-14T07:43:42.111Z"
   },
   {
    "duration": 10,
    "start_time": "2022-03-14T07:43:42.503Z"
   },
   {
    "duration": 19,
    "start_time": "2022-03-14T07:43:42.515Z"
   },
   {
    "duration": 69,
    "start_time": "2022-03-14T07:43:42.537Z"
   },
   {
    "duration": 35,
    "start_time": "2022-03-14T07:43:42.608Z"
   },
   {
    "duration": 4,
    "start_time": "2022-03-14T07:43:42.645Z"
   },
   {
    "duration": 2,
    "start_time": "2022-03-14T07:43:47.881Z"
   },
   {
    "duration": 5,
    "start_time": "2022-03-14T07:43:47.886Z"
   },
   {
    "duration": 89,
    "start_time": "2022-03-14T07:43:47.893Z"
   },
   {
    "duration": 11,
    "start_time": "2022-03-14T07:43:47.984Z"
   },
   {
    "duration": 25,
    "start_time": "2022-03-14T07:43:47.997Z"
   },
   {
    "duration": 10,
    "start_time": "2022-03-14T07:43:48.024Z"
   },
   {
    "duration": 47,
    "start_time": "2022-03-14T07:43:48.035Z"
   },
   {
    "duration": 6,
    "start_time": "2022-03-14T07:43:48.083Z"
   },
   {
    "duration": 25,
    "start_time": "2022-03-14T07:43:48.090Z"
   },
   {
    "duration": 13,
    "start_time": "2022-03-14T07:43:48.118Z"
   },
   {
    "duration": 13,
    "start_time": "2022-03-14T07:43:48.133Z"
   },
   {
    "duration": 7,
    "start_time": "2022-03-14T07:43:48.148Z"
   },
   {
    "duration": 27,
    "start_time": "2022-03-14T07:43:48.157Z"
   },
   {
    "duration": 17,
    "start_time": "2022-03-14T07:43:48.186Z"
   },
   {
    "duration": 20,
    "start_time": "2022-03-14T07:43:48.205Z"
   },
   {
    "duration": 10,
    "start_time": "2022-03-14T07:43:48.227Z"
   },
   {
    "duration": 38,
    "start_time": "2022-03-14T07:43:48.239Z"
   },
   {
    "duration": 3,
    "start_time": "2022-03-14T07:43:48.279Z"
   },
   {
    "duration": 17,
    "start_time": "2022-03-14T07:43:48.284Z"
   },
   {
    "duration": 11,
    "start_time": "2022-03-14T07:43:48.303Z"
   },
   {
    "duration": 12,
    "start_time": "2022-03-14T07:43:48.316Z"
   },
   {
    "duration": 4,
    "start_time": "2022-03-14T07:43:48.330Z"
   },
   {
    "duration": 10,
    "start_time": "2022-03-14T07:43:48.335Z"
   },
   {
    "duration": 37,
    "start_time": "2022-03-14T07:43:48.346Z"
   },
   {
    "duration": 6,
    "start_time": "2022-03-14T07:43:48.385Z"
   },
   {
    "duration": 4,
    "start_time": "2022-03-14T07:43:48.392Z"
   },
   {
    "duration": 634,
    "start_time": "2022-03-14T07:43:48.401Z"
   },
   {
    "duration": 4,
    "start_time": "2022-03-14T07:43:49.038Z"
   },
   {
    "duration": 6,
    "start_time": "2022-03-14T07:43:49.044Z"
   },
   {
    "duration": 25,
    "start_time": "2022-03-14T07:43:49.052Z"
   },
   {
    "duration": 315,
    "start_time": "2022-03-14T07:43:49.079Z"
   },
   {
    "duration": 164,
    "start_time": "2022-03-14T07:43:49.396Z"
   },
   {
    "duration": 180,
    "start_time": "2022-03-14T07:43:49.562Z"
   },
   {
    "duration": 9,
    "start_time": "2022-03-14T07:43:49.744Z"
   },
   {
    "duration": 560,
    "start_time": "2022-03-14T07:43:49.755Z"
   },
   {
    "duration": 9,
    "start_time": "2022-03-14T07:43:50.317Z"
   },
   {
    "duration": 275,
    "start_time": "2022-03-14T07:43:50.328Z"
   },
   {
    "duration": 40,
    "start_time": "2022-03-14T07:43:50.605Z"
   },
   {
    "duration": 31,
    "start_time": "2022-03-14T07:43:50.647Z"
   },
   {
    "duration": 253,
    "start_time": "2022-03-14T07:43:50.679Z"
   },
   {
    "duration": 10,
    "start_time": "2022-03-14T07:43:50.934Z"
   },
   {
    "duration": 394,
    "start_time": "2022-03-14T07:43:50.946Z"
   },
   {
    "duration": 291,
    "start_time": "2022-03-14T07:43:51.342Z"
   },
   {
    "duration": 15,
    "start_time": "2022-03-14T07:43:51.635Z"
   },
   {
    "duration": 26,
    "start_time": "2022-03-14T07:43:51.652Z"
   },
   {
    "duration": 38,
    "start_time": "2022-03-14T07:43:51.680Z"
   },
   {
    "duration": 191,
    "start_time": "2022-03-14T07:43:51.720Z"
   },
   {
    "duration": 8,
    "start_time": "2022-03-14T07:43:51.912Z"
   },
   {
    "duration": 5,
    "start_time": "2022-03-14T07:43:51.922Z"
   },
   {
    "duration": 545,
    "start_time": "2022-03-14T07:43:51.929Z"
   },
   {
    "duration": 254,
    "start_time": "2022-03-14T07:43:52.476Z"
   },
   {
    "duration": 519,
    "start_time": "2022-03-14T07:43:52.732Z"
   },
   {
    "duration": 185,
    "start_time": "2022-03-14T07:43:53.253Z"
   },
   {
    "duration": 209,
    "start_time": "2022-03-14T07:43:53.440Z"
   },
   {
    "duration": 246,
    "start_time": "2022-03-14T07:43:53.651Z"
   },
   {
    "duration": 232,
    "start_time": "2022-03-14T07:43:53.899Z"
   },
   {
    "duration": 25,
    "start_time": "2022-03-14T07:43:54.133Z"
   },
   {
    "duration": 29,
    "start_time": "2022-03-14T07:43:54.160Z"
   },
   {
    "duration": 7,
    "start_time": "2022-03-14T07:43:54.191Z"
   },
   {
    "duration": 8,
    "start_time": "2022-03-14T07:43:54.200Z"
   },
   {
    "duration": 23,
    "start_time": "2022-03-14T07:43:54.210Z"
   },
   {
    "duration": 7,
    "start_time": "2022-03-14T07:43:54.235Z"
   },
   {
    "duration": 34,
    "start_time": "2022-03-14T07:43:54.243Z"
   },
   {
    "duration": 24,
    "start_time": "2022-03-14T07:43:54.279Z"
   },
   {
    "duration": 5,
    "start_time": "2022-03-14T07:43:54.305Z"
   },
   {
    "duration": 379,
    "start_time": "2022-03-14T07:43:54.312Z"
   },
   {
    "duration": 9,
    "start_time": "2022-03-14T07:43:54.692Z"
   },
   {
    "duration": 20,
    "start_time": "2022-03-14T07:43:54.702Z"
   },
   {
    "duration": 60,
    "start_time": "2022-03-14T07:43:54.724Z"
   },
   {
    "duration": 33,
    "start_time": "2022-03-14T07:43:54.785Z"
   },
   {
    "duration": 4,
    "start_time": "2022-03-14T07:43:54.819Z"
   },
   {
    "duration": 3027,
    "start_time": "2022-03-14T07:43:54.824Z"
   },
   {
    "duration": 5,
    "start_time": "2022-03-14T07:43:57.853Z"
   },
   {
    "duration": 21,
    "start_time": "2022-03-14T07:43:57.860Z"
   },
   {
    "duration": 1519,
    "start_time": "2022-03-14T07:43:57.883Z"
   },
   {
    "duration": 310,
    "start_time": "2022-03-14T07:43:59.404Z"
   },
   {
    "duration": 13,
    "start_time": "2022-03-14T07:43:59.716Z"
   },
   {
    "duration": 10,
    "start_time": "2022-03-14T07:43:59.731Z"
   },
   {
    "duration": 405,
    "start_time": "2022-03-14T07:43:59.743Z"
   },
   {
    "duration": 17,
    "start_time": "2022-03-14T07:45:35.939Z"
   },
   {
    "duration": 13,
    "start_time": "2022-03-14T07:45:36.938Z"
   },
   {
    "duration": 39,
    "start_time": "2022-03-14T07:46:15.900Z"
   },
   {
    "duration": 186,
    "start_time": "2022-03-14T07:46:15.941Z"
   },
   {
    "duration": 8,
    "start_time": "2022-03-14T07:46:16.129Z"
   },
   {
    "duration": 6,
    "start_time": "2022-03-14T07:46:16.140Z"
   },
   {
    "duration": 538,
    "start_time": "2022-03-14T07:46:16.148Z"
   },
   {
    "duration": 243,
    "start_time": "2022-03-14T07:46:16.688Z"
   },
   {
    "duration": 541,
    "start_time": "2022-03-14T07:46:16.933Z"
   },
   {
    "duration": 197,
    "start_time": "2022-03-14T07:46:17.475Z"
   },
   {
    "duration": 214,
    "start_time": "2022-03-14T07:46:17.679Z"
   },
   {
    "duration": 247,
    "start_time": "2022-03-14T07:46:17.896Z"
   },
   {
    "duration": 222,
    "start_time": "2022-03-14T07:46:18.144Z"
   },
   {
    "duration": 31,
    "start_time": "2022-03-14T07:46:18.369Z"
   },
   {
    "duration": 14,
    "start_time": "2022-03-14T07:46:18.402Z"
   },
   {
    "duration": 6,
    "start_time": "2022-03-14T07:46:18.418Z"
   },
   {
    "duration": 8,
    "start_time": "2022-03-14T07:46:18.426Z"
   },
   {
    "duration": 50,
    "start_time": "2022-03-14T07:46:18.436Z"
   },
   {
    "duration": 7,
    "start_time": "2022-03-14T07:46:18.488Z"
   },
   {
    "duration": 11,
    "start_time": "2022-03-14T07:46:18.496Z"
   },
   {
    "duration": 25,
    "start_time": "2022-03-14T07:46:18.509Z"
   },
   {
    "duration": 10,
    "start_time": "2022-03-14T07:46:18.536Z"
   },
   {
    "duration": 563,
    "start_time": "2022-03-14T07:46:18.548Z"
   },
   {
    "duration": 9,
    "start_time": "2022-03-14T07:46:19.113Z"
   },
   {
    "duration": 69,
    "start_time": "2022-03-14T07:46:19.124Z"
   },
   {
    "duration": 94,
    "start_time": "2022-03-14T07:46:19.195Z"
   },
   {
    "duration": 33,
    "start_time": "2022-03-14T07:46:19.291Z"
   },
   {
    "duration": 4,
    "start_time": "2022-03-14T07:46:19.326Z"
   },
   {
    "duration": 2881,
    "start_time": "2022-03-14T07:46:19.333Z"
   },
   {
    "duration": 5,
    "start_time": "2022-03-14T07:46:22.216Z"
   },
   {
    "duration": 10,
    "start_time": "2022-03-14T07:46:22.223Z"
   },
   {
    "duration": 1285,
    "start_time": "2022-03-14T07:46:22.234Z"
   },
   {
    "duration": 477,
    "start_time": "2022-03-14T07:46:23.520Z"
   },
   {
    "duration": 14,
    "start_time": "2022-03-14T07:46:23.999Z"
   },
   {
    "duration": 10,
    "start_time": "2022-03-14T07:46:24.015Z"
   },
   {
    "duration": 421,
    "start_time": "2022-03-14T07:46:24.027Z"
   },
   {
    "duration": 8,
    "start_time": "2022-03-14T07:47:40.198Z"
   },
   {
    "duration": 9,
    "start_time": "2022-03-14T07:47:46.631Z"
   },
   {
    "duration": 21,
    "start_time": "2022-03-14T07:47:46.642Z"
   },
   {
    "duration": 42,
    "start_time": "2022-03-14T07:47:46.666Z"
   },
   {
    "duration": 36,
    "start_time": "2022-03-14T07:47:46.711Z"
   },
   {
    "duration": 4,
    "start_time": "2022-03-14T07:47:46.749Z"
   },
   {
    "duration": 3130,
    "start_time": "2022-03-14T07:47:46.776Z"
   },
   {
    "duration": 4,
    "start_time": "2022-03-14T07:47:49.908Z"
   },
   {
    "duration": 63,
    "start_time": "2022-03-14T07:47:49.914Z"
   },
   {
    "duration": 1292,
    "start_time": "2022-03-14T07:47:49.979Z"
   },
   {
    "duration": 308,
    "start_time": "2022-03-14T07:47:51.272Z"
   },
   {
    "duration": 13,
    "start_time": "2022-03-14T07:47:51.581Z"
   },
   {
    "duration": 11,
    "start_time": "2022-03-14T07:47:51.596Z"
   },
   {
    "duration": 576,
    "start_time": "2022-03-14T07:47:51.609Z"
   },
   {
    "duration": 71,
    "start_time": "2022-03-14T15:42:37.329Z"
   }
  ],
  "kernelspec": {
   "display_name": "Python 3 (ipykernel)",
   "language": "python",
   "name": "python3"
  },
  "language_info": {
   "codemirror_mode": {
    "name": "ipython",
    "version": 3
   },
   "file_extension": ".py",
   "mimetype": "text/x-python",
   "name": "python",
   "nbconvert_exporter": "python",
   "pygments_lexer": "ipython3",
   "version": "3.9.7"
  },
  "toc": {
   "base_numbering": 1,
   "nav_menu": {},
   "number_sections": true,
   "sideBar": true,
   "skip_h1_title": true,
   "title_cell": "Содержание",
   "title_sidebar": "Contents",
   "toc_cell": true,
   "toc_position": {
    "height": "calc(100% - 180px)",
    "left": "10px",
    "top": "150px",
    "width": "165px"
   },
   "toc_section_display": true,
   "toc_window_display": true
  }
 },
 "nbformat": 4,
 "nbformat_minor": 4
}
